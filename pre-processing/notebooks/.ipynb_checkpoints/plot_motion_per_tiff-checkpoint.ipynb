{
 "cells": [
  {
   "cell_type": "code",
   "execution_count": 1,
   "metadata": {},
   "outputs": [],
   "source": [
    "import h5py\n",
    "\n",
    "import seaborn as sns; sns.set()\n",
    "import matplotlib.pyplot as plt\n",
    "import matplotlib\n",
    "\n",
    "%matplotlib notebook\n",
    "import sys\n",
    "import shutil\n",
    "import glob\n",
    "import optparse\n",
    "import os\n",
    "import json\n",
    "\n",
    "import pandas as pd\n",
    "import numpy as np\n",
    "import pylab as pl\n",
    "import seaborn as sns\n",
    "\n",
    "import re"
   ]
  },
  {
   "cell_type": "code",
   "execution_count": 2,
   "metadata": {
    "collapsed": true
   },
   "outputs": [],
   "source": [
    "class struct: pass\n",
    "\n",
    "opts = struct()\n",
    "opts.rootdir = '/n/coxfs01/2p-data'\n",
    "opts.animalid = 'JC110'\n",
    "opts.session = '20190909'\n",
    "opts.acquisition = 'FOV1_zoom4p0x'\n",
    "opts.traceid = 'traces102_s2p'\n",
    "opts.run = 'all_combined'\n",
    "opts.analysis = 'suite2p_analysis102'\n",
    "opts.run_list = run_list = ['retino_run1','retino_run2']#,'scenes_run1','scenes_run2','scenes_run3','scenes_run4','scenes_run5','scenes_run6','scenes_run7','scenes_run8']\n",
    "\n",
    "#% Set up paths:    \n",
    "acquisition_dir = os.path.join(opts.rootdir, opts.animalid, opts.session, opts.acquisition)\n",
    "fig_dir = os.path.join(acquisition_dir,'motion_figures')\n",
    "if not os.path.isdir(fig_dir):\n",
    "    os.makedirs(fig_dir)\n"
   ]
  },
  {
   "cell_type": "code",
   "execution_count": 3,
   "metadata": {
    "collapsed": true
   },
   "outputs": [],
   "source": [
    "\n",
    "s2p_source_dir = os.path.join(acquisition_dir, opts.run,'processed', opts.analysis, 'suite2p','plane0')\n",
    "\n",
    "\n",
    "#s2p files\n",
    "s2p_ops_fn = os.path.join(s2p_source_dir,'ops.npy')\n",
    "\n",
    "#load them in\n",
    "s2p_ops = np.load(s2p_ops_fn).item()"
   ]
  },
  {
   "cell_type": "code",
   "execution_count": 4,
   "metadata": {
    "collapsed": true
   },
   "outputs": [],
   "source": [
    "#get offset\n",
    "motion_offset = np.sqrt(np.power(s2p_ops['xoff'],2)+np.power(s2p_ops['yoff'],2))\n"
   ]
  },
  {
   "cell_type": "code",
   "execution_count": null,
   "metadata": {
    "collapsed": true
   },
   "outputs": [],
   "source": [
    "last_idx = 0#start off at the beginning\n",
    "\n",
    "#go through runs\n",
    "for indie_run in run_list:\n",
    "    #indie_run = run_list[0]\n",
    "    print(indie_run)\n",
    "\n",
    "\n",
    "    #get run info\n",
    "    run_dir = os.path.join(acquisition_dir, indie_run)\n",
    "    traceid_dir = os.path.join(run_dir,'traces',opts.traceid)\n",
    "\n",
    "    if not os.path.isdir(traceid_dir):\n",
    "        os.makedirs(traceid_dir)\n",
    "\n",
    "\n",
    "    with open(os.path.join(run_dir, '%s.json' % indie_run), 'r') as fr:\n",
    "        scan_info = json.load(fr)\n",
    "    all_frames_tsecs = np.array(scan_info['frame_tstamps_sec'])\n",
    "    nslices_full = len(all_frames_tsecs) / scan_info['nvolumes']\n",
    "    nslices = len(scan_info['slices'])\n",
    "    if scan_info['nchannels']==2:\n",
    "        all_frames_tsecs = np.array(all_frames_tsecs[0::2])\n",
    "\n",
    "    #    if nslices_full > nslices:\n",
    "    #        # There are discard frames per volume to discount\n",
    "    #        subset_frame_tsecs = []\n",
    "    #        for slicenum in range(nslices):\n",
    "    #            subset_frame_tsecs.extend(frame_tsecs[slicenum::nslices_full])\n",
    "    #        frame_tsecs = np.array(sorted(subset_frame_tsecs))\n",
    "    print(\"N tsecs:\", len(all_frames_tsecs))\n",
    "    framerate = scan_info['frame_rate']\n",
    "    volumerate = scan_info['volume_rate']\n",
    "    nvolumes = scan_info['nvolumes']\n",
    "    nfiles = scan_info['ntiffs']\n",
    "    frames_tsec = scan_info['frame_tstamps_sec']\n",
    "    nslices = int(len(scan_info['slices']))\n",
    "    nslices_full = int(round(scan_info['frame_rate']/scan_info['volume_rate']))\n",
    "\n",
    "    #get some dimension info\n",
    "    d1 = s2p_ops['Ly']\n",
    "    d2 = s2p_ops['Lx']\n",
    "    T = len(frames_tsec)#assume constant tiff size,for now\n",
    "    d = d1*d2\n",
    "    dims = (d1, d2, T/nslices)\n",
    "\n",
    "\n",
    "    curr_slice = 'Slice01'#hard-code for now\n",
    "    sl = 0\n",
    "\n",
    "\n",
    "    for tiff_count in range(0,nfiles):\n",
    "\n",
    "        #tiff_count = 0\n",
    "        curr_file = 'File%03d'%(tiff_count+1)\n",
    "        print(curr_file)\n",
    "\n",
    "\n",
    "        #get s2p traces, for ROIs classified as cells ONLY\n",
    "        idx0 = last_idx\n",
    "        idx1 = idx0+T\n",
    "        print(idx0,idx1)\n",
    "        last_idx = idx1\n",
    "\n",
    "        fig=plt.figure(figsize = (20, 5))\n",
    "        plt.plot(frames_tsec,motion_offset[idx0:idx1])\n",
    "        plt.xlabel('Time (secs)',fontsize=20)\n",
    "        plt.ylabel('Offset',fontsize=20)\n",
    "\n",
    "        ax = plt.gca()\n",
    "        ax.set_ylim([np.min(motion_offset),np.max(motion_offset)])\n",
    "\n",
    "        fig_fn = '%s_%s_%s_%s_absolute_motion.png'%(opts.animalid,opts.session,indie_run,curr_file)\n",
    "        plt.savefig(os.path.join(fig_dir,fig_fn))\n",
    "        plt.close()"
   ]
  },
  {
   "cell_type": "code",
   "execution_count": null,
   "metadata": {
    "collapsed": true
   },
   "outputs": [],
   "source": [
    "(4121*32)+(4598*(9*3))"
   ]
  },
  {
   "cell_type": "code",
   "execution_count": null,
   "metadata": {
    "collapsed": true
   },
   "outputs": [],
   "source": [
    "motion_offset.shape"
   ]
  },
  {
   "cell_type": "code",
   "execution_count": null,
   "metadata": {
    "collapsed": true
   },
   "outputs": [],
   "source": []
  }
 ],
 "metadata": {
  "kernelspec": {
   "display_name": "Python 2",
   "language": "python",
   "name": "python2"
  },
  "language_info": {
   "codemirror_mode": {
    "name": "ipython",
    "version": 2
   },
   "file_extension": ".py",
   "mimetype": "text/x-python",
   "name": "python",
   "nbconvert_exporter": "python",
   "pygments_lexer": "ipython2",
   "version": "2.7.13"
  }
 },
 "nbformat": 4,
 "nbformat_minor": 2
}
