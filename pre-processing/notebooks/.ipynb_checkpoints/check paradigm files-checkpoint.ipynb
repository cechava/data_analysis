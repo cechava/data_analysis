{
 "cells": [
  {
   "cell_type": "code",
   "execution_count": 1,
   "metadata": {
    "collapsed": true
   },
   "outputs": [],
   "source": [
    "\n",
    "%matplotlib inline\n",
    "import os\n",
    "import glob\n",
    "import sys\n",
    "\n",
    "def findOccurrences(s, ch):\n",
    "    return [i for i, letter in enumerate(s) if letter == ch]"
   ]
  },
  {
   "cell_type": "code",
   "execution_count": 25,
   "metadata": {},
   "outputs": [
    {
     "name": "stdout",
     "output_type": "stream",
     "text": [
      "retino_run1\n",
      "retino_run2\n",
      "scenes_run1\n",
      "scenes_run2\n",
      "scenes_run3\n",
      "scenes_run4\n",
      "scenes_run5\n",
      "scenes_run6\n",
      "scenes_run7\n",
      "scenes_run8\n",
      "scenes_run9\n",
      "scenes_run10\n",
      "All Good!\n"
     ]
    }
   ],
   "source": [
    "#provide some info\n",
    "rootdir = '/n/coxfs01/2p-data'\n",
    "\n",
    "\n",
    "animalid = 'JC120'\n",
    "session = '20191121'\n",
    "acquisition = 'FOV1_zoom4p0x'\n",
    "\n",
    "# run_list = ['scenes_run1','scenes_run2','scenes_run3','scenes_run4','scenes_run5','scenes_run6','scenes_run7','scenes_run8']\n",
    "# file_suff_list = ['f1','f2','f3','f4','f5','f6','f7','f8']\n",
    "# file_suff_list2 = ['F1','F2','F3','F4','F5','F6','F7','F8']\n",
    "\n",
    "run_list = ['retino_run1','retino_run2','scenes_run1','scenes_run2','scenes_run3','scenes_run4',\\\n",
    "            'scenes_run5','scenes_run6','scenes_run7','scenes_run8','scenes_run9','scenes_run10']\n",
    "file_suff_list = ['f1','f2','f1','f2','f3','f4','f5','f6','f7','f8','f9','f10']\n",
    "file_suff_list2 = ['F1','F2','F1','F2','F3','F4','F5','F6','F7','F8','F9','F10']\n",
    "\n",
    "# file_suff_list = ['f1','f2','f1','f2','f4','f5','f6','f7','f8','f9','f10','f11']\n",
    "# file_suff_list2 = ['F1','F2','F1','F2','F4','F5','F6','F7','F8','F9','F10','F11']\n",
    "\n",
    "\n",
    "#figure out directories to search\n",
    "dst_dir = os.path.join(rootdir,animalid,session,acquisition,'all_combined','block_reduced')\n",
    "if not os.path.isdir(dst_dir):\n",
    "    os.makedirs(dst_dir)\n",
    "\n",
    "for ridx, run in enumerate(run_list):\n",
    "    print(run)\n",
    "    #run = run_list[0]\n",
    "    file_suff =file_suff_list[ridx]\n",
    "    file_suff2 =file_suff_list2[ridx]\n",
    "\n",
    "    data_dir = os.path.join(rootdir,animalid,session,acquisition,run)\n",
    "\n",
    "    raw_dir = glob.glob(os.path.join(data_dir,'raw*'))[0]\n",
    "    para_dir = os.path.join(raw_dir,'paradigm_files')\n",
    "\n",
    "    try:\n",
    "        assert len(glob.glob(os.path.join(para_dir,'*_%s*'%(file_suff)))) == 2\n",
    "    except AssertionError:\n",
    "        assert len(glob.glob(os.path.join(para_dir,'*_%s*'%(file_suff2)))) == 2\n",
    "\n",
    "print('All Good!')"
   ]
  },
  {
   "cell_type": "code",
   "execution_count": 24,
   "metadata": {
    "scrolled": false
   },
   "outputs": [
    {
     "data": {
      "text/plain": [
       "['/n/coxfs01/2p-data/JC121/20191119/FOV1_zoom4p0x/scenes_run10/raw_7d6d19/paradigm_files/20191119_JC121_fov1_scenes_F10.mwk',\n",
       " '/n/coxfs01/2p-data/JC121/20191119/FOV1_zoom4p0x/scenes_run10/raw_7d6d19/paradigm_files/20191119_JC1121_fov1_scenes_f10_serial_data_20191119162940514075.txt']"
      ]
     },
     "execution_count": 24,
     "metadata": {},
     "output_type": "execute_result"
    }
   ],
   "source": [
    "glob.glob(os.path.join(para_dir,'*'))"
   ]
  },
  {
   "cell_type": "code",
   "execution_count": 48,
   "metadata": {},
   "outputs": [
    {
     "data": {
      "text/plain": [
       "[]"
      ]
     },
     "execution_count": 48,
     "metadata": {},
     "output_type": "execute_result"
    }
   ],
   "source": []
  },
  {
   "cell_type": "code",
   "execution_count": null,
   "metadata": {
    "collapsed": true
   },
   "outputs": [],
   "source": []
  },
  {
   "cell_type": "code",
   "execution_count": null,
   "metadata": {
    "collapsed": true
   },
   "outputs": [],
   "source": []
  },
  {
   "cell_type": "code",
   "execution_count": 44,
   "metadata": {},
   "outputs": [
    {
     "data": {
      "text/plain": [
       "['/n/coxfs01/2p-data/jc120/20191115/fov1_zoom4p0x/scenes_run6/raw_fe6ea8/paradigm_files/20191115_jc120_fov1_scenes_f6_serial_data_20191115162716319253.txt',\n",
       " '/n/coxfs01/2p-data/jc120/20191115/fov1_zoom4p0x/scenes_run6/raw_fe6ea8/paradigm_files/20191115_jc120_fov1_scenes_f6.mwk']"
      ]
     },
     "execution_count": 44,
     "metadata": {},
     "output_type": "execute_result"
    }
   ],
   "source": [
    "para_file_list  = [x.lower() for x in glob.glob(os.path.join(para_dir,'*'))]"
   ]
  },
  {
   "cell_type": "code",
   "execution_count": null,
   "metadata": {
    "collapsed": true
   },
   "outputs": [],
   "source": []
  }
 ],
 "metadata": {
  "kernelspec": {
   "display_name": "Python 2",
   "language": "python",
   "name": "python2"
  },
  "language_info": {
   "codemirror_mode": {
    "name": "ipython",
    "version": 2
   },
   "file_extension": ".py",
   "mimetype": "text/x-python",
   "name": "python",
   "nbconvert_exporter": "python",
   "pygments_lexer": "ipython2",
   "version": "2.7.13"
  }
 },
 "nbformat": 4,
 "nbformat_minor": 2
}
