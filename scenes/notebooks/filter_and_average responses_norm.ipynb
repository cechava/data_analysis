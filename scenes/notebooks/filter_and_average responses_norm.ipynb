{
 "cells": [
  {
   "cell_type": "code",
   "execution_count": 1,
   "metadata": {
    "collapsed": true
   },
   "outputs": [],
   "source": [
    "import h5py\n",
    "%matplotlib inline\n",
    "import seaborn as sns; sns.set()\n",
    "import matplotlib.pyplot as plt\n",
    "import matplotlib\n",
    "import matplotlib.patches as patches\n",
    "import sys\n",
    "import shutil\n",
    "import glob\n",
    "import optparse\n",
    "import os\n",
    "import json\n",
    "import pandas as pd\n",
    "import numpy as np\n",
    "import pylab as pl\n",
    "import scipy.stats as stats\n",
    "\n",
    "\n",
    "def findOccurrences(s, ch):\n",
    "    return [i for i, letter in enumerate(s) if letter == ch]"
   ]
  },
  {
   "cell_type": "code",
   "execution_count": 5,
   "metadata": {},
   "outputs": [
    {
     "name": "stderr",
     "output_type": "stream",
     "text": [
      "/n/coxfs01/cechavarria/envs/suite2p/lib/python3.6/site-packages/ipykernel_launcher.py:74: RuntimeWarning: invalid value encountered in greater\n"
     ]
    }
   ],
   "source": [
    "class struct: pass\n",
    "\n",
    "class struct: pass\n",
    "\n",
    "opts = struct()\n",
    "opts.rootdir = '/n/coxfs01/2p-data'\n",
    "opts.animalid = 'JC085'\n",
    "opts.session = '20190624'\n",
    "opts.acquisition = 'FOV1_zoom4p0x'\n",
    "opts.traceid = 'traces001'\n",
    "opts.combined_run = 'scenes_combined'\n",
    "\n",
    "response_type = 'df'\n",
    "filter_crit = 'zscore'\n",
    "filter_thresh = 1\n",
    "\n",
    "traceid = '%s_s2p'%(opts.traceid)\n",
    "#% Set up paths:    \n",
    "acquisition_dir = os.path.join(opts.rootdir, opts.animalid, opts.session, opts.acquisition)\n",
    "traceid_dir = os.path.join(acquisition_dir, opts.combined_run,'traces',traceid)\n",
    "\n",
    "run_dir = traceid_dir.split('/traces')[0]\n",
    "trace_arrays_dir = os.path.join(traceid_dir,'files')\n",
    "paradigm_dir = os.path.join(acquisition_dir, opts.combined_run, 'paradigm')\n",
    "\n",
    "\n",
    "responses_dir = os.path.join(acquisition_dir, opts.combined_run,'filtered_responses',traceid)\n",
    "\n",
    "fig_out_dir = os.path.join(responses_dir,'figures')\n",
    "if not os.path.exists(fig_out_dir):\n",
    "    os.makedirs(fig_out_dir)\n",
    "    \n",
    "\n",
    "\n",
    "if 'norm' in response_type:\n",
    "    i1 = findOccurrences(response_type,'_')[-1]\n",
    "    fetch_data = response_type[i1+1:]\n",
    "else:\n",
    "    fetch_data = response_type\n",
    "\n",
    "#get file with trial-by-trial responses\n",
    "responses_dir = os.path.join(acquisition_dir, opts.combined_run,'responses',traceid)\n",
    "data_array_dir = os.path.join(responses_dir, 'data_arrays')\n",
    "\n",
    "resp_array_fn = 'trial_response_array.hdf5'\n",
    "resp_array_filepath = os.path.join(data_array_dir, resp_array_fn)\n",
    "resp_grp = h5py.File(resp_array_filepath, 'r')\n",
    "\n",
    "if 's2p_cell_rois' in resp_grp.attrs.keys():\n",
    "    cell_rois = resp_grp.attrs['s2p_cell_rois']\n",
    "else:\n",
    "    cell_rois = np.arange(nrois)\n",
    "\n",
    "curr_slice = 'Slice01'#hard,coding for now\n",
    "\n",
    "#unpack\n",
    "response_matrix = np.array(resp_grp['/'.join([curr_slice, 'responses' ,fetch_data])])\n",
    "\n",
    "\n",
    "filter_crit_matrix_trials = np.array(resp_grp['/'.join([curr_slice, 'responses' ,filter_crit])])\n",
    "\n",
    "#considering only cell rois\n",
    "response_matrix = response_matrix[:,:,cell_rois]\n",
    "ntrials,nconfigs,nrois = response_matrix.shape\n",
    "filter_crit_matrix_trials = filter_crit_matrix_trials[:,:,cell_rois]\n",
    "\n",
    "resp_grp.close()\n",
    "\n",
    "#avg over trials\n",
    "filter_crit_matrix_mean = np.squeeze(np.mean(filter_crit_matrix_trials,0))\n",
    "\n",
    "#consider a config active if at least one of theversion of an image evoked a response above threshol\n",
    "thresh = filter_thresh\n",
    "thresh_matrix = filter_crit_matrix_mean>thresh\n",
    "filter_matrix = np.ones((thresh_matrix.shape))*np.nan\n",
    "active_rois_per_config = np.nansum(thresh_matrix,1)\n",
    "for ridx in range(nrois):\n",
    "    for idx in range(0,thresh_matrix.shape[0],3):\n",
    "            if np.sum(thresh_matrix[idx:idx+3,ridx])>0:\n",
    "                filter_matrix[idx:idx+3,ridx] = 1"
   ]
  },
  {
   "cell_type": "code",
   "execution_count": 10,
   "metadata": {},
   "outputs": [
    {
     "data": {
      "text/plain": [
       "194"
      ]
     },
     "execution_count": 10,
     "metadata": {},
     "output_type": "execute_result"
    }
   ],
   "source": [
    "cell_rois[132]"
   ]
  },
  {
   "cell_type": "code",
   "execution_count": 6,
   "metadata": {},
   "outputs": [
    {
     "data": {
      "text/plain": [
       "array([[0., 0., 0., ..., 0., 0., 0.],\n",
       "       [0., 0., 0., ..., 0., 0., 0.],\n",
       "       [0., 0., 0., ..., 0., 0., 0.],\n",
       "       ...,\n",
       "       [0., 0., 0., ..., 0., 0., 0.],\n",
       "       [0., 0., 0., ..., 0., 0., 0.],\n",
       "       [0., 0., 0., ..., 0., 0., 0.]])"
      ]
     },
     "execution_count": 6,
     "metadata": {},
     "output_type": "execute_result"
    }
   ],
   "source": [
    "response_matrix[:,:,132]"
   ]
  },
  {
   "cell_type": "code",
   "execution_count": 100,
   "metadata": {
    "scrolled": true
   },
   "outputs": [
    {
     "name": "stdout",
     "output_type": "stream",
     "text": [
      "ROIs:135\n",
      "Trials:25\n",
      "# active rois = 45\n",
      "frac active rois = 0.3333\n"
     ]
    }
   ],
   "source": [
    "#load trial info\n",
    "stimconfig_fn = 'trial_conditions.hdf5'\n",
    "stimconfig_filepath = os.path.join(paradigm_dir, 'files', stimconfig_fn)\n",
    "config_grp = h5py.File(stimconfig_filepath, 'r')\n",
    "\n",
    "trial_config = np.array(config_grp['trial_config'])\n",
    "trial_cond = np.array(config_grp['trial_cond'])\n",
    "trial_img = np.array(config_grp['trial_img'])\n",
    "\n",
    "config_grp.close()\n",
    "\n",
    "\n",
    "#for each roi, first average across trials per config, then normalize across configs\n",
    "#-should result in higher values, also noticed bigger differences in values\n",
    "\n",
    "nconfigs = len(np.unique(trial_config))\n",
    "print('ROIs:%i'%(nrois))\n",
    "print('Trials:%i'%(ntrials))\n",
    "\n",
    "config_cond = np.empty((nconfigs,))\n",
    "config_img = np.empty((nconfigs,))\n",
    "\n",
    "\n",
    "for cfg_idx in np.unique(trial_config):\n",
    "    tidx = np.where(trial_config == cfg_idx)[0]\n",
    "    config_cond[int(cfg_idx)] = trial_cond[tidx][0]\n",
    "    config_img[int(cfg_idx)] = trial_img[tidx][0]\n",
    "\n",
    "mean_response_matrix = np.mean(response_matrix,0)\n",
    "if 'norm' in response_type:\n",
    "    norm_response_array = np.empty((nconfigs,nrois))\n",
    "\n",
    "    for ridx in range(nrois):\n",
    "        norm_response_array[:,ridx] = mean_response_matrix[:,ridx]/np.nanmax(mean_response_matrix[:,ridx])\n",
    "    mean_response_matrix = norm_response_array\n",
    "    \n",
    "filt_response_array = mean_response_matrix*filter_matrix\n",
    "\n",
    "\n",
    "#figure out some activity details\n",
    "active_cell_idx = np.nansum(filter_matrix,0)>0\n",
    "num_active_rois = np.nansum(np.nansum(filter_matrix,0)>0)\n",
    "frac_active_rois = num_active_rois/float(len(cell_rois))\n",
    "print('# active rois = %i'%(num_active_rois))\n",
    "print('frac active rois = %.04f'%(frac_active_rois))\n",
    "\n",
    "\n",
    "resp_diff = np.zeros(filt_response_array.shape)\n",
    "mod_idx = np.zeros(filt_response_array.shape)\n",
    "for ridx in range(nrois): \n",
    "    for cond_idx in range(0,nconfigs,3):\n",
    "        if filter_matrix[cond_idx,ridx]:\n",
    "            #tex - sf\n",
    "            resp_diff[cond_idx,ridx] = filt_response_array[cond_idx+2,ridx] - filt_response_array[cond_idx+1,ridx]\n",
    "            mod_idx[cond_idx,ridx] = np.true_divide(filt_response_array[cond_idx+2,ridx] - filt_response_array[cond_idx+1,ridx],\\\n",
    "                                                    filt_response_array[cond_idx+2,ridx] + filt_response_array[cond_idx+1,ridx])\n",
    "            #orig - sf\n",
    "            resp_diff[cond_idx+1,ridx] = filt_response_array[cond_idx,ridx] - filt_response_array[cond_idx+1,ridx]\n",
    "            mod_idx[cond_idx+1,ridx] = np.true_divide(filt_response_array[cond_idx,ridx] - filt_response_array[cond_idx+1,ridx],\\\n",
    "                                                    filt_response_array[cond_idx,ridx] + filt_response_array[cond_idx+1,ridx])\n",
    "            #orig - tex\n",
    "            resp_diff[cond_idx+2,ridx] = filt_response_array[cond_idx,ridx] - filt_response_array[cond_idx+2,ridx]\n",
    "            mod_idx[cond_idx+2,ridx] = np.true_divide(filt_response_array[cond_idx,ridx] - filt_response_array[cond_idx+2,ridx],\\\n",
    "                                                    filt_response_array[cond_idx,ridx] + filt_response_array[cond_idx+2,ridx])\n",
    "        else:\n",
    "            resp_diff[cond_idx:cond_idx+3,ridx] = np.nan\n",
    "            mod_idx[cond_idx:cond_idx+3,ridx] = np.nan\n",
    "\n",
    "img_response_mean = np.nanmean(filt_response_array,1)\n",
    "img_response_se = np.true_divide(np.nanstd(filt_response_array,1),np.sqrt(active_rois_per_config))"
   ]
  },
  {
   "cell_type": "code",
   "execution_count": 101,
   "metadata": {
    "scrolled": false
   },
   "outputs": [
    {
     "data": {
      "image/png": "[encoded data removed]",
      "text/plain": [
       "<Figure size 1440x360 with 1 Axes>"
      ]
     },
     "metadata": {
      "needs_background": "light"
     },
     "output_type": "display_data"
    }
   ],
   "source": [
    "bar_loc = np.zeros((img_response_mean.size))\n",
    "width = 0.4         # the width of the bars\n",
    "gap = .5\n",
    "xloc = 1\n",
    "count = 0\n",
    "for i in range(len(np.unique(trial_img))):\n",
    "    for j in range(len(np.unique(trial_cond))):\n",
    "        bar_loc[count] = xloc\n",
    "        xloc = xloc + width\n",
    "        count = count+1\n",
    "    xloc = xloc + gap\n",
    "\n",
    "\n",
    "fig = plt.figure(figsize=(20,5))\n",
    "plt.bar(bar_loc[0:len(bar_loc):3],img_response_mean[0:len(bar_loc):3],width,color = 'b',yerr = img_response_se[0:len(bar_loc):3])\n",
    "plt.bar(bar_loc[1:len(bar_loc):3],img_response_mean[1:len(bar_loc):3],width,color = 'g',yerr = img_response_se[1:len(bar_loc):3])\n",
    "plt.bar(bar_loc[2:len(bar_loc):3],img_response_mean[2:len(bar_loc):3],width,color = 'r',yerr = img_response_se[2:len(bar_loc):3])\n",
    "\n",
    "axes = plt.gca()\n",
    "xmin, xmax = axes.get_xlim()\n",
    "ymin, ymax = axes.get_ylim()\n",
    "plt.axhline(y=0, xmin=xmin, xmax= xmax, linewidth=1, color='k',linestyle = '-')\n",
    "\n",
    "xtick_loc = bar_loc[1:len(bar_loc):3]\n",
    "xtick_label = np.unique(trial_img+1).astype('int')\n",
    "\n",
    "plt.xticks(xtick_loc,xtick_label.tolist())\n",
    "plt.xlabel('Image',fontsize = 15)\n",
    "plt.ylabel('Average Response',fontsize = 15)\n",
    "plt.suptitle('Average %s Across Neurons'%(response_type),fontsize = 15)\n",
    "\n",
    "count = 0\n",
    "for idx in bar_loc[1:len(bar_loc):3]:\n",
    "    plt.text(idx-.25, ymax, 'n=%i' % active_rois_per_config[count], fontsize=10)\n",
    "    count = count +3\n",
    "    \n",
    "fig_fn = 'avg_across_neurons_%s_thresh_%s_%i.png'%(response_type,filter_crit,filter_thresh)\n",
    "fig_file_path = os.path.join(fig_out_dir, fig_fn)\n",
    "plt.savefig(fig_file_path)"
   ]
  },
  {
   "cell_type": "code",
   "execution_count": 102,
   "metadata": {},
   "outputs": [
    {
     "data": {
      "image/png": "[encoded data removed]",
      "text/plain": [
       "<Figure size 1440x360 with 1 Axes>"
      ]
     },
     "metadata": {
      "needs_background": "light"
     },
     "output_type": "display_data"
    }
   ],
   "source": [
    "bar_loc = np.zeros((img_response_mean.size))\n",
    "width = 0.4         # the width of the bars\n",
    "gap = .5\n",
    "xloc = 1\n",
    "count = 0\n",
    "for i in range(len(np.unique(trial_img))):\n",
    "    for j in range(len(np.unique(trial_cond))):\n",
    "        bar_loc[count] = xloc\n",
    "        xloc = xloc + width\n",
    "        count = count+1\n",
    "    xloc = xloc + gap\n",
    "\n",
    "\n",
    "fig = plt.figure(figsize=(20,5))\n",
    "plt.bar(bar_loc[0:len(bar_loc):3],active_rois_per_config[0:len(bar_loc):3],width,color = 'b')\n",
    "plt.bar(bar_loc[1:len(bar_loc):3],active_rois_per_config[1:len(bar_loc):3],width,color = 'g')\n",
    "plt.bar(bar_loc[2:len(bar_loc):3],active_rois_per_config[2:len(bar_loc):3],width,color = 'r')\n",
    "\n",
    "axes = plt.gca()\n",
    "xmin, xmax = axes.get_xlim()\n",
    "ymin, ymax = axes.get_ylim()\n",
    "plt.axhline(y=0, xmin=xmin, xmax= xmax, linewidth=1, color='k',linestyle = '-')\n",
    "\n",
    "xtick_loc = bar_loc[1:len(bar_loc):3]\n",
    "xtick_label = np.unique(trial_img+1).astype('int')\n",
    "\n",
    "plt.xticks(xtick_loc,xtick_label.tolist())\n",
    "plt.xlabel('Image',fontsize = 15)\n",
    "plt.ylabel('Number of cells',fontsize = 15)\n",
    "plt.suptitle('Number of responseive cells per stim',fontsize = 15)\n",
    "\n",
    "count = 0\n",
    "for idx in bar_loc[1:len(bar_loc):3]:\n",
    "    plt.text(idx-.25, ymax, 'n=%i' % active_rois_per_config[count], fontsize=10)\n",
    "    count = count +3\n",
    "    \n",
    "fig_fn = 'active_neurons_%s_thresh_%s_%i.png'%(response_type,filter_crit,filter_thresh)\n",
    "fig_file_path = os.path.join(fig_out_dir, fig_fn)\n",
    "plt.savefig(fig_file_path)"
   ]
  },
  {
   "cell_type": "code",
   "execution_count": 103,
   "metadata": {
    "collapsed": true
   },
   "outputs": [],
   "source": [
    "#averaging difference/ modulation index across active neurons (1 active condition) - group by image\n",
    "mean_mod_idx = np.nanmean(mod_idx,1)\n",
    "se_mod_idx = np.true_divide(np.nanstd(mod_idx,1),np.sqrt(active_rois_per_config))\n",
    "\n",
    "mean_diff = np.nanmean(resp_diff,1)\n",
    "sem_diff = np.true_divide(np.nanstd(resp_diff,1),np.sqrt(active_rois_per_config))"
   ]
  },
  {
   "cell_type": "code",
   "execution_count": 104,
   "metadata": {
    "collapsed": true
   },
   "outputs": [],
   "source": [
    "title_list = ['Corr-Match vs SF-Match','Original vs SF-Match','Original vs Corr-Match']\n",
    "for cidx in range(len(title_list)):\n",
    "    \n",
    "    #modulation index figure\n",
    "    cfg_idxs = np.where(config_cond==cidx)[0]\n",
    "\n",
    "    fig = plt.figure(figsize=(15,5))\n",
    "\n",
    "    plt.bar(config_img[cfg_idxs],mean_mod_idx[cfg_idxs],yerr = se_mod_idx[cfg_idxs])\n",
    "    #plot unity\n",
    "    axes = plt.gca()\n",
    "    xmin, xmax = axes.get_xlim()\n",
    "    ymin, ymax = axes.get_ylim()\n",
    "    plt.axhline(y=0, xmin=xmin, xmax= xmax, linewidth=1, color='k',linestyle = '-')\n",
    "    for idx in cfg_idxs:\n",
    "        plt.text(config_img[idx]-.25, ymax, 'n=%i' % active_rois_per_config[idx], fontsize=10)\n",
    "    plt.xticks(config_img[cfg_idxs].tolist())\n",
    "    plt.xlabel('Image',fontsize = 15)\n",
    "    plt.ylabel('Modulation Index',fontsize = 15)\n",
    "    plt.suptitle(title_list[cidx],fontsize = 15)\n",
    "\n",
    "    fig_fn = '%s_mod_idx_%s_thresh_%s_%i.png'%(title_list[cidx],response_type,filter_crit,filter_thresh)\n",
    "    fig_file_path = os.path.join(fig_out_dir, fig_fn)\n",
    "    plt.savefig(fig_file_path)\n",
    "    plt.close()\n",
    "    \n",
    "\n",
    "    fig = plt.figure(figsize=(15,5))\n",
    "\n",
    "    plt.bar(config_img[cfg_idxs],mean_diff[cfg_idxs],yerr = se_mod_idx[cfg_idxs])\n",
    "    #plot unity\n",
    "    axes = plt.gca()\n",
    "    xmin, xmax = axes.get_xlim()\n",
    "    ymin, ymax = axes.get_ylim()\n",
    "    plt.axhline(y=0, xmin=xmin, xmax= xmax, linewidth=1, color='k',linestyle = '-')\n",
    "    for idx in cfg_idxs:\n",
    "        plt.text(config_img[idx]-.25, ymax, 'n=%i' % active_rois_per_config[idx], fontsize=10)\n",
    "    plt.xticks(config_img[cfg_idxs].tolist())\n",
    "    plt.xlabel('Image',fontsize = 15)\n",
    "    plt.ylabel('Response difference',fontsize = 15)\n",
    "    plt.suptitle(title_list[cidx],fontsize = 15)\n",
    "\n",
    "    fig_fn = '%s_diff_%s_thresh_%s_%i.png'%(title_list[cidx],response_type,filter_crit,filter_thresh)\n",
    "    fig_file_path = os.path.join(responses_dir,'figures',fig_fn)\n",
    "    \n",
    "    fig_file_path = os.path.join(fig_out_dir, fig_fn)\n",
    "    plt.savefig(fig_file_path)\n",
    "    plt.close()\n",
    "    "
   ]
  },
  {
   "cell_type": "code",
   "execution_count": 106,
   "metadata": {
    "scrolled": true
   },
   "outputs": [
    {
     "name": "stderr",
     "output_type": "stream",
     "text": [
      "/home/cesar/envs/suite2p/lib/python3.6/site-packages/ipykernel_launcher.py:12: RuntimeWarning: Mean of empty slice\n",
      "  if sys.path[0] == '':\n"
     ]
    },
    {
     "data": {
      "image/png": "[encoded data removed]",
      "text/plain": [
       "<Figure size 360x360 with 1 Axes>"
      ]
     },
     "metadata": {
      "needs_background": "light"
     },
     "output_type": "display_data"
    }
   ],
   "source": [
    "#average over images\n",
    "filter_response_cond_per_neuron = np.zeros((3,nrois))\n",
    "for ridx in range(nrois):\n",
    "#ridx = 0 \n",
    "    filtered_resp_tmp = np.array([])\n",
    "    for cfg_idx in range(0,nconfigs,3):\n",
    "        if filtered_resp_tmp.size ==0:\n",
    "            filtered_resp_tmp = filt_response_array[cfg_idx:cfg_idx+3,ridx]\n",
    "        else:\n",
    "            filtered_resp_tmp = np.vstack((filtered_resp_tmp ,filt_response_array[cfg_idx:cfg_idx+3,ridx]))\n",
    "\n",
    "        filter_response_cond_per_neuron[:,ridx] = np.nanmean(filtered_resp_tmp,0)\n",
    "\n",
    "filter_response_cond_mean_neuron = np.nanmean(filter_response_cond_per_neuron,1)\n",
    "filter_response_cond_se_neuron = np.nanstd(filter_response_cond_per_neuron,1)/np.sqrt(num_active_rois)\n",
    "\n",
    "cond_labels = ['Original','Sf-Match','Corr-Match']\n",
    "\n",
    "bar_loc = np.zeros((3,))\n",
    "width = 0.4         # the width of the bars\n",
    "xloc = 1\n",
    "count = 0\n",
    "\n",
    "for j in range(len(np.unique(trial_cond))):\n",
    "    bar_loc[count] = xloc\n",
    "    xloc = xloc + width\n",
    "    count = count+1\n",
    "\n",
    "fig = plt.figure(figsize=(5,5))\n",
    "plt.bar(bar_loc[0],filter_response_cond_mean_neuron[0],width,color = 'b', alpha = 1, yerr = filter_response_cond_se_neuron[0])\n",
    "plt.bar(bar_loc[1],filter_response_cond_mean_neuron[1],width,color = 'g', alpha = 1, yerr = filter_response_cond_se_neuron[1])\n",
    "plt.bar(bar_loc[2],filter_response_cond_mean_neuron[2],width,color = 'r', alpha = 1, yerr = filter_response_cond_se_neuron[2])\n",
    "\n",
    "\n",
    "axes = plt.gca()\n",
    "xmin, xmax = axes.get_xlim()\n",
    "ymin, ymax = axes.get_ylim()\n",
    "plt.axhline(y=0, xmin=xmin, xmax= xmax, linewidth=1, color='k',linestyle = '-')\n",
    "\n",
    "xtick_loc = []\n",
    "xtick_label = []\n",
    "\n",
    "plt.xticks(xtick_loc,xtick_label)\n",
    "plt.xlabel('Condition',fontsize = 15)\n",
    "plt.ylabel('Average Response',fontsize = 15)\n",
    "plt.suptitle('Average %s Across Neurons'%(response_type),fontsize = 15)\n",
    "\n",
    "\n",
    "plt.text(bar_loc[0]-.25, ymax, 'n=%i, f=%.04f' % (num_active_rois, frac_active_rois), fontsize=10)\n",
    "\n",
    "# blue_patch = patches.Patch(color='blue', label=cond_labels[0])\n",
    "# green_patch = patches.Patch(color='green', label=cond_labels[1])\n",
    "# red_patch = patches.Patch(color='red', label=cond_labels[2])\n",
    "\n",
    "# plt.legend(bbox_to_anchor=(0, -0.3), loc=2, borderaxespad=0.1, labels=trace_labels, fontsize=8)\n",
    "\n",
    "fig_fn = 'avg_response_per_cond_across_neurons_%s_thresh_%s_%i.png'%(response_type,filter_crit,filter_thresh)\n",
    "fig_file_path = os.path.join(responses_dir,'figures',fig_fn)\n",
    "\n",
    "fig_file_path = os.path.join(fig_out_dir, fig_fn)\n",
    "plt.savefig(fig_file_path)\n"
   ]
  },
  {
   "cell_type": "code",
   "execution_count": 141,
   "metadata": {},
   "outputs": [
    {
     "data": {
      "text/plain": [
       "<function seaborn.categorical.catplot(x=None, y=None, hue=None, data=None, row=None, col=None, col_wrap=None, estimator=<function mean at 0x7ffb3005c8c8>, ci=95, n_boot=1000, units=None, order=None, hue_order=None, row_order=None, col_order=None, kind='strip', height=5, aspect=1, orient=None, color=None, palette=None, legend=True, legend_out=True, sharex=True, sharey=True, margin_titles=False, facet_kws=None, **kwargs)>"
      ]
     },
     "execution_count": 141,
     "metadata": {},
     "output_type": "execute_result"
    }
   ],
   "source": [
    "sns.catplot"
   ]
  },
  {
   "cell_type": "code",
   "execution_count": 110,
   "metadata": {},
   "outputs": [
    {
     "data": {
      "text/plain": [
       "45"
      ]
     },
     "execution_count": 110,
     "metadata": {},
     "output_type": "execute_result"
    }
   ],
   "source": [
    "num_active_rois"
   ]
  },
  {
   "cell_type": "code",
   "execution_count": 111,
   "metadata": {},
   "outputs": [
    {
     "data": {
      "text/plain": [
       "array([ True, False, False, False,  True,  True, False, False, False,\n",
       "       False, False,  True, False, False, False,  True,  True, False,\n",
       "       False, False,  True, False, False, False, False, False, False,\n",
       "       False, False, False, False, False, False, False, False, False,\n",
       "       False, False,  True,  True, False,  True, False,  True,  True,\n",
       "        True, False, False, False, False, False, False,  True, False,\n",
       "       False,  True, False,  True, False,  True,  True,  True, False,\n",
       "        True, False, False, False, False,  True,  True, False, False,\n",
       "       False, False,  True,  True, False, False,  True, False, False,\n",
       "        True,  True, False, False, False,  True, False,  True, False,\n",
       "        True, False, False, False,  True, False, False,  True, False,\n",
       "       False, False,  True,  True,  True, False, False,  True,  True,\n",
       "       False, False,  True,  True, False, False, False, False, False,\n",
       "       False, False,  True, False,  True,  True, False,  True, False,\n",
       "       False, False, False,  True, False, False, False, False,  True])"
      ]
     },
     "execution_count": 111,
     "metadata": {},
     "output_type": "execute_result"
    }
   ],
   "source": [
    "active_cell_idx"
   ]
  },
  {
   "cell_type": "code",
   "execution_count": 115,
   "metadata": {
    "collapsed": true
   },
   "outputs": [],
   "source": [
    "ylabel = 'Average Response'\n",
    "\n",
    "resp_dfs = []\n",
    "for cidx in range(filter_response_cond_per_neuron.shape[0]):\n",
    "    response = filter_response_cond_per_neuron[cidx,active_cell_idx]\n",
    "    cell = np.arange(num_active_rois)\n",
    "    cond = np.ones((num_active_rois,))*cidx\n",
    "    mdf = pd.DataFrame({'%s' % ylabel: response,\n",
    "                        'response': response,\n",
    "                        'cell': cell,\n",
    "                        'cond': cond,\n",
    "                       })\n",
    "\n",
    "    resp_dfs.append(mdf)\n",
    "resp_dfs = pd.concat(resp_dfs, axis=0)"
   ]
  },
  {
   "cell_type": "code",
   "execution_count": 138,
   "metadata": {},
   "outputs": [
    {
     "data": {
      "image/png": "[encoded data removed]",
      "text/plain": [
       "<Figure size 216x72 with 1 Axes>"
      ]
     },
     "metadata": {},
     "output_type": "display_data"
    }
   ],
   "source": []
  },
  {
   "cell_type": "code",
   "execution_count": 140,
   "metadata": {},
   "outputs": [
    {
     "name": "stderr",
     "output_type": "stream",
     "text": [
      "/home/cesar/envs/suite2p/lib/python3.6/site-packages/seaborn/categorical.py:3692: UserWarning: The `size` paramter has been renamed to `height`; please update your code.\n",
      "  warnings.warn(msg, UserWarning)\n"
     ]
    },
    {
     "data": {
      "image/png": "[encoded data removed]",
      "text/plain": [
       "<Figure size 720x720 with 1 Axes>"
      ]
     },
     "metadata": {},
     "output_type": "display_data"
    }
   ],
   "source": [
    "bar_loc = np.arange(0,3)\n",
    "width = 0.5\n",
    "\n",
    "sns.set_style(\"darkgrid\")\n",
    "palette = sns.color_palette([\"#4c72b0\",\"#55a868\",\"#c44e52\"])\n",
    "sns.set_palette(palette)\n",
    "\n",
    "p = sns.catplot(x='cond', y='response', kind=\"swarm\", hue = 'cond',data=resp_dfs,size = 10);\n",
    "\n",
    "axes = p.ax\n",
    "ymin,ymax = axes.get_ylim()\n",
    "xmin,xmax = axes.get_xlim()\n",
    "\n",
    "for idx in range(len(np.unique(trial_cond))):\n",
    "    p.ax.hlines(y = filter_response_cond_mean_neuron[idx], xmin=bar_loc[idx]-(width/2), xmax = bar_loc[idx]+(width/2), linewidth=2, color='k',linestyle = '-')\n",
    "    p.ax.hlines(y = filter_response_cond_mean_neuron[idx] + filter_response_cond_se_neuron[idx], xmin=bar_loc[idx]-(width/2), xmax = bar_loc[idx]+(width/2), linewidth=1, color='k',linestyle = '--')\n",
    "    p.ax.hlines(y = filter_response_cond_mean_neuron[idx] - filter_response_cond_se_neuron[idx], xmin=bar_loc[idx]-(width/2), xmax = bar_loc[idx]+(width/2), linewidth=1, color='k',linestyle = '--')\n",
    "\n",
    "\n",
    "\n",
    "\n",
    "p.ax.set_xticks(())\n",
    "p.ax.set_xlabel('Condition',fontsize = 15)\n",
    "p.ax.set_ylabel('Average Response',fontsize = 15)\n",
    "p.fig.suptitle('Average %s Across Neurons'%(response_type),fontsize = 15)\n",
    "\n",
    "\n",
    "p.ax.text(bar_loc[0]-.25, ymax, 'n=%i, f=%.04f' % (num_active_rois, frac_active_rois), fontsize=10)\n",
    "\n",
    "\n",
    "fig_fn = 'avg_response_per_cond_scatter_neurons_%s_thresh_%s_%i.png'%(response_type,filter_crit,filter_thresh)\n",
    "fig_file_path = os.path.join(responses_dir,'figures',fig_fn)\n",
    "\n",
    "fig_file_path = os.path.join(fig_out_dir, fig_fn)\n",
    "plt.savefig(fig_file_path)\n"
   ]
  },
  {
   "cell_type": "code",
   "execution_count": 118,
   "metadata": {},
   "outputs": [
    {
     "data": {
      "image/png": "[encoded data removed]",
      "text/plain": [
       "<Figure size 360x360 with 1 Axes>"
      ]
     },
     "metadata": {
      "needs_background": "light"
     },
     "output_type": "display_data"
    },
    {
     "data": {
      "image/png": "[encoded data removed]",
      "text/plain": [
       "<Figure size 360x360 with 1 Axes>"
      ]
     },
     "metadata": {
      "needs_background": "light"
     },
     "output_type": "display_data"
    }
   ],
   "source": [
    "bar_loc = np.zeros((3,))\n",
    "width = 0.5        # the width of the bars\n",
    "xloc = 0\n",
    "count = 0\n",
    "gap = 0.1\n",
    "for j in range(len(np.unique(trial_cond))):\n",
    "    bar_loc[count] = xloc\n",
    "    xloc = xloc + width+gap\n",
    "    count = count+1\n",
    "\n",
    "fig = plt.figure(figsize=(5,5))\n",
    "\n",
    "p sns.catplot(x='cond', y='response', kind=\"swarm\", data=resp_dfs,size = 10);\n",
    "\n",
    "#plt.bar(bar_loc[0],filter_response_cond_mean_neuron[0],width,color = 'b', alpha = 0.5, yerr = filter_response_cond_se_neuron[0])\n",
    "#plt.bar(bar_loc[1],filter_response_cond_mean_neuron[1],width,color = 'g', alpha = 0.5, yerr = filter_response_cond_se_neuron[1])\n",
    "#plt.bar(bar_loc[2],filter_response_cond_mean_neuron[2],width,color = 'r', alpha = 0.5, yerr = filter_response_cond_se_neuron[2])\n",
    "\n",
    "for idx in range(len(np.unique(trial_cond))):\n",
    "    plt.hlines(y = filter_response_cond_mean_neuron[idx], xmin=bar_loc[idx]-(width/2), xmax = bar_loc[idx]+(width/2), linewidth=2, color='k',linestyle = '-')\n",
    "    plt.hlines(y = filter_response_cond_mean_neuron[idx] + filter_response_cond_se_neuron[idx], xmin=bar_loc[idx]-(width/2), xmax = bar_loc[idx]+(width/2), linewidth=1, color='k',linestyle = '--')\n",
    "    plt.hlines(y = filter_response_cond_mean_neuron[idx] - filter_response_cond_se_neuron[idx], xmin=bar_loc[idx]-(width/2), xmax = bar_loc[idx]+(width/2), linewidth=1, color='k',linestyle = '--')\n",
    "\n",
    "# plt.scatter(bar_loc[0]*np.ones((num_active_rois,)),filter_response_cond_per_neuron[0,active_cell_idx],color = 'b')\n",
    "# plt.scatter(bar_loc[1]*np.ones((num_active_rois,)),filter_response_cond_per_neuron[1,active_cell_idx],color = 'g')\n",
    "# plt.scatter(bar_loc[2]*np.ones((num_active_rois,)),filter_response_cond_per_neuron[2,active_cell_idx],color = 'r')\n",
    "\n",
    "axes = plt.gca()\n",
    "axes.set_xlim([bar_loc[0]-width,bar_loc[-1]+width])\n",
    "xmin, xmax = axes.get_xlim()\n",
    "ymin, ymax = axes.get_ylim()\n",
    "\n",
    "xtick_loc = []\n",
    "xtick_label = []\n",
    "\n",
    "plt.xticks(xtick_loc,xtick_label)\n",
    "plt.xlabel('Condition',fontsize = 15)\n",
    "plt.ylabel('Average Response',fontsize = 15)\n",
    "plt.suptitle('Average %s Across Neurons'%(response_type),fontsize = 15)\n",
    "\n",
    "\n",
    "plt.text(bar_loc[0]-.25, ymax, 'n=%i, f=%.04f' % (num_active_rois, frac_active_rois), fontsize=10)\n",
    "\n",
    "# blue_patch = patches.Patch(color='blue', label=cond_labels[0])\n",
    "# green_patch = patches.Patch(color='green', label=cond_labels[1])\n",
    "# red_patch = patches.Patch(color='red', label=cond_labels[2])\n",
    "\n",
    "# plt.legend(bbox_to_anchor=(0, -0.3), loc=2, borderaxespad=0.1, labels=trace_labels, fontsize=8)\n",
    "\n",
    "fig_fn = 'avg_response_per_cond_scatter_neurons_%s_thresh_%s_%i.png'%(response_type,filter_crit,filter_thresh)\n",
    "fig_file_path = os.path.join(responses_dir,'figures',fig_fn)\n",
    "\n",
    "fig_file_path = os.path.join(fig_out_dir, fig_fn)\n",
    "plt.savefig(fig_file_path)\n"
   ]
  },
  {
   "cell_type": "code",
   "execution_count": 108,
   "metadata": {
    "collapsed": true
   },
   "outputs": [],
   "source": [
    "#save arrays to file\n",
    "# Create outfile:\n",
    "data_array_fn = 'filtered_%s_responses_thresh_%s_%i.hdf5'%(response_type,filter_crit, filter_thresh)\n",
    "data_array_filepath = os.path.join(data_array_dir, data_array_fn)\n",
    "data_grp = h5py.File(data_array_filepath, 'w')\n",
    "\n",
    "data_grp.attrs['s2p_cell_rois'] = cell_rois\n",
    "\n",
    "data_grp.attrs['nconfigs'] = nconfigs\n",
    "data_grp.attrs['nrois'] = nrois\n",
    "\n",
    "img_dset = data_grp.create_dataset('config_img', config_img.shape, config_img.dtype)\n",
    "img_dset[...] = config_img\n",
    "\n",
    "cond_dset = data_grp.create_dataset('config_cond',config_img.shape, config_img.dtype)\n",
    "cond_dset[...] = config_cond\n",
    "\n",
    "nrois_dset = data_grp.create_dataset('/'.join([curr_slice, 'n_active_rois' ]), num_active_rois.shape, num_active_rois.dtype)\n",
    "nrois_dset[...] = num_active_rois\n",
    "\n",
    "frois_dset = data_grp.create_dataset('/'.join([curr_slice, 'frac_active_rois' ]), frac_active_rois.shape, frac_active_rois.dtype)\n",
    "frois_dset[...] = frac_active_rois\n",
    "\n",
    "act_idx_dset = data_grp.create_dataset('/'.join([curr_slice, 'active_cell_idx' ]), active_cell_idx.shape, active_cell_idx.dtype)\n",
    "act_idx_dset[...] = active_cell_idx\n",
    "\n",
    "passrois_dset = data_grp.create_dataset('/'.join([curr_slice, 'active_rois_per_config' ]), active_rois_per_config.shape, active_rois_per_config.dtype)\n",
    "passrois_dset[...] = active_rois_per_config\n",
    "\n",
    "\n",
    "filt_trace_cfg_neu_dset = data_grp.create_dataset('/'.join([curr_slice, 'filtered_response_per_cond_per_neuron' ]), filt_response_array.shape, filt_response_array.dtype)\n",
    "filt_trace_cfg_neu_dset[...] = filt_response_array\n",
    "\n",
    "filt_trace_cond_mean_neu_dset = data_grp.create_dataset('/'.join([curr_slice, 'filtered_response_per_cond_mean_across_neurons' ]), filter_response_cond_mean_neuron.shape, filter_response_cond_mean_neuron.dtype)\n",
    "filt_trace_cond_mean_neu_dset[...] = filter_response_cond_mean_neuron\n",
    "\n",
    "filt_trace_cond_se_neu_dset = data_grp.create_dataset('/'.join([curr_slice, 'filtered_response_per_cond_se_across_neurons' ]), filter_response_cond_se_neuron.shape, filter_response_cond_se_neuron.dtype)\n",
    "filt_trace_cond_se_neu_dset[...] = filter_response_cond_se_neuron\n",
    "\n",
    "filt_trace_cfg_mean_neu_dset = data_grp.create_dataset('/'.join([curr_slice, 'filtered_response_per_cfg_mean_across_neurons' ]), img_response_mean.shape, img_response_mean.dtype)\n",
    "filt_trace_cfg_mean_neu_dset[...] = img_response_mean\n",
    "\n",
    "filt_trace_cfg_se_neu_dset = data_grp.create_dataset('/'.join([curr_slice, 'filtered_response_per_cfg_se_across_neurons' ]), img_response_se.shape, img_response_se.dtype)\n",
    "filt_trace_cfg_se_neu_dset[...] = img_response_se\n",
    "\n",
    "midx_dset = data_grp.create_dataset('/'.join([curr_slice, 'mod_idx_mean_across_neurons' ]), mean_mod_idx.shape, mean_mod_idx.dtype)\n",
    "midx_dset[...] = mean_mod_idx\n",
    "\n",
    "mdif_dset = data_grp.create_dataset('/'.join([curr_slice, 'diff_mean_across_neurons' ]), mean_diff.shape, mean_diff.dtype)\n",
    "mdif_dset[...] = mean_diff\n",
    "\n",
    "\n",
    "data_grp.close()"
   ]
  },
  {
   "cell_type": "code",
   "execution_count": null,
   "metadata": {
    "collapsed": true
   },
   "outputs": [],
   "source": []
  },
  {
   "cell_type": "code",
   "execution_count": null,
   "metadata": {
    "collapsed": true
   },
   "outputs": [],
   "source": []
  },
  {
   "cell_type": "code",
   "execution_count": null,
   "metadata": {
    "collapsed": true
   },
   "outputs": [],
   "source": []
  }
 ],
 "metadata": {
  "kernelspec": {
   "display_name": "Python 2",
   "language": "python",
   "name": "python2"
  },
  "language_info": {
   "codemirror_mode": {
    "name": "ipython",
    "version": 2
   },
   "file_extension": ".py",
   "mimetype": "text/x-python",
   "name": "python",
   "nbconvert_exporter": "python",
   "pygments_lexer": "ipython2",
   "version": "2.7.13"
  }
 },
 "nbformat": 4,
 "nbformat_minor": 2
}
