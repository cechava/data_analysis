{
 "cells": [
  {
   "cell_type": "code",
   "execution_count": 1,
   "metadata": {},
   "outputs": [],
   "source": [
    "import h5py\n",
    "import seaborn as sns; sns.set()\n",
    "import matplotlib.pyplot as plt\n",
    "import matplotlib\n",
    "\n",
    "import sys\n",
    "import shutil\n",
    "import glob\n",
    "import optparse\n",
    "import os\n",
    "import json\n",
    "\n",
    "import pandas as pd\n",
    "import numpy as np\n",
    "import pylab as pl\n",
    "\n",
    "class struct: pass\n"
   ]
  },
  {
   "cell_type": "code",
   "execution_count": 2,
   "metadata": {},
   "outputs": [],
   "source": [
    "def correct_phase_wrap(phase):\n",
    "        \n",
    "    corrected_phase = phase.copy()\n",
    "    \n",
    "    corrected_phase[phase<0] =- phase[phase<0]\n",
    "    corrected_phase[phase>0] = (2*np.pi) - phase[phase>0]\n",
    "    \n",
    "    return corrected_phase\n",
    "\n",
    "\n",
    "#hard-coding these measurements.\n",
    "screen_resolution = [1920, 1080]\n",
    "screen_width = 103.0 # in cm\n",
    "screen_height = 58.0 # in cm\n",
    "screen_distance = 30.0 # in cm\n",
    "\n",
    "screen_height_deg = 2*np.rad2deg(np.arctan2(screen_height/2,screen_distance))\n",
    "screen_width_deg = 2*np.rad2deg(np.arctan2(screen_width/2,screen_distance))"
   ]
  },
  {
   "cell_type": "code",
   "execution_count": null,
   "metadata": {},
   "outputs": [],
   "source": []
  },
  {
   "cell_type": "code",
   "execution_count": 153,
   "metadata": {},
   "outputs": [],
   "source": [
    "opts = struct()\n",
    "opts.rootdir = '/n/coxfs01/2p-data'\n",
    "opts.animalid = 'JC080'\n",
    "opts.session = '20190619'\n",
    "opts.acquisition = 'FOV1_zoom4p0x'\n",
    "opts.traceid = 'traces001'\n",
    "opts.retino_run = 'retino_run1'\n",
    "\n",
    "filter_crit = 'ratio'\n",
    "filter_thresh = .01"
   ]
  },
  {
   "cell_type": "code",
   "execution_count": 163,
   "metadata": {},
   "outputs": [],
   "source": [
    "traceid = '%s_s2p'%(opts. traceid)\n",
    "#% Set up paths:    \n",
    "acquisition_dir = os.path.join(opts.rootdir, opts.animalid, opts.session, opts.acquisition)\n",
    "traceid_dir = os.path.join(acquisition_dir, opts.retino_run, 'traces',traceid)\n",
    "\n",
    "file_dir = os.path.join(traceid_dir,'retino_analysis','files')\n",
    "run_dir = traceid_dir.split('/traces')[0]\n",
    "trace_arrays_dir = os.path.join(traceid_dir,'retino_analysis','files')\n",
    "\n",
    "#make figure directory for stimulus type\n",
    "fig_out_dir = os.path.join(traceid_dir, 'retino_analysis','combined_figures')\n",
    "if not os.path.exists(fig_out_dir):\n",
    "    os.makedirs(fig_out_dir)\n"
   ]
  },
  {
   "cell_type": "code",
   "execution_count": 149,
   "metadata": {},
   "outputs": [
    {
     "name": "stdout",
     "output_type": "stream",
     "text": [
      "/n/coxfs01/2p-data/JC080/20190619/FOV1_zoom4p0x/retino_run1/traces/traces001_s2p/files\n"
     ]
    }
   ],
   "source": []
  },
  {
   "cell_type": "code",
   "execution_count": 6,
   "metadata": {},
   "outputs": [],
   "source": [
    "# Get associated RUN info:\n",
    "runmeta_path = os.path.join(run_dir, '%s.json' % opts.retino_run)\n",
    "with open(runmeta_path, 'r') as r:\n",
    "    runinfo = json.load(r)\n",
    "\n",
    "nslices = len(runinfo['slices'])\n",
    "nchannels = runinfo['nchannels']\n",
    "nvolumes = runinfo['nvolumes']\n",
    "ntiffs = runinfo['ntiffs']\n",
    "frame_rate = runinfo['frame_rate']"
   ]
  },
  {
   "cell_type": "code",
   "execution_count": 7,
   "metadata": {},
   "outputs": [
    {
     "name": "stdout",
     "output_type": "stream",
     "text": [
      "Getting paradigm file info from /n/coxfs01/2p-data/JC080/20190619/FOV1_zoom4p0x/retino_run1/paradigm/files/parsed_trials_20190619_JC080_FOV1_retino_f1.json\n"
     ]
    }
   ],
   "source": [
    "#-----Get info from paradigm file\n",
    "para_file_dir = os.path.join(run_dir,'paradigm','files')\n",
    "if not os.path.exists(para_file_dir): os.makedirs(para_file_dir)\n",
    "para_files =  [f for f in os.listdir(para_file_dir) if f.endswith('.json')]#assuming a single file for all tiffs in run\n",
    "if len(para_files) == 0:\n",
    "    # Paradigm info not extracted yet:\n",
    "    raw_para_files = [f for f in glob.glob(os.path.join(run_dir, 'raw*', 'paradigm_files', '*.mwk')) if not f.startswith('.')]\n",
    "    print(run_dir)\n",
    "    assert len(raw_para_files) == 1, \"No raw .mwk file found, and no processed .mwk file found. Aborting!\"\n",
    "    raw_para_file = raw_para_files[0]           \n",
    "    print(\"Extracting .mwk trials: %s\" % (raw_para_file))\n",
    "    fn_base = os.path.split(raw_para_file)[1][:-4]\n",
    "    trials = mw.extract_trials(raw_para_file, retinobar=True, trigger_varname='frame_trigger', verbose=True)\n",
    "    para_fpath = mw.save_trials(trials, para_file_dir, fn_base)\n",
    "    para_file = os.path.split(para_fpath)[-1]\n",
    "else:\n",
    "    assert len(para_files) == 1, \"Unable to find unique .mwk file...\"\n",
    "    para_file = para_files[0]\n",
    "\n",
    "print('Getting paradigm file info from %s'%(os.path.join(para_file_dir, para_file)))\n",
    "\n",
    "with open(os.path.join(para_file_dir, para_file), 'r') as r:\n",
    "    parainfo = json.load(r)\n"
   ]
  },
  {
   "cell_type": "code",
   "execution_count": 8,
   "metadata": {},
   "outputs": [],
   "source": [
    "#get masks\n",
    "curr_slice = 'Slice01'#hard-coding planar data for now\n",
    "\n",
    "masks_fn = os.path.join(trace_arrays_dir,'masks.hdf5')\n",
    "mask_file = h5py.File(masks_fn, 'r')\n",
    "\n",
    "iscell = np.array(mask_file[curr_slice]['iscell'])"
   ]
  },
  {
   "cell_type": "code",
   "execution_count": 9,
   "metadata": {},
   "outputs": [],
   "source": [
    "RF_center_array = np.ones((ntiffs,iscell.size))*np.nan\n",
    "mag_ratio_array = np.ones((ntiffs,iscell.size))*np.nan\n",
    "bar_orientation = np.zeros((ntiffs,))\n",
    "bar_cond = np.zeros((ntiffs,))"
   ]
  },
  {
   "cell_type": "code",
   "execution_count": null,
   "metadata": {},
   "outputs": [],
   "source": []
  },
  {
   "cell_type": "code",
   "execution_count": 10,
   "metadata": {},
   "outputs": [],
   "source": [
    "#fid = 1\n",
    "for fid in range(1,ntiffs+1):\n",
    "\n",
    "    retino_filepath = os.path.join(file_dir,'File%03d_retino_data.hdf5'%(fid))\n",
    "\n",
    "\n",
    "    file_grp = h5py.File(retino_filepath,  'r')\n",
    "    file_mag_ratio= np.array(file_grp['/'.join([curr_slice,'mag_ratio_array'])])\n",
    "    file_phase = np.array(file_grp['/'.join([curr_slice,'phase_array'])])\n",
    "\n",
    "    stimulus = parainfo[str(fid)]['stimuli']['stimulus']\n",
    "\n",
    "    #set phase map range for visualization\n",
    "    file_phase_disp = correct_phase_wrap(file_phase)\n",
    "#     file_phase_disp=np.copy(file_phase)\n",
    "#     file_phase_disp[file_phase<0]=-file_phase[file_phase<0]\n",
    "#     file_phase_disp[file_phase>0]=(2*np.pi)-file_phase[file_phase>0]\n",
    "\n",
    "\n",
    "\n",
    "    #by convention: left edge of screen is 0, bottom edge of screen is 0\n",
    "    if stimulus == 'bottom':\n",
    "        file_location = screen_height_deg * (file_phase_disp/(2*np.pi))\n",
    "        bar_orientation[fid-1] = 0\n",
    "        bar_cond[fid-1] = 0\n",
    "    elif stimulus == 'top':\n",
    "        file_location = screen_height_deg - (screen_height_deg * (file_phase_disp/(2*np.pi)))\n",
    "        #file_location = (screen_height_deg * (file_phase_disp/(2*np.pi)))\n",
    "        bar_orientation[fid-1] = 0\n",
    "        bar_cond[fid-1] = 1\n",
    "    elif stimulus == 'left':\n",
    "        file_location = screen_width_deg * (file_phase_disp/(2*np.pi))\n",
    "        bar_orientation[fid-1] = 1\n",
    "        bar_cond[fid-1] = 2\n",
    "    elif stimulus == 'right':\n",
    "        file_location = screen_width_deg - (screen_width_deg * (file_phase_disp/(2*np.pi)))\n",
    "     #   file_location = (screen_width_deg * (file_phase_disp/(2*np.pi)))\n",
    "        bar_orientation[fid-1] = 1\n",
    "        bar_cond[fid-1] = 3\n",
    "\n",
    "    mag_ratio_array[fid-1,iscell] = file_mag_ratio[iscell]\n",
    "    RF_center_array[fid-1,iscell] = file_location[iscell]"
   ]
  },
  {
   "cell_type": "code",
   "execution_count": null,
   "metadata": {},
   "outputs": [],
   "source": []
  },
  {
   "cell_type": "code",
   "execution_count": null,
   "metadata": {},
   "outputs": [],
   "source": []
  },
  {
   "cell_type": "code",
   "execution_count": null,
   "metadata": {},
   "outputs": [],
   "source": []
  },
  {
   "cell_type": "code",
   "execution_count": 11,
   "metadata": {
    "scrolled": true
   },
   "outputs": [
    {
     "name": "stderr",
     "output_type": "stream",
     "text": [
      "/home/cesar/envs/suite2p/lib/python3.6/site-packages/ipykernel_launcher.py:2: RuntimeWarning: invalid value encountered in less\n",
      "  \n"
     ]
    }
   ],
   "source": [
    "if filter_crit == 'ratio':\n",
    "    RF_center_array[np.where(mag_ratio_array<filter_thresh)] = np.nan"
   ]
  },
  {
   "cell_type": "code",
   "execution_count": 59,
   "metadata": {},
   "outputs": [
    {
     "name": "stderr",
     "output_type": "stream",
     "text": [
      "/home/cesar/envs/suite2p/lib/python3.6/site-packages/ipykernel_launcher.py:8: RuntimeWarning: Mean of empty slice\n",
      "  \n",
      "/home/cesar/envs/suite2p/lib/python3.6/site-packages/ipykernel_launcher.py:9: RuntimeWarning: Mean of empty slice\n",
      "  if __name__ == '__main__':\n",
      "/home/cesar/envs/suite2p/lib/python3.6/site-packages/ipykernel_launcher.py:12: RuntimeWarning: invalid value encountered in greater\n",
      "  if sys.path[0] == '':\n"
     ]
    }
   ],
   "source": [
    "RF_center_mean = np.zeros((4,RF_center_array.shape[1]))\n",
    "RF_center_std = np.zeros((4,RF_center_array.shape[1]))\n",
    "mag_ratio_mean_cond = np.zeros((4,RF_center_array.shape[1]))\n",
    "active_cell_count = np.zeros((4,))\n",
    "for cidx in np.unique(bar_cond):\n",
    "#cidx = 0 \n",
    "    cidx = int(cidx)\n",
    "    RF_center_mean[cidx,:] = np.nanmean(RF_center_array[np.where(bar_cond==cidx)[0],:],0)\n",
    "    mag_ratio_mean_cond[cidx,:] = np.nanmean(mag_ratio_array[np.where(bar_cond==cidx)[0],:],0)\n",
    "    RF_center_std[cidx,:] = np.nanstd(RF_center_array[np.where(bar_cond==cidx)[0],:],0)\n",
    "    \n",
    "    active_cell_count[cidx] = np.sum(np.sum((mag_ratio_array>ratio_thresh)[bar_cond==cidx],0)[iscell]>0)"
   ]
  },
  {
   "cell_type": "code",
   "execution_count": null,
   "metadata": {},
   "outputs": [],
   "source": [
    "total_cells = float(np.sum(iscell))\n",
    "stimulus_labels = ['bottom','top','left','right']"
   ]
  },
  {
   "cell_type": "code",
   "execution_count": 161,
   "metadata": {
    "scrolled": true
   },
   "outputs": [
    {
     "name": "stdout",
     "output_type": "stream",
     "text": [
      "# active cells = 69, 69\n",
      "frac active cells = 0.4313, 0.4313\n",
      "# valid cells = 53\n",
      "frac valid_cells = 0.3312\n"
     ]
    },
    {
     "name": "stderr",
     "output_type": "stream",
     "text": [
      "/home/cesar/envs/suite2p/lib/python3.6/site-packages/ipykernel_launcher.py:9: RuntimeWarning: Mean of empty slice\n",
      "  if __name__ == '__main__':\n"
     ]
    }
   ],
   "source": [
    "#3,1 for: X - right, Y- top\n",
    "#2,0 for: X - left, Y- bottom\n",
    "hcond = 3\n",
    "vcond = 1\n",
    "\n",
    "num_active_cells = (active_cell_count[hcond],active_cell_count[vcond])\n",
    "frac_active_cells = (active_cell_count[hcond]/total_cells,active_cell_count[vcond]/total_cells)\n",
    "\n",
    "mag_ratio_mean = np.nanmean(np.vstack((mag_ratio_mean_cond[hcond,:],mag_ratio_mean_cond[vcond,:])),0)\n",
    "\n",
    "num_valid_cells = np.sum(np.logical_and(np.logical_not(np.isnan(RF_center_mean))[hcond,:],np.logical_not(np.isnan(RF_center_mean))[vcond,:]))\n",
    "frac_valid_cells = num_valid_cells/float(total_cells)\n",
    "\n",
    "print('# active cells = %i, %i'%(num_active_cells))\n",
    "print('frac active cells = %.04f, %.04f'%(frac_active_cells))\n",
    "\n",
    "print('# valid cells = %i'%(num_valid_cells))\n",
    "print('frac valid_cells = %.04f'%(frac_valid_cells))\n",
    "\n",
    "fig = plt.figure(figsize=(20.6,11.6))\n",
    "\n",
    "#scatter plot considers only cells with valid values for both axes\n",
    "plt.scatter(RF_center_mean[hcond,:],RF_center_mean[vcond,:],100,c = mag_ratio_mean, cmap = 'inferno')#\n",
    "\n",
    "plt.xlim([0,screen_width_deg])\n",
    "plt.ylim([0,screen_height_deg])\n",
    "\n",
    "axes = plt.gca()\n",
    "xmin, xmax = axes.get_xlim()\n",
    "ymin, ymax = axes.get_ylim()\n",
    "\n",
    "plt.text(xmin-.25, ymax, 'n = %s ; f = %s ; n = %i ; f = %.04f' % \\\n",
    "         (num_active_cells,frac_active_cells,num_valid_cells,frac_valid_cells), fontsize=10)\n",
    "\n",
    "plt.colorbar()\n",
    "plt.xlabel('Azimuth',fontsize = 15)\n",
    "plt.ylabel('Elevation',fontsize = 15)\n",
    "plt.suptitle('%s / %s'%(stimulus_labels[hcond], stimulus_labels[vcond]),fontsize = 15)\n",
    "\n",
    "fig_fn = '%s_%s_joint_plot_thresh_%s_%.02f.png'%(stimulus_labels[hcond],stimulus_labels[vcond]\\\n",
    "                                                   ,filter_crit,filter_thresh)\n",
    "fig_file_path = os.path.join(fig_out_dir, fig_fn)\n",
    "plt.savefig(fig_file_path)\n",
    "plt.close()"
   ]
  },
  {
   "cell_type": "code",
   "execution_count": 164,
   "metadata": {},
   "outputs": [],
   "source": [
    "#fig = plt.figure(figsize=(10.3,5.8))\n",
    "sns.set(style=\"darkgrid\")\n",
    "#scatter plot considers only cells with valid values for both axes\n",
    "p = sns.jointplot(RF_center_mean[hcond,:],RF_center_mean[vcond,:],kind = 'kde',height = 20.6,\\\n",
    "                  xlim = (0,screen_width_deg),ylim = (0,screen_height_deg),joint_kws=dict(shade_lowest=False))#\n",
    "\n",
    "p.fig.set_figwidth(10.3)\n",
    "p.fig.set_figheight(5.8)\n",
    "axes = plt.gca()\n",
    "xmin, xmax = axes.get_xlim()\n",
    "ymin, ymax = axes.get_ylim()\n",
    "\n",
    "p.set_axis_labels(xlabel='Azimuth', ylabel='Elevation',fontsize = 15)\n",
    "\n",
    "fig_fn = '%s_%s_joint_plot_kde_thresh_%s_%.02f.png'%(stimulus_labels[hcond],stimulus_labels[vcond]\\\n",
    "                                                   ,filter_crit,filter_thresh)\n",
    "fig_file_path = os.path.join(fig_out_dir, fig_fn)\n",
    "p.savefig(fig_file_path)\n",
    "plt.close()"
   ]
  },
  {
   "cell_type": "code",
   "execution_count": 141,
   "metadata": {},
   "outputs": [
    {
     "name": "stderr",
     "output_type": "stream",
     "text": [
      "/home/cesar/envs/suite2p/lib/python3.6/site-packages/ipykernel_launcher.py:9: RuntimeWarning: Mean of empty slice\n",
      "  if __name__ == '__main__':\n"
     ]
    },
    {
     "name": "stdout",
     "output_type": "stream",
     "text": [
      "# active cells = 52, 69\n",
      "frac active cells = 0.3250, 0.4313\n",
      "# valid cells = 44\n",
      "frac valid_cells = 0.2750\n"
     ]
    },
    {
     "data": {
      "text/plain": [
       "<seaborn.axisgrid.JointGrid at 0x7f9f60a9dbe0>"
      ]
     },
     "execution_count": 141,
     "metadata": {},
     "output_type": "execute_result"
    },
    {
     "data": {
      "image/png": "[encoded data removed]",
      "text/plain": [
       "<Figure size 741.6x417.6 with 1 Axes>"
      ]
     },
     "metadata": {},
     "output_type": "display_data"
    },
    {
     "data": {
      "image/png": "[encoded data removed]",
      "text/plain": [
       "<Figure size 741.6x417.6 with 3 Axes>"
      ]
     },
     "metadata": {},
     "output_type": "display_data"
    }
   ],
   "source": [
    "#3,1 for: X - right, Y- top\n",
    "#2,0 for: X - left, Y- bottom\n",
    "hcond = 2\n",
    "vcond = 0\n",
    "\n",
    "num_active_cells = (active_cell_count[hcond],active_cell_count[vcond])\n",
    "frac_active_cells = (active_cell_count[hcond]/total_cells,active_cell_count[vcond]/total_cells)\n",
    "\n",
    "mag_ratio_mean = np.nanmean(np.vstack((mag_ratio_mean_cond[hcond,:],mag_ratio_mean_cond[vcond,:])),0)\n",
    "\n",
    "num_valid_cells = np.sum(np.logical_and(np.logical_not(np.isnan(RF_center_mean))[hcond,:],np.logical_not(np.isnan(RF_center_mean))[vcond,:]))\n",
    "frac_valid_cells = num_valid_cells/float(total_cells)\n",
    "\n",
    "print('# active cells = %i, %i'%(num_active_cells))\n",
    "print('frac active cells = %.04f, %.04f'%(frac_active_cells))\n",
    "\n",
    "print('# valid cells = %i'%(num_valid_cells))\n",
    "print('frac valid_cells = %.04f'%(frac_valid_cells))\n",
    "\n",
    "fig = plt.figure(figsize=(10.3,5.8))\n",
    "\n",
    "#scatter plot considers only cells with valid values for both axes\n",
    "plt.scatter(RF_center_mean[hcond,:],RF_center_mean[vcond,:])#\n",
    "\n",
    "plt.xlim([0,screen_width_deg])\n",
    "plt.ylim([0,screen_height_deg])\n",
    "\n",
    "axes = plt.gca()\n",
    "xmin, xmax = axes.get_xlim()\n",
    "ymin, ymax = axes.get_ylim()\n",
    "\n",
    "plt.text(xmin-.25, ymax, 'n = %s ; f = %s ; n = %i ; f = %.04f' % \\\n",
    "         (num_active_cells,frac_active_cells,num_valid_cells,frac_valid_cells), fontsize=10)\n",
    "\n",
    "plt.xlabel('Azimuth',fontsize = 15)\n",
    "plt.ylabel('Elevation',fontsize = 15)\n",
    "plt.suptitle('%s / %s'%(stimulus_labels[hcond], stimulus_labels[vcond]),fontsize = 15)\n",
    "\n",
    "# fig_fn = '%s_mod_idx_%s_thresh_%s_%i.png'%(title_list[cidx],response_type,filter_crit,filter_thresh)\n",
    "# fig_file_path = os.path.join(fig_out_dir, fig_fn)\n",
    "# plt.savefig(fig_file_path)\n",
    "# plt.close()\n",
    "\n",
    "#fig = plt.figure(figsize=(10.3,5.8))\n",
    "sns.set(style=\"darkgrid\")\n",
    "#scatter plot considers only cells with valid values for both axes\n",
    "p = sns.jointplot(RF_center_mean[hcond,:],RF_center_mean[vcond,:],kind = 'kde',\\\n",
    "                  xlim = (0,screen_width_deg),ylim = (0,screen_height_deg),joint_kws=dict(shade_lowest=False))#\n",
    "\n",
    "p.fig.set_figwidth(10.3)\n",
    "p.fig.set_figheight(5.8)\n",
    "axes = plt.gca()\n",
    "xmin, xmax = axes.get_xlim()\n",
    "ymin, ymax = axes.get_ylim()\n",
    "\n",
    "\n",
    "p.set_axis_labels(xlabel='Azimuth', ylabel='Elevation',fontsize = 15)\n"
   ]
  },
  {
   "cell_type": "code",
   "execution_count": 78,
   "metadata": {},
   "outputs": [
    {
     "name": "stdout",
     "output_type": "stream",
     "text": [
      "# valid cells = 36\n",
      "frac valid_cells = 0.2250\n"
     ]
    },
    {
     "name": "stderr",
     "output_type": "stream",
     "text": [
      "/home/cesar/envs/suite2p/lib/python3.6/site-packages/ipykernel_launcher.py:1: RuntimeWarning: Mean of empty slice\n",
      "  \"\"\"Entry point for launching an IPython kernel.\n"
     ]
    }
   ],
   "source": [
    "mag_ratio_mean = np.nanmean(mag_ratio_mean_cond,0)\n",
    "\n",
    "num_valid_cells = np.sum(np.all(np.logical_not(np.isnan(RF_center_mean)),0))\n",
    "frac_valid_cells = num_valid_cells/float(total_cells)\n",
    "\n",
    "# print('# active cells = %i, %i'%(num_active_cells))\n",
    "# print('frac active cells = %.04f, %.04f'%(frac_active_cells))\n",
    "\n",
    "print('# valid cells = %i'%(num_valid_cells))\n",
    "print('frac valid_cells = %.04f'%(frac_valid_cells))"
   ]
  },
  {
   "cell_type": "code",
   "execution_count": 82,
   "metadata": {},
   "outputs": [
    {
     "name": "stderr",
     "output_type": "stream",
     "text": [
      "/home/cesar/envs/suite2p/lib/python3.6/site-packages/ipykernel_launcher.py:1: RuntimeWarning: Mean of empty slice\n",
      "  \"\"\"Entry point for launching an IPython kernel.\n",
      "/home/cesar/envs/suite2p/lib/python3.6/site-packages/ipykernel_launcher.py:2: RuntimeWarning: Mean of empty slice\n",
      "  \n"
     ]
    }
   ],
   "source": [
    "RF_mean_x = np.nanmean(RF_center_mean[2:4,:],0)\n",
    "RF_mean_y = np.nanmean(RF_center_mean[0:2,:],0)"
   ]
  },
  {
   "cell_type": "code",
   "execution_count": 142,
   "metadata": {},
   "outputs": [
    {
     "name": "stderr",
     "output_type": "stream",
     "text": [
      "/home/cesar/envs/suite2p/lib/python3.6/site-packages/ipykernel_launcher.py:9: RuntimeWarning: Mean of empty slice\n",
      "  if __name__ == '__main__':\n"
     ]
    },
    {
     "name": "stdout",
     "output_type": "stream",
     "text": [
      "# active cells = 69, 69\n",
      "frac active cells = 0.4313, 0.4313\n",
      "# valid cells = 53\n",
      "frac valid_cells = 0.3312\n"
     ]
    },
    {
     "data": {
      "text/plain": [
       "<seaborn.axisgrid.JointGrid at 0x7f9f605ca860>"
      ]
     },
     "execution_count": 142,
     "metadata": {},
     "output_type": "execute_result"
    },
    {
     "data": {
      "image/png": "[encoded data removed]",
      "text/plain": [
       "<Figure size 741.6x417.6 with 1 Axes>"
      ]
     },
     "metadata": {},
     "output_type": "display_data"
    },
    {
     "data": {
      "image/png": "[encoded data removed]",
      "text/plain": [
       "<Figure size 741.6x417.6 with 3 Axes>"
      ]
     },
     "metadata": {},
     "output_type": "display_data"
    }
   ],
   "source": [
    "#3,1 for: X - right, Y- top\n",
    "#2,0 for: X - left, Y- bottom\n",
    "hcond = 3\n",
    "vcond = 1\n",
    "\n",
    "num_active_cells = (active_cell_count[hcond],active_cell_count[vcond])\n",
    "frac_active_cells = (active_cell_count[hcond]/total_cells,active_cell_count[vcond]/total_cells)\n",
    "\n",
    "mag_ratio_mean = np.nanmean(np.vstack((mag_ratio_mean_cond[hcond,:],mag_ratio_mean_cond[vcond,:])),0)\n",
    "\n",
    "num_valid_cells = np.sum(np.logical_and(np.logical_not(np.isnan(RF_center_mean))[hcond,:],np.logical_not(np.isnan(RF_center_mean))[vcond,:]))\n",
    "frac_valid_cells = num_valid_cells/float(total_cells)\n",
    "\n",
    "print('# active cells = %i, %i'%(num_active_cells))\n",
    "print('frac active cells = %.04f, %.04f'%(frac_active_cells))\n",
    "\n",
    "print('# valid cells = %i'%(num_valid_cells))\n",
    "print('frac valid_cells = %.04f'%(frac_valid_cells))\n",
    "\n",
    "fig = plt.figure(figsize=(10.3,5.8))\n",
    "\n",
    "#scatter plot considers only cells with valid values for both axes\n",
    "plt.scatter(RF_mean_x,RF_mean_y)#\n",
    "\n",
    "plt.xlim([0,screen_width_deg])\n",
    "plt.ylim([0,screen_height_deg])\n",
    "\n",
    "axes = plt.gca()\n",
    "xmin, xmax = axes.get_xlim()\n",
    "ymin, ymax = axes.get_ylim()\n",
    "\n",
    "plt.text(xmin-.25, ymax, 'n = %s ; f = %s ; n = %i ; f = %.04f' % \\\n",
    "         (num_active_cells,frac_active_cells,num_valid_cells,frac_valid_cells), fontsize=10)\n",
    "\n",
    "plt.xlabel('Azimuth',fontsize = 15)\n",
    "plt.ylabel('Elevation',fontsize = 15)\n",
    "plt.suptitle('%s / %s'%(stimulus_labels[hcond], stimulus_labels[vcond]),fontsize = 15)\n",
    "\n",
    "# fig_fn = '%s_mod_idx_%s_thresh_%s_%i.png'%(title_list[cidx],response_type,filter_crit,filter_thresh)\n",
    "# fig_file_path = os.path.join(fig_out_dir, fig_fn)\n",
    "# plt.savefig(fig_file_path)\n",
    "# plt.close()\n",
    "\n",
    "#fig = plt.figure(figsize=(10.3,5.8))\n",
    "sns.set(style=\"darkgrid\")\n",
    "#scatter plot considers only cells with valid values for both axes\n",
    "p = sns.jointplot(RF_mean_x,RF_mean_y,kind = 'kde',\\\n",
    "                  xlim = (0,screen_width_deg),ylim = (0,screen_height_deg),joint_kws=dict(shade_lowest=False))#\n",
    "\n",
    "p.fig.set_figwidth(10.3)\n",
    "p.fig.set_figheight(5.8)\n",
    "axes = plt.gca()\n",
    "xmin, xmax = axes.get_xlim()\n",
    "ymin, ymax = axes.get_ylim()\n",
    "\n",
    "\n",
    "p.set_axis_labels(xlabel='Azimuth', ylabel='Elevation',fontsize = 15)\n"
   ]
  },
  {
   "cell_type": "code",
   "execution_count": null,
   "metadata": {},
   "outputs": [],
   "source": []
  }
 ],
 "metadata": {
  "kernelspec": {
   "display_name": "Python 3",
   "language": "python",
   "name": "python3"
  },
  "language_info": {
   "codemirror_mode": {
    "name": "ipython",
    "version": 3
   },
   "file_extension": ".py",
   "mimetype": "text/x-python",
   "name": "python",
   "nbconvert_exporter": "python",
   "pygments_lexer": "ipython3",
   "version": "3.6.8"
  }
 },
 "nbformat": 4,
 "nbformat_minor": 2
}
