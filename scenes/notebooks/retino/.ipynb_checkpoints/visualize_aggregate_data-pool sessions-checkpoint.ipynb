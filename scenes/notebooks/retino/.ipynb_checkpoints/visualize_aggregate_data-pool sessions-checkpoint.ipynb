{
 "cells": [
  {
   "cell_type": "code",
   "execution_count": 1,
   "metadata": {},
   "outputs": [],
   "source": [
    "import h5py\n",
    "import os\n",
    "import glob\n",
    "import shutil\n",
    "\n",
    "def findOccurrences(s, ch):\n",
    "    return [i for i, letter in enumerate(s) if letter == ch]"
   ]
  },
  {
   "cell_type": "code",
   "execution_count": 12,
   "metadata": {},
   "outputs": [],
   "source": [
    "class struct: pass\n",
    "opts = struct()\n",
    "opts = struct()\n",
    "opts.rootdir = '/n/coxfs01/2p-data'\n",
    "opts.acquisition = 'FOV1_zoom4p0x'\n",
    "opts.traceid = 'traces001'\n",
    "opts.retino_run = 'retino_run2'\n",
    "dst_root = '/n/coxfs01/cechavarria/2p-aggregate/retino'\n",
    "\n",
    "\n",
    "traceid = '%s_s2p'%(opts.traceid)\n",
    "filter_crit = 'ratio'\n",
    "filter_thresh = .01"
   ]
  },
  {
   "cell_type": "code",
   "execution_count": 13,
   "metadata": {},
   "outputs": [],
   "source": [
    "\n",
    "sess_list = ['JC097_20190621','JC085_20190624','JC097_20190628','JC097_20190704','JC085_20190712']\n",
    "area = 'V1'\n",
    "\n",
    "\n",
    "# sess_list = ['JC080_20190619','JC091_20190621','JC091_20190628','JC097_20190702','JC091_20190703','JC085_20190704','JC097_20190708']\n",
    "# area = 'LM'\n",
    "\n",
    "# sess_list = ['JC091_20190625','JC091_20190701','JC091_20190705']\n",
    "# area = 'LI'"
   ]
  },
  {
   "cell_type": "code",
   "execution_count": 14,
   "metadata": {},
   "outputs": [
    {
     "name": "stdout",
     "output_type": "stream",
     "text": [
      "J\n"
     ]
    },
    {
     "ename": "IndexError",
     "evalue": "list index out of range",
     "output_type": "error",
     "traceback": [
      "\u001b[0;31m---------------------------------------------------------------------------\u001b[0m",
      "\u001b[0;31mIndexError\u001b[0m                                Traceback (most recent call last)",
      "\u001b[0;32m<ipython-input-14-010da3e1d43f>\u001b[0m in \u001b[0;36m<module>\u001b[0;34m\u001b[0m\n\u001b[1;32m      4\u001b[0m     \u001b[0mprint\u001b[0m\u001b[0;34m(\u001b[0m\u001b[0msess\u001b[0m\u001b[0;34m)\u001b[0m\u001b[0;34m\u001b[0m\u001b[0;34m\u001b[0m\u001b[0m\n\u001b[1;32m      5\u001b[0m \u001b[0;34m\u001b[0m\u001b[0m\n\u001b[0;32m----> 6\u001b[0;31m     \u001b[0mi1\u001b[0m \u001b[0;34m=\u001b[0m \u001b[0mfindOccurrences\u001b[0m\u001b[0;34m(\u001b[0m\u001b[0msess\u001b[0m\u001b[0;34m,\u001b[0m\u001b[0;34m'_'\u001b[0m\u001b[0;34m)\u001b[0m\u001b[0;34m[\u001b[0m\u001b[0;36m0\u001b[0m\u001b[0;34m]\u001b[0m\u001b[0;34m\u001b[0m\u001b[0;34m\u001b[0m\u001b[0m\n\u001b[0m\u001b[1;32m      7\u001b[0m \u001b[0;34m\u001b[0m\u001b[0m\n\u001b[1;32m      8\u001b[0m     \u001b[0mopts\u001b[0m\u001b[0;34m.\u001b[0m\u001b[0manimalid\u001b[0m \u001b[0;34m=\u001b[0m \u001b[0msess\u001b[0m\u001b[0;34m[\u001b[0m\u001b[0;36m0\u001b[0m\u001b[0;34m:\u001b[0m\u001b[0mi1\u001b[0m\u001b[0;34m]\u001b[0m\u001b[0;34m\u001b[0m\u001b[0;34m\u001b[0m\u001b[0m\n",
      "\u001b[0;31mIndexError\u001b[0m: list index out of range"
     ]
    }
   ],
   "source": [
    "for sess in sess_list[2]:\n",
    "# sessidx = 0\n",
    "# sess = sess_list[0]\n",
    "    print(sess)\n",
    "\n",
    "    i1 = findOccurrences(sess,'_')[0]\n",
    "\n",
    "    opts.animalid = sess[0:i1]\n",
    "    opts.session = sess[i1+1:]\n",
    "\n",
    "\n",
    "    #% Set up source paths:    \n",
    "    acquisition_dir = os.path.join(opts.rootdir, opts.animalid, opts.session, opts.acquisition)\n",
    "    traceid_dir = os.path.join(acquisition_dir, opts.retino_run, 'traces',traceid)\n",
    "    trace_arrays_dir = os.path.join(traceid_dir,'retino_analysis','files')\n",
    "    \n",
    "    data_array_fn = 'retino_data_thresh_%s_%.02f.hdf5'%(filter_crit, filter_thresh)\n",
    "    source_filepath = os.path.join(trace_arrays_dir, data_array_fn)\n",
    "\n",
    "\n",
    "\n",
    "    #Set up dst paths:\n",
    "    dst_dir = os.path.join(dst_root,area,'files')\n",
    "    if not os.path.isdir(dst_dir):\n",
    "        os.makedirs(dst_dir)\n",
    "    data_array_fn = '%s_retino_data_thresh_%s_%.02f.hdf5'%(sess, filter_crit, filter_thresh)\n",
    "    dst_filepath = os.path.join(dst_dir,data_array_fn)\n",
    "\n",
    "    shutil.copy(source_filepath, dst_filepath)"
   ]
  },
  {
   "cell_type": "code",
   "execution_count": null,
   "metadata": {},
   "outputs": [],
   "source": []
  }
 ],
 "metadata": {
  "kernelspec": {
   "display_name": "Python 3",
   "language": "python",
   "name": "python3"
  },
  "language_info": {
   "codemirror_mode": {
    "name": "ipython",
    "version": 3
   },
   "file_extension": ".py",
   "mimetype": "text/x-python",
   "name": "python",
   "nbconvert_exporter": "python",
   "pygments_lexer": "ipython3",
   "version": "3.6.8"
  }
 },
 "nbformat": 4,
 "nbformat_minor": 2
}
