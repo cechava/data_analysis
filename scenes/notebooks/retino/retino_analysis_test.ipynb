{
 "cells": [
  {
   "cell_type": "code",
   "execution_count": 1,
   "metadata": {
    "collapsed": true
   },
   "outputs": [],
   "source": [
    "import h5py\n",
    "%matplotlib inline\n",
    "import seaborn as sns; sns.set()\n",
    "import matplotlib.pyplot as plt\n",
    "import matplotlib\n",
    "\n",
    "import sys\n",
    "import shutil\n",
    "import glob\n",
    "import optparse\n",
    "import os\n",
    "import json\n",
    "import scipy.stats as stats\n",
    "import pandas as pd\n",
    "import numpy as np\n",
    "import pylab as pl\n",
    "\n",
    "class struct: pass"
   ]
  },
  {
   "cell_type": "code",
   "execution_count": 2,
   "metadata": {
    "collapsed": true
   },
   "outputs": [],
   "source": [
    "def do_regression(t,phi,roi_trace,nrois,tpoints):\n",
    "    print('Doing regression')\n",
    "    #doing regression to get amplitude and variance expained\n",
    "    t=np.transpose(np.expand_dims(t,1))\n",
    "    tmatrix=np.tile(t,(nrois,1))\n",
    "\n",
    "    phimatrix=np.tile(phi,(1,tpoints))\n",
    "    Xmatrix=np.cos(tmatrix+phimatrix)\n",
    "\n",
    "    beta_array=np.zeros((nrois))\n",
    "    varexp_array=np.zeros((nrois))\n",
    "    signal_fit = np.zeros((nrois,tpoints))\n",
    "\n",
    "    for midx in range(nrois):\n",
    "        x=np.expand_dims(Xmatrix[midx,:],1)\n",
    "        y=roi_trace[midx,:]\n",
    "        mean_y = np.mean(y)\n",
    "        y=y-mean_y\n",
    "        beta=np.matmul(np.linalg.pinv(x),y)\n",
    "        beta_array[midx]=beta\n",
    "        yHat=x*beta\n",
    "\n",
    "        signal_fit[midx,:]=np.squeeze(yHat+mean_y)\n",
    "        SSreg=np.sum((yHat-np.mean(y,0))**2)\n",
    "        SStotal=np.sum((y-np.mean(y,0))**2)\n",
    "        varexp_array[midx]=SSreg/SStotal\n",
    "\n",
    "    return varexp_array, beta_array, signal_fit\n",
    "\n",
    "def findOccurrences(s, ch):\n",
    "    return [i for i, letter in enumerate(s) if letter == ch]"
   ]
  },
  {
   "cell_type": "code",
   "execution_count": 4,
   "metadata": {},
   "outputs": [],
   "source": [
    "opts = struct()\n",
    "opts.rootdir = '/n/coxfs01/2p-data'\n",
    "opts.animalid = 'JC105'\n",
    "opts.session = '20190828'\n",
    "opts.acquisition = 'FOV1_zoom4p0x'\n",
    "opts.traceid = 'traces101'\n",
    "opts.retino_run = 'retino_run1'\n",
    "\n",
    "\n",
    "#% Set up paths:    \n",
    "traceid = '%s_s2p'%(opts. traceid)\n",
    "#% Set up paths:    \n",
    "acquisition_dir = os.path.join(opts.rootdir, opts.animalid, opts.session, opts.acquisition)\n",
    "traceid_dir = os.path.join(acquisition_dir, opts.retino_run, 'traces',traceid)\n",
    "\n",
    "file_dir = os.path.join(traceid_dir,'retino_analysis','files')\n",
    "run_dir = traceid_dir.split('/traces')[0]\n",
    "trace_arrays_dir = os.path.join(traceid_dir,'files')\n",
    "\n",
    "\n",
    "#Output paths\n",
    "fig_base_dir = os.path.join(traceid_dir,'retino_analysis','figures')\n",
    "if not os.path.exists(fig_base_dir):\n",
    "    os.makedirs(fig_base_dir)\n",
    "file_out_dir = os.path.join(traceid_dir,'retino_analysis','files')\n",
    "if not os.path.exists(file_out_dir):\n",
    "    os.makedirs(file_out_dir)\n",
    "\n"
   ]
  },
  {
   "cell_type": "code",
   "execution_count": 6,
   "metadata": {},
   "outputs": [
    {
     "name": "stdout",
     "output_type": "stream",
     "text": [
      "Getting paradigm file info from /n/coxfs01/2p-data/JC105/20190828/FOV1_zoom4p0x/retino_run1/paradigm/files/parsed_trials_20190828_JC105_FOV1_retino_f1.json\n"
     ]
    }
   ],
   "source": [
    "# Get associated RUN info:\n",
    "runmeta_path = os.path.join(run_dir, '%s.json' % opts.retino_run)\n",
    "with open(runmeta_path, 'r') as r:\n",
    "    runinfo = json.load(r)\n",
    "\n",
    "nslices = len(runinfo['slices'])\n",
    "nchannels = runinfo['nchannels']\n",
    "nvolumes = runinfo['nvolumes']\n",
    "ntiffs = runinfo['ntiffs']\n",
    "frame_rate = runinfo['frame_rate']\n",
    "\n",
    "#-----Get info from paradigm file\n",
    "para_file_dir = os.path.join(run_dir,'paradigm','files')\n",
    "if not os.path.exists(para_file_dir): os.makedirs(para_file_dir)\n",
    "para_files =  [f for f in os.listdir(para_file_dir) if f.endswith('.json')]#assuming a single file for all tiffs in run\n",
    "if len(para_files) == 0:\n",
    "    # Paradigm info not extracted yet:\n",
    "    raw_para_files = [f for f in glob.glob(os.path.join(run_dir, 'raw*', 'paradigm_files', '*.mwk')) if not f.startswith('.')]\n",
    "    print run_dir\n",
    "    assert len(raw_para_files) == 1, \"No raw .mwk file found, and no processed .mwk file found. Aborting!\"\n",
    "    raw_para_file = raw_para_files[0]           \n",
    "    print \"Extracting .mwk trials: %s\" % raw_para_file \n",
    "    fn_base = os.path.split(raw_para_file)[1][:-4]\n",
    "    trials = mw.extract_trials(raw_para_file, retinobar=True, trigger_varname='frame_trigger', verbose=True)\n",
    "    para_fpath = mw.save_trials(trials, para_file_dir, fn_base)\n",
    "    para_file = os.path.split(para_fpath)[-1]\n",
    "else:\n",
    "    assert len(para_files) == 1, \"Unable to find unique .mwk file...\"\n",
    "    para_file = para_files[0]\n",
    "\n",
    "print 'Getting paradigm file info from %s'%(os.path.join(para_file_dir, para_file))\n",
    "\n",
    "with open(os.path.join(para_file_dir, para_file), 'r') as r:\n",
    "    parainfo = json.load(r)\n",
    "\n",
    "\n",
    "#get masks\n",
    "curr_slice = 'Slice01'#hard-coding planar data for now\n",
    "\n",
    "masks_fn = os.path.join(file_out_dir,'masks.hdf5')\n",
    "mask_file = h5py.File(masks_fn, 'r')\n",
    "\n",
    "iscell = np.array(mask_file[curr_slice]['iscell'])\n",
    "mask_array = np.array(mask_file[curr_slice]['mask_array'])\n",
    "mask_file.close()"
   ]
  },
  {
   "cell_type": "code",
   "execution_count": null,
   "metadata": {
    "collapsed": true
   },
   "outputs": [],
   "source": [
    "fid = 1\n",
    "#for fid in range(1,ntiffs+1):\n",
    "trace_file = [f for f in os.listdir(trace_arrays_dir) if 'File%03d'%(fid) in f and f.endswith('hdf5')][0]\n",
    "trace_fn = os.path.join(trace_arrays_dir,trace_file)\n",
    "print(trace_fn)\n",
    "\n",
    "rawfile = h5py.File(trace_fn, 'r')\n",
    "\n",
    "frametimes = np.array(rawfile[curr_slice]['frames_tsec'])\n",
    "roi_trace = np.transpose(rawfile[curr_slice]['traces']['np_subtracted'])\n",
    "rawfile.close()\n",
    "\n",
    "stimulus = parainfo[str(fid)]['stimuli']['stimulus']\n",
    "stimfreq = parainfo[str(fid)]['stimuli']['scale']\n",
    "\n",
    "#make figure directory for stimulus type\n",
    "fig_out_dir = os.path.join(fig_base_dir, stimulus)\n",
    "if not os.path.exists(fig_out_dir):\n",
    "    os.makedirs(fig_out_dir)\n",
    "\n",
    "\n",
    "\n",
    "#Get fft  \n",
    "print('Getting fft....')\n",
    "fourier_data = np.fft.fft(roi_trace)\n",
    "\n",
    "\n",
    "nrois,nframes = roi_trace.shape\n",
    "\n",
    "\n",
    "\n",
    "#Get magnitude and phase data\n",
    "print('Analyzing phase and magnitude....')\n",
    "mag_data=abs(fourier_data)\n",
    "phase_data=np.angle(fourier_data)\n",
    "\n",
    "#label frequency bins\n",
    "freqs = np.fft.fftfreq(nframes, float(1/frame_rate))\n",
    "idx = np.argsort(freqs)\n",
    "freqs=freqs[idx]\n",
    "\n",
    "#sort magnitude and phase data\n",
    "mag_data=mag_data[:,idx]\n",
    "phase_data=phase_data[:,idx]\n",
    "\n",
    "#excluding DC offset from data\n",
    "freqs=freqs[np.round(nframes/2)+1:]\n",
    "mag_data=mag_data[:,np.round(nframes/2)+1:]\n",
    "phase_data=phase_data[:,np.round(nframes/2)+1:]\n",
    "\n",
    "freq_idx=np.argmin(np.absolute(freqs-stimfreq))#find out index of stimulation freq\n",
    "top_freq_idx=np.where(freqs>1)[0][0]#find out index of 1Hz, to cut-off zoomed out plot\n",
    "max_mod_idx=np.argmax(mag_data[:,freq_idx],0)#best pixel index\n",
    "\n",
    "#unpack values from frequency analysis\n",
    "mag_array = mag_data[:,freq_idx]                    \n",
    "phase_array = phase_data[:,freq_idx]      \n",
    "\n",
    "#get magnitude ratio\n",
    "tmp=np.copy(mag_data)\n",
    "np.delete(tmp,freq_idx,1)\n",
    "nontarget_mag_array=np.sum(tmp,1)\n",
    "mag_ratio_array=mag_array/nontarget_mag_array\n",
    "\n",
    "#bootstrap to get null-distribution for mag ratio\n",
    "nreps = 1000\n",
    "zscore_bootstrap = np.empty((nrois,))\n",
    "ratio_array = np.empty((nreps,))\n",
    "#ridx = 76\n",
    "for ridx in range(nrois):\n",
    "    for rep in range(nreps):\n",
    "\n",
    "        roi_mag = mag_data[ridx,:]\n",
    "        shuffle_mag = np.random.permutation(roi_mag)\n",
    "        mag_value = shuffle_mag[freq_idx]  \n",
    "        tmp  = np.copy(shuffle_mag)\n",
    "        np.delete(tmp,freq_idx,0)\n",
    "        nontarget_mag_value=np.sum(tmp,0)\n",
    "        ratio_array[rep] = mag_value/nontarget_mag_value\n",
    "\n",
    "    zscore_bootstrap[ridx] = (mag_ratio_array[ridx] - np.mean(ratio_array))/np.std(ratio_array)\n",
    "\n",
    "\n",
    "#do regression, get some info from fit\n",
    "t=frametimes*(2*np.pi)*stimfreq\n",
    "phi=np.expand_dims(phase_array,1)\n",
    "varexp_array, beta_array, signal_fit = do_regression(t,phi,roi_trace,roi_trace.shape[0],roi_trace.shape[1])\n",
    "\n",
    "print('Saving data to file')\n",
    "file_grp = h5py.File(os.path.join(file_out_dir,'File%03d_retino_data.hdf5'%(fid)),  'w')\n",
    "\n",
    "#file_grp.attrs['frame_rate'] = frame_rate\n",
    "file_grp.attrs['stimfreq'] = stimfreq\n",
    "\n",
    "\n",
    "\n",
    "#save data values to structure\n",
    "if 'mag_array' not in file_grp.keys():\n",
    "    magset = file_grp.create_dataset('/'.join([curr_slice,'mag_array']),mag_array.shape, mag_array.dtype)\n",
    "    magset[...] = mag_array\n",
    "if 'phase_array' not in file_grp.keys():\n",
    "    phaseset = file_grp.create_dataset('/'.join([curr_slice,'phase_array']),phase_array.shape, phase_array.dtype)\n",
    "    phaseset[...] = phase_array\n",
    "if 'mag_ratio_array' not in file_grp.keys():\n",
    "    ratioset = file_grp.create_dataset('/'.join([curr_slice,'mag_ratio_array']),mag_ratio_array.shape, mag_ratio_array.dtype)\n",
    "    ratioset[...] = mag_ratio_array\n",
    "if 'ratio_bootstrap_zscore' not in file_grp.keys():\n",
    "    bstrapset = file_grp.create_dataset('/'.join([curr_slice,'ratio_bootstrap_zscore']),zscore_bootstrap.shape, zscore_bootstrap.dtype)\n",
    "    bstrapset[...] = zscore_bootstrap\n",
    "if 'beta_array' not in file_grp.keys():\n",
    "    betaset = file_grp.create_dataset('/'.join([curr_slice,'beta_array']),beta_array.shape, beta_array.dtype)\n",
    "    betaset[...] = beta_array\n",
    "if 'var_exp_array' not in file_grp.keys():\n",
    "    varset = file_grp.create_dataset('/'.join([curr_slice,'var_exp_array']),varexp_array.shape, varexp_array.dtype)\n",
    "    varset[...] = varexp_array\n",
    "\n",
    "# Add fit signal to retino output:\n",
    "if 'signal_fit' not in file_grp.keys():\n",
    "    fitset = file_grp.create_dataset('/'.join([curr_slice,'signal_fit']), signal_fit.shape, signal_fit.dtype)\n",
    "    fitset[...] = signal_fit\n",
    "\n",
    "if 'masks' not in file_grp.keys():\n",
    "    mset = file_grp.create_dataset('/'.join([curr_slice,'masks']),mask_array.shape, mask_array.dtype)\n",
    "    mset[...] = mask_array\n",
    "file_grp.close()\n",
    "\n",
    "\n",
    "#VISUALIZE!!!\n",
    "print('Visualizing results')\n",
    "print('Output folder: %s'%(fig_out_dir))\n",
    "#visualize pixel-based result\n",
    "\n",
    "#make figure directory for stimulus type\n",
    "fig_dir = os.path.join(fig_out_dir, 'File%03d_%s' % (fid, curr_slice),'spectrum')\n",
    "if not os.path.exists(fig_dir):\n",
    "    os.makedirs(fig_dir)\n",
    "\n",
    "for midx in range(nrois):\n",
    "    fig_name = 'full_spectrum_mask%04d.png' %(midx)\n",
    "    fig=plt.figure()\n",
    "    plt.plot(freqs,mag_data[midx,:])\n",
    "    plt.xlabel('Frequency (Hz)',fontsize=16)\n",
    "    plt.ylabel('Magnitude',fontsize=16)\n",
    "    axes = plt.gca()\n",
    "    ymin, ymax = axes.get_ylim()\n",
    "    plt.axvline(x=freqs[freq_idx], ymin=ymin, ymax = ymax, linewidth=1, color='r')\n",
    "    plt.savefig(os.path.join(fig_dir,fig_name))\n",
    "    plt.close()\n",
    "\n",
    "for midx in range(nrois):\n",
    "    fig_name = 'zoom_spectrum_mask%04d.png' %(midx)\n",
    "    fig=plt.figure()\n",
    "    plt.plot(freqs[0:top_freq_idx],mag_data[midx,0:top_freq_idx])\n",
    "    plt.xlabel('Frequency (Hz)',fontsize=16)\n",
    "    plt.ylabel('Magnitude',fontsize=16)\n",
    "    axes = plt.gca()\n",
    "    ymin, ymax = axes.get_ylim()\n",
    "    plt.axvline(x=freqs[freq_idx], ymin=ymin, ymax = ymax, linewidth=1, color='r')\n",
    "    plt.savefig(os.path.join(fig_dir,fig_name))\n",
    "    plt.close()\n",
    "\n",
    "\n",
    "fig_dir = os.path.join(fig_out_dir, 'File%03d_%s' % (fid, curr_slice),'timecourse')\n",
    "if not os.path.exists(fig_dir):\n",
    "    os.makedirs(fig_dir)"
   ]
  },
  {
   "cell_type": "code",
   "execution_count": 19,
   "metadata": {},
   "outputs": [],
   "source": [
    "stimperiod_t=np.true_divide(1,stimfreq)\n",
    "stimperiod_frames=stimperiod_t*frame_rate\n",
    "periodstartframes=np.round(np.arange(0,len(frametimes),stimperiod_frames))[:]\n",
    "periodstartframes = periodstartframes.astype('int')"
   ]
  },
  {
   "cell_type": "code",
   "execution_count": 15,
   "metadata": {},
   "outputs": [
    {
     "data": {
      "text/plain": [
       "343.48307692307691"
      ]
     },
     "execution_count": 15,
     "metadata": {},
     "output_type": "execute_result"
    }
   ],
   "source": [
    "stimperiod_frames"
   ]
  },
  {
   "cell_type": "code",
   "execution_count": 16,
   "metadata": {},
   "outputs": [
    {
     "data": {
      "text/plain": [
       "4121"
      ]
     },
     "execution_count": 16,
     "metadata": {},
     "output_type": "execute_result"
    }
   ],
   "source": [
    "len(frametimes)"
   ]
  },
  {
   "cell_type": "code",
   "execution_count": 17,
   "metadata": {},
   "outputs": [
    {
     "data": {
      "text/plain": [
       "12.000582411182295"
      ]
     },
     "execution_count": 17,
     "metadata": {},
     "output_type": "execute_result"
    }
   ],
   "source": [
    "4121/343.4"
   ]
  },
  {
   "cell_type": "code",
   "execution_count": 20,
   "metadata": {},
   "outputs": [
    {
     "data": {
      "text/plain": [
       "12"
      ]
     },
     "execution_count": 20,
     "metadata": {},
     "output_type": "execute_result"
    }
   ],
   "source": [
    "len(periodstartframes)"
   ]
  },
  {
   "cell_type": "code",
   "execution_count": 7,
   "metadata": {},
   "outputs": [
    {
     "name": "stdout",
     "output_type": "stream",
     "text": [
      "/n/coxfs01/2p-data/JC105/20190828/FOV1_zoom4p0x/retino_run1/traces/traces101_s2p/files/File001_rawtraces_s2p.hdf5\n",
      "Getting fft....\n",
      "Analyzing phase and magnitude....\n",
      "Doing regression\n",
      "Saving data to file\n",
      "Visualizing results\n",
      "Output folder: /n/coxfs01/2p-data/JC105/20190828/FOV1_zoom4p0x/retino_run1/traces/traces101_s2p/retino_analysis/figures/left\n"
     ]
    }
   ],
   "source": [
    "for midx in range(nrois):\n",
    "    fig_name = 'timecourse_fit_mask%04d.png' %(midx)\n",
    "    fig=plt.figure()\n",
    "    plt.plot(frametimes,roi_trace[midx,:],'b')\n",
    "    plt.plot(frametimes,signal_fit[midx,:],'r')\n",
    "    plt.xlabel('Time (s)',fontsize=16)\n",
    "    plt.ylabel('Pixel Value',fontsize=16)\n",
    "    axes = plt.gca()\n",
    "    ymin, ymax = axes.get_ylim()\n",
    "    for f in periodstartframes:\n",
    "            plt.axvline(x=frametimes[f], ymin=ymin, ymax = ymax, linewidth=1, color='k')\n",
    "    axes.set_xlim([frametimes[0],frametimes[-1]])\n",
    "    plt.savefig(os.path.join(fig_dir,fig_name))\n",
    "    plt.close()"
   ]
  },
  {
   "cell_type": "code",
   "execution_count": 21,
   "metadata": {},
   "outputs": [
    {
     "data": {
      "text/plain": [
       "(0.0, 92.263086099999995)"
      ]
     },
     "execution_count": 21,
     "metadata": {},
     "output_type": "execute_result"
    },
    {
     "data": {
      "image/png": "[encoded data removed]",
      "text/plain": [
       "<matplotlib.figure.Figure at 0x7fbe6609ce50>"
      ]
     },
     "metadata": {},
     "output_type": "display_data"
    }
   ],
   "source": [
    "midx = 0 \n",
    "\n",
    "fig=plt.figure()\n",
    "plt.plot(frametimes,roi_trace[midx,:],'b')\n",
    "plt.plot(frametimes,signal_fit[midx,:],'r')\n",
    "plt.xlabel('Time (s)',fontsize=16)\n",
    "plt.ylabel('Pixel Value',fontsize=16)\n",
    "axes = plt.gca()\n",
    "ymin, ymax = axes.get_ylim()\n",
    "for f in periodstartframes:\n",
    "        plt.axvline(x=frametimes[f], linewidth=1, color='k')\n",
    "axes.set_xlim([frametimes[0],frametimes[-1]])"
   ]
  },
  {
   "cell_type": "code",
   "execution_count": 10,
   "metadata": {},
   "outputs": [
    {
     "data": {
      "text/plain": [
       "array([   0,  343,  687, 1030, 1374, 1717, 2061, 2404, 2748, 3091, 3435])"
      ]
     },
     "execution_count": 10,
     "metadata": {},
     "output_type": "execute_result"
    }
   ],
   "source": [
    "periodstartframes"
   ]
  },
  {
   "cell_type": "code",
   "execution_count": 12,
   "metadata": {},
   "outputs": [
    {
     "data": {
      "text/plain": [
       "11"
      ]
     },
     "execution_count": 12,
     "metadata": {},
     "output_type": "execute_result"
    }
   ],
   "source": [
    "len(periodstartframes)"
   ]
  },
  {
   "cell_type": "code",
   "execution_count": null,
   "metadata": {
    "collapsed": true
   },
   "outputs": [],
   "source": []
  },
  {
   "cell_type": "code",
   "execution_count": 22,
   "metadata": {
    "collapsed": true
   },
   "outputs": [],
   "source": [
    "# #Read in average image (for viuslization)\n",
    "masks_fn = os.path.join(file_out_dir,'masks.hdf5')\n",
    "mask_file = h5py.File(masks_fn, 'r')\n",
    "\n",
    "im0 = np.array(mask_file[curr_slice]['meanImg'])\n",
    "mask_file.close()\n",
    "szx,szy = im0.shape\n",
    "\n",
    "\n",
    "\n",
    "im1 = np.uint8(np.true_divide(im0,np.max(im0))*255)\n",
    "im2 = np.dstack((im1,im1,im1))\n",
    "\n",
    "#set phase map range for visualization\n",
    "phase_array_disp=np.copy(phase_array)\n",
    "phase_array_disp[phase_array<0]=-phase_array[phase_array<0]\n",
    "phase_array_disp[phase_array>0]=(2*np.pi)-phase_array[phase_array>0]\n",
    "\n",
    "\n",
    "\n",
    "#mark rois\n",
    "magratio_roi = np.empty((szy,szx))\n",
    "magratio_roi[:] = np.NAN\n",
    "\n",
    "mag_roi = np.copy(magratio_roi)\n",
    "varexp_roi = np.copy(magratio_roi)\n",
    "phase_roi = np.copy(magratio_roi)\n",
    "\n",
    "for midx in range(nrois):\n",
    "    if iscell[midx]:\n",
    "        maskpix = np.where(np.squeeze(mask_array[midx,:,:]))\n",
    "        #print(len(maskpix))\n",
    "        magratio_roi[maskpix]=mag_ratio_array[midx]\n",
    "        mag_roi[maskpix]=mag_array[midx]\n",
    "        varexp_roi[maskpix]=varexp_array[midx]\n",
    "        phase_roi[maskpix]=phase_array_disp[midx]\n",
    "\n",
    "fig_dir = fig_out_dir\n",
    "data_str = 'File%03d_%s'%(fid,curr_slice)\n",
    "\n",
    "sns.set_style(\"darkgrid\", {'axes.grid' : True})\n",
    "\n",
    "fig_name = 'phase_mag_ratio_joint_%s.png' % data_str \n",
    "p = sns.jointplot(phase_array_disp,mag_ratio_array,xlim = (0,2*np.pi))\n",
    "p.ax_joint.legend_.remove()\n",
    "p.set_axis_labels(xlabel='Phase', ylabel='Mag Ratio',fontsize = 15)\n",
    "p.savefig(os.path.join(fig_dir,fig_name))\n",
    "plt.close()"
   ]
  },
  {
   "cell_type": "code",
   "execution_count": 24,
   "metadata": {},
   "outputs": [
    {
     "data": {
      "text/plain": [
       "<seaborn.axisgrid.JointGrid at 0x7fbe65e05b10>"
      ]
     },
     "execution_count": 24,
     "metadata": {},
     "output_type": "execute_result"
    },
    {
     "data": {
      "image/png": "[encoded data removed]",
      "text/plain": [
       "<matplotlib.figure.Figure at 0x7fbe65e05890>"
      ]
     },
     "metadata": {},
     "output_type": "display_data"
    }
   ],
   "source": [
    "p = sns.jointplot(phase_array_disp,mag_ratio_array,xlim = (0,2*np.pi))\n",
    "p.ax_joint.legend_.remove()\n",
    "p.set_axis_labels(xlabel='Phase', ylabel='Mag Ratio',fontsize = 15)"
   ]
  },
  {
   "cell_type": "code",
   "execution_count": null,
   "metadata": {
    "collapsed": true
   },
   "outputs": [],
   "source": [
    "sns.set_style(\"whitegrid\", {'axes.grid' : False})\n",
    "\n",
    "\n",
    "fig_name = 'phase_info_%s.png' % data_str \n",
    "fig=plt.figure()\n",
    "plt.imshow(im2,'gray')\n",
    "plt.imshow(phase_roi,'nipy_spectral',alpha = 0.5,vmin=0,vmax=2*np.pi)\n",
    "plt.colorbar()\n",
    "plt.savefig(os.path.join(fig_dir,fig_name))\n",
    "plt.close()\n",
    "\n",
    "\n",
    "fig_name = 'mag_info_%s.png' % data_str \n",
    "fig=plt.figure()\n",
    "plt.imshow(im2,'gray')\n",
    "plt.imshow(mag_roi, alpha = 0.5)\n",
    "plt.colorbar()\n",
    "plt.savefig(os.path.join(fig_dir,fig_name))\n",
    "plt.close()\n",
    "\n",
    "fig_name = 'mag_ratio_info_%s.png' % data_str \n",
    "fig=plt.figure()\n",
    "plt.imshow(im2,'gray')\n",
    "plt.imshow(magratio_roi, alpha = 0.5)\n",
    "plt.colorbar()\n",
    "plt.savefig(os.path.join(fig_dir,fig_name))\n",
    "plt.close()\n",
    "\n",
    "fig_name = 'varexp_info_%s.png' % data_str \n",
    "fig=plt.figure()\n",
    "plt.imshow(im2,'gray')\n",
    "plt.imshow(varexp_roi, alpha = 0.5)\n",
    "plt.colorbar()\n",
    "plt.savefig(os.path.join(fig_dir,fig_name))\n",
    "plt.close()\n",
    "\n",
    "fig_name = 'phase_nice_%s.png' % data_str #curr_file #(tiff_fn[:-4])\n",
    "dpi = 80\n",
    "szY,szX = im1.shape\n",
    "# What size does the figure need to be in inches to fit the image?\n",
    "figsize = szX / float(dpi), szY / float(dpi)\n",
    "# Create a figure of the right size with one axes that takes up the full figure\n",
    "fig = plt.figure(figsize=figsize)\n",
    "ax = fig.add_axes([0, 0, 1, 1])\n",
    "# Hide spines, ticks, etc.\n",
    "ax.axis('off')\n",
    "ax.imshow(im2,'gray')\n",
    "ax.imshow(phase_roi,'nipy_spectral',alpha = 0.5,vmin=0,vmax=2*np.pi)\n",
    "fig.savefig(os.path.join(fig_dir,fig_name), dpi=dpi, transparent=True)\n",
    "plt.close()"
   ]
  },
  {
   "cell_type": "code",
   "execution_count": null,
   "metadata": {
    "collapsed": true
   },
   "outputs": [],
   "source": [
    "\n"
   ]
  }
 ],
 "metadata": {
  "kernelspec": {
   "display_name": "Python 2",
   "language": "python",
   "name": "python2"
  },
  "language_info": {
   "codemirror_mode": {
    "name": "ipython",
    "version": 2
   },
   "file_extension": ".py",
   "mimetype": "text/x-python",
   "name": "python",
   "nbconvert_exporter": "python",
   "pygments_lexer": "ipython2",
   "version": "2.7.13"
  }
 },
 "nbformat": 4,
 "nbformat_minor": 2
}
