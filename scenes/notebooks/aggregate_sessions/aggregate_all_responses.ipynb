{
 "cells": [
  {
   "cell_type": "code",
   "execution_count": 1,
   "metadata": {},
   "outputs": [],
   "source": [
    "import h5py\n",
    "import os\n",
    "import glob\n",
    "import shutil\n",
    "\n",
    "def findOccurrences(s, ch):\n",
    "    return [i for i, letter in enumerate(s) if letter == ch]"
   ]
  },
  {
   "cell_type": "code",
   "execution_count": 2,
   "metadata": {},
   "outputs": [],
   "source": [
    "class struct: pass\n",
    "opts = struct()\n",
    "opts = struct()\n",
    "opts.rootdir = '/n/coxfs01/2p-data'\n",
    "opts.acquisition = 'FOV1_zoom4p0x'\n",
    "opts.traceid = 'traces101'\n",
    "opts.combined_run = 'scenes_combined'\n",
    "dst_root = '/n/coxfs01/cechavarria/2p-aggregate/scenes'\n",
    "traceid = '%s_s2p'%(opts.traceid)\n"
   ]
  },
  {
   "cell_type": "code",
   "execution_count": 12,
   "metadata": {},
   "outputs": [],
   "source": [
    "\n",
    "# sess_list = ['JC097_20190621','JC085_20190624','JC097_20190628','JC097_20190704','JC085_20190712']\n",
    "# area = 'V1'\n",
    "\n",
    "\n",
    "sess_list = ['JC080_20190619','JC091_20190621','JC091_20190628','JC097_20190702','JC091_20190703','JC097_20190708']\n",
    "area = 'LM'\n",
    "\n",
    "# sess_list = ['JC091_20190625','JC091_20190701','JC091_20190705']\n",
    "# area = 'LI'"
   ]
  },
  {
   "cell_type": "code",
   "execution_count": 13,
   "metadata": {},
   "outputs": [
    {
     "name": "stdout",
     "output_type": "stream",
     "text": [
      "JC080_20190619\n",
      "JC091_20190621\n",
      "JC091_20190628\n",
      "JC097_20190702\n",
      "JC091_20190703\n",
      "JC097_20190708\n"
     ]
    }
   ],
   "source": [
    "for sess in sess_list:\n",
    "# sessidx = 0\n",
    "# sess = sess_list[0]\n",
    "    print(sess)\n",
    "\n",
    "    i1 = findOccurrences(sess,'_')[0]\n",
    "\n",
    "    opts.animalid = sess[0:i1]\n",
    "    opts.session = sess[i1+1:]\n",
    "\n",
    "\n",
    "    #% Set up source paths:    \n",
    "    acquisition_dir = os.path.join(opts.rootdir, opts.animalid, opts.session, opts.acquisition)\n",
    "    responses_dir = os.path.join(acquisition_dir, opts.combined_run,'responses',traceid)\n",
    "    data_array_dir = os.path.join(responses_dir, 'data_arrays')\n",
    "\n",
    "    data_array_fn = 'trial_response_array.hdf5'\n",
    "    source_filepath = os.path.join(data_array_dir, data_array_fn)\n",
    "    \n",
    "\n",
    "    #Set up dst paths:\n",
    "    dst_dir = os.path.join(dst_root,area,'files','trial_responses')\n",
    "    if not os.path.isdir(dst_dir):\n",
    "        os.makedirs(dst_dir)\n",
    "    data_array_fn = '%s_trial_response_array.hdf5'%(sess)\n",
    "    dst_filepath = os.path.join(dst_dir,data_array_fn)\n",
    "\n",
    "    shutil.copy(source_filepath, dst_filepath)"
   ]
  },
  {
   "cell_type": "code",
   "execution_count": null,
   "metadata": {},
   "outputs": [],
   "source": []
  }
 ],
 "metadata": {
  "kernelspec": {
   "display_name": "Python 3",
   "language": "python",
   "name": "python3"
  },
  "language_info": {
   "codemirror_mode": {
    "name": "ipython",
    "version": 3
   },
   "file_extension": ".py",
   "mimetype": "text/x-python",
   "name": "python",
   "nbconvert_exporter": "python",
   "pygments_lexer": "ipython3",
   "version": "3.6.8"
  }
 },
 "nbformat": 4,
 "nbformat_minor": 2
}
