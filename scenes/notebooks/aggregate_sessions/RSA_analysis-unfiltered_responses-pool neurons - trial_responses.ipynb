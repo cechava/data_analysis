{
 "cells": [
  {
   "cell_type": "code",
   "execution_count": 1,
   "metadata": {},
   "outputs": [],
   "source": [
    "import h5py\n",
    "%matplotlib inline\n",
    "import seaborn as sns; sns.set()\n",
    "import matplotlib.pyplot as plt\n",
    "import matplotlib.patches as patches\n",
    "import sys\n",
    "import shutil\n",
    "import glob\n",
    "import optparse\n",
    "import os\n",
    "import json\n",
    "import pandas as pd\n",
    "import numpy as np\n",
    "import pylab as pl\n",
    "import scipy.stats as stats\n",
    "import seaborn as sns\n",
    "sns.set_style(\"ticks\")\n",
    "sns.set()\n",
    "sns.set_color_codes()\n",
    "\n",
    "def findOccurrences(s, ch):\n",
    "    return [i for i, letter in enumerate(s) if letter == ch]\n",
    "\n",
    "def normalize_across_rows(in_array):\n",
    "\n",
    "    min_val = np.min(in_array,0)\n",
    "    max_val = np.max(in_array,0)\n",
    "\n",
    "    min_mat = np.tile(min_val,(in_array.shape[0],1))\n",
    "    max_mat = np.tile(max_val,(in_array.shape[0],1))\n",
    "    range_mat = max_mat - min_mat\n",
    "\n",
    "    out_array = np.true_divide(in_array-min_mat,range_mat)\n",
    "\n",
    "    out_array[np.isnan(out_array)] = 0\n",
    "    \n",
    "    return out_array\n",
    "\n",
    "def normalize_across_rows2(in_array):\n",
    "\n",
    "    min_val = np.min(in_array,0)\n",
    "    max_val = np.max(in_array,0)\n",
    "\n",
    "    min_mat = np.tile(min_val,(in_array.shape[0],1))\n",
    "    max_mat = np.tile(max_val,(in_array.shape[0],1))\n",
    "    range_mat = max_mat - min_mat\n",
    "\n",
    "    out_array = np.true_divide(in_array,max_mat)\n",
    "\n",
    "    out_array[np.isnan(out_array)] = 0\n",
    "    \n",
    "    return out_array\n",
    "\n",
    "def get_upper_triangle_values(in_array):\n",
    "    mask = np.ones(in_array.shape)\n",
    "    tmp = np.tril(mask,0)\n",
    "    out_val = in_array[np.where(tmp==0)]\n",
    "    \n",
    "    return out_val\n",
    "\n",
    "def shuffle_and_split_cells(response_array):\n",
    "    ncells = response_array.shape[1]\n",
    "    shuffled_cell_idxs = np.random.permutation(ncells)\n",
    "    \n",
    "    shuffled_half1 = shuffled_cell_idxs[0:ncells:2]\n",
    "    shuffled_half2 = shuffled_cell_idxs[1:ncells:2]\n",
    "    response_array_half1 = response_array[:,shuffled_half1]\n",
    "    response_array_half2 = response_array[:,shuffled_half2]\n",
    "    \n",
    "    return response_array_half1, response_array_half2\n",
    "def correlate_split_half_RDM(half1_array,half2_array):\n",
    "    R_all_half1 = np.corrcoef(half1_array)\n",
    "    R_all_half2 = np.corrcoef(half2_array)\n",
    "\n",
    "    all_half1_values = get_upper_triangle_values(R_all_half1)\n",
    "    all_half2_values = get_upper_triangle_values(R_all_half2)\n",
    "    \n",
    "    R = np.corrcoef(all_half1_values,all_half2_values)\n",
    "    \n",
    "    return R[0,1]\n",
    "    "
   ]
  },
  {
   "cell_type": "code",
   "execution_count": 2,
   "metadata": {},
   "outputs": [
    {
     "name": "stdout",
     "output_type": "stream",
     "text": [
      "df_f\n"
     ]
    }
   ],
   "source": [
    "\n",
    "\n",
    "dset_list = ['V1_JC085_20190624','V1_JC085_20190712','V1_JC097_20190621','V1_JC097_20190628',\\\n",
    "             'V1_JC097_20190704',\\\n",
    "             'LM_JC080_20190619','LM_JC091_20190621','LM_JC091_20190703','LM_JC091_20190628',\\\n",
    "             'LM_JC097_20190702','LM_JC097_20190708',\\\n",
    "             'LI_JC091_20190625','LI_JC091_20190701','LI_JC091_20190705'\n",
    "            ]\n",
    "\n",
    "\n",
    "response_type = 'df_f'\n",
    "\n",
    "#to figure out responsive cells\n",
    "filter_crit = 'zscore'\n",
    "filter_thresh = 1\n",
    "\n",
    "#define paths\n",
    "aggregate_root = '/n/coxfs01/cechavarria/2p-aggregate/scenes'\n",
    "fig_base_dir = os.path.join(aggregate_root,'RSA_pooled','figures','thresh_%s_%i'%(filter_crit,filter_thresh))\n",
    "\n",
    "\n",
    "\n",
    "if 'norm' in response_type:\n",
    "    i1 = findOccurrences(response_type,'_')[-1]\n",
    "    fetch_data = response_type[i1+1:]\n",
    "else:\n",
    "    fetch_data = response_type\n",
    "print(fetch_data)\n"
   ]
  },
  {
   "cell_type": "code",
   "execution_count": 3,
   "metadata": {},
   "outputs": [
    {
     "name": "stdout",
     "output_type": "stream",
     "text": [
      "V1_JC085_20190624\n",
      "# active rois = 13\n",
      "frac active rois = 0.0935\n",
      "V1_JC085_20190712\n",
      "# active rois = 14\n",
      "frac active rois = 0.1129\n",
      "V1_JC097_20190621\n",
      "# active rois = 18\n",
      "frac active rois = 0.1333\n",
      "V1_JC097_20190628\n",
      "# active rois = 22\n",
      "frac active rois = 0.1583\n",
      "V1_JC097_20190704\n",
      "# active rois = 22\n",
      "frac active rois = 0.1849\n",
      "LM_JC080_20190619\n",
      "# active rois = 7\n",
      "frac active rois = 0.0449\n",
      "LM_JC091_20190621\n",
      "# active rois = 11\n",
      "frac active rois = 0.0815\n",
      "LM_JC091_20190703\n",
      "# active rois = 11\n",
      "frac active rois = 0.0821\n",
      "LM_JC091_20190628\n",
      "# active rois = 7\n",
      "frac active rois = 0.0667\n",
      "LM_JC097_20190702\n",
      "# active rois = 12\n",
      "frac active rois = 0.0896\n",
      "LM_JC097_20190708\n",
      "# active rois = 10\n",
      "frac active rois = 0.0909\n",
      "LI_JC091_20190625\n",
      "# active rois = 22\n",
      "frac active rois = 0.1477\n",
      "LI_JC091_20190701\n",
      "# active rois = 1\n",
      "frac active rois = 0.0077\n",
      "LI_JC091_20190705\n",
      "# active rois = 9\n",
      "frac active rois = 0.0968\n"
     ]
    }
   ],
   "source": [
    "#get responses\n",
    "\n",
    "\n",
    "area_list = ['V1','LM','LI']\n",
    "animalid_list = []\n",
    "sess_count = []\n",
    "areaid = np.zeros((len(dset_list,)))\n",
    "animalid = np.zeros((len(dset_list,)))\n",
    "sessid = np.zeros((len(dset_list,)))\n",
    "\n",
    "#consider all cells\n",
    "V1_response_all = []\n",
    "LM_response_all = []\n",
    "LI_response_all = []\n",
    "\n",
    "#consider only responsive cells\n",
    "V1_response_active = []\n",
    "LM_response_active = []\n",
    "LI_response_active = []\n",
    "\n",
    "#arrays for split-half data\n",
    "#consider all cells\n",
    "V1_response_all_half1 = []\n",
    "LM_response_all_half1 = []\n",
    "LI_response_all_half1 = []\n",
    "V1_response_all_half2 = []\n",
    "LM_response_all_half2 = []\n",
    "LI_response_all_half2 = []\n",
    "\n",
    "#consider only responsive cells\n",
    "V1_response_active_half1 = []\n",
    "LM_response_active_half1 = []\n",
    "LI_response_active_half1 = []\n",
    "V1_response_active_half2 = []\n",
    "LM_response_active_half2 = []\n",
    "LI_response_active_half2 = []\n",
    "\n",
    "\n",
    "\n",
    "for dset_idx, dset in enumerate(dset_list):\n",
    "    print(dset)\n",
    "#     dset_idx = 0\n",
    "#     dset = dset_list[dset_idx]\n",
    "\n",
    "    #figure out some indexes\n",
    "    i0 = findOccurrences(dset,'_')[0]\n",
    "    i1 = findOccurrences(dset,'_')[1]\n",
    "\n",
    "    area = dset[0:i0]\n",
    "    animal = dset[i0+1:i1]\n",
    "    session = dset[i1+1:]\n",
    "\n",
    "    if animal not in animalid_list:\n",
    "        animalid_list.append(animal)\n",
    "        sess_count.append(0)\n",
    "\n",
    "    sess_count[animalid_list.index(animal)] = sess_count[animalid_list.index(animal)]+1\n",
    "\n",
    "    areaid[dset_idx] = area_list.index(area)\n",
    "    animalid[dset_idx] = animalid_list.index(animal)\n",
    "    sessid[dset_idx] = sess_count[animalid_list.index(animal)]-1\n",
    "\n",
    "\n",
    "    #load data\n",
    "    aggregate_file_dir = os.path.join(aggregate_root,area,'files','trial_responses')\n",
    "    data_array_fn = '%s_%s_trial_response_array.hdf5'%(animal, session)\n",
    "    data_array_filepath = os.path.join(aggregate_file_dir, data_array_fn)\n",
    "    data_grp = h5py.File(data_array_filepath, 'r')\n",
    "\n",
    "    cell_rois = data_grp.attrs['s2p_cell_rois']\n",
    "\n",
    "    curr_slice = 'Slice01'#hard,coding for now\n",
    "\n",
    "    #unpack\n",
    "    response_matrix = np.array(data_grp['/'.join([curr_slice, 'responses' ,fetch_data])])\n",
    "\n",
    "    filter_crit_matrix_trials = np.array(data_grp['/'.join([curr_slice, 'responses' ,filter_crit])])\n",
    "    \n",
    "    \n",
    "    if filter_crit == 'zscore':\n",
    "        filter_crit_matrix_trials = filter_crit_matrix_trials[:,:,cell_rois]\n",
    "        filter_crit_matrix_mean = np.squeeze(np.mean(filter_crit_matrix_trials,0))\n",
    "    elif filter_crit == 'simple_pval' or filter_crit == 'paired_pval' or filter_crit == 'perm_p' or 'stat' in filter_crit:\n",
    "        filter_crit_matrix_mean = filter_crit_matrix_trials[:,cell_rois]\n",
    "    elif filter_crit == 'split_half_R':\n",
    "        filter_crit_matrix_mean = filter_crit_matrix_trials[cell_rois]\n",
    "        \n",
    "    #considering only cell rois\n",
    "    response_matrix = response_matrix[:,:,cell_rois]\n",
    "    ntrials,nconfigs,nrois = response_matrix.shape\n",
    "\n",
    "    data_grp.close()\n",
    "\n",
    "    #avg over trials\n",
    "    mean_response_matrix = np.mean(response_matrix,0)\n",
    "    #split data into half by selecting odd or even trials\n",
    "    mean_response_matrix_half1 = np.mean(response_matrix[0:ntrials:2,:,:],0)\n",
    "    mean_response_matrix_half2 = np.mean(response_matrix[1:ntrials:2,:,:],0)\n",
    "\n",
    "    #consider a config active if at least one of theversion of an image evoked a response above threshol\n",
    "    \n",
    "    if filter_crit == 'zscore' or 'tstat' in filter_crit:\n",
    "        thresh = filter_thresh\n",
    "        thresh_matrix = filter_crit_matrix_mean>thresh\n",
    "    elif filter_crit == 'simple_pval' or filter_crit == 'paired_pval' or filter_crit == 'perm_p':\n",
    "        thresh = filter_thresh\n",
    "        thresh_matrix = np.logical_and(filter_crit_matrix_mean<thresh,filter_crit_matrix_mean>0)\n",
    "    elif filter_crit == 'split_half_R':\n",
    "        thresh = filter_thresh\n",
    "        thresh_matrix= filter_crit_matrix_mean>thresh\n",
    "        thresh_matrix = np.expand_dims(thresh_matrix,0)\n",
    "        thresh_matrix = np.tile(thresh_matrix,(nconfigs,1))\n",
    "\n",
    "    filter_matrix = np.ones((thresh_matrix.shape))*np.nan\n",
    "    active_rois_per_config = np.nansum(thresh_matrix,1)\n",
    "    for ridx in range(nrois):\n",
    "        for idx in range(0,thresh_matrix.shape[0],3):\n",
    "                if np.sum(thresh_matrix[idx:idx+3,ridx])>0:\n",
    "                    filter_matrix[idx:idx+3,ridx] = 1\n",
    "\n",
    "    #figure out some activity details\n",
    "    active_cell_idx = np.nansum(filter_matrix,0)>0\n",
    "    num_active_rois = np.nansum(np.nansum(filter_matrix,0)>0)\n",
    "    frac_active_rois = num_active_rois/float(len(cell_rois))\n",
    "    print('# active rois = %i'%(num_active_rois))\n",
    "    print('frac active rois = %.04f'%(frac_active_rois))\n",
    "\n",
    "    #normalize across configs within cell, if necessary\n",
    "    if 'norm' in response_type:\n",
    "        norm_response_array = np.empty((nconfigs,nrois))\n",
    "\n",
    "        for ridx in range(nrois):\n",
    "            norm_response_array[:,ridx] = mean_response_matrix[:,ridx]/np.nanmax(mean_response_matrix[:,ridx])\n",
    "        mean_response_matrix = norm_response_array\n",
    "\n",
    "\n",
    "    #store average responses in array\n",
    "    dset_response = mean_response_matrix\n",
    "    dset_response_active = mean_response_matrix[:,active_cell_idx]\n",
    "    dset_response_half1 = mean_response_matrix_half1\n",
    "    dset_response_active_half1 = mean_response_matrix_half1[:,active_cell_idx]\n",
    "    dset_response_half2 = mean_response_matrix_half2\n",
    "    dset_response_active_half2 = mean_response_matrix_half2[:,active_cell_idx]\n",
    "\n",
    "\n",
    "\n",
    "    if area == 'V1':\n",
    "        if len(V1_response_active)==0:\n",
    "            V1_response_active = dset_response_active\n",
    "            V1_response_all = dset_response\n",
    "            V1_response_active_half1 = dset_response_active_half1\n",
    "            V1_response_all_half1 = dset_response_half1\n",
    "            V1_response_active_half2 = dset_response_active_half2\n",
    "            V1_response_all_half2 = dset_response_half2\n",
    "        else:\n",
    "            V1_response_active = np.hstack((V1_response_active, dset_response_active))\n",
    "            V1_response_all = np.hstack((V1_response_all, dset_response))\n",
    "            V1_response_active_half1 = np.hstack((V1_response_active_half1, dset_response_active_half1))\n",
    "            V1_response_all_half1 = np.hstack((V1_response_all_half1, dset_response_half1))\n",
    "            V1_response_active_half2 = np.hstack((V1_response_active_half2, dset_response_active_half2))\n",
    "            V1_response_all_half2 = np.hstack((V1_response_all_half2, dset_response_half2))\n",
    "    elif area == 'LM':\n",
    "        if len(LM_response_active)==0:\n",
    "            LM_response_active = dset_response_active\n",
    "            LM_response_all = dset_response\n",
    "            LM_response_active_half1 = dset_response_active_half1\n",
    "            LM_response_all_half1 = dset_response_half1\n",
    "            LM_response_active_half2 = dset_response_active_half2\n",
    "            LM_response_all_half2 = dset_response_half2\n",
    "        else:\n",
    "            LM_response_active = np.hstack((LM_response_active, dset_response_active))\n",
    "            LM_response_all = np.hstack((LM_response_all, dset_response))\n",
    "            LM_response_active_half1 = np.hstack((LM_response_active_half1, dset_response_active_half1))\n",
    "            LM_response_all_half1 = np.hstack((LM_response_all_half1, dset_response_half1))\n",
    "            LM_response_active_half2 = np.hstack((LM_response_active_half2, dset_response_active_half2))\n",
    "            LM_response_all_half2 = np.hstack((LM_response_all_half2, dset_response_half2))\n",
    "    elif area == 'LI':\n",
    "        if len(LI_response_active)==0:\n",
    "            LI_response_active = dset_response_active\n",
    "            LI_response_all = dset_response\n",
    "            LI_response_active_half1 = dset_response_active_half1\n",
    "            LI_response_all_half1 = dset_response_half1\n",
    "            LI_response_active_half2 = dset_response_active_half2\n",
    "            LI_response_all_half2 = dset_response_half2\n",
    "        else:\n",
    "            LI_response_active = np.hstack((LI_response_active, dset_response_active))\n",
    "            LI_response_all = np.hstack((LI_response_all, dset_response))\n",
    "            LI_response_active_half1 = np.hstack((LI_response_active_half1, dset_response_active_half1))\n",
    "            LI_response_all_half1 = np.hstack((LI_response_all_half1, dset_response_half1))\n",
    "            LI_response_active_half2 = np.hstack((LI_response_active_half2, dset_response_active_half2))\n",
    "            LI_response_all_half2 = np.hstack((LI_response_all_half2, dset_response_half2))"
   ]
  },
  {
   "cell_type": "code",
   "execution_count": 4,
   "metadata": {},
   "outputs": [],
   "source": [
    "#replace nans with 0's (found a single unit with a flat timecourse...weird but doesn't seem to be issue in post-2p handling of data)\n",
    "V1_response_active[np.isnan(V1_response_active)] = 0\n",
    "V1_response_all[np.isnan(V1_response_all)] = 0\n",
    "V1_response_active_half1[np.isnan(V1_response_active_half1)] = 0\n",
    "V1_response_all_half1[np.isnan(V1_response_all_half1)] = 0\n",
    "V1_response_active_half2[np.isnan(V1_response_active_half2)] = 0\n",
    "V1_response_all_half2[np.isnan(V1_response_all_half2)] = 0\n",
    "\n",
    "LM_response_active[np.isnan(LM_response_active)] = 0\n",
    "LM_response_all[np.isnan(LM_response_all)] = 0\n",
    "LM_response_active_half1[np.isnan(LM_response_active_half1)] = 0\n",
    "LM_response_all_half1[np.isnan(LM_response_all_half1)] = 0\n",
    "LM_response_active_half2[np.isnan(LM_response_active_half2)] = 0\n",
    "LM_response_all_half2[np.isnan(LM_response_all_half2)] = 0\n",
    "\n",
    "LI_response_active[np.isnan(LI_response_active)] = 0\n",
    "LI_response_all[np.isnan(LI_response_all)] = 0\n",
    "LI_response_active_half1[np.isnan(LI_response_active_half1)] = 0\n",
    "LI_response_all_half1[np.isnan(LI_response_all_half1)] = 0\n",
    "LI_response_active_half2[np.isnan(LI_response_active_half2)] = 0\n",
    "LI_response_all_half2[np.isnan(LI_response_all_half2)] = 0\n",
    "\n",
    "#zscore data across configs\n",
    "V1_response_all_zscore = stats.zscore(V1_response_all,0)\n",
    "V1_response_active_zscore = stats.zscore(V1_response_active,0)\n",
    "V1_response_all_half1_zscore = stats.zscore(V1_response_all_half1,0)\n",
    "V1_response_active_half1_zscore = stats.zscore(V1_response_active_half1,0)\n",
    "V1_response_all_half2_zscore = stats.zscore(V1_response_all_half2,0)\n",
    "V1_response_active_half2_zscore = stats.zscore(V1_response_active_half2,0)\n",
    "\n",
    "LM_response_all_zscore = stats.zscore(LM_response_all,0)\n",
    "LM_response_active_zscore = stats.zscore(LM_response_active,0)\n",
    "LM_response_all_half1_zscore = stats.zscore(LM_response_all_half1,0)\n",
    "LM_response_active_half1_zscore = stats.zscore(LM_response_active_half1,0)\n",
    "LM_response_all_half2_zscore = stats.zscore(LM_response_all_half2,0)\n",
    "LM_response_active_half2_zscore = stats.zscore(LM_response_active_half2,0)\n",
    "\n",
    "LI_response_all_zscore = stats.zscore(LI_response_all,0)\n",
    "LI_response_active_zscore = stats.zscore(LI_response_active,0)\n",
    "LI_response_all_half1_zscore = stats.zscore(LI_response_all_half1,0)\n",
    "LI_response_active_half1_zscore = stats.zscore(LI_response_active_half1,0)\n",
    "LI_response_all_half2_zscore = stats.zscore(LI_response_all_half2,0)\n",
    "LI_response_active_half2_zscore = stats.zscore(LI_response_active_half2,0)\n",
    "\n",
    "\n",
    "#replace nans with 0's\n",
    "V1_response_all_zscore[np.isnan(V1_response_all_zscore)] = 0\n",
    "V1_response_active_zscore[np.isnan(V1_response_active_zscore)] = 0\n",
    "V1_response_all_half1_zscore[np.isnan(V1_response_all_half1_zscore)] = 0\n",
    "V1_response_active_half1_zscore[np.isnan(V1_response_active_half1_zscore)] = 0\n",
    "V1_response_all_half2_zscore[np.isnan(V1_response_all_half2_zscore)] = 0\n",
    "V1_response_active_half2_zscore[np.isnan(V1_response_active_half2_zscore)] = 0\n",
    "\n",
    "LM_response_all_zscore[np.isnan(LM_response_all_zscore)] = 0\n",
    "LM_response_active_zscore[np.isnan(LM_response_active_zscore)] = 0\n",
    "LM_response_all_half1_zscore[np.isnan(LM_response_all_half1_zscore)] = 0\n",
    "LM_response_active_half1_zscore[np.isnan(LM_response_active_half1_zscore)] = 0\n",
    "LM_response_all_half2_zscore[np.isnan(LM_response_all_half2_zscore)] = 0\n",
    "LM_response_active_half2_zscore[np.isnan(LM_response_active_half2_zscore)] = 0\n",
    "\n",
    "LI_response_all_zscore[np.isnan(LI_response_all_zscore)] = 0\n",
    "LI_response_active_zscore[np.isnan(LI_response_active_zscore)] = 0\n",
    "\n",
    "LI_response_all_half1_zscore[np.isnan(LI_response_all_half1_zscore)] = 0\n",
    "LI_response_all_half1_zscore[np.isnan(LI_response_all_half1_zscore)] = 0\n",
    "\n",
    "LI_response_all_half2_zscore[np.isnan(LI_response_all_half2_zscore)] = 0\n",
    "LI_response_all_half2_zscore[np.isnan(LI_response_all_half2_zscore)] = 0"
   ]
  },
  {
   "cell_type": "code",
   "execution_count": 5,
   "metadata": {},
   "outputs": [],
   "source": [
    "selfR_V1_all_zscore = np.empty((nconfigs,))\n",
    "selfR_V1_active_zscore = np.empty((nconfigs,)) \n",
    "\n",
    "selfR_LM_all_zscore = np.empty((nconfigs,)) \n",
    "selfR_LM_active_zscore = np.empty((nconfigs,)) \n",
    "\n",
    "selfR_LI_all_zscore = np.empty((nconfigs,)) \n",
    "selfR_LI_active_zscore = np.empty((nconfigs,)) \n",
    "\n",
    "#check correlation between data-halves within each configuration\n",
    "for cfg_idx in range(nconfigs):\n",
    "    R_mat_V1_all = np.corrcoef(V1_response_all_half1_zscore[cfg_idx,:],V1_response_all_half2_zscore[cfg_idx,:])\n",
    "    R_mat_V1_active = np.corrcoef(V1_response_active_half1_zscore[cfg_idx,:],V1_response_active_half2_zscore[cfg_idx,:])\n",
    "\n",
    "    R_mat_LM_all = np.corrcoef(LM_response_all_half1_zscore[cfg_idx,:],LM_response_all_half2_zscore[cfg_idx,:])\n",
    "    R_mat_LM_active = np.corrcoef(LM_response_active_half1_zscore[cfg_idx,:],LM_response_active_half2_zscore[cfg_idx,:])\n",
    "\n",
    "    R_mat_LI_all = np.corrcoef(LI_response_all_half1_zscore[cfg_idx,:],LI_response_all_half2_zscore[cfg_idx,:])\n",
    "    R_mat_LI_active = np.corrcoef(LI_response_active_half1_zscore[cfg_idx,:],LI_response_active_half2_zscore[cfg_idx,:])\n",
    "\n",
    "    selfR_V1_all_zscore[cfg_idx] = R_mat_V1_all[0,1]\n",
    "    selfR_V1_active_zscore[cfg_idx] = R_mat_V1_active[0,1]\n",
    "\n",
    "    selfR_LM_all_zscore[cfg_idx] = R_mat_LM_all[0,1]\n",
    "    selfR_LM_active_zscore[cfg_idx] = R_mat_LM_active[0,1]\n",
    "\n",
    "    selfR_LI_all_zscore[cfg_idx] = R_mat_LI_all[0,1]\n",
    "    selfR_LI_active_zscore[cfg_idx] = R_mat_LI_active[0,1]\n",
    "\n",
    "#get correlations\n",
    "R_V1_all_zscore = np.corrcoef(V1_response_all_zscore)\n",
    "R_V1_active_zscore = np.corrcoef(V1_response_active_zscore)\n",
    "\n",
    "R_LM_all_zscore = np.corrcoef(LM_response_all_zscore)\n",
    "R_LM_active_zscore = np.corrcoef(LM_response_active_zscore)\n",
    "\n",
    "R_LI_all_zscore = np.corrcoef(LI_response_all_zscore)\n",
    "R_LI_active_zscore = np.corrcoef(LI_response_active_zscore)\n",
    "\n",
    "#replace diagional values\n",
    "for cfg_idx in range(nconfigs):\n",
    "    R_V1_all_zscore[cfg_idx,cfg_idx] = selfR_V1_all_zscore[cfg_idx]\n",
    "    R_V1_active_zscore[cfg_idx,cfg_idx] = selfR_V1_active_zscore[cfg_idx]\n",
    "    \n",
    "    R_LM_all_zscore[cfg_idx,cfg_idx] = selfR_LM_all_zscore[cfg_idx]\n",
    "    R_LM_active_zscore[cfg_idx,cfg_idx] = selfR_LM_active_zscore[cfg_idx]\n",
    "    \n",
    "    R_LI_all_zscore[cfg_idx,cfg_idx] = selfR_LI_all_zscore[cfg_idx]\n",
    "    R_LI_active_zscore[cfg_idx,cfg_idx] = selfR_LI_active_zscore[cfg_idx]\n",
    "\n",
    "#plot individual area correlation matrices\n",
    "fig_out_dir = os.path.join(fig_base_dir,'zscore_%s'%response_type)\n",
    "if not os.path.isdir(fig_out_dir):\n",
    "        os.makedirs(fig_out_dir)\n",
    "\n",
    "plt.figure(figsize=(12, 10))\n",
    "ax = sns.heatmap(R_V1_all_zscore,center = 0,annot=False, cmap = 'RdBu_r',vmin = -1, vmax = 1)\n",
    "\n",
    "\n",
    "ax.set_yticks(np.arange(1,61,3))\n",
    "ax.set_yticklabels(np.arange(1,21).tolist())\n",
    "ax.set_xticks(np.arange(1,61,3))\n",
    "ax.set_xticklabels(np.arange(1,21).tolist())\n",
    "\n",
    "fig_name = 'all_V1_zscore_pool_%s_RSA.png'%(response_type)\n",
    "fig_fn = os.path.join(fig_out_dir,fig_name)\n",
    "\n",
    "fig = ax.get_figure()\n",
    "fig.savefig(fig_fn) \n",
    "plt.close()\n",
    "\n",
    "plt.figure(figsize=(12, 10))\n",
    "ax = sns.heatmap(R_V1_active_zscore,center = 0,annot=False, cmap = 'RdBu_r',vmin = -1, vmax = 1)\n",
    "\n",
    "ax.set_yticks(np.arange(1,61,3))\n",
    "ax.set_yticklabels(np.arange(1,21).tolist())\n",
    "ax.set_xticks(np.arange(1,61,3))\n",
    "ax.set_xticklabels(np.arange(1,21).tolist())\n",
    "\n",
    "fig_name = 'active_V1_zscore_pool_%s_RSA.png'%(response_type)\n",
    "fig_fn = os.path.join(fig_out_dir,fig_name)\n",
    "\n",
    "fig = ax.get_figure()\n",
    "fig.savefig(fig_fn) \n",
    "plt.close()\n",
    "\n",
    "plt.figure(figsize=(12, 10))\n",
    "ax = sns.heatmap(R_LM_all_zscore,center = 0,annot=False, cmap = 'RdBu_r',vmin = -1, vmax = 1)\n",
    "\n",
    "ax.set_yticks(np.arange(1,61,3))\n",
    "ax.set_yticklabels(np.arange(1,21).tolist())\n",
    "ax.set_xticks(np.arange(1,61,3))\n",
    "ax.set_xticklabels(np.arange(1,21).tolist())\n",
    "\n",
    "fig_name = 'all_LM_zscore_pool_%s_RSA.png'%(response_type)\n",
    "fig_fn = os.path.join(fig_out_dir,fig_name)\n",
    "\n",
    "fig = ax.get_figure()\n",
    "fig.savefig(fig_fn) \n",
    "plt.close()\n",
    "\n",
    "plt.figure(figsize=(12, 10))\n",
    "ax = sns.heatmap(R_LM_active_zscore,center = 0,annot=False, cmap = 'RdBu_r',vmin = -1, vmax = 1)\n",
    "\n",
    "ax.set_yticks(np.arange(1,61,3))\n",
    "ax.set_yticklabels(np.arange(1,21).tolist())\n",
    "ax.set_xticks(np.arange(1,61,3))\n",
    "ax.set_xticklabels(np.arange(1,21).tolist())\n",
    "\n",
    "fig_name = 'active_LM_zscore_pool_%s_RSA.png'%(response_type)\n",
    "fig_fn = os.path.join(fig_out_dir,fig_name)\n",
    "\n",
    "fig = ax.get_figure()\n",
    "fig.savefig(fig_fn) \n",
    "plt.close()\n",
    "\n",
    "plt.figure(figsize=(12, 10))\n",
    "ax = sns.heatmap(R_LI_all_zscore,center = 0,annot=False, cmap = 'RdBu_r',vmin = -1, vmax = 1)\n",
    "\n",
    "ax.set_yticks(np.arange(1,61,3))\n",
    "ax.set_yticklabels(np.arange(1,21).tolist())\n",
    "ax.set_xticks(np.arange(1,61,3))\n",
    "ax.set_xticklabels(np.arange(1,21).tolist())\n",
    "\n",
    "fig_name = 'all_LI_zscore_pool_%s_RSA.png'%(response_type)\n",
    "fig_fn = os.path.join(fig_out_dir,fig_name)\n",
    "\n",
    "fig = ax.get_figure()\n",
    "fig.savefig(fig_fn) \n",
    "plt.close()\n",
    "\n",
    "plt.figure(figsize=(12, 10))\n",
    "ax = sns.heatmap(R_LI_active_zscore,center = 0,annot=False, cmap = 'RdBu_r',vmin = -1, vmax = 1)\n",
    "\n",
    "ax.set_yticks(np.arange(1,61,3))\n",
    "ax.set_yticklabels(np.arange(1,21).tolist())\n",
    "ax.set_xticks(np.arange(1,61,3))\n",
    "ax.set_xticklabels(np.arange(1,21).tolist())\n",
    "\n",
    "fig_name = 'active_LI_zscore_pool_%s_RSA.png'%(response_type)\n",
    "fig_fn = os.path.join(fig_out_dir,fig_name)\n",
    "\n",
    "fig = ax.get_figure()\n",
    "fig.savefig(fig_fn) \n",
    "plt.close()"
   ]
  },
  {
   "cell_type": "code",
   "execution_count": 6,
   "metadata": {},
   "outputs": [],
   "source": [
    "#get within_area correlation values\n",
    "nreps = 100\n",
    "\n",
    "Rself_V1_all_array = np.empty((nreps,))\n",
    "Rself_V1_active_array = np.empty((nreps,))\n",
    "\n",
    "Rself_LM_all_array = np.empty((nreps,))\n",
    "Rself_LM_active_array = np.empty((nreps,))\n",
    "\n",
    "Rself_LI_all_array = np.empty((nreps,))\n",
    "Rself_LI_active_array = np.empty((nreps,))\n",
    "\n",
    "\n",
    "for rep in range(nreps):\n",
    "\n",
    "    V1_all_zscore_half1, V1_all_zscore_half2 = shuffle_and_split_cells(V1_response_all_zscore)\n",
    "    V1_active_zscore_half1, V1_active_zscore_half2 = shuffle_and_split_cells(V1_response_active_zscore)\n",
    "\n",
    "    LM_all_zscore_half1, LM_all_zscore_half2 = shuffle_and_split_cells(LM_response_all_zscore)\n",
    "    LM_active_zscore_half1, LM_active_zscore_half2 = shuffle_and_split_cells(LM_response_active_zscore)\n",
    "\n",
    "    LI_all_zscore_half1, LI_all_zscore_half2 = shuffle_and_split_cells(LI_response_all_zscore)\n",
    "    LI_active_zscore_half1, LI_active_zscore_half2 = shuffle_and_split_cells(LI_response_active_zscore)\n",
    "\n",
    "\n",
    "\n",
    "    Rself_V1_all_array[rep] = correlate_split_half_RDM(V1_all_zscore_half1,V1_all_zscore_half2)\n",
    "    Rself_V1_active_array[rep] = correlate_split_half_RDM(V1_active_zscore_half1,V1_active_zscore_half2)\n",
    "\n",
    "    Rself_LM_all_array[rep] = correlate_split_half_RDM(LM_all_zscore_half1,LM_all_zscore_half2)\n",
    "    Rself_LM_active_array[rep] = correlate_split_half_RDM(LM_active_zscore_half1,LM_active_zscore_half2)\n",
    "\n",
    "    Rself_LI_all_array[rep] = correlate_split_half_RDM(LI_all_zscore_half1,LI_all_zscore_half2)\n",
    "    Rself_LI_active_array[rep] = correlate_split_half_RDM(LI_active_zscore_half1,LI_active_zscore_half2)\n",
    "\n",
    "\n",
    "\n",
    "    Rself_V1_all_array[rep] = correlate_split_half_RDM(V1_all_zscore_half1,V1_all_zscore_half2)\n",
    "    Rself_V1_active_array[rep] = correlate_split_half_RDM(V1_active_zscore_half1,V1_active_zscore_half2)\n",
    "\n",
    "    Rself_LM_all_array[rep] = correlate_split_half_RDM(LM_all_zscore_half1,LM_all_zscore_half2)\n",
    "    Rself_LM_active_array[rep] = correlate_split_half_RDM(LM_active_zscore_half1,LM_active_zscore_half2)\n",
    "\n",
    "    Rself_LI_all_array[rep] = correlate_split_half_RDM(LI_all_zscore_half1,LI_all_zscore_half2)\n",
    "    Rself_LI_active_array[rep] = correlate_split_half_RDM(LI_active_zscore_half1,LI_active_zscore_half2)\n",
    "\n",
    "Rself_V1_all_zscore = np.mean(Rself_V1_all_array)\n",
    "Rself_V1_active_zscore = np.mean(Rself_V1_active_array)\n",
    "Rself_LM_all_zscore = np.mean(Rself_LM_all_array)\n",
    "Rself_LM_active_zscore = np.mean(Rself_LM_active_array)\n",
    "Rself_LI_all_zscore = np.mean(Rself_LI_all_array)\n",
    "Rself_LI_active_zscore = np.mean(Rself_LI_active_array)"
   ]
  },
  {
   "cell_type": "code",
   "execution_count": 7,
   "metadata": {},
   "outputs": [],
   "source": [
    "#get cross-area correlation values\n",
    "R_V1_all_zscore_val = get_upper_triangle_values(R_V1_all_zscore)\n",
    "R_LM_all_zscore_val = get_upper_triangle_values(R_LM_all_zscore)\n",
    "R_LI_all_zscore_val = get_upper_triangle_values(R_LI_all_zscore)\n",
    "\n",
    "R_V1_active_zscore_val = get_upper_triangle_values(R_V1_active_zscore)\n",
    "R_LM_active_zscore_val = get_upper_triangle_values(R_LM_active_zscore)\n",
    "R_LI_active_zscore_val = get_upper_triangle_values(R_LI_active_zscore)\n",
    "\n",
    "R_all_areas_zscore = np.vstack((R_V1_all_zscore_val, R_LM_all_zscore_val, R_LI_all_zscore_val))\n",
    "R_across_areas_all_zscore = np.corrcoef(R_all_areas_zscore)\n",
    "\n",
    "R_active_areas_zscore = np.vstack((R_V1_active_zscore_val, R_LM_active_zscore_val, R_LI_active_zscore_val))\n",
    "R_across_areas_active_zscore = np.corrcoef(R_active_areas_zscore)\n"
   ]
  },
  {
   "cell_type": "code",
   "execution_count": 8,
   "metadata": {},
   "outputs": [],
   "source": [
    "#replace diagnonal\n",
    "R_across_areas_all_zscore[0,0] = Rself_V1_all_zscore\n",
    "R_across_areas_active_zscore[0,0] = Rself_V1_active_zscore\n",
    "R_across_areas_all_zscore[1,1] = Rself_LM_all_zscore\n",
    "R_across_areas_active_zscore[1,1] = Rself_LM_active_zscore\n",
    "R_across_areas_all_zscore[2,2] = Rself_LI_all_zscore\n",
    "R_across_areas_active_zscore[2,2] = Rself_LI_active_zscore\n",
    "\n",
    "\n",
    "#plot cross-area correlations\n",
    "plt.figure(figsize=(12, 10))\n",
    "ax = sns.heatmap(R_across_areas_all_zscore,center = 0,yticklabels = area_list,xticklabels = area_list,\\\n",
    "                 annot=True, cmap = 'RdBu_r',vmin = -1,vmax = 1)\n",
    "\n",
    "fig_name = 'across_areas_all_zscore_pool_%s_RSA.png'%(response_type)\n",
    "fig_fn = os.path.join(fig_out_dir,fig_name)\n",
    "\n",
    "fig = ax.get_figure()\n",
    "fig.savefig(fig_fn) \n",
    "plt.close()\n",
    "\n",
    "plt.figure(figsize=(12, 10))\n",
    "ax = sns.heatmap(R_across_areas_active_zscore,center = 0,yticklabels = area_list,xticklabels = area_list,\\\n",
    "                 annot=True, cmap = 'RdBu_r',vmin = -1, vmax = 1)\n",
    "\n",
    "fig_name = 'across_areas_active_zscore_pool_%s_RSA.png'%(response_type)\n",
    "fig_fn = os.path.join(fig_out_dir,fig_name)\n",
    "\n",
    "fig = ax.get_figure()\n",
    "fig.savefig(fig_fn) \n",
    "plt.close()"
   ]
  },
  {
   "cell_type": "code",
   "execution_count": null,
   "metadata": {
    "collapsed": true
   },
   "outputs": [],
   "source": []
  },
  {
   "cell_type": "code",
   "execution_count": 9,
   "metadata": {},
   "outputs": [],
   "source": [
    "#get within_area correlation values - from half trials\n",
    "Rself_trials_V1_all_zscore = correlate_split_half_RDM(V1_response_all_half1_zscore,V1_response_all_half2_zscore)\n",
    "Rself_trials_V1_active_zscore = correlate_split_half_RDM(V1_response_active_half1_zscore,V1_response_active_half2_zscore)\n",
    "\n",
    "Rself_trials_LM_all_zscore = correlate_split_half_RDM(LM_response_all_half1_zscore,LM_response_all_half2_zscore)\n",
    "Rself_trials_LM_active_zscore = correlate_split_half_RDM(LM_response_active_half1_zscore,LM_response_active_half2_zscore)\n",
    "\n",
    "Rself_trials_LI_all_zscore = correlate_split_half_RDM(LI_response_all_half1_zscore,LI_response_all_half2_zscore)\n",
    "Rself_trials_LI_active_zscore = correlate_split_half_RDM(LI_response_active_half1_zscore,LI_response_active_half2_zscore)"
   ]
  },
  {
   "cell_type": "code",
   "execution_count": 10,
   "metadata": {},
   "outputs": [],
   "source": [
    "#replace diagnonal\n",
    "R_across_areas_all_zscore[0,0] = Rself_trials_V1_all_zscore\n",
    "R_across_areas_active_zscore[0,0] = Rself_trials_V1_active_zscore\n",
    "R_across_areas_all_zscore[1,1] = Rself_trials_LM_all_zscore\n",
    "R_across_areas_active_zscore[1,1] = Rself_trials_LM_active_zscore\n",
    "R_across_areas_all_zscore[2,2] = Rself_trials_LI_all_zscore\n",
    "R_across_areas_active_zscore[2,2] = Rself_trials_LI_active_zscore\n",
    "\n",
    "\n",
    "#plot cross-area correlations\n",
    "plt.figure(figsize=(12, 10))\n",
    "ax = sns.heatmap(R_across_areas_all_zscore,center = 0,yticklabels = area_list,xticklabels = area_list,\\\n",
    "                 annot=True, cmap = 'RdBu_r',vmin = -1,vmax = 1)\n",
    "\n",
    "fig_name = 'across_areas_all_zscore_pool_%s_RSA_trialR_diag.png'%(response_type)\n",
    "fig_fn = os.path.join(fig_out_dir,fig_name)\n",
    "\n",
    "fig = ax.get_figure()\n",
    "fig.savefig(fig_fn) \n",
    "plt.close()\n",
    "\n",
    "plt.figure(figsize=(12, 10))\n",
    "ax = sns.heatmap(R_across_areas_active_zscore,center = 0,yticklabels = area_list,xticklabels = area_list,\\\n",
    "                 annot=True, cmap = 'RdBu_r',vmin = -1, vmax = 1)\n",
    "\n",
    "fig_name = 'across_areas_active_zscore_pool_%s_RSA_trialR_diag.png'%(response_type)\n",
    "fig_fn = os.path.join(fig_out_dir,fig_name)\n",
    "\n",
    "fig = ax.get_figure()\n",
    "fig.savefig(fig_fn) \n",
    "plt.close()"
   ]
  },
  {
   "cell_type": "code",
   "execution_count": 11,
   "metadata": {},
   "outputs": [],
   "source": [
    "\n",
    "V1_all_zscore_half1, V1_all_zscore_half2 = shuffle_and_split_cells(V1_response_all_zscore)\n",
    "V1_active_zscore_half1, V1_active_zscore_half2 = shuffle_and_split_cells(V1_response_active_zscore)\n",
    "\n",
    "LM_all_zscore_half1, LM_all_zscore_half2 = shuffle_and_split_cells(LM_response_all_zscore)\n",
    "LM_active_zscore_half1, LM_active_zscore_half2 = shuffle_and_split_cells(LM_response_active_zscore)\n",
    "\n",
    "LI_all_zscore_half1, LI_all_zscore_half2 = shuffle_and_split_cells(LI_response_all_zscore)\n",
    "LI_active_zscore_half1, LI_active_zscore_half2 = shuffle_and_split_cells(LI_response_active_zscore)\n",
    "\n",
    "\n",
    "nreps = 100\n",
    "\n",
    "Rself_V1_all_array = np.empty((nreps,))\n",
    "Rself_V1_active_array = np.empty((nreps,))\n",
    "\n",
    "Rself_LM_all_array = np.empty((nreps,))\n",
    "Rself_LM_active_array = np.empty((nreps,))\n",
    "\n",
    "Rself_LI_all_array = np.empty((nreps,))\n",
    "Rself_LI_active_array = np.empty((nreps,))\n",
    "\n",
    "\n",
    "for rep in range(nreps):\n",
    "    Rself_V1_all_array[rep] = correlate_split_half_RDM(V1_all_zscore_half1,V1_all_zscore_half2)\n",
    "    Rself_V1_active_array[rep] = correlate_split_half_RDM(V1_active_zscore_half1,V1_active_zscore_half2)\n",
    "\n",
    "    Rself_LM_all_array[rep] = correlate_split_half_RDM(LM_all_zscore_half1,LM_all_zscore_half2)\n",
    "    Rself_LM_active_array[rep] = correlate_split_half_RDM(LM_active_zscore_half1,LM_active_zscore_half2)\n",
    "\n",
    "    Rself_LI_all_array[rep] = correlate_split_half_RDM(LI_all_zscore_half1,LI_all_zscore_half2)\n",
    "    Rself_LI_active_array[rep] = correlate_split_half_RDM(LI_active_zscore_half1,LI_active_zscore_half2)\n",
    "\n",
    "\n",
    "\n",
    "    Rself_V1_all_array[rep] = correlate_split_half_RDM(V1_all_zscore_half1,V1_all_zscore_half2)\n",
    "    Rself_V1_active_array[rep] = correlate_split_half_RDM(V1_active_zscore_half1,V1_active_zscore_half2)\n",
    "\n",
    "    Rself_LM_all_array[rep] = correlate_split_half_RDM(LM_all_zscore_half1,LM_all_zscore_half2)\n",
    "    Rself_LM_active_array[rep] = correlate_split_half_RDM(LM_active_zscore_half1,LM_active_zscore_half2)\n",
    "\n",
    "    Rself_LI_all_array[rep] = correlate_split_half_RDM(LI_all_zscore_half1,LI_all_zscore_half2)\n",
    "    Rself_LI_active_array[rep] = correlate_split_half_RDM(LI_active_zscore_half1,LI_active_zscore_half2)\n",
    "\n",
    "Rself_V1_all_zscore = np.mean(Rself_V1_all_array)\n",
    "Rself_V1_active_zscore = np.mean(Rself_V1_active_array)\n",
    "Rself_LM_all_zscore = np.mean(Rself_LM_all_array)\n",
    "Rself_LM_active_zscore = np.mean(Rself_LM_active_array)\n",
    "Rself_LI_all_zscore = np.mean(Rself_LI_all_array)\n",
    "Rself_LI_active_zscore = np.mean(Rself_LI_active_array)"
   ]
  },
  {
   "cell_type": "code",
   "execution_count": 103,
   "metadata": {},
   "outputs": [
    {
     "data": {
      "text/plain": [
       "array([[ 1.        ,  0.26447976,  0.44084929, ..., -0.27295442,\n",
       "         0.02835845, -0.14028735],\n",
       "       [ 0.26447976,  1.        ,  0.39534861, ..., -0.06928235,\n",
       "         0.03807796, -0.05421146],\n",
       "       [ 0.44084929,  0.39534861,  1.        , ..., -0.0719586 ,\n",
       "         0.3535687 ,  0.06811602],\n",
       "       ...,\n",
       "       [-0.27295442, -0.06928235, -0.0719586 , ...,  1.        ,\n",
       "         0.37568533,  0.64914564],\n",
       "       [ 0.02835845,  0.03807796,  0.3535687 , ...,  0.37568533,\n",
       "         1.        ,  0.43074318],\n",
       "       [-0.14028735, -0.05421146,  0.06811602, ...,  0.64914564,\n",
       "         0.43074318,  1.        ]])"
      ]
     },
     "execution_count": 103,
     "metadata": {},
     "output_type": "execute_result"
    }
   ],
   "source": [
    "unitR_V1_active_zscore"
   ]
  },
  {
   "cell_type": "code",
   "execution_count": null,
   "metadata": {
    "collapsed": true
   },
   "outputs": [],
   "source": []
  },
  {
   "cell_type": "code",
   "execution_count": 12,
   "metadata": {},
   "outputs": [],
   "source": [
    "all_active_cells = np.hstack((V1_response_active_zscore,LM_response_active_zscore,LI_response_active_zscore))"
   ]
  },
  {
   "cell_type": "code",
   "execution_count": 13,
   "metadata": {},
   "outputs": [
    {
     "data": {
      "text/plain": [
       "(60, 179)"
      ]
     },
     "execution_count": 13,
     "metadata": {},
     "output_type": "execute_result"
    }
   ],
   "source": [
    "all_active_cells.shape"
   ]
  },
  {
   "cell_type": "code",
   "execution_count": 14,
   "metadata": {},
   "outputs": [],
   "source": [
    "unitR_all_active_zscore = np.corrcoef(np.transpose(all_active_cells))"
   ]
  },
  {
   "cell_type": "code",
   "execution_count": 15,
   "metadata": {
    "scrolled": true
   },
   "outputs": [
    {
     "data": {
      "image/png": "[encoded data removed]",
      "text/plain": [
       "<Figure size 864x720 with 2 Axes>"
      ]
     },
     "metadata": {
      "needs_background": "light"
     },
     "output_type": "display_data"
    }
   ],
   "source": [
    "\n",
    "plt.figure(figsize=(12, 10))\n",
    "ax = sns.heatmap(unitR_all_active_zscore,center = 0,annot=False, cmap = 'RdBu_r',vmin = -1, vmax = 1)\n",
    "\n",
    "fig_name = '%s_all_active_unit_zscore_RSA.png'%(response_type)\n",
    "fig_fn = os.path.join(fig_out_dir,fig_name)\n",
    "\n",
    "fig = ax.get_figure()\n",
    "fig.savefig(fig_fn) \n",
    "#plt.close()"
   ]
  },
  {
   "cell_type": "code",
   "execution_count": 151,
   "metadata": {
    "scrolled": true
   },
   "outputs": [
    {
     "data": {
      "text/plain": [
       "(626, 626)"
      ]
     },
     "execution_count": 151,
     "metadata": {},
     "output_type": "execute_result"
    }
   ],
   "source": [
    "unitR_all_active_zscore.shape"
   ]
  },
  {
   "cell_type": "code",
   "execution_count": 16,
   "metadata": {},
   "outputs": [],
   "source": [
    "V1_ncells = V1_response_active_zscore.shape[1]\n",
    "LM_ncells = LM_response_active_zscore.shape[1]\n",
    "LI_ncells = LI_response_active_zscore.shape[1]"
   ]
  },
  {
   "cell_type": "code",
   "execution_count": 17,
   "metadata": {},
   "outputs": [
    {
     "name": "stdout",
     "output_type": "stream",
     "text": [
      "89 58 32\n"
     ]
    }
   ],
   "source": [
    "print(V1_ncells,LM_ncells,LI_ncells)"
   ]
  },
  {
   "cell_type": "code",
   "execution_count": 18,
   "metadata": {},
   "outputs": [],
   "source": [
    "from sklearn.manifold import MDS"
   ]
  },
  {
   "cell_type": "code",
   "execution_count": 19,
   "metadata": {},
   "outputs": [
    {
     "data": {
      "text/plain": [
       "(179, 2)"
      ]
     },
     "execution_count": 19,
     "metadata": {},
     "output_type": "execute_result"
    }
   ],
   "source": [
    "embedding = MDS(n_components=2,dissimilarity = 'precomputed')\n",
    "X_transformed = embedding.fit_transform(1 - unitR_all_active_zscore)\n",
    "X_transformed.shape"
   ]
  },
  {
   "cell_type": "code",
   "execution_count": 20,
   "metadata": {},
   "outputs": [
    {
     "data": {
      "image/png": "[encoded data removed]",
      "text/plain": [
       "<Figure size 576x576 with 1 Axes>"
      ]
     },
     "metadata": {
      "needs_background": "light"
     },
     "output_type": "display_data"
    }
   ],
   "source": [
    "plt.figure(figsize=(8, 8))\n",
    "\n",
    "idx0 = 0\n",
    "idx1 = V1_ncells\n",
    "plt.scatter(X_transformed[idx0:idx1,0],X_transformed[idx0:idx1,1],color = (.75,.75,.75),alpha = 0.8,label='V1')\n",
    "idx0 = V1_ncells\n",
    "idx1 = V1_ncells+LM_ncells\n",
    "plt.scatter(X_transformed[idx0:idx1,0],X_transformed[idx0:idx1,1],color = (0,.5,.5),alpha = 0.8,label = 'LM')\n",
    "idx0 = V1_ncells+LM_ncells\n",
    "idx1 = -1\n",
    "plt.scatter(X_transformed[idx0:idx1,0],X_transformed[idx0:idx1,1],color = (.8,.2,0),alpha = 0.8,label = 'LI')\n",
    "\n",
    "plt.legend(fontsize = 15)\n",
    "\n",
    "fig_name = '%s_all_active_unit_zscore_MDS.png'%(response_type)\n",
    "fig_fn = os.path.join(fig_out_dir,fig_name)\n",
    "\n",
    "\n",
    "plt.savefig(fig_fn) \n",
    "#plt.close()"
   ]
  },
  {
   "cell_type": "code",
   "execution_count": null,
   "metadata": {
    "collapsed": true
   },
   "outputs": [],
   "source": []
  },
  {
   "cell_type": "code",
   "execution_count": 21,
   "metadata": {},
   "outputs": [],
   "source": [
    "from sklearn.manifold import TSNE"
   ]
  },
  {
   "cell_type": "code",
   "execution_count": 22,
   "metadata": {
    "scrolled": true
   },
   "outputs": [
    {
     "data": {
      "text/plain": [
       "(179, 179)"
      ]
     },
     "execution_count": 22,
     "metadata": {},
     "output_type": "execute_result"
    }
   ],
   "source": [
    "unitR_all_active_zscore.shape"
   ]
  },
  {
   "cell_type": "code",
   "execution_count": 23,
   "metadata": {},
   "outputs": [
    {
     "data": {
      "text/plain": [
       "(60, 179)"
      ]
     },
     "execution_count": 23,
     "metadata": {},
     "output_type": "execute_result"
    }
   ],
   "source": [
    "all_active_cells.shape"
   ]
  },
  {
   "cell_type": "code",
   "execution_count": 24,
   "metadata": {},
   "outputs": [
    {
     "data": {
      "text/plain": [
       "(179, 2)"
      ]
     },
     "execution_count": 24,
     "metadata": {},
     "output_type": "execute_result"
    }
   ],
   "source": [
    "unit_tsne = TSNE(n_components=2,perplexity = 50).fit_transform(np.transpose(all_active_cells))\n",
    "unit_tsne.shape"
   ]
  },
  {
   "cell_type": "code",
   "execution_count": 25,
   "metadata": {},
   "outputs": [
    {
     "data": {
      "text/plain": [
       "89"
      ]
     },
     "execution_count": 25,
     "metadata": {},
     "output_type": "execute_result"
    }
   ],
   "source": [
    "V1_ncells"
   ]
  },
  {
   "cell_type": "code",
   "execution_count": 26,
   "metadata": {},
   "outputs": [
    {
     "data": {
      "image/png": "[encoded data removed]",
      "text/plain": [
       "<Figure size 576x576 with 1 Axes>"
      ]
     },
     "metadata": {
      "needs_background": "light"
     },
     "output_type": "display_data"
    }
   ],
   "source": [
    "plt.figure(figsize=(8, 8))\n",
    "\n",
    "idx0 = 0\n",
    "idx1 = V1_ncells\n",
    "plt.scatter(unit_tsne[idx0:idx1,0],unit_tsne[idx0:idx1,1],color = (.75,.75,.75),alpha = 0.8,label='V1')\n",
    "idx0 = V1_ncells\n",
    "idx1 = V1_ncells+LM_ncells\n",
    "plt.scatter(unit_tsne[idx0:idx1,0],unit_tsne[idx0:idx1,1],color = (0,.5,.5),alpha = 0.8,label = 'LM')\n",
    "idx0 = V1_ncells+LM_ncells\n",
    "idx1 = -1\n",
    "plt.scatter(unit_tsne[idx0:idx1,0],unit_tsne[idx0:idx1,1],color = (.8,.2,0),alpha = 0.8,label = 'LI')\n",
    "\n",
    "plt.legend(fontsize = 15)\n",
    "\n",
    "fig_name = '%s_all_active_unit_zscore_tsne.png'%(response_type)\n",
    "fig_fn = os.path.join(fig_out_dir,fig_name)\n",
    "\n",
    "\n",
    "plt.savefig(fig_fn) \n",
    "#plt.close()"
   ]
  },
  {
   "cell_type": "code",
   "execution_count": null,
   "metadata": {
    "collapsed": true
   },
   "outputs": [],
   "source": []
  },
  {
   "cell_type": "code",
   "execution_count": null,
   "metadata": {
    "collapsed": true
   },
   "outputs": [],
   "source": []
  },
  {
   "cell_type": "code",
   "execution_count": null,
   "metadata": {
    "collapsed": true
   },
   "outputs": [],
   "source": []
  },
  {
   "cell_type": "code",
   "execution_count": null,
   "metadata": {
    "collapsed": true
   },
   "outputs": [],
   "source": []
  },
  {
   "cell_type": "code",
   "execution_count": null,
   "metadata": {
    "collapsed": true
   },
   "outputs": [],
   "source": []
  },
  {
   "cell_type": "code",
   "execution_count": null,
   "metadata": {
    "collapsed": true
   },
   "outputs": [],
   "source": [
    "#compare correlation matrices across areas\n",
    "R_V1_all_zscore_val = get_upper_triangle_values(R_V1_all_zscore)\n",
    "R_LM_all_zscore_val = get_upper_triangle_values(R_LM_all_zscore)\n",
    "R_LI_all_zscore_val = get_upper_triangle_values(R_LI_all_zscore)\n",
    "\n",
    "R_V1_active_zscore_val = get_upper_triangle_values(R_V1_active_zscore)\n",
    "R_LM_active_zscore_val = get_upper_triangle_values(R_LM_active_zscore)\n",
    "R_LI_active_zscore_val = get_upper_triangle_values(R_LI_active_zscore)\n",
    "\n",
    "R_all_areas_zscore = np.vstack((R_V1_all_zscore_val, R_LM_all_zscore_val, R_LI_all_zscore_val))\n",
    "R_across_areas_all_zscore = np.corrcoef(R_all_areas_zscore)\n",
    "\n",
    "R_active_areas_zscore = np.vstack((R_V1_active_zscore_val, R_LM_active_zscore_val, R_LI_active_zscore_val))\n",
    "R_across_areas_active_zscore = np.corrcoef(R_active_areas_zscore)\n",
    "\n",
    "\n",
    "#plot cross-area correlations\n",
    "plt.figure(figsize=(12, 10))\n",
    "ax = sns.heatmap(R_across_areas_all_zscore,center = 0,yticklabels = area_list,xticklabels = area_list,\\\n",
    "                 annot=True, cmap = 'RdBu_r')\n",
    "\n",
    "fig_name = 'across_areas_all_zscore_pool_%s_RSA.png'%(response_type)\n",
    "fig_fn = os.path.join(fig_out_dir,fig_name)\n",
    "\n",
    "fig = ax.get_figure()\n",
    "fig.savefig(fig_fn) \n",
    "plt.close()\n",
    "\n",
    "plt.figure(figsize=(12, 10))\n",
    "ax = sns.heatmap(R_across_areas_active_zscore,center = 0,yticklabels = area_list,xticklabels = area_list,\\\n",
    "                 annot=True, cmap = 'RdBu_r')\n",
    "\n",
    "fig_name = 'across_areas_active_zscore_pool_%s_RSA.png'%(response_type)\n",
    "fig_fn = os.path.join(fig_out_dir,fig_name)\n",
    "\n",
    "fig = ax.get_figure()\n",
    "fig.savefig(fig_fn) \n",
    "plt.close()"
   ]
  },
  {
   "cell_type": "code",
   "execution_count": 262,
   "metadata": {
    "collapsed": true
   },
   "outputs": [],
   "source": [
    "#re-arrange by stimulus class\n",
    "V1_response_all_class = np.vstack((V1_response_all[0:60:3,:],V1_response_all[1:60:3,:],V1_response_all[2:60:3,:]))\n",
    "V1_response_active_class = np.vstack((V1_response_active[0:60:3,:],V1_response_active[1:60:3,:],V1_response_active[2:60:3,:]))\n",
    "\n",
    "\n",
    "LM_response_all_class = np.vstack((LM_response_all[0:60:3,:],LM_response_all[1:60:3,:],LM_response_all[2:60:3,:]))\n",
    "LM_response_active_class = np.vstack((LM_response_active[0:60:3,:],LM_response_active[1:60:3,:],LM_response_active[2:60:3,:]))\n",
    "\n",
    "\n",
    "LI_response_all_class = np.vstack((LI_response_all[0:60:3,:],LI_response_all[1:60:3,:],LI_response_all[2:60:3,:]))\n",
    "LI_response_active_class = np.vstack((LI_response_active[0:60:3,:],LI_response_active[1:60:3,:],LI_response_active[2:60:3,:]))\n",
    "\n",
    "\n",
    "\n",
    "\n",
    "#zscore data across configs for re-arranged matrices\n",
    "V1_response_all_class_zscore = stats.zscore(V1_response_all_class,0)\n",
    "V1_response_active_class_zscore = stats.zscore(V1_response_active_class,0)\n",
    "\n",
    "LM_response_all_class_zscore = stats.zscore(LM_response_all_class,0)\n",
    "LM_response_active_class_zscore = stats.zscore(LM_response_active_class,0)\n",
    "\n",
    "LI_response_all_class_zscore = stats.zscore(LI_response_all_class,0)\n",
    "LI_response_active_class_zscore = stats.zscore(LI_response_active_class,0)\n",
    "\n",
    "\n",
    "\n",
    "#replace nans with 0's\n",
    "V1_response_all_class_zscore[np.isnan(V1_response_all_class_zscore)] = 0\n",
    "V1_response_active_class_zscore[np.isnan(V1_response_active_class_zscore)] = 0\n",
    "\n",
    "LM_response_all_class_zscore[np.isnan(LM_response_all_class_zscore)] = 0\n",
    "LM_response_active_class_zscore[np.isnan(LM_response_active_class_zscore)] = 0\n",
    "\n",
    "LI_response_all_class_zscore[np.isnan(LI_response_all_class_zscore)] = 0\n",
    "LI_response_active_class_zscore[np.isnan(LI_response_active_class_zscore)] = 0"
   ]
  },
  {
   "cell_type": "code",
   "execution_count": 263,
   "metadata": {
    "collapsed": true
   },
   "outputs": [],
   "source": [
    "#get correlations\n",
    "R_V1_all_class_zscore = np.corrcoef(V1_response_all_class_zscore)\n",
    "R_V1_active_class_zscore = np.corrcoef(V1_response_active_class_zscore)\n",
    "\n",
    "R_LM_all_class_zscore = np.corrcoef(LM_response_all_class_zscore)\n",
    "R_LM_active_class_zscore = np.corrcoef(LM_response_active_class_zscore)\n",
    "\n",
    "R_LI_all_class_zscore = np.corrcoef(LI_response_all_class_zscore)\n",
    "R_LI_active_class_zscore = np.corrcoef(LI_response_active_class_zscore)"
   ]
  },
  {
   "cell_type": "code",
   "execution_count": 232,
   "metadata": {},
   "outputs": [
    {
     "data": {
      "text/plain": [
       "array([ 0.36251261,  0.20487786, -0.30700712, -0.03632418, -0.09434715,\n",
       "        0.14106306, -0.03441801, -0.13486947, -0.16877074, -0.51640981,\n",
       "        0.29075846, -0.11879735, -0.07783424,  0.42298259,  0.10334702,\n",
       "       -0.05171566,  0.01498781,  0.34483852,  0.25808993, -0.19873847,\n",
       "        0.12064317, -0.23927149,  0.10467827,  0.33211079, -0.02021004,\n",
       "       -0.06882521, -0.12762175,  0.31707242,  0.13578516, -0.21186595,\n",
       "        0.18205792, -0.24362709,  1.        ,  0.1668258 , -0.20380735,\n",
       "       -0.34922487,  0.27927135,  0.29598876,  0.15894011, -0.23733963,\n",
       "        0.23459834,  0.05093537, -0.13868716, -0.04788609,  0.23131238,\n",
       "       -0.09401727,  0.03066121,  0.1395005 , -0.09874942, -0.44632797,\n",
       "       -0.25844187, -0.42305845,  0.32078255, -0.04798989,  0.33835204,\n",
       "       -0.44345586,  0.3344421 , -0.14459179,  0.07614599, -0.36324811])"
      ]
     },
     "execution_count": 232,
     "metadata": {},
     "output_type": "execute_result"
    }
   ],
   "source": [
    "R_V1_all_zscore[32,:]"
   ]
  },
  {
   "cell_type": "code",
   "execution_count": 264,
   "metadata": {
    "collapsed": true
   },
   "outputs": [],
   "source": [
    "#replace diagional values\n",
    "for cfg_idx in range(nconfigs):\n",
    "    R_V1_all_class_zscore[cfg_idx,cfg_idx] = selfR_V1_all_zscore[cfg_idx]\n",
    "    R_V1_active_class_zscore[cfg_idx,cfg_idx] = selfR_V1_active_zscore[cfg_idx]\n",
    "    \n",
    "    R_LM_all_class_zscore[cfg_idx,cfg_idx] = selfR_LM_all_zscore[cfg_idx]\n",
    "    R_LM_active_class_zscore[cfg_idx,cfg_idx] = selfR_LM_active_zscore[cfg_idx]\n",
    "    \n",
    "    R_LI_all_class_zscore[cfg_idx,cfg_idx] = selfR_LI_all_zscore[cfg_idx]\n",
    "    R_LI_active_class_zscore[cfg_idx,cfg_idx] = selfR_LI_active_zscore[cfg_idx]"
   ]
  },
  {
   "cell_type": "code",
   "execution_count": 266,
   "metadata": {
    "collapsed": true
   },
   "outputs": [],
   "source": [
    "#plot individual area correlation matrices\n",
    "fig_out_dir = os.path.join(fig_base_dir,'zscore_%s'%response_type)\n",
    "if not os.path.isdir(fig_out_dir):\n",
    "        os.makedirs(fig_out_dir)\n",
    "\n",
    "plt.figure(figsize=(12, 10))\n",
    "ax = sns.heatmap(R_V1_all_class_zscore,center = 0,annot=False, cmap = 'RdBu_r',vmin = -1, vmax = 1)\n",
    "\n",
    "fig_name = 'all_class_V1_zscore_pool_%s_RSA.png'%(response_type)\n",
    "fig_fn = os.path.join(fig_out_dir,fig_name)\n",
    "\n",
    "\n",
    "fig = ax.get_figure()\n",
    "fig.savefig(fig_fn) \n",
    "plt.close()\n",
    "\n",
    "plt.figure(figsize=(12, 10))\n",
    "ax = sns.heatmap(R_V1_active_class_zscore,center = 0,annot=False, cmap = 'RdBu_r',vmin = -1, vmax = 1)\n",
    "\n",
    "fig_name = 'active_class_V1_zscore_pool_%s_RSA.png'%(response_type)\n",
    "fig_fn = os.path.join(fig_out_dir,fig_name)\n",
    "\n",
    "fig = ax.get_figure()\n",
    "fig.savefig(fig_fn) \n",
    "plt.close()\n",
    "\n",
    "plt.figure(figsize=(12, 10))\n",
    "ax = sns.heatmap(R_LM_all_class_zscore,center = 0,annot=False, cmap = 'RdBu_r',vmin = -1, vmax = 1)\n",
    "\n",
    "fig_name = 'all_class_LM_zscore_pool_%s_RSA.png'%(response_type)\n",
    "fig_fn = os.path.join(fig_out_dir,fig_name)\n",
    "\n",
    "fig = ax.get_figure()\n",
    "fig.savefig(fig_fn) \n",
    "plt.close()\n",
    "\n",
    "plt.figure(figsize=(12, 10))\n",
    "ax = sns.heatmap(R_LM_active_class_zscore,center = 0,annot=False, cmap = 'RdBu_r',vmin = -1, vmax = 1)\n",
    "\n",
    "fig_name = 'active_class_LM_zscore_pool_%s_RSA.png'%(response_type)\n",
    "fig_fn = os.path.join(fig_out_dir,fig_name)\n",
    "\n",
    "fig = ax.get_figure()\n",
    "fig.savefig(fig_fn) \n",
    "plt.close()\n",
    "\n",
    "plt.figure(figsize=(12, 10))\n",
    "ax = sns.heatmap(R_LI_all_class_zscore,center = 0,annot=False, cmap = 'RdBu_r',vmin = -1, vmax = 1)\n",
    "\n",
    "fig_name = 'all_class_LI_zscore_pool_%s_RSA.png'%(response_type)\n",
    "fig_fn = os.path.join(fig_out_dir,fig_name)\n",
    "\n",
    "fig = ax.get_figure()\n",
    "fig.savefig(fig_fn) \n",
    "plt.close()\n",
    "\n",
    "plt.figure(figsize=(12, 10))\n",
    "ax = sns.heatmap(R_LI_active_class_zscore,center = 0,annot=False, cmap = 'RdBu_r',vmin = -1, vmax = 1)\n",
    "\n",
    "fig_name = 'active_class_LI_zscore_pool_%s_RSA.png'%(response_type)\n",
    "fig_fn = os.path.join(fig_out_dir,fig_name)\n",
    "\n",
    "fig = ax.get_figure()\n",
    "fig.savefig(fig_fn) \n",
    "plt.close()"
   ]
  },
  {
   "cell_type": "code",
   "execution_count": null,
   "metadata": {
    "collapsed": true
   },
   "outputs": [],
   "source": []
  },
  {
   "cell_type": "code",
   "execution_count": null,
   "metadata": {
    "collapsed": true,
    "scrolled": false
   },
   "outputs": [],
   "source": [
    "#perform min-max normlization across configs\n",
    "V1_response_all_norm = normalize_across_rows(V1_response_all)\n",
    "V1_response_active_norm = normalize_across_rows(V1_response_active)\n",
    "\n",
    "LM_response_all_norm = normalize_across_rows(LM_response_all)\n",
    "LM_response_active_norm = normalize_across_rows(LM_response_active)\n",
    "\n",
    "LI_response_all_norm = normalize_across_rows(LI_response_all)\n",
    "LI_response_active_norm = normalize_across_rows(LI_response_active)"
   ]
  },
  {
   "cell_type": "code",
   "execution_count": null,
   "metadata": {
    "collapsed": true
   },
   "outputs": [],
   "source": [
    "#perform correlation\n",
    "R_V1_all_norm = np.corrcoef(V1_response_all_norm)\n",
    "R_V1_active_norm = np.corrcoef(V1_response_active_norm)\n",
    "\n",
    "R_LM_all_norm = np.corrcoef(LM_response_all_norm)\n",
    "R_LM_active_norm = np.corrcoef(LM_response_active_norm)\n",
    "\n",
    "R_LI_all_norm = np.corrcoef(LI_response_all_norm)\n",
    "R_LI_active_norm = np.corrcoef(LI_response_active_norm)"
   ]
  },
  {
   "cell_type": "code",
   "execution_count": null,
   "metadata": {
    "collapsed": true
   },
   "outputs": [],
   "source": [
    "#plot individual area correlation matrices\n",
    "fig_out_dir = os.path.join(fig_base_dir,'norm_%s'%response_type)\n",
    "if not os.path.isdir(fig_out_dir):\n",
    "        os.makedirs(fig_out_dir)\n",
    "\n",
    "plt.figure(figsize=(12, 10))\n",
    "ax = sns.heatmap(R_V1_all_norm,center = 0,annot=False, cmap = 'RdBu_r')\n",
    "\n",
    "fig_name = 'all_V1_norm_pool_%s_RSA.png'%(response_type)\n",
    "fig_fn = os.path.join(fig_out_dir,fig_name)\n",
    "\n",
    "\n",
    "fig = ax.get_figure()\n",
    "fig.savefig(fig_fn) \n",
    "plt.close()\n",
    "\n",
    "plt.figure(figsize=(12, 10))\n",
    "ax = sns.heatmap(R_V1_active_norm,center = 0,annot=False, cmap = 'RdBu_r')\n",
    "\n",
    "fig_name = 'active_V1_norm_pool_%s_RSA.png'%(response_type)\n",
    "fig_fn = os.path.join(fig_out_dir,fig_name)\n",
    "\n",
    "fig = ax.get_figure()\n",
    "fig.savefig(fig_fn) \n",
    "plt.close()\n",
    "\n",
    "plt.figure(figsize=(12, 10))\n",
    "ax = sns.heatmap(R_LM_all_norm,center = 0,annot=False, cmap = 'RdBu_r')\n",
    "\n",
    "fig_name = 'all_LM_norm_pool_%s_RSA.png'%(response_type)\n",
    "fig_fn = os.path.join(fig_out_dir,fig_name)\n",
    "\n",
    "fig = ax.get_figure()\n",
    "fig.savefig(fig_fn) \n",
    "plt.close()\n",
    "\n",
    "plt.figure(figsize=(12, 10))\n",
    "ax = sns.heatmap(R_LM_active_norm,center = 0,annot=False, cmap = 'RdBu_r')\n",
    "\n",
    "fig_name = 'active_LM_norm_pool_%s_RSA.png'%(response_type)\n",
    "fig_fn = os.path.join(fig_out_dir,fig_name)\n",
    "\n",
    "fig = ax.get_figure()\n",
    "fig.savefig(fig_fn) \n",
    "plt.close()\n",
    "\n",
    "plt.figure(figsize=(12, 10))\n",
    "ax = sns.heatmap(R_LI_all_norm,center = 0,annot=False, cmap = 'RdBu_r')\n",
    "\n",
    "fig_name = 'all_LI_norm_pool_%s_RSA.png'%(response_type)\n",
    "fig_fn = os.path.join(fig_out_dir,fig_name)\n",
    "\n",
    "fig = ax.get_figure()\n",
    "fig.savefig(fig_fn) \n",
    "plt.close()\n",
    "\n",
    "plt.figure(figsize=(12, 10))\n",
    "ax = sns.heatmap(R_LI_active_norm, center = 0,annot=False, cmap = 'RdBu_r')\n",
    "\n",
    "fig_name = 'active_LI_norm_pool_%s_RSA.png'%(response_type)\n",
    "fig_fn = os.path.join(fig_out_dir,fig_name)\n",
    "\n",
    "fig = ax.get_figure()\n",
    "fig.savefig(fig_fn) \n",
    "plt.close()"
   ]
  },
  {
   "cell_type": "code",
   "execution_count": null,
   "metadata": {
    "collapsed": true
   },
   "outputs": [],
   "source": [
    "#compare correlation matrices across areas\n",
    "R_V1_all_norm_val = get_upper_triangle_values(R_V1_all_norm)\n",
    "R_LM_all_norm_val = get_upper_triangle_values(R_LM_all_norm)\n",
    "R_LI_all_norm_val = get_upper_triangle_values(R_LI_all_norm)\n",
    "\n",
    "R_V1_active_norm_val = get_upper_triangle_values(R_V1_active_norm)\n",
    "R_LM_active_norm_val = get_upper_triangle_values(R_LM_active_norm)\n",
    "R_LI_active_norm_val = get_upper_triangle_values(R_LI_active_norm)\n",
    "\n",
    "R_all_areas_norm = np.vstack((R_V1_all_norm_val, R_LM_all_norm_val, R_LI_all_norm_val))\n",
    "R_across_areas_all_norm = np.corrcoef(R_all_areas_norm)\n",
    "\n",
    "R_active_areas_norm = np.vstack((R_V1_active_norm_val, R_LM_active_norm_val, R_LI_active_norm_val))\n",
    "R_across_areas_active_norm = np.corrcoef(R_active_areas_norm)\n",
    "\n",
    "\n",
    "#plot cross-area correlations\n",
    "plt.figure(figsize=(12, 10))\n",
    "ax = sns.heatmap(R_across_areas_all_norm,center = 0,yticklabels = area_list,xticklabels = area_list,\\\n",
    "                 annot=True, cmap = 'RdBu_r')\n",
    "\n",
    "fig_name = 'across_areas_all_norm_pool_%s_RSA.png'%(response_type)\n",
    "fig_fn = os.path.join(fig_out_dir,fig_name)\n",
    "\n",
    "fig = ax.get_figure()\n",
    "fig.savefig(fig_fn) \n",
    "plt.close()\n",
    "\n",
    "plt.figure(figsize=(12, 10))\n",
    "ax = sns.heatmap(R_across_areas_active_norm,center = 0,yticklabels = area_list,xticklabels = area_list,\\\n",
    "                 annot=True, cmap = 'RdBu_r')\n",
    "\n",
    "fig_name = 'across_areas_active_norm_pool_%s_RSA.png'%(response_type)\n",
    "fig_fn = os.path.join(fig_out_dir,fig_name)\n",
    "\n",
    "fig = ax.get_figure()\n",
    "fig.savefig(fig_fn) \n",
    "plt.close()"
   ]
  },
  {
   "cell_type": "code",
   "execution_count": null,
   "metadata": {
    "collapsed": true
   },
   "outputs": [],
   "source": []
  },
  {
   "cell_type": "code",
   "execution_count": null,
   "metadata": {
    "collapsed": true
   },
   "outputs": [],
   "source": []
  },
  {
   "cell_type": "code",
   "execution_count": null,
   "metadata": {
    "collapsed": true
   },
   "outputs": [],
   "source": [
    "# "
   ]
  },
  {
   "cell_type": "code",
   "execution_count": null,
   "metadata": {
    "collapsed": true
   },
   "outputs": [],
   "source": [
    "#----Junk Code below here------"
   ]
  },
  {
   "cell_type": "code",
   "execution_count": null,
   "metadata": {
    "collapsed": true
   },
   "outputs": [],
   "source": []
  },
  {
   "cell_type": "code",
   "execution_count": null,
   "metadata": {
    "collapsed": true
   },
   "outputs": [],
   "source": []
  }
 ],
 "metadata": {
  "kernelspec": {
   "display_name": "Python 3",
   "language": "python",
   "name": "python3"
  },
  "language_info": {
   "codemirror_mode": {
    "name": "ipython",
    "version": 3
   },
   "file_extension": ".py",
   "mimetype": "text/x-python",
   "name": "python",
   "nbconvert_exporter": "python",
   "pygments_lexer": "ipython3",
   "version": "3.6.8"
  }
 },
 "nbformat": 4,
 "nbformat_minor": 2
}
