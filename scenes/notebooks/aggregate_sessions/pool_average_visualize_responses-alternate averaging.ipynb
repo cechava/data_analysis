{
 "cells": [
  {
   "cell_type": "code",
   "execution_count": 1,
   "metadata": {},
   "outputs": [],
   "source": [
    "import h5py\n",
    "%matplotlib inline\n",
    "import seaborn as sns; sns.set()\n",
    "import matplotlib.pyplot as plt\n",
    "import matplotlib.patches as patches\n",
    "import sys\n",
    "import shutil\n",
    "import glob\n",
    "import optparse\n",
    "import os\n",
    "import json\n",
    "import pandas as pd\n",
    "import numpy as np\n",
    "import pylab as pl\n",
    "import scipy.stats as stats\n",
    "import seaborn as sns\n",
    "sns.set_style(\"ticks\")\n",
    "sns.set()\n",
    "sns.set_color_codes()\n",
    "\n",
    "def findOccurrences(s, ch):\n",
    "    return [i for i, letter in enumerate(s) if letter == ch]"
   ]
  },
  {
   "cell_type": "code",
   "execution_count": 141,
   "metadata": {},
   "outputs": [
    {
     "name": "stdout",
     "output_type": "stream",
     "text": [
      "df\n"
     ]
    }
   ],
   "source": [
    "aggregate_root = '/n/coxfs01/cechavarria/2p-aggregate/scenes'\n",
    "\n",
    "# sess_list = ['JC097_20190621','JC085_20190624','JC097_20190628','JC097_20190704','JC085_20190712']\n",
    "# area = 'V1'\n",
    "\n",
    "# sess_list = ['JC080_20190619','JC091_20190621','JC091_20190628','JC097_20190702','JC091_20190703','JC085_20190704','JC097_20190708']\n",
    "# area = 'LM'\n",
    "\n",
    "sess_list = ['JC091_20190625','JC091_20190701','JC091_20190705']\n",
    "area = 'LI'\n",
    "\n",
    "\n",
    "response_type = 'norm_df'\n",
    "filter_crit = 'zscore'\n",
    "filter_thresh = 1\n",
    "\n",
    "# filter_crit = 'split_half_R'\n",
    "# filter_thresh = .6\n",
    "\n",
    "if ('norm' in response_type) or ('std' in response_type):\n",
    "    i1 = findOccurrences(response_type,'_')[-1]\n",
    "    fetch_data = response_type[i1+1:]\n",
    "else:\n",
    "    fetch_data = response_type\n",
    "print(fetch_data)\n",
    "\n",
    "#define paths\n",
    "aggregate_file_dir = os.path.join(aggregate_root,area,'files')\n",
    "fig_out_dir = os.path.join(aggregate_root,area,'figures')\n",
    "\n",
    "if not os.path.isdir(fig_out_dir):\n",
    "        os.makedirs(fig_out_dir)\n",
    "        "
   ]
  },
  {
   "cell_type": "code",
   "execution_count": 142,
   "metadata": {},
   "outputs": [
    {
     "name": "stdout",
     "output_type": "stream",
     "text": [
      "JC091_20190625\n",
      "# active rois = 79\n",
      "frac active rois = 0.5302\n",
      "79\n",
      "JC091_20190701\n"
     ]
    },
    {
     "name": "stderr",
     "output_type": "stream",
     "text": [
      "/home/cesar/envs/suite2p/lib/python3.6/site-packages/ipykernel_launcher.py:72: RuntimeWarning: invalid value encountered in greater\n",
      "/home/cesar/envs/suite2p/lib/python3.6/site-packages/ipykernel_launcher.py:110: RuntimeWarning: invalid value encountered in true_divide\n"
     ]
    },
    {
     "name": "stdout",
     "output_type": "stream",
     "text": [
      "# active rois = 17\n",
      "frac active rois = 0.1308\n",
      "96\n",
      "JC091_20190705\n",
      "# active rois = 59\n",
      "frac active rois = 0.6344\n",
      "155\n"
     ]
    }
   ],
   "source": [
    "#pool all neurons\n",
    "\n",
    "\n",
    "#put things into pandas df for plotting\n",
    "resp_dfs = []\n",
    "\n",
    "animalids = []\n",
    "sess_count = []\n",
    "active_cell_count = 0\n",
    "total_cell_count = 0\n",
    "active_cells_per_img_count = np.zeros((60,))\n",
    "\n",
    "ylabel = 'Average Response'\n",
    "\n",
    "for sess_idx, sess in enumerate(sess_list):\n",
    "    # sess_idx = 0\n",
    "    # sess = sess_list[sess_idx]\n",
    "    print(sess)\n",
    "    i1 = findOccurrences(sess,'_')[0]\n",
    "    animalid = sess[0:i1]\n",
    "    session = sess[i1+1:]\n",
    "\n",
    "\n",
    "    if animalid not in animalids:\n",
    "        animalids.append(animalid)\n",
    "        sess_count.append(0)\n",
    "\n",
    "    animal_idx = animalids.index(animalid)\n",
    "    sess_count[animal_idx] = sess_count[animal_idx]+1\n",
    "\n",
    "    #load data\n",
    "    aggregate_file_dir = os.path.join(aggregate_root,area,'files','trial_responses')\n",
    "    data_array_fn = '%s_%s_trial_response_array.hdf5'%(animalid, session)\n",
    "    data_array_filepath = os.path.join(aggregate_file_dir, data_array_fn)\n",
    "    data_grp = h5py.File(data_array_filepath, 'r')\n",
    "\n",
    "    cell_rois = data_grp.attrs['s2p_cell_rois']\n",
    "\n",
    "    curr_slice = 'Slice01'#hard,coding for now\n",
    "\n",
    "    #unpack\n",
    "    response_matrix = np.array(data_grp['/'.join([curr_slice, 'responses' ,fetch_data])])\n",
    "\n",
    "    filter_crit_matrix_trials = np.array(data_grp['/'.join([curr_slice, 'responses' ,filter_crit])])\n",
    "\n",
    "    #considering only cell rois\n",
    "    response_matrix = response_matrix[:,:,cell_rois]\n",
    "    ntrials,nconfigs,nrois = response_matrix.shape\n",
    "\n",
    "\n",
    "    if filter_crit == 'zscore':\n",
    "        filter_crit_matrix_trials = filter_crit_matrix_trials[:,:,cell_rois]\n",
    "        filter_crit_matrix_mean = np.squeeze(np.mean(filter_crit_matrix_trials,0))\n",
    "    elif filter_crit == 'simple_pval' or filter_crit == 'paired_pval' or filter_crit == 'perm_p' or 'stat' in filter_crit:\n",
    "        filter_crit_matrix_mean = filter_crit_matrix_trials[:,cell_rois]\n",
    "    elif filter_crit == 'split_half_R':\n",
    "        filter_crit_matrix_mean = filter_crit_matrix_trials[cell_rois]\n",
    "\n",
    "    data_grp.close()\n",
    "\n",
    "    #avg over trials\n",
    "\n",
    "    mean_response_matrix = np.mean(response_matrix,0)\n",
    "    #split data into half by selecting odd or even trials\n",
    "    mean_response_matrix_half1 = np.mean(response_matrix[0:ntrials:2,:,:],0)\n",
    "    mean_response_matrix_half2 = np.mean(response_matrix[1:ntrials:2,:,:],0)\n",
    "\n",
    "    #consider a config active if at least one of theversion of an image evoked a response above threshol\n",
    "\n",
    "    if filter_crit == 'zscore' or 'tstat' in filter_crit:\n",
    "        thresh = filter_thresh\n",
    "        thresh_matrix = filter_crit_matrix_mean>thresh\n",
    "    elif filter_crit == 'simple_pval' or filter_crit == 'paired_pval' or filter_crit == 'perm_p':\n",
    "        thresh = filter_thresh\n",
    "        thresh_matrix = np.logical_and(filter_crit_matrix_mean<thresh,filter_crit_matrix_mean>0)\n",
    "    elif filter_crit == 'split_half_R':\n",
    "        thresh = filter_thresh\n",
    "        thresh_matrix= filter_crit_matrix_mean>thresh\n",
    "        thresh_matrix = np.expand_dims(thresh_matrix,0)\n",
    "        thresh_matrix = np.tile(thresh_matrix,(nconfigs,1))\n",
    "\n",
    "    filter_matrix = np.ones((thresh_matrix.shape))*np.nan\n",
    "    active_rois_per_config = np.nansum(thresh_matrix,1)\n",
    "    for ridx in range(nrois):\n",
    "        for idx in range(0,thresh_matrix.shape[0],3):\n",
    "                if np.sum(thresh_matrix[idx:idx+3,ridx])>0:\n",
    "                    filter_matrix[idx:idx+3,ridx] = 1\n",
    "                    \n",
    "#     filter_matrix = np.ones((thresh_matrix.shape))*np.nan\n",
    "#     active_rois_per_config = np.nansum(thresh_matrix,1)\n",
    "#     for ridx in range(nrois):\n",
    "#         for idx in range(0,thresh_matrix.shape[0],3):\n",
    "#                 if np.sum(thresh_matrix[idx:idx+3,ridx])>0:\n",
    "#                     filter_matrix[:,ridx] = 1\n",
    "    active_rois_per_img = np.nansum(filter_matrix,1)\n",
    "        \n",
    "\n",
    "    #figure out some activity details\n",
    "    active_cell_idx = np.nansum(filter_matrix,0)>0\n",
    "    num_active_rois = np.nansum(np.nansum(filter_matrix,0)>0)\n",
    "    frac_active_rois = num_active_rois/float(len(cell_rois))\n",
    "    print('# active rois = %i'%(num_active_rois))\n",
    "    print('frac active rois = %.04f'%(frac_active_rois))\n",
    "\n",
    "    #normalize across configs within cell, if necessary\n",
    "    if 'norm' in response_type:\n",
    "        norm_response_array = np.empty((nconfigs,nrois))\n",
    "\n",
    "        for ridx in range(nrois):\n",
    "            norm_response_array[:,ridx] = mean_response_matrix[:,ridx]/np.nanmax(mean_response_matrix[:,ridx])\n",
    "        mean_response_matrix = norm_response_array\n",
    "    if 'std' in response_type:#standardise response by z-scoring across configs\n",
    "        std_response_array = np.empty((nconfigs,nrois))\n",
    "\n",
    "        for ridx in range(nrois):\n",
    "            std_response_array[:,ridx] = (mean_response_matrix[:,ridx]-np.nanmean(mean_response_matrix[:,ridx]))/np.nanstd(mean_response_matrix[:,ridx])\n",
    "        mean_response_matrix = std_response_array\n",
    "\n",
    "    filt_response_array = mean_response_matrix*filter_matrix\n",
    "    \n",
    "    total_cell_count = total_cell_count + active_cell_idx.shape[0]\n",
    "    active_cell_count = active_cell_count + np.nansum(active_cell_idx)\n",
    "    active_cells_per_img_count = active_cells_per_img_count + active_rois_per_img\n",
    "    print(active_cell_count)\n",
    "\n",
    "\n",
    "\n",
    "    if sess_idx == 0:\n",
    "        response_array = filt_response_array[:,active_cell_idx]\n",
    "    else:\n",
    "        response_array = np.hstack((response_array,filt_response_array[:,active_cell_idx]))"
   ]
  },
  {
   "cell_type": "code",
   "execution_count": 143,
   "metadata": {},
   "outputs": [],
   "source": [
    "mod_idx = np.zeros(response_array.shape)\n",
    "for ridx in range(response_array.shape[1]): \n",
    "    for cond_idx in range(0,nconfigs,3):\n",
    "        if not np.isnan(response_array[cond_idx,ridx]):\n",
    "            #tex - sf\n",
    "            mod_idx[cond_idx,ridx] = np.true_divide(response_array[cond_idx+2,ridx] - response_array[cond_idx+1,ridx],\\\n",
    "                                                    response_array[cond_idx+2,ridx] + response_array[cond_idx+1,ridx])\n",
    "            #orig - sf\n",
    "            mod_idx[cond_idx+1,ridx] = np.true_divide(response_array[cond_idx,ridx] - response_array[cond_idx+1,ridx],\\\n",
    "                                                    response_array[cond_idx,ridx] + response_array[cond_idx+1,ridx])\n",
    "            #orig - tex\n",
    "            mod_idx[cond_idx+2,ridx] = np.true_divide(response_array[cond_idx,ridx] - response_array[cond_idx+2,ridx],\\\n",
    "                                                    response_array[cond_idx,ridx] + response_array[cond_idx+2,ridx])\n",
    "        else:\n",
    "            mod_idx[cond_idx:cond_idx+3,ridx] = np.nan\n"
   ]
  },
  {
   "cell_type": "code",
   "execution_count": 145,
   "metadata": {},
   "outputs": [],
   "source": [
    "tmp = np.arange(0,3)\n",
    "config_cond = np.tile(tmp,20)\n",
    "\n",
    "config_img = np.ones((3,))\n",
    "for img in range(2,21):\n",
    "    config_img = np.hstack((config_img,np.ones((3,))*img))\n",
    "\n",
    "#averaging difference/ modulation index across active neurons (1 active condition) - group by image\n",
    "mean_mod_idx = np.nanmean(mod_idx,1)\n",
    "se_mod_idx = np.true_divide(np.nanstd(mod_idx,1),np.sqrt(active_cells_per_img_count))\n",
    "\n",
    "title_list = ['Mid_vs_Low_Complexitiy','Original_vs_Low Complexiity','Original_vs_Mid_Complexity']\n",
    "for cidx in range(len(title_list)):\n",
    "    #cidx = 0     \n",
    "    #modulation index figure\n",
    "    cfg_idxs = np.where(config_cond==cidx)[0]\n",
    "\n",
    "    fig = plt.figure(figsize=(15,5))\n",
    "\n",
    "    plt.bar(config_img[cfg_idxs],mean_mod_idx[cfg_idxs],yerr = se_mod_idx[cfg_idxs])\n",
    "    #plot unity\n",
    "    axes = plt.gca()\n",
    "    xmin, xmax = axes.get_xlim()\n",
    "    ymin, ymax = axes.get_ylim()\n",
    "    plt.axhline(y=0, xmin=xmin, xmax= xmax, linewidth=1, color='k',linestyle = '-')\n",
    "    for idx in cfg_idxs:\n",
    "        plt.text(config_img[idx]-.25, ymax, 'n=%i' % active_cells_per_img_count[idx], fontsize=10)\n",
    "    plt.xticks(config_img[cfg_idxs].tolist())\n",
    "    plt.xlabel('Image',fontsize = 15)\n",
    "    plt.ylabel('Modulation Index',fontsize = 15)\n",
    "    plt.suptitle(title_list[cidx],fontsize = 15)\n",
    "\n",
    "    fig_fn = '%s_mod_idx_%s_thresh_%s_%i.pdf'%(title_list[cidx],response_type,filter_crit,filter_thresh)\n",
    "\n",
    "\n",
    "    fig_file_path = os.path.join(fig_out_dir, fig_fn)\n",
    "    plt.savefig(fig_file_path)\n",
    "    plt.close()"
   ]
  },
  {
   "cell_type": "code",
   "execution_count": 115,
   "metadata": {},
   "outputs": [
    {
     "data": {
      "text/plain": [
       "array([15., 15., 15., 16., 16., 16., 17., 17., 17., 18., 18., 18., 19.,\n",
       "       19., 19.])"
      ]
     },
     "execution_count": 115,
     "metadata": {},
     "output_type": "execute_result"
    }
   ],
   "source": [
    "config_img[45:]"
   ]
  },
  {
   "cell_type": "code",
   "execution_count": 116,
   "metadata": {},
   "outputs": [
    {
     "name": "stdout",
     "output_type": "stream",
     "text": [
      "[ 0.57018401  0.48650672  0.45366956  0.14738903  0.16775622  0.08253803\n",
      " -0.0384265  -0.00924158 -0.01303139  0.13091224  0.22296552  0.16873924\n",
      "  0.53853287  0.47098687  0.44448826]\n"
     ]
    }
   ],
   "source": [
    "print(response_mean_per_config[45:])"
   ]
  },
  {
   "cell_type": "code",
   "execution_count": 66,
   "metadata": {},
   "outputs": [],
   "source": [
    "#average over neurons\n",
    "response_mean_per_config = np.nanmean(response_array,1)\n",
    "\n",
    "#SHIFTING ORDER OF CONDITIONS - for intuitive arrangement\n",
    "response_cond_grouped = np.vstack((response_mean_per_config[0:nconfigs:3],\\\n",
    "                                  response_mean_per_config[2:nconfigs:3],\\\n",
    "                                  response_mean_per_config[1:nconfigs:3]))"
   ]
  },
  {
   "cell_type": "code",
   "execution_count": 67,
   "metadata": {},
   "outputs": [],
   "source": [
    "frac_active_cells = active_cell_count/float(total_cell_count)\n",
    "\n",
    "#average over images\n",
    "response_per_cond_mean = np.nanmean(response_cond_grouped,1)\n",
    "response_per_cond_se = np.nanstd(response_cond_grouped,1)/np.sqrt((nconfigs/3))"
   ]
  },
  {
   "cell_type": "code",
   "execution_count": 68,
   "metadata": {},
   "outputs": [
    {
     "data": {
      "text/plain": [
       "array([0.25704893, 0.23358136, 0.2614865 ])"
      ]
     },
     "execution_count": 68,
     "metadata": {},
     "output_type": "execute_result"
    }
   ],
   "source": [
    "response_per_cond_mean"
   ]
  },
  {
   "cell_type": "code",
   "execution_count": 69,
   "metadata": {},
   "outputs": [
    {
     "data": {
      "text/plain": [
       "F_onewayResult(statistic=0.15141912881625702, pvalue=0.8598319579019401)"
      ]
     },
     "execution_count": 69,
     "metadata": {},
     "output_type": "execute_result"
    }
   ],
   "source": [
    "stats.f_oneway(response_cond_grouped[0,:],response_cond_grouped[1,:],response_cond_grouped[2,:])"
   ]
  },
  {
   "cell_type": "code",
   "execution_count": 70,
   "metadata": {},
   "outputs": [
    {
     "data": {
      "image/png": "[encoded data removed]",
      "text/plain": [
       "<Figure size 576x576 with 1 Axes>"
      ]
     },
     "metadata": {
      "needs_background": "light"
     },
     "output_type": "display_data"
    }
   ],
   "source": [
    "bar_loc = np.zeros((3,))\n",
    "width = 0.4         # the width of the bars\n",
    "xloc = 1\n",
    "count = 0\n",
    "\n",
    "for j in range(3):\n",
    "    bar_loc[count] = xloc\n",
    "    xloc = xloc + width\n",
    "    count = count+1\n",
    "\n",
    "fig = plt.figure(figsize=(8,8))\n",
    "plt.bar(bar_loc[0],response_per_cond_mean[0],width,color = 'b',yerr = response_per_cond_se[0])\n",
    "plt.bar(bar_loc[1],response_per_cond_mean[1],width,color = 'r',yerr = response_per_cond_se[1])\n",
    "plt.bar(bar_loc[2],response_per_cond_mean[2],width,color = 'g',yerr = response_per_cond_se[2])\n",
    "\n",
    "axes = plt.gca()\n",
    "xmin, xmax = axes.get_xlim()\n",
    "ymin, ymax = axes.get_ylim()\n",
    "plt.axhline(y=0, xmin=xmin, xmax= xmax, linewidth=1, color='k',linestyle = '-')\n",
    "\n",
    "xtick_loc = []\n",
    "xtick_label = []\n",
    "\n",
    "plt.xticks(xtick_loc,xtick_label)\n",
    "plt.xlabel('Condition',fontsize = 15)\n",
    "plt.ylabel('Average Response',fontsize = 15)\n",
    "plt.suptitle('Average %s Across Neurons'%(response_type),fontsize = 15)\n",
    "\n",
    "\n",
    "plt.text(bar_loc[0]-.25, ymax, 'n=%i, f=%.04f' % (active_cell_count, frac_active_cells), fontsize=10)\n",
    "\n",
    "\n",
    "fig_fn = '%s_avg_response_per_cond_across_images_%s_thresh_%s_%.02f.png'%(area,response_type,filter_crit,filter_thresh)\n",
    "\n",
    "fig_file_path = os.path.join(fig_out_dir, fig_fn)\n",
    "#plt.savefig(fig_file_path)\n",
    "#plt.close()"
   ]
  },
  {
   "cell_type": "code",
   "execution_count": null,
   "metadata": {},
   "outputs": [],
   "source": [
    "active_cells_per_img_count"
   ]
  },
  {
   "cell_type": "code",
   "execution_count": null,
   "metadata": {},
   "outputs": [],
   "source": []
  },
  {
   "cell_type": "code",
   "execution_count": 116,
   "metadata": {},
   "outputs": [
    {
     "name": "stderr",
     "output_type": "stream",
     "text": [
      "/home/cesar/envs/suite2p/lib/python3.6/site-packages/seaborn/categorical.py:3692: UserWarning: The `size` paramter has been renamed to `height`; please update your code.\n",
      "  warnings.warn(msg, UserWarning)\n"
     ]
    }
   ],
   "source": [
    "\n",
    "ylabel = 'Average Response'\n",
    "\n",
    "resp_dfs = []\n",
    "for cidx in range(response_array.shape[0]):\n",
    "    response = response_array[cidx,:]\n",
    "    cell = np.arange(active_cell_count)\n",
    "    cond = np.ones((active_cell_count,))*cidx\n",
    "    mdf = pd.DataFrame({'%s' % ylabel: response,\n",
    "                        'response': response,\n",
    "                        'cell': cell,\n",
    "                        'cond': cond,\n",
    "                       })\n",
    "\n",
    "    resp_dfs.append(mdf)\n",
    "resp_dfs = pd.concat(resp_dfs, axis=0)\n",
    "\n",
    "bar_loc = np.arange(0,3)\n",
    "width = 0.5\n",
    "\n",
    "palette = sns.color_palette([\"#4c72b0\",\"#c44e52\",\"#55a868\"])\n",
    "sns.set_palette(palette)\n",
    "\n",
    "p = sns.catplot(x='cond', y='response', kind=\"swarm\", hue = 'cond',data=resp_dfs,size = 10);\n",
    "\n",
    "axes = p.ax\n",
    "ymin,ymax = axes.get_ylim()\n",
    "xmin,xmax = axes.get_xlim()\n",
    "\n",
    "for idx in range(3):\n",
    "    p.ax.hlines(y = response_per_cond_mean[idx], xmin=bar_loc[idx]-(width/2), xmax = bar_loc[idx]+(width/2), linewidth=2, color='k',linestyle = '-')\n",
    "    p.ax.hlines(y = response_per_cond_mean[idx] + response_per_cond_se[idx], xmin=bar_loc[idx]-(width/2), xmax = bar_loc[idx]+(width/2), linewidth=1, color='k',linestyle = '--')\n",
    "    p.ax.hlines(y = response_per_cond_mean[idx] - response_per_cond_se[idx], xmin=bar_loc[idx]-(width/2), xmax = bar_loc[idx]+(width/2), linewidth=1, color='k',linestyle = '--')\n",
    "\n",
    "\n",
    "\n",
    "\n",
    "p.ax.set_xticks(())\n",
    "p.ax.set_xlabel('Condition',fontsize = 15)\n",
    "p.ax.set_ylabel('Average Response',fontsize = 15)\n",
    "p.fig.suptitle('Average %s Across Neurons'%(response_type),fontsize = 15)\n",
    "\n",
    "\n",
    "p.ax.text(bar_loc[0]-.25, ymax, 'n=%i, f=%.04f' % (active_cell_count, frac_active_cells), fontsize=10)\n",
    "\n",
    "\n",
    "fig_fn = '%s_avg_response_per_cond_scatter_neurons_%s_thresh_%s_%.02f.png'%(area,response_type,filter_crit,filter_thresh)\n",
    "\n",
    "fig_file_path = os.path.join(fig_out_dir, fig_fn)\n",
    "plt.savefig(fig_file_path)\n",
    "\n",
    "plt.close()\n"
   ]
  },
  {
   "cell_type": "code",
   "execution_count": null,
   "metadata": {},
   "outputs": [],
   "source": []
  },
  {
   "cell_type": "code",
   "execution_count": null,
   "metadata": {},
   "outputs": [],
   "source": []
  },
  {
   "cell_type": "code",
   "execution_count": null,
   "metadata": {},
   "outputs": [],
   "source": []
  },
  {
   "cell_type": "code",
   "execution_count": 18,
   "metadata": {},
   "outputs": [],
   "source": [
    "#randomply split data and plot\n",
    "\n",
    "half1_idxs = np.arange(0,response_array.shape[1],2)\n",
    "half2_idxs = np.arange(1,response_array.shape[1],2)\n",
    "half_cells = half1_idxs.size\n",
    "\n",
    "response_array_half1 = response_array[:,half1_idxs]\n",
    "response_array_half2 = response_array[:,half2_idxs]\n",
    "\n",
    "response_per_cond_half1_mean = np.nanmean(response_array_half1,1)\n",
    "response_per_cond_half2_mean = np.nanmean(response_array_half2,1)\n",
    "\n",
    "response_per_cond_half1_se = np.nanstd(response_array_half1,1)/np.sqrt(half_cells)\n",
    "response_per_cond_half2_se = np.nanstd(response_array_half2,1)/np.sqrt(half_cells)\n",
    "\n",
    "\n",
    "bar_loc = np.zeros((3,))\n",
    "width = 0.4         # the width of the bars\n",
    "xloc = 1\n",
    "count = 0\n",
    "\n",
    "for j in range(3):\n",
    "    bar_loc[count] = xloc\n",
    "    xloc = xloc + width\n",
    "    count = count+1\n",
    "\n",
    "fig = plt.figure(figsize=(8,8))\n",
    "plt.bar(bar_loc[0],response_per_cond_half1_mean[0],width,color = 'b',yerr = response_per_cond_half1_se[0])\n",
    "plt.bar(bar_loc[1],response_per_cond_half1_mean[1],width,color = 'r',yerr = response_per_cond_half1_se[1])\n",
    "plt.bar(bar_loc[2],response_per_cond_half1_mean[2],width,color = 'g',yerr = response_per_cond_half1_se[2])\n",
    "\n",
    "axes = plt.gca()\n",
    "xmin, xmax = axes.get_xlim()\n",
    "ymin, ymax = axes.get_ylim()\n",
    "plt.axhline(y=0, xmin=xmin, xmax= xmax, linewidth=1, color='k',linestyle = '-')\n",
    "\n",
    "xtick_loc = []\n",
    "xtick_label = []\n",
    "\n",
    "plt.xticks(xtick_loc,xtick_label)\n",
    "plt.xlabel('Condition',fontsize = 15)\n",
    "plt.ylabel('Average Response',fontsize = 15)\n",
    "plt.suptitle('Average %s Across Neurons'%(response_type),fontsize = 15)\n",
    "\n",
    "\n",
    "plt.text(bar_loc[0]-.25, ymax, 'n=%i' % (half_cells), fontsize=10)\n",
    "\n",
    "\n",
    "fig_fn = '%s_half1_avg_response_per_cond_across_neurons_%s_thresh_%s_%.02f.png'%(area,response_type,filter_crit,filter_thresh)\n",
    "\n",
    "fig_file_path = os.path.join(fig_out_dir, fig_fn)\n",
    "plt.savefig(fig_file_path)\n",
    "plt.close()\n",
    "\n",
    "\n",
    "\n",
    "fig = plt.figure(figsize=(8,8))\n",
    "plt.bar(bar_loc[0],response_per_cond_half2_mean[0],width,color = 'b',yerr = response_per_cond_half2_se[0])\n",
    "plt.bar(bar_loc[1],response_per_cond_half2_mean[1],width,color = 'r',yerr = response_per_cond_half2_se[1])\n",
    "plt.bar(bar_loc[2],response_per_cond_half2_mean[2],width,color = 'g',yerr = response_per_cond_half2_se[2])\n",
    "\n",
    "axes = plt.gca()\n",
    "xmin, xmax = axes.get_xlim()\n",
    "ymin, ymax = axes.get_ylim()\n",
    "plt.axhline(y=0, xmin=xmin, xmax= xmax, linewidth=1, color='k',linestyle = '-')\n",
    "\n",
    "xtick_loc = []\n",
    "xtick_label = []\n",
    "\n",
    "plt.xticks(xtick_loc,xtick_label)\n",
    "plt.xlabel('Condition',fontsize = 15)\n",
    "plt.ylabel('Average Response',fontsize = 15)\n",
    "plt.suptitle('Average %s Across Neurons'%(response_type),fontsize = 15)\n",
    "\n",
    "\n",
    "plt.text(bar_loc[0]-.25, ymax, 'n=%i' % (half_cells), fontsize=10)\n",
    "\n",
    "\n",
    "fig_fn = '%s_half2_avg_response_per_cond_across_neurons_%s_thresh_%s_%.04f.png'%(area,response_type,filter_crit,filter_thresh)\n",
    "\n",
    "fig_file_path = os.path.join(fig_out_dir, fig_fn)\n",
    "plt.savefig(fig_file_path)\n",
    "plt.close()"
   ]
  },
  {
   "cell_type": "code",
   "execution_count": null,
   "metadata": {},
   "outputs": [],
   "source": []
  },
  {
   "cell_type": "code",
   "execution_count": null,
   "metadata": {},
   "outputs": [],
   "source": []
  },
  {
   "cell_type": "code",
   "execution_count": null,
   "metadata": {
    "scrolled": true
   },
   "outputs": [],
   "source": []
  },
  {
   "cell_type": "code",
   "execution_count": null,
   "metadata": {},
   "outputs": [],
   "source": []
  },
  {
   "cell_type": "code",
   "execution_count": null,
   "metadata": {},
   "outputs": [],
   "source": []
  },
  {
   "cell_type": "code",
   "execution_count": null,
   "metadata": {},
   "outputs": [],
   "source": []
  },
  {
   "cell_type": "code",
   "execution_count": null,
   "metadata": {},
   "outputs": [],
   "source": [
    "\n",
    "ylabel = 'Average Response'\n",
    "\n",
    "resp_dfs = []\n",
    "for cidx in range(response_array.shape[0]):\n",
    "    response = response_array[cidx,:]\n",
    "    cell = np.arange(active_cell_count)\n",
    "    cond = np.ones((active_cell_count,))*cidx\n",
    "    mdf = pd.DataFrame({'%s' % ylabel: response,\n",
    "                        'response': response,\n",
    "                        'cell': cell,\n",
    "                        'cond': cond,\n",
    "                       })\n",
    "\n",
    "    resp_dfs.append(mdf)\n",
    "resp_dfs = pd.concat(resp_dfs, axis=0)\n",
    "\n",
    "bar_loc = np.arange(0,3)\n",
    "width = 0.5\n",
    "\n",
    "palette = sns.color_palette([\"#4c72b0\",\"#55a868\",\"#c44e52\"])\n",
    "sns.set_palette(palette)\n",
    "\n",
    "p = sns.catplot(x='cond', y='response', kind=\"swarm\", hue = 'cond',data=resp_dfs,size = 10);\n",
    "\n",
    "axes = p.ax\n",
    "ymin,ymax = axes.get_ylim()\n",
    "xmin,xmax = axes.get_xlim()\n",
    "\n",
    "for idx in range(3):\n",
    "    p.ax.hlines(y = response_per_cond_mean[idx], xmin=bar_loc[idx]-(width/2), xmax = bar_loc[idx]+(width/2), linewidth=2, color='k',linestyle = '-')\n",
    "    p.ax.hlines(y = response_per_cond_mean[idx] + response_per_cond_se[idx], xmin=bar_loc[idx]-(width/2), xmax = bar_loc[idx]+(width/2), linewidth=1, color='k',linestyle = '--')\n",
    "    p.ax.hlines(y = response_per_cond_mean[idx] - response_per_cond_se[idx], xmin=bar_loc[idx]-(width/2), xmax = bar_loc[idx]+(width/2), linewidth=1, color='k',linestyle = '--')\n",
    "\n",
    "\n",
    "\n",
    "\n",
    "p.ax.set_xticks(())\n",
    "p.ax.set_xlabel('Condition',fontsize = 15)\n",
    "p.ax.set_ylabel('Average Response',fontsize = 15)\n",
    "p.fig.suptitle('Average %s Across Neurons'%(response_type),fontsize = 15)\n",
    "\n",
    "\n",
    "p.ax.text(bar_loc[0]-.25, ymax, 'n=%i, f=%.04f' % (active_cell_count, frac_active_cells), fontsize=10)\n",
    "\n",
    "\n",
    "fig_fn = '%s_avg_response_per_cond_scatter_neurons_%s_thresh_%s_%i.png'%(area,response_type,filter_crit,filter_thresh)\n",
    "\n",
    "fig_file_path = os.path.join(fig_out_dir, fig_fn)\n",
    "plt.savefig(fig_file_path)\n",
    "\n",
    "plt.close()\n"
   ]
  },
  {
   "cell_type": "code",
   "execution_count": null,
   "metadata": {},
   "outputs": [],
   "source": []
  },
  {
   "cell_type": "code",
   "execution_count": null,
   "metadata": {},
   "outputs": [],
   "source": []
  },
  {
   "cell_type": "code",
   "execution_count": null,
   "metadata": {},
   "outputs": [],
   "source": []
  },
  {
   "cell_type": "code",
   "execution_count": null,
   "metadata": {},
   "outputs": [],
   "source": [
    "data_grp.close()"
   ]
  },
  {
   "cell_type": "code",
   "execution_count": null,
   "metadata": {},
   "outputs": [],
   "source": [
    "       \n",
    "        \n",
    " "
   ]
  },
  {
   "cell_type": "code",
   "execution_count": null,
   "metadata": {},
   "outputs": [],
   "source": [
    "#make figure\n",
    "trace_labels = ['Original','Sf-Match','Corr-Match']\n",
    "fig_fn = 'avg_trace_per_session_%s_%s_thresh_%s_%i.png'%(area, response_type,filter_crit,filter_thresh)\n",
    "fig_file_path = os.path.join(fig_out_dir,fig_fn)\n",
    "\n",
    "\n",
    "p = sns.FacetGrid(sess_dfs, row = 'animalid',col = 'session', hue='stim_cond', size=10)\n",
    "p = p.map(pl.fill_between, \"tsec\", \"fill_minus\", \"fill_plus\", alpha=0.5)\n",
    "p = p.map(pl.plot, \"tsec\", ylabel, lw=1, alpha=1)\n",
    "pl.subplots_adjust(wspace=0.1, hspace=0.8, top=0.85, bottom=0.1, left=0.1)\n",
    "\n",
    "axes = p.axes\n",
    "ymin,ymax = axes[0][0].get_ylim()\n",
    "xmin,xmax = axes[0][0].get_xlim()\n",
    "start_val = 0.0\n",
    "end_val = 1.0 #hard-coding\n",
    "for ri in range(p.axes.shape[0]):\n",
    "    for ci in range(p.axes.shape[1]):\n",
    "            #print ri, ci\n",
    "            p.axes[ri,ci].add_patch(patches.Rectangle((start_val, ymin), end_val, ymax-ymin, linewidth=0, fill=True, color='k', alpha=0.2))\n",
    "            p.axes[ri,ci].text(-0.999, ymax+(ymax*0), 'n=%i, f = %.04f' % (neuron_count[ri,ci],neuron_frac[ri,ci]), fontsize=10)\n",
    "            p.axes[ri,ci].axhline(y=0, xmin=xmin, xmax= xmax, linewidth=1, color='k',linestyle = '--')\n",
    "\n",
    "            if ri == 0:\n",
    "              #  p.axes[ri].yaxis.set_major_locator(pl.MaxNLocator(2))\n",
    "                p.axes[ri,ci].set_xticks(())\n",
    "                sns.despine(trim=True, offset=0, bottom=True, left=False, ax=p.axes[ri,ci])\n",
    "                p.axes[ri,ci].set_xlabel('time (s)', fontsize=8)\n",
    "                p.axes[ri,ci].set_ylabel('%s' % ylabel, fontsize=8)\n",
    "            else:\n",
    "                sns.despine(trim=True, offset=0, bottom=True, left=True, ax=p.axes[ri,ci])\n",
    "                p.axes[ri,ci].tick_params(\n",
    "                                        axis='both',          # changes apply to the x-axis\n",
    "                                        which='both',      # both major and minor ticks are affected\n",
    "                                        bottom='off',      # ticks along the bottom edge are off\n",
    "                                        left='off',\n",
    "                                        top='off',         # ticks along the top edge are off\n",
    "                                        labelbottom='off',\n",
    "                                        labelleft='off') # labels along the bottom edge are off)\n",
    "                p.axes[ri,ci].set_xlabel('')\n",
    "                p.axes[ri,ci].set_ylabel('')\n",
    "pl.legend(bbox_to_anchor=(0, -0.3), loc=2, borderaxespad=0.1, labels=trace_labels, fontsize=8)\n",
    "p.savefig(fig_file_path)\n",
    "plt.close()"
   ]
  },
  {
   "cell_type": "code",
   "execution_count": null,
   "metadata": {},
   "outputs": [],
   "source": [
    "\n",
    "\n"
   ]
  },
  {
   "cell_type": "code",
   "execution_count": null,
   "metadata": {},
   "outputs": [],
   "source": [
    "#put things into pandas df for plotting\n",
    "\n",
    "\n",
    "ylabel = 'Normalized Response'\n",
    "\n",
    "for sess_idx, sess in enumerate(sess_list):\n",
    "    print(sess)\n",
    "#     sess_idx = 0\n",
    "#     sess = sess_list[sess_idx]\n",
    "    i1 = findOccurrences(sess,'_')[0]\n",
    "    animalid = sess[0:i1]\n",
    "    session = sess[i1+1:]\n",
    "\n",
    "    if animalid not in animalids:\n",
    "        animalids.append(animalid)\n",
    "        sess_count.append(0)\n",
    "\n",
    "    sess_count[animalids.index(animalid)] = sess_count[animalids.index(animalid)]+1\n",
    "\n",
    "    data_array_fn = '%s_filtered_%s_traces_thresh_%s_%i.hdf5'%(sess, response_type, filter_crit, filter_thresh)\n",
    "    data_array_filepath = os.path.join(aggregate_file_dir, data_array_fn)\n",
    "    data_grp = h5py.File(data_array_filepath, 'r')\n",
    "\n",
    "    if sess_idx == 0:\n",
    "        frames_tsec = np.array(data_grp.attrs['frames_tsec'])\n",
    "\n",
    "\n",
    "    curr_slice = 'Slice01'#hard-code planar data for now\n",
    "\n",
    "    sess_trace = np.array(data_grp['/'.join([curr_slice, 'filtered_trace_per_cond_per_neuron_mean_across_images'])])\n",
    "\n",
    "    #store in array\n",
    "    if sess_idx == 0:\n",
    "        trace_array = sess_trace\n",
    "    else:\n",
    "        #pad array with nan if necessary\n",
    "        if sess_trace.shape[0]<trace_array.shape[0]:\n",
    "            sess_trace = np.pad(sess_trace,((0,1),(0,0),(0,0)),'constant',constant_values = (0,np.nan))\n",
    "\n",
    "        trace_array = np.dstack((trace_array,sess_trace))\n",
    "\n",
    "\n",
    "data_grp.close()\n"
   ]
  },
  {
   "cell_type": "code",
   "execution_count": null,
   "metadata": {},
   "outputs": [],
   "source": [
    "#get some activity stats\n",
    "n_total_cells = trace_array.shape[2]\n",
    "n_active_cells = np.sum(np.logical_not(np.isnan(trace_array[0,0,:])))\n",
    "frac_active_cells = n_active_cells/float(n_total_cells)"
   ]
  },
  {
   "cell_type": "code",
   "execution_count": null,
   "metadata": {},
   "outputs": [],
   "source": [
    "trace_array_mean = np.nanmean(trace_array,2)\n",
    "trace_array_se = np.nanstd(trace_array,2)/np.sqrt(n_active_cells)"
   ]
  },
  {
   "cell_type": "code",
   "execution_count": null,
   "metadata": {},
   "outputs": [],
   "source": [
    "#put things into pandas df for plotting\n",
    "conddfs = []\n",
    "ylabel = 'Normalized Response'\n",
    "#cfg_key = 'config001'\n",
    "for cond_count in range(trace_array_mean.shape[1]):\n",
    "    stim_cond = cond_count\n",
    "    mean_trace = trace_array_mean[:,cond_count]\n",
    "    sem_trace = trace_array_se[:,cond_count]\n",
    "    nreps = n_active_cells\n",
    "    cdf = pd.DataFrame({'%s' % ylabel: mean_trace,\n",
    "                        'tsec': frames_tsec,\n",
    "                        'sem': sem_trace,\n",
    "                       'fill_minus': mean_trace - sem_trace,\n",
    "                        'fill_plus': mean_trace + sem_trace,\n",
    "                        'stim_cond' : [stim_cond for _ in range(len(mean_trace))],\n",
    "                       'nreps': [nreps for _ in range(len(mean_trace))]\n",
    "                       })\n",
    "\n",
    "    conddfs.append(cdf)\n",
    "conddfs = pd.concat(conddfs, axis=0)"
   ]
  },
  {
   "cell_type": "code",
   "execution_count": null,
   "metadata": {},
   "outputs": [],
   "source": [
    "fig_fn = 'avg_trace_across_all_active_cells_%s_%s_thresh_%s_%i.png'%(area, response_type,filter_crit,filter_thresh)\n",
    "fig_file_path = os.path.join(fig_out_dir,fig_fn)\n",
    "\n",
    "#make figure\n",
    "p = sns.FacetGrid(conddfs, hue='stim_cond', size=10)\n",
    "p = p.map(pl.fill_between, \"tsec\", \"fill_minus\", \"fill_plus\", alpha=0.5)\n",
    "p = p.map(pl.plot, \"tsec\", ylabel, lw=1, alpha=1)\n",
    "\n",
    "\n",
    "axes = p.ax\n",
    "ymin,ymax = axes.get_ylim()\n",
    "xmin,xmax = axes.get_xlim()\n",
    "start_val = 0.0\n",
    "end_val = 1.0 #hard-coding\n",
    "\n",
    "        #print ri, ci\n",
    "p.ax.add_patch(patches.Rectangle((start_val, ymin), end_val, ymax-ymin, linewidth=0, fill=True, color='k', alpha=0.2))\n",
    "p.ax.text(-0.999, ymax+(ymax*0), 'n=%i, f=%.04f' % (n_active_cells,frac_active_cells), fontsize=10)\n",
    "p.ax.axhline(y=0, xmin=xmin, xmax= xmax, linewidth=1, color='k',linestyle = '--')\n",
    "\n",
    "\n",
    "#p.ax.set_xticks(())\n",
    "#sns.despine(trim=True, offset=0, bottom=True, left=False, ax=p.ax)\n",
    "p.ax.set_xlabel('time (s)', fontsize=12)\n",
    "p.ax.set_ylabel('%s' % ylabel, fontsize=12)\n",
    "\n",
    "\n",
    "pl.legend(bbox_to_anchor=(0, -0.1), loc=2, borderaxespad=0.1, labels=trace_labels, fontsize=10)\n",
    "\n",
    "\n",
    "p.savefig(fig_file_path)\n",
    "plt.close()"
   ]
  },
  {
   "cell_type": "code",
   "execution_count": null,
   "metadata": {},
   "outputs": [],
   "source": []
  },
  {
   "cell_type": "code",
   "execution_count": null,
   "metadata": {},
   "outputs": [],
   "source": [
    "# "
   ]
  },
  {
   "cell_type": "code",
   "execution_count": null,
   "metadata": {},
   "outputs": [],
   "source": [
    "#----Junk Code below here------"
   ]
  },
  {
   "cell_type": "code",
   "execution_count": null,
   "metadata": {},
   "outputs": [],
   "source": []
  },
  {
   "cell_type": "code",
   "execution_count": null,
   "metadata": {},
   "outputs": [],
   "source": []
  }
 ],
 "metadata": {
  "kernelspec": {
   "display_name": "Python 3",
   "language": "python",
   "name": "python3"
  },
  "language_info": {
   "codemirror_mode": {
    "name": "ipython",
    "version": 3
   },
   "file_extension": ".py",
   "mimetype": "text/x-python",
   "name": "python",
   "nbconvert_exporter": "python",
   "pygments_lexer": "ipython3",
   "version": "3.6.8"
  }
 },
 "nbformat": 4,
 "nbformat_minor": 2
}
