{
 "cells": [
  {
   "cell_type": "code",
   "execution_count": 1,
   "metadata": {},
   "outputs": [],
   "source": [
    "import h5py\n",
    "import os\n",
    "import glob\n",
    "import shutil\n",
    "\n",
    "def findOccurrences(s, ch):\n",
    "    return [i for i, letter in enumerate(s) if letter == ch]"
   ]
  },
  {
   "cell_type": "code",
   "execution_count": 2,
   "metadata": {},
   "outputs": [],
   "source": [
    "class struct: pass\n",
    "opts = struct()\n",
    "opts = struct()\n",
    "opts.rootdir = '/n/coxfs01/2p-data'\n",
    "opts.acquisition = 'FOV1_zoom4p0x'\n",
    "opts.traceid = 'traces001'\n",
    "opts.combined_run = 'scenes_combined'\n",
    "\n",
    "dst_root = '/n/coxfs01/cechavarria/2p-aggregate/scenes'\n",
    "\n",
    "traceid = '%s_s2p'%(opts.traceid)\n",
    "filter_crit = 'zscore'\n",
    "filter_thresh = 1"
   ]
  },
  {
   "cell_type": "code",
   "execution_count": 8,
   "metadata": {},
   "outputs": [],
   "source": [
    "\n",
    "sess_list = ['JC097_20190621','JC085_20190624','JC097_20190628','JC097_20190704','JC085_20190712']\n",
    "area = 'V1'\n",
    "\n",
    "\n",
    "# sess_list = ['JC080_20190619','JC091_20190621','JC091_20190628','JC097_20190702','JC091_20190703','JC085_20190704','JC097_20190708']\n",
    "# area = 'LM'\n",
    "\n",
    "# sess_list = ['JC091_20190625','JC091_20190701','JC091_20190705']\n",
    "# area = 'LI'"
   ]
  },
  {
   "cell_type": "code",
   "execution_count": 17,
   "metadata": {
    "scrolled": true
   },
   "outputs": [
    {
     "name": "stdout",
     "output_type": "stream",
     "text": [
      "JC097_20190621\n",
      "JC085_20190624\n",
      "JC097_20190628\n",
      "JC097_20190704\n",
      "JC085_20190712\n"
     ]
    }
   ],
   "source": [
    "for sess in sess_list:\n",
    "# sessidx = 0\n",
    "# sess = sess_list[0]\n",
    "    print(sess)\n",
    "    i1 = findOccurrences(sess,'_')[0]\n",
    "\n",
    "    opts.animalid = sess[0:i1]\n",
    "    opts.session = sess[i1+1:]\n",
    "\n",
    "\n",
    "    #% Set up source paths:    \n",
    "    acquisition_dir = os.path.join(opts.rootdir, opts.animalid, opts.session, opts.acquisition)\n",
    "    traceid_dir = os.path.join(acquisition_dir, opts.combined_run,'traces',traceid)\n",
    "\n",
    "    data_array_fn = 'filtered_norm_df_traces_thresh_%s_%i.hdf5'%(filter_crit, filter_thresh)\n",
    "    source_filepath = os.path.join(traceid_dir, 'data_arrays', data_array_fn)\n",
    "    \n",
    "#     if not os.path.isfile(source_filepath):\n",
    "#         python_script_path = '/n/coxfs01/cechavarria/repos/data_analysis/scenes/scripts/filter_and_average_traces.py'\n",
    "#         cmd = 'python %s -i %s -S %s -A %s -T %s -C %s -f %s -t %i'%(python_script_path,opts.animalid,opts.session,opts.acquisition,opts.traceid,opts.combined_run,filter_crit,filter_thresh)\n",
    "#         print(cmd)\n",
    "#         os.system(cmd)\n",
    "\n",
    "\n",
    "    #Set up dst paths:\n",
    "    dst_dir = os.path.join(dst_root,area,'files')\n",
    "    if not os.path.isdir(dst_dir):\n",
    "        os.makedirs(dst_dir)\n",
    "    data_array_fn = '%s_filtered_norm_df_traces_thresh_%s_%i.hdf5'%(sess, filter_crit, filter_thresh)\n",
    "    dst_filepath = os.path.join(dst_dir,data_array_fn)\n",
    "\n",
    "    shutil.copy(source_filepath, dst_filepath)"
   ]
  },
  {
   "cell_type": "code",
   "execution_count": 16,
   "metadata": {},
   "outputs": [
    {
     "name": "stdout",
     "output_type": "stream",
     "text": [
      "['/n/coxfs01/2p-data/JC085/20190712/FOV1_zoom4p0x/scenes_combined/traces/traces001_s2p/data_arrays/filtered_norm_df_traces_thresh_zscore_1.hdf5']\n"
     ]
    }
   ],
   "source": [
    "print(glob.glob('/n/coxfs01/2p-data/JC085/20190712/FOV1_zoom4p0x/scenes_combined/traces/traces001_s2p/data_arrays/filtered*'))"
   ]
  },
  {
   "cell_type": "code",
   "execution_count": 15,
   "metadata": {},
   "outputs": [
    {
     "data": {
      "text/plain": [
       "False"
      ]
     },
     "execution_count": 15,
     "metadata": {},
     "output_type": "execute_result"
    }
   ],
   "source": [
    "os.path.isfile(source_filepath)"
   ]
  },
  {
   "cell_type": "code",
   "execution_count": 1,
   "metadata": {},
   "outputs": [
    {
     "ename": "NameError",
     "evalue": "name 'os' is not defined",
     "output_type": "error",
     "traceback": [
      "\u001b[0;31m---------------------------------------------------------------------------\u001b[0m",
      "\u001b[0;31mNameError\u001b[0m                                 Traceback (most recent call last)",
      "\u001b[0;32m<ipython-input-1-dc66a93ec5c3>\u001b[0m in \u001b[0;36m<module>\u001b[0;34m\u001b[0m\n\u001b[0;32m----> 1\u001b[0;31m \u001b[0mos\u001b[0m\u001b[0;34m.\u001b[0m\u001b[0mpath\u001b[0m\u001b[0;34m.\u001b[0m\u001b[0misfile\u001b[0m\u001b[0;34m(\u001b[0m\u001b[0msource_file_path\u001b[0m\u001b[0;34m)\u001b[0m\u001b[0;34m\u001b[0m\u001b[0;34m\u001b[0m\u001b[0m\n\u001b[0m",
      "\u001b[0;31mNameError\u001b[0m: name 'os' is not defined"
     ]
    }
   ],
   "source": []
  },
  {
   "cell_type": "code",
   "execution_count": null,
   "metadata": {},
   "outputs": [],
   "source": []
  }
 ],
 "metadata": {
  "kernelspec": {
   "display_name": "Python 3",
   "language": "python",
   "name": "python3"
  },
  "language_info": {
   "codemirror_mode": {
    "name": "ipython",
    "version": 3
   },
   "file_extension": ".py",
   "mimetype": "text/x-python",
   "name": "python",
   "nbconvert_exporter": "python",
   "pygments_lexer": "ipython3",
   "version": "3.6.8"
  }
 },
 "nbformat": 4,
 "nbformat_minor": 2
}
