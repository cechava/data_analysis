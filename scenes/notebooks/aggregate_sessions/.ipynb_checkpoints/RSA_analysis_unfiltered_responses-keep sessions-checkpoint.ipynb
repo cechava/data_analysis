{
 "cells": [
  {
   "cell_type": "code",
   "execution_count": 1,
   "metadata": {},
   "outputs": [],
   "source": [
    "import h5py\n",
    "%matplotlib inline\n",
    "import seaborn as sns; sns.set()\n",
    "import matplotlib.pyplot as plt\n",
    "import matplotlib.patches as patches\n",
    "import sys\n",
    "import shutil\n",
    "import glob\n",
    "import optparse\n",
    "import os\n",
    "import json\n",
    "import pandas as pd\n",
    "import numpy as np\n",
    "import pylab as pl\n",
    "import scipy.stats as stats\n",
    "import seaborn as sns\n",
    "sns.set_style(\"ticks\")\n",
    "sns.set()\n",
    "sns.set_color_codes()\n",
    "\n",
    "def findOccurrences(s, ch):\n",
    "    return [i for i, letter in enumerate(s) if letter == ch]"
   ]
  },
  {
   "cell_type": "code",
   "execution_count": 219,
   "metadata": {},
   "outputs": [],
   "source": [
    "\n",
    "\n",
    "dset_list = ['V1_JC085_20190624','V1_JC085_20190712','V1_JC097_20190621','V1_JC097_20190628',\\\n",
    "             'V1_JC097_20190704',\\\n",
    "             'LM_JC080_20190619','LM_JC091_20190621','LM_JC091_20190703','LM_JC091_20190628',\\\n",
    "             'LM_JC097_20190702','LM_JC097_20190708','LM_JC085_20190704',\\\n",
    "             'LI_JC091_20190625','LI_JC091_20190701','LI_JC091_20190705'\n",
    "            ]\n",
    "\n",
    "\n",
    "response_type = 'df_f'\n",
    "\n",
    "filter_crit = 'zscore'\n",
    "filter_thresh = 1\n",
    "\n",
    "#define paths\n",
    "aggregate_root = '/n/coxfs01/cechavarria/2p-aggregate/scenes'\n",
    "fig_out_dir = os.path.join(aggregate_root,'all','figures')\n",
    "\n",
    "if not os.path.isdir(fig_out_dir):\n",
    "        os.makedirs(fig_out_dir)"
   ]
  },
  {
   "cell_type": "code",
   "execution_count": 220,
   "metadata": {},
   "outputs": [],
   "source": [
    "#get responses\n",
    "area_list = ['V1','LM','LI']\n",
    "animalid_list = []\n",
    "sess_count = []\n",
    "areaid = np.zeros((len(dset_list,)))\n",
    "animalid = np.zeros((len(dset_list,)))\n",
    "sessid = np.zeros((len(dset_list,)))\n",
    "\n",
    "\n",
    "for dset_idx, dset in enumerate(dset_list):\n",
    "    # dset_idx = 0\n",
    "    # dset = dset_list[dset_idx]\n",
    "\n",
    "    #figure out some indexes\n",
    "    i0 = findOccurrences(dset,'_')[0]\n",
    "    i1 = findOccurrences(dset,'_')[1]\n",
    "\n",
    "    area = dset[0:i0]\n",
    "    animal = dset[i0+1:i1]\n",
    "    session = dset[i1+1:]\n",
    "\n",
    "    if animal not in animalid_list:\n",
    "        animalid_list.append(animal)\n",
    "        sess_count.append(0)\n",
    "\n",
    "    sess_count[animalid_list.index(animal)] = sess_count[animalid_list.index(animal)]+1\n",
    "\n",
    "    areaid[dset_idx] = area_list.index(area)\n",
    "    animalid[dset_idx] = animalid_list.index(animal)\n",
    "    sessid[dset_idx] = sess_count[animalid_list.index(animal)]-1\n",
    "\n",
    "\n",
    "    #load data\n",
    "    aggregate_file_dir = os.path.join(aggregate_root,area,'files')\n",
    "    data_array_fn = '%s_%s_filtered_%s_responses_thresh_%s_%i.hdf5'%(animal, session, response_type, filter_crit, filter_thresh)\n",
    "    data_array_filepath = os.path.join(aggregate_file_dir, data_array_fn)\n",
    "    data_grp = h5py.File(data_array_filepath, 'r')\n",
    "\n",
    "    curr_slice = 'Slice01'#hard-code planar data for now\n",
    "    dset_response = np.array(data_grp['/'.join([curr_slice, 'filtered_response_per_cfg_mean_across_neurons'])])\n",
    "\n",
    "    nan_idxs = np.where(np.isnan(dset_response))[0]\n",
    "    if nan_idxs.size>0:\n",
    "        dset_response[nan_idxs] = 0 \n",
    "    #store in array\n",
    "    if dset_idx ==0:\n",
    "        dset_response_array = dset_response\n",
    "    else:\n",
    "        dset_response_array = np.vstack((dset_response_array,dset_response))"
   ]
  },
  {
   "cell_type": "code",
   "execution_count": 221,
   "metadata": {},
   "outputs": [],
   "source": [
    "R_resp = np.corrcoef(dset_response_array)"
   ]
  },
  {
   "cell_type": "code",
   "execution_count": 222,
   "metadata": {
    "scrolled": true
   },
   "outputs": [
    {
     "data": {
      "image/png": "[encoded data removed]",
      "text/plain": [
       "<Figure size 432x288 with 2 Axes>"
      ]
     },
     "metadata": {
      "needs_background": "light"
     },
     "output_type": "display_data"
    }
   ],
   "source": [
    "ax = sns.heatmap(R_resp,yticklabels=dset_list,xticklabels = False,center = 0, cmap = 'RdBu_r')"
   ]
  },
  {
   "cell_type": "code",
   "execution_count": 223,
   "metadata": {},
   "outputs": [],
   "source": [
    "R_resp_area = np.zeros((np.unique(areaid).size,np.unique(areaid).size))\n",
    "area_pairs = np.meshgrid(areaid,areaid)\n",
    "\n",
    "for area_idx1 in np.unique(areaid):\n",
    "    area_idx1 = int(area_idx1)\n",
    "    for area_idx2 in np.unique(areaid):\n",
    "        area_idx2 = int(area_idx2)\n",
    "\n",
    "        M1 = np.array(area_pairs[0]==area_idx1).astype('float64')\n",
    "        M2 = np.array(area_pairs[1]==area_idx2).astype('float64')\n",
    "\n",
    "        M = M1*M2\n",
    "       # M = np.tril(M,-1)\n",
    "        M[np.diag_indices(M.shape[0])] = np.nan\n",
    "        M[np.where(M==0)] = np.nan\n",
    "\n",
    "        R_masked = R_resp*M\n",
    "\n",
    "        R_resp_area[area_idx1,area_idx2]= np.nanmean(R_masked.flatten())"
   ]
  },
  {
   "cell_type": "code",
   "execution_count": 224,
   "metadata": {},
   "outputs": [
    {
     "data": {
      "text/plain": [
       "<matplotlib.axes._subplots.AxesSubplot at 0x7f0ab8c04978>"
      ]
     },
     "execution_count": 224,
     "metadata": {},
     "output_type": "execute_result"
    },
    {
     "data": {
      "image/png": "[encoded data removed]",
      "text/plain": [
       "<Figure size 432x288 with 2 Axes>"
      ]
     },
     "metadata": {
      "needs_background": "light"
     },
     "output_type": "display_data"
    }
   ],
   "source": [
    "sns.heatmap(R_resp_area,yticklabels=area_list,xticklabels = False,center = 0, cmap = 'RdBu_r')"
   ]
  },
  {
   "cell_type": "code",
   "execution_count": 225,
   "metadata": {},
   "outputs": [
    {
     "name": "stderr",
     "output_type": "stream",
     "text": [
      "/home/cesar/envs/suite2p/lib/python3.6/site-packages/ipykernel_launcher.py:3: FutureWarning: Using a non-tuple sequence for multidimensional indexing is deprecated; use `arr[tuple(seq)]` instead of `arr[seq]`. In the future this will be interpreted as an array index, `arr[np.array(seq)]`, which will result either in an error or a different result.\n",
      "  This is separate from the ipykernel package so we can avoid doing imports until\n",
      "/home/cesar/envs/suite2p/lib/python3.6/site-packages/ipykernel_launcher.py:4: FutureWarning: Using a non-tuple sequence for multidimensional indexing is deprecated; use `arr[tuple(seq)]` instead of `arr[seq]`. In the future this will be interpreted as an array index, `arr[np.array(seq)]`, which will result either in an error or a different result.\n",
      "  after removing the cwd from sys.path.\n",
      "/home/cesar/envs/suite2p/lib/python3.6/site-packages/ipykernel_launcher.py:11: FutureWarning: Using a non-tuple sequence for multidimensional indexing is deprecated; use `arr[tuple(seq)]` instead of `arr[seq]`. In the future this will be interpreted as an array index, `arr[np.array(seq)]`, which will result either in an error or a different result.\n",
      "  # This is added back by InteractiveShellApp.init_path()\n",
      "/home/cesar/envs/suite2p/lib/python3.6/site-packages/ipykernel_launcher.py:12: FutureWarning: Using a non-tuple sequence for multidimensional indexing is deprecated; use `arr[tuple(seq)]` instead of `arr[seq]`. In the future this will be interpreted as an array index, `arr[np.array(seq)]`, which will result either in an error or a different result.\n",
      "  if sys.path[0] == '':\n",
      "/home/cesar/envs/suite2p/lib/python3.6/site-packages/ipykernel_launcher.py:19: FutureWarning: Using a non-tuple sequence for multidimensional indexing is deprecated; use `arr[tuple(seq)]` instead of `arr[seq]`. In the future this will be interpreted as an array index, `arr[np.array(seq)]`, which will result either in an error or a different result.\n",
      "/home/cesar/envs/suite2p/lib/python3.6/site-packages/ipykernel_launcher.py:20: FutureWarning: Using a non-tuple sequence for multidimensional indexing is deprecated; use `arr[tuple(seq)]` instead of `arr[seq]`. In the future this will be interpreted as an array index, `arr[np.array(seq)]`, which will result either in an error or a different result.\n",
      "/home/cesar/envs/suite2p/lib/python3.6/site-packages/ipykernel_launcher.py:28: FutureWarning: Using a non-tuple sequence for multidimensional indexing is deprecated; use `arr[tuple(seq)]` instead of `arr[seq]`. In the future this will be interpreted as an array index, `arr[np.array(seq)]`, which will result either in an error or a different result.\n",
      "/home/cesar/envs/suite2p/lib/python3.6/site-packages/ipykernel_launcher.py:29: FutureWarning: Using a non-tuple sequence for multidimensional indexing is deprecated; use `arr[tuple(seq)]` instead of `arr[seq]`. In the future this will be interpreted as an array index, `arr[np.array(seq)]`, which will result either in an error or a different result.\n",
      "/home/cesar/envs/suite2p/lib/python3.6/site-packages/ipykernel_launcher.py:36: FutureWarning: Using a non-tuple sequence for multidimensional indexing is deprecated; use `arr[tuple(seq)]` instead of `arr[seq]`. In the future this will be interpreted as an array index, `arr[np.array(seq)]`, which will result either in an error or a different result.\n",
      "/home/cesar/envs/suite2p/lib/python3.6/site-packages/ipykernel_launcher.py:37: FutureWarning: Using a non-tuple sequence for multidimensional indexing is deprecated; use `arr[tuple(seq)]` instead of `arr[seq]`. In the future this will be interpreted as an array index, `arr[np.array(seq)]`, which will result either in an error or a different result.\n"
     ]
    }
   ],
   "source": [
    "V1_same_animal_diff_session_idxs = [[0,2],[1,3]]\n",
    "V1_same_animal_diff_session_filt=np.zeros((len(dset_list),len(dset_list)))\n",
    "V1_same_animal_diff_session_filt[V1_same_animal_diff_session_idxs]=1\n",
    "V1_same_animal_diff_session_R_resp = R_resp[V1_same_animal_diff_session_idxs]\n",
    "\n",
    "#ax = sns.heatmap(V1_same_animal_diff_session_filt,yticklabels=dset_list,xticklabels = False,linewidths = 0.5, cmap = 'RdBu_r')\n",
    "\n",
    "\n",
    "V1_diff_animal_idxs = [[0,0,1,1],[2,3,2,3]]\n",
    "V1_diff_animal_filt=np.zeros((len(dset_list),len(dset_list)))\n",
    "V1_diff_animal_filt[V1_diff_animal_idxs]=1\n",
    "V1_diff_animal_R_resp = R_resp[V1_diff_animal_idxs]\n",
    "\n",
    "#ax = sns.heatmap(V1_diff_animal_filt,yticklabels=dset_list,xticklabels = False,linewidths = 0.5, cmap = 'RdBu_r')\n",
    "\n",
    "\n",
    "LM_same_animal_diff_session_idxs = [[6,6,7,9],[7,8,8,10]]\n",
    "LM_same_animal_diff_session_filt=np.zeros((len(dset_list),len(dset_list)))\n",
    "LM_same_animal_diff_session_filt[LM_same_animal_diff_session_idxs]=1\n",
    "LM_same_animal_diff_session_R_resp = R_resp[LM_same_animal_diff_session_idxs]\n",
    "\n",
    "#ax = sns.heatmap(LM_same_animal_diff_session_filt,yticklabels=dset_list,xticklabels = False,linewidths = 0.5, cmap = 'RdBu_r')\n",
    "\n",
    "\n",
    "LM_diff_animal_idxs = [[5,5,5,5, 5, 5, 6, 6, 6,7, 7, 7,8, 8, 8, 9, 9,10],\\\n",
    "                       [6,7,8,9,10,11,9,10,11,9,10,11,9,10,11,10,11,11]]\n",
    "LM_diff_animal_filt=np.zeros((len(dset_list),len(dset_list)))\n",
    "LM_diff_animal_filt[LM_diff_animal_idxs]=1\n",
    "LM_diff_animal_R_resp = R_resp[LM_diff_animal_idxs]\n",
    "\n",
    "#ax = sns.heatmap(LM_diff_animal_filt,yticklabels=dset_list,xticklabels = False,linewidths = 0.5, cmap = 'RdBu_r')\n",
    "\n",
    "\n",
    "LI_same_animal_diff_session_idxs = [[12,12,13],[13,14,14]]\n",
    "LI_same_animal_diff_session_filt=np.zeros((len(dset_list),len(dset_list)))\n",
    "LI_same_animal_diff_session_filt[LI_same_animal_diff_session_idxs]=1\n",
    "LI_same_animal_diff_session_R_resp = R_resp[LI_same_animal_diff_session_idxs]\n",
    "\n",
    "#ax = sns.heatmap(LI_same_animal_diff_session_filt,yticklabels=dset_list,xticklabels = False,linewidths = 0.5, cmap = 'RdBu_r')\n"
   ]
  },
  {
   "cell_type": "code",
   "execution_count": 226,
   "metadata": {},
   "outputs": [
    {
     "data": {
      "text/plain": [
       "<BarContainer object of 1 artists>"
      ]
     },
     "execution_count": 226,
     "metadata": {},
     "output_type": "execute_result"
    },
    {
     "data": {
      "image/png": "[encoded data removed]",
      "text/plain": [
       "<Figure size 432x288 with 1 Axes>"
      ]
     },
     "metadata": {
      "needs_background": "light"
     },
     "output_type": "display_data"
    }
   ],
   "source": [
    "V1_same_animal_diff_session_resp_mean = np.mean(V1_same_animal_diff_session_R_resp)\n",
    "V1_diff_animal_resp_mean = np.mean(V1_diff_animal_R_resp)\n",
    "\n",
    "LM_same_animal_diff_session_resp_mean = np.mean(LM_same_animal_diff_session_R_resp)\n",
    "LM_diff_animal_resp_mean = np.mean(LM_diff_animal_R_resp)\n",
    "\n",
    "LI_same_animal_diff_session_resp_mean = np.mean(LI_same_animal_diff_session_R_resp)\n",
    "\n",
    "plt.bar(0, V1_same_animal_diff_session_resp_mean,width=0.5,color = 'b')\n",
    "plt.bar(0.5, V1_diff_animal_resp_mean,width=0.5,color = 'b')\n",
    "\n",
    "plt.bar(1.5, LM_same_animal_diff_session_resp_mean,width=0.5,color = 'c')\n",
    "plt.bar(2, LM_diff_animal_resp_mean,width=0.5,color = 'c')\n",
    "\n",
    "plt.bar(3, LI_same_animal_diff_session_resp_mean,width=0.5,color = 'm')\n"
   ]
  },
  {
   "cell_type": "code",
   "execution_count": null,
   "metadata": {},
   "outputs": [],
   "source": []
  },
  {
   "cell_type": "code",
   "execution_count": null,
   "metadata": {},
   "outputs": [],
   "source": []
  },
  {
   "cell_type": "code",
   "execution_count": 6,
   "metadata": {},
   "outputs": [],
   "source": [
    "#get responses\n",
    "area_list = ['V1','LM','LI']\n",
    "animalid_list = []\n",
    "sess_count = []\n",
    "areaid = np.zeros((len(dset_list,)))\n",
    "animalid = np.zeros((len(dset_list,)))\n",
    "sessid = np.zeros((len(dset_list,)))\n",
    "\n",
    "\n",
    "\n",
    "for dset_idx, dset in enumerate(dset_list):\n",
    "    # dset_idx = 0\n",
    "    # dset = dset_list[dset_idx]\n",
    "\n",
    "    #figure out some indexes\n",
    "    i0 = findOccurrences(dset,'_')[0]\n",
    "    i1 = findOccurrences(dset,'_')[1]\n",
    "\n",
    "    area = dset[0:i0]\n",
    "    animal = dset[i0+1:i1]\n",
    "    session = dset[i1+1:]\n",
    "\n",
    "    if animal not in animalid_list:\n",
    "        animalid_list.append(animal)\n",
    "        sess_count.append(0)\n",
    "\n",
    "    sess_count[animalid_list.index(animal)] = sess_count[animalid_list.index(animal)]+1\n",
    "\n",
    "    areaid[dset_idx] = area_list.index(area)\n",
    "    animalid[dset_idx] = animalid_list.index(animal)\n",
    "    sessid[dset_idx] = sess_count[animalid_list.index(animal)]-1\n",
    "\n",
    "\n",
    "    #load data\n",
    "    aggregate_file_dir = os.path.join(aggregate_root,area,'files')\n",
    "    data_array_fn = '%s_%s_filtered_%s_responses_thresh_%s_%i.hdf5'%(animal, session, response_type, filter_crit, filter_thresh)\n",
    "    data_array_filepath = os.path.join(aggregate_file_dir, data_array_fn)\n",
    "    data_grp = h5py.File(data_array_filepath, 'r')\n",
    "    \n",
    "    config_cond = np.array(data_grp['config_cond'])\n",
    "\n",
    "    curr_slice = 'Slice01'#hard-code planar data for now\n",
    "    \n",
    "   \n",
    "    dset_count = np.array(data_grp['/'.join([curr_slice, 'active_rois_per_config'])])\n",
    "\n",
    "\n",
    "    #store in array\n",
    "    if dset_idx ==0:\n",
    "        dset_count_array = dset_count\n",
    "    else:\n",
    "        dset_count_array = np.vstack((dset_count_array,dset_count))\n",
    "        \n"
   ]
  },
  {
   "cell_type": "code",
   "execution_count": 227,
   "metadata": {},
   "outputs": [
    {
     "data": {
      "text/plain": [
       "(15, 60)"
      ]
     },
     "execution_count": 227,
     "metadata": {},
     "output_type": "execute_result"
    }
   ],
   "source": []
  },
  {
   "cell_type": "code",
   "execution_count": 7,
   "metadata": {},
   "outputs": [],
   "source": [
    "\n",
    "R_count = np.corrcoef(dset_count_array)"
   ]
  },
  {
   "cell_type": "code",
   "execution_count": 8,
   "metadata": {},
   "outputs": [
    {
     "data": {
      "image/png": "[encoded data removed]",
      "text/plain": [
       "<Figure size 432x288 with 2 Axes>"
      ]
     },
     "metadata": {
      "needs_background": "light"
     },
     "output_type": "display_data"
    }
   ],
   "source": [
    "ax = sns.heatmap(R_count,yticklabels=dset_list,xticklabels = False,center = 0, cmap = 'RdBu_r')\n"
   ]
  },
  {
   "cell_type": "code",
   "execution_count": 189,
   "metadata": {},
   "outputs": [
    {
     "data": {
      "text/plain": [
       "<matplotlib.axes._subplots.AxesSubplot at 0x7f0ab8b6def0>"
      ]
     },
     "execution_count": 189,
     "metadata": {},
     "output_type": "execute_result"
    },
    {
     "data": {
      "image/png": "[encoded data removed]",
      "text/plain": [
       "<Figure size 432x288 with 2 Axes>"
      ]
     },
     "metadata": {
      "needs_background": "light"
     },
     "output_type": "display_data"
    }
   ],
   "source": [
    "R_count_area = np.zeros((np.unique(areaid).size,np.unique(areaid).size))\n",
    "area_pairs = np.meshgrid(areaid,areaid)\n",
    "\n",
    "for area_idx1 in np.unique(areaid):\n",
    "    area_idx1 = int(area_idx1)\n",
    "    for area_idx2 in np.unique(areaid):\n",
    "        area_idx2 = int(area_idx2)\n",
    "\n",
    "        M1 = np.array(area_pairs[0]==area_idx1).astype('float64')\n",
    "        M2 = np.array(area_pairs[1]==area_idx2).astype('float64')\n",
    "\n",
    "        M = M1*M2\n",
    "        M[np.diag_indices(M.shape[0])] = np.nan\n",
    "        M[np.where(M==0)] = np.nan\n",
    "\n",
    "        R_masked = R_count*M\n",
    "\n",
    "        R_count_area[area_idx1,area_idx2]= np.nanmean(R_masked.flatten())\n",
    "\n",
    "sns.heatmap(R_count_area,yticklabels=area_list,xticklabels = area_list,center = 0, cmap = 'RdBu_r')"
   ]
  },
  {
   "cell_type": "code",
   "execution_count": 214,
   "metadata": {
    "scrolled": true
   },
   "outputs": [
    {
     "name": "stderr",
     "output_type": "stream",
     "text": [
      "/home/cesar/envs/suite2p/lib/python3.6/site-packages/ipykernel_launcher.py:1: FutureWarning: Using a non-tuple sequence for multidimensional indexing is deprecated; use `arr[tuple(seq)]` instead of `arr[seq]`. In the future this will be interpreted as an array index, `arr[np.array(seq)]`, which will result either in an error or a different result.\n",
      "  \"\"\"Entry point for launching an IPython kernel.\n",
      "/home/cesar/envs/suite2p/lib/python3.6/site-packages/ipykernel_launcher.py:2: FutureWarning: Using a non-tuple sequence for multidimensional indexing is deprecated; use `arr[tuple(seq)]` instead of `arr[seq]`. In the future this will be interpreted as an array index, `arr[np.array(seq)]`, which will result either in an error or a different result.\n",
      "  \n",
      "/home/cesar/envs/suite2p/lib/python3.6/site-packages/ipykernel_launcher.py:4: FutureWarning: Using a non-tuple sequence for multidimensional indexing is deprecated; use `arr[tuple(seq)]` instead of `arr[seq]`. In the future this will be interpreted as an array index, `arr[np.array(seq)]`, which will result either in an error or a different result.\n",
      "  after removing the cwd from sys.path.\n",
      "/home/cesar/envs/suite2p/lib/python3.6/site-packages/ipykernel_launcher.py:5: FutureWarning: Using a non-tuple sequence for multidimensional indexing is deprecated; use `arr[tuple(seq)]` instead of `arr[seq]`. In the future this will be interpreted as an array index, `arr[np.array(seq)]`, which will result either in an error or a different result.\n",
      "  \"\"\"\n",
      "/home/cesar/envs/suite2p/lib/python3.6/site-packages/ipykernel_launcher.py:6: FutureWarning: Using a non-tuple sequence for multidimensional indexing is deprecated; use `arr[tuple(seq)]` instead of `arr[seq]`. In the future this will be interpreted as an array index, `arr[np.array(seq)]`, which will result either in an error or a different result.\n",
      "  \n"
     ]
    }
   ],
   "source": [
    "V1_same_animal_diff_session_R_count = R_count[V1_same_animal_diff_session_idxs]\n",
    "V1_diff_animal_R_count = R_count[V1_diff_animal_idxs]\n",
    "\n",
    "LM_same_animal_diff_session_R_count = R_count[LM_same_animal_diff_session_idxs]\n",
    "LM_diff_animal_R_count = R_count[LM_diff_animal_idxs]\n",
    "LI_same_animal_diff_session_R_count = R_count[LI_same_animal_diff_session_idxs]\n",
    "\n"
   ]
  },
  {
   "cell_type": "code",
   "execution_count": null,
   "metadata": {},
   "outputs": [],
   "source": [
    "V1_same_animal_diff_session_count_mean = np.mean(V1_same_animal_diff_session_R_count)\n",
    "V1_diff_animal_count_mean = np.mean(V1_diff_animal_R_count)\n",
    "\n",
    "LM_same_animal_diff_session_count_mean = np.mean(LM_same_animal_diff_session_R_count)\n",
    "LM_diff_animal_count_mean = np.mean(LM_diff_animal_R_count)\n",
    "\n",
    "LI_same_animal_diff_session_count_mean = np.mean(LI_same_animal_diff_session_R_count)"
   ]
  },
  {
   "cell_type": "code",
   "execution_count": 262,
   "metadata": {},
   "outputs": [
    {
     "data": {
      "text/plain": [
       "<matplotlib.collections.LineCollection at 0x7f0ab8402080>"
      ]
     },
     "execution_count": 262,
     "metadata": {},
     "output_type": "execute_result"
    },
    {
     "data": {
      "image/png": "[encoded data removed]",
      "text/plain": [
       "<Figure size 432x288 with 1 Axes>"
      ]
     },
     "metadata": {
      "needs_background": "light"
     },
     "output_type": "display_data"
    }
   ],
   "source": []
  },
  {
   "cell_type": "code",
   "execution_count": 240,
   "metadata": {},
   "outputs": [
    {
     "name": "stderr",
     "output_type": "stream",
     "text": [
      "/home/cesar/envs/suite2p/lib/python3.6/site-packages/ipykernel_launcher.py:19: FutureWarning: Using a non-tuple sequence for multidimensional indexing is deprecated; use `arr[tuple(seq)]` instead of `arr[seq]`. In the future this will be interpreted as an array index, `arr[np.array(seq)]`, which will result either in an error or a different result.\n",
      "/home/cesar/envs/suite2p/lib/python3.6/site-packages/ipykernel_launcher.py:20: FutureWarning: Using a non-tuple sequence for multidimensional indexing is deprecated; use `arr[tuple(seq)]` instead of `arr[seq]`. In the future this will be interpreted as an array index, `arr[np.array(seq)]`, which will result either in an error or a different result.\n",
      "/home/cesar/envs/suite2p/lib/python3.6/site-packages/ipykernel_launcher.py:22: FutureWarning: Using a non-tuple sequence for multidimensional indexing is deprecated; use `arr[tuple(seq)]` instead of `arr[seq]`. In the future this will be interpreted as an array index, `arr[np.array(seq)]`, which will result either in an error or a different result.\n",
      "/home/cesar/envs/suite2p/lib/python3.6/site-packages/ipykernel_launcher.py:23: FutureWarning: Using a non-tuple sequence for multidimensional indexing is deprecated; use `arr[tuple(seq)]` instead of `arr[seq]`. In the future this will be interpreted as an array index, `arr[np.array(seq)]`, which will result either in an error or a different result.\n",
      "/home/cesar/envs/suite2p/lib/python3.6/site-packages/ipykernel_launcher.py:25: FutureWarning: Using a non-tuple sequence for multidimensional indexing is deprecated; use `arr[tuple(seq)]` instead of `arr[seq]`. In the future this will be interpreted as an array index, `arr[np.array(seq)]`, which will result either in an error or a different result.\n"
     ]
    }
   ],
   "source": [
    "ndsets,nconfigs = dset_count_array.shape\n",
    "nreps = 1000\n",
    "\n",
    "V1_sadf_R_count = np.zeros((nreps,))\n",
    "LM_sadf_R_count = np.zeros((nreps,))\n",
    "LI_sadf_R_count = np.zeros((nreps,))\n",
    "V1_da_R_count = np.zeros((nreps,))\n",
    "LM_da_R_count = np.zeros((nreps,))\n",
    "\n",
    "for rep in range(nreps):\n",
    "#rep = 0 \n",
    "\n",
    "    dset_count_array_shuffle = np.copy(dset_count_array)\n",
    "    dset_count_array_shuffle = np.random.permutation(dset_count_array_shuffle.flatten())\n",
    "    dset_count_array_shuffle = np.reshape(dset_count_array_shuffle,(ndsets,nconfigs))\n",
    "\n",
    "    R_count_tmp = np.corrcoef(dset_count_array_shuffle)\n",
    "\n",
    "    V1_sadf_R_count[rep] = np.mean(R_count_tmp[V1_same_animal_diff_session_idxs])\n",
    "    V1_da_R_count[rep] = np.mean(R_count_tmp[V1_diff_animal_idxs])\n",
    "\n",
    "    LM_sadf_R_count[rep] = np.mean(R_count_tmp[LM_same_animal_diff_session_idxs])\n",
    "    LM_da_R_count[rep] = np.mean(R_count_tmp[LM_diff_animal_idxs])\n",
    "\n",
    "    LI_sadf_R_count[rep] = np.mean(R_count_tmp[LI_same_animal_diff_session_idxs])"
   ]
  },
  {
   "cell_type": "code",
   "execution_count": 246,
   "metadata": {},
   "outputs": [],
   "source": [
    "V1_sadf_count_bstrap_mean = np.mean(V1_sadf_R_count)\n",
    "V1_da_count_bstrap_mean = np.mean(V1_da_R_count)\n",
    "V1_sadf_count_bstrap_se = stats.sem(V1_sadf_R_count)\n",
    "V1_da_count_bstrap_se = stats.sem(V1_da_R_count)\n",
    "\n",
    "LM_sadf_count_bstrap_mean = np.mean(V1_sadf_R_count)\n",
    "LM_da_count_bstrap_mean = np.mean(V1_da_R_count)\n",
    "LM_sadf_count_bstrap_se = stats.sem(LM_sadf_R_count)\n",
    "LM_da_count_bstrap_se = stats.sem(LM_da_R_count)\n",
    "\n",
    "LI_sadf_count_bstrap_mean = np.mean(V1_sadf_R_count)\n",
    "LI_sadf_count_bstrap_se = stats.sem(LM_sadf_R_count)"
   ]
  },
  {
   "cell_type": "code",
   "execution_count": 263,
   "metadata": {},
   "outputs": [
    {
     "data": {
      "text/plain": [
       "<matplotlib.collections.LineCollection at 0x7f0ab83765f8>"
      ]
     },
     "execution_count": 263,
     "metadata": {},
     "output_type": "execute_result"
    },
    {
     "data": {
      "image/png": "[encoded data removed]",
      "text/plain": [
       "<Figure size 432x288 with 1 Axes>"
      ]
     },
     "metadata": {
      "needs_background": "light"
     },
     "output_type": "display_data"
    }
   ],
   "source": [
    "width = 0.5\n",
    "bar_loc = [0,0.5,1.5,2,3]\n",
    "plt.bar(bar_loc[0], V1_same_animal_diff_session_count_mean,width = width ,color = 'b')\n",
    "plt.bar(bar_loc[1], V1_diff_animal_count_mean,width = width,color = 'b')\n",
    "\n",
    "plt.bar(bar_loc[2], LM_same_animal_diff_session_count_mean,width = width,color = 'c')\n",
    "plt.bar(bar_loc[3], LM_diff_animal_count_mean,width = width,color = 'c')\n",
    "\n",
    "plt.bar(bar_loc[4], LI_same_animal_diff_session_count_mean,width = width,color = 'm')\n",
    "\n",
    "plt.hlines(y = V1_sadf_count_bstrap_mean+(1.96*V1_sadf_count_bstrap_se),xmin = bar_loc[0]-(width/2), xmax = bar_loc[0]+(width/2), linestyle = '--')\n",
    "plt.hlines(y = V1_sadf_count_bstrap_mean-(1.96*V1_sadf_count_bstrap_se),xmin = bar_loc[0]-(width/2), xmax = bar_loc[0]+(width/2), linestyle = '--')\n",
    "plt.hlines(y = V1_da_count_bstrap_mean+(1.96*V1_da_count_bstrap_se),xmin = bar_loc[1]-(width/2), xmax = bar_loc[1]+(width/2), linestyle = '--')\n",
    "plt.hlines(y = V1_da_count_bstrap_mean-(1.96*V1_da_count_bstrap_se),xmin = bar_loc[1]-(width/2), xmax = bar_loc[1]+(width/2), linestyle = '--')\n",
    "\n",
    "plt.hlines(y = LM_sadf_count_bstrap_mean+(1.96*LM_sadf_count_bstrap_se),xmin = bar_loc[2]-(width/2), xmax = bar_loc[2]+(width/2), linestyle = '--')\n",
    "plt.hlines(y = LM_sadf_count_bstrap_mean-(1.96*LM_sadf_count_bstrap_se),xmin = bar_loc[2]-(width/2), xmax = bar_loc[2]+(width/2), linestyle = '--')\n",
    "plt.hlines(y = LM_da_count_bstrap_mean+(1.96*LM_da_count_bstrap_se),xmin = bar_loc[3]-(width/2), xmax = bar_loc[3]+(width/2), linestyle = '--')\n",
    "plt.hlines(y = LM_da_count_bstrap_mean-(1.96*LM_da_count_bstrap_se),xmin = bar_loc[3]-(width/2), xmax = bar_loc[3]+(width/2), linestyle = '--')\n",
    "\n",
    "plt.hlines(y = LI_sadf_count_bstrap_mean+(1.96*LI_sadf_count_bstrap_se),xmin = bar_loc[4]-(width/2), xmax = bar_loc[4]+(width/2), linestyle = '--')\n",
    "plt.hlines(y = LI_sadf_count_bstrap_mean-(1.96*LI_sadf_count_bstrap_se),xmin = bar_loc[4]-(width/2), xmax = bar_loc[4]+(width/2), linestyle = '--')"
   ]
  },
  {
   "cell_type": "code",
   "execution_count": null,
   "metadata": {},
   "outputs": [],
   "source": []
  },
  {
   "cell_type": "code",
   "execution_count": null,
   "metadata": {},
   "outputs": [],
   "source": []
  },
  {
   "cell_type": "code",
   "execution_count": 110,
   "metadata": {},
   "outputs": [],
   "source": [
    "V1_session_R = np.zeros((2,2))\n",
    "\n",
    "area_idx1 = 0\n",
    "area_idx2 = 0\n",
    "animal_idx1 = 0\n",
    "animal_idx2 = 0\n",
    "sessid_idx1 = 0\n",
    "sessid_idx2 = 1\n",
    "\n",
    "M1 = np.array(area_pairs[0]==area_idx1).astype('float64')\n",
    "M2 = np.array(area_pairs[1]==area_idx2).astype('float64')\n",
    "M3 = np.array(animal_pairs[0]==animal_idx1).astype('float64')\n",
    "M4 = np.array(animal_pairs[1]==animal_idx2).astype('float64')\n",
    "M5 = np.array(session_pairs[0]==sessid_idx1).astype('float64')\n",
    "M6 = np.array(session_pairs[1]==sessid_idx2).astype('float64')\n",
    "\n",
    "M = M1*M2*M3*M4*M5*M6\n",
    "\n",
    "M[np.diag_indices(M.shape[0])] = np.nan\n",
    "M[np.where(M==0)] = np.nan\n",
    "\n",
    "\n",
    "\n",
    "animal_idx1 = 1\n",
    "animal_idx2 = 1\n",
    "sessid_idx1 = 0\n",
    "sessid_idx2 = 1\n",
    "\n",
    "M1 = np.array(area_pairs[0]==area_idx1).astype('float64')\n",
    "M2 = np.array(area_pairs[1]==area_idx2).astype('float64')\n",
    "M3 = np.array(animal_pairs[0]==animal_idx1).astype('float64')\n",
    "M4 = np.array(animal_pairs[1]==animal_idx2).astype('float64')\n",
    "M5 = np.array(session_pairs[0]==sessid_idx1).astype('float64')\n",
    "M6 = np.array(session_pairs[1]==sessid_idx2).astype('float64')\n",
    "\n",
    "M = M1*M2*M3*M4*M5*M6\n",
    "\n",
    "M[np.diag_indices(M.shape[0])] = np.nan\n",
    "M[np.where(M==0)] = np.nan\n",
    "\n",
    "R_masked = M*R_count\n",
    "V1_session_R[0,1] = np.nanmean(R_masked.flatten())\n",
    "\n",
    "animal_idx1 = 0\n",
    "animal_idx2 = 1\n",
    "sessid_idx1 = 0\n",
    "sessid_idx2 = 0\n",
    "\n",
    "M1 = np.array(area_pairs[0]==area_idx1).astype('float64')\n",
    "M2 = np.array(area_pairs[1]==area_idx2).astype('float64')\n",
    "M3 = np.array(animal_pairs[0]==animal_idx1).astype('float64')\n",
    "M4 = np.array(animal_pairs[1]==animal_idx2).astype('float64')\n",
    "\n",
    "\n",
    "M = M1*M2*M3*M4\n",
    "\n",
    "M[np.diag_indices(M.shape[0])] = np.nan\n",
    "M[np.where(M==0)] = np.nan\n",
    "\n",
    "R_masked = M*R_count\n",
    "V1_session_R[1,0] = np.nanmean(R_masked.flatten())\n",
    "\n",
    "animal_idx1 = 1\n",
    "animal_idx2 = 0\n",
    "sessid_idx1 = 0\n",
    "sessid_idx2 = 0\n",
    "\n",
    "M1 = np.array(area_pairs[0]==area_idx1).astype('float64')\n",
    "M2 = np.array(area_pairs[1]==area_idx2).astype('float64')\n",
    "M3 = np.array(animal_pairs[0]==animal_idx1).astype('float64')\n",
    "M4 = np.array(animal_pairs[1]==animal_idx2).astype('float64')\n",
    "\n",
    "\n",
    "M = M1*M2*M3*M4\n",
    "\n",
    "M[np.diag_indices(M.shape[0])] = np.nan\n",
    "M[np.where(M==0)] = np.nan\n",
    "\n",
    "R_masked = M*R_count\n",
    "V1_session_R[1,1] = np.nanmean(R_masked.flatten())"
   ]
  },
  {
   "cell_type": "code",
   "execution_count": 112,
   "metadata": {},
   "outputs": [
    {
     "data": {
      "text/plain": [
       "array([[0.        , 0.34058893],\n",
       "       [0.27303462, 0.27303462]])"
      ]
     },
     "execution_count": 112,
     "metadata": {},
     "output_type": "execute_result"
    }
   ],
   "source": [
    "V1_session_R"
   ]
  },
  {
   "cell_type": "code",
   "execution_count": 111,
   "metadata": {},
   "outputs": [
    {
     "data": {
      "text/plain": [
       "<matplotlib.axes._subplots.AxesSubplot at 0x7f0ab92de940>"
      ]
     },
     "execution_count": 111,
     "metadata": {},
     "output_type": "execute_result"
    },
    {
     "data": {
      "image/png": "[encoded data removed]",
      "text/plain": [
       "<Figure size 432x288 with 2 Axes>"
      ]
     },
     "metadata": {
      "needs_background": "light"
     },
     "output_type": "display_data"
    }
   ],
   "source": [
    "sns.heatmap(V1_session_R,center = 0, cmap = 'RdBu_r')"
   ]
  },
  {
   "cell_type": "code",
   "execution_count": 25,
   "metadata": {},
   "outputs": [],
   "source": [
    "V1_V1 = []\n",
    "idx_list0 = np.where(areaid==0)[0]#V1\n",
    "idx_list1 = np.where(areaid==1)[0]#LM\n",
    "idx_list2 = np.where(areaid==2)[0]#LI\n",
    "\n",
    "for i in idx_list0:\n",
    "    for j in idx_list0:\n",
    "        if j<i:\n",
    "            V1_V1.append(R_count[i,j])\n",
    "V1_V1 = np.array(V1_V1)\n",
    "            \n",
    "V1_LM = []\n",
    "for i in idx_list1:\n",
    "    for j in idx_list0:\n",
    "        if j<i:\n",
    "            V1_LM.append(R_count[i,j])\n",
    "V1_LM = np.array(V1_LM)\n",
    "\n",
    "V1_LI = []\n",
    "for i in idx_list2:\n",
    "    for j in idx_list0:\n",
    "        if j<i:\n",
    "            V1_LI.append(R_count[i,j])\n",
    "V1_LI = np.array(V1_LI)\n",
    "            \n",
    "LM_LI = []\n",
    "for i in idx_list2:\n",
    "    for j in idx_list1:\n",
    "        if j<i:\n",
    "            LM_LI.append(R_count[i,j])\n",
    "LM_LI = np.array(LM_LI)\n"
   ]
  },
  {
   "cell_type": "code",
   "execution_count": 26,
   "metadata": {},
   "outputs": [
    {
     "data": {
      "text/plain": [
       "array([ 0.42218042,  0.51635717,  0.54770053,  0.30570061,  0.2395945 ,\n",
       "        0.34058893,  0.00954218,  0.01931271,  0.16410239, -0.0152927 ])"
      ]
     },
     "execution_count": 26,
     "metadata": {},
     "output_type": "execute_result"
    }
   ],
   "source": [
    "V1_V1"
   ]
  },
  {
   "cell_type": "code",
   "execution_count": 27,
   "metadata": {},
   "outputs": [
    {
     "data": {
      "text/plain": [
       "array([ 0.10488917,  0.17763999,  0.17098381,  0.03796363, -0.10216981,\n",
       "        0.23197468,  0.06778135,  0.28739735,  0.42346389,  0.04211637,\n",
       "        0.78415431,  0.38046748,  0.45878696,  0.32058957, -0.09594152,\n",
       "        0.4381613 ,  0.09254275,  0.25082389, -0.06378033,  0.00333794,\n",
       "        0.2279242 ,  0.29449821,  0.39306584,  0.14312628,  0.10369295,\n",
       "       -0.07010841,  0.01156013,  0.06221484,  0.03091609,  0.07610971,\n",
       "        0.29767643,  0.43227773,  0.38710755,  0.34820795,  0.04442434])"
      ]
     },
     "execution_count": 27,
     "metadata": {},
     "output_type": "execute_result"
    }
   ],
   "source": [
    "V1_LM"
   ]
  },
  {
   "cell_type": "code",
   "execution_count": 28,
   "metadata": {},
   "outputs": [
    {
     "data": {
      "text/plain": [
       "array([-0.26198206, -0.13718581, -0.06522905, -0.03657378,  0.20459547,\n",
       "        0.0326998 ,  0.04830562,  0.09569609,  0.10824614,  0.1270305 ,\n",
       "       -0.24553784, -0.16157053, -0.15473055, -0.08247802,  0.20720596])"
      ]
     },
     "execution_count": 28,
     "metadata": {},
     "output_type": "execute_result"
    }
   ],
   "source": [
    "V1_LI"
   ]
  },
  {
   "cell_type": "code",
   "execution_count": 29,
   "metadata": {},
   "outputs": [
    {
     "name": "stdout",
     "output_type": "stream",
     "text": [
      "0.2549786727488036 0.19411076065459726 -0.021433871309585517\n"
     ]
    }
   ],
   "source": [
    "print(np.mean(V1_V1),np.mean(V1_LM),np.mean(V1_LI))"
   ]
  },
  {
   "cell_type": "code",
   "execution_count": null,
   "metadata": {},
   "outputs": [],
   "source": []
  },
  {
   "cell_type": "code",
   "execution_count": null,
   "metadata": {
    "scrolled": true
   },
   "outputs": [],
   "source": [
    "\n",
    "\n",
    "fig,axes = plt.subplots(num_animals,num_session,figsize=(20,20))\n",
    "\n",
    "if num_animals <2:\n",
    "    axes = np.expand_dims(axes,0)\n",
    "\n",
    "\n",
    "\n",
    "    data_array_fn = '%s_filtered_%s_responses_thresh_%s_%i.hdf5'%(sess, response_type, filter_crit, filter_thresh)\n",
    "    data_array_filepath = os.path.join(aggregate_file_dir, data_array_fn)\n",
    "    data_grp = h5py.File(data_array_filepath, 'r')\n",
    "\n",
    "\n",
    "\n",
    "    curr_slice = 'Slice01'#hard-code planar data for now\n",
    "\n",
    "    num_active_rois = int(np.array(data_grp['/'.join([curr_slice,'n_active_rois'])]))\n",
    "    frac_active_rois = float(np.array(data_grp['/'.join([curr_slice,'frac_active_rois'])]))\n",
    "\n",
    "    neuron_count = num_active_rois\n",
    "    neuron_frac = frac_active_rois\n",
    "\n",
    "    \n",
    "    response_se = np.array(data_grp['/'.join([curr_slice, 'filtered_response_per_cond_se_across_neurons'])])\n",
    "\n",
    "\n",
    "    \n",
    "    ax = axes[animalids.index(animalid),sess_count[animalids.index(animalid)]-1]\n",
    "    ax.bar(bar_loc[0],sess_response[0],width,color = 'b', alpha = 1, yerr = response_se[0])\n",
    "    ax.bar(bar_loc[1],sess_response[1],width,color = 'r', alpha = 1, yerr = response_se[0])\n",
    "    ax.bar(bar_loc[2],sess_response[2],width,color = 'g', alpha = 1, yerr = response_se[0])\n",
    "    \n",
    "    ymin,ymax = ax.get_ylim()\n",
    "    xmin,xmax = ax.get_xlim()\n",
    "    ax.set_xticks([],[])\n",
    "    ax.set_xlabel('Condition',fontsize = 15)\n",
    "    ax.set_ylabel('Average Response',fontsize = 15)\n",
    "    ax.text(bar_loc[0]-.25, ymax, 'n=%i, f=%.04f' % (neuron_count, neuron_frac), fontsize=10)\n",
    "    ax.set_title('%s | %i'%(animalid, sess_count[animalids.index(animalid)]))\n",
    "    \n",
    "    data_grp.close()\n",
    "fig_fn = '%s_avg_response_per_cond_%s_thresh_%s_%i.png'%(area,response_type,filter_crit,filter_thresh)\n",
    "fig_file_path = os.path.join(fig_out_dir, fig_fn)\n",
    "plt.savefig(fig_file_path)\n",
    "\n",
    "plt.close()"
   ]
  },
  {
   "cell_type": "code",
   "execution_count": null,
   "metadata": {},
   "outputs": [],
   "source": []
  },
  {
   "cell_type": "code",
   "execution_count": null,
   "metadata": {},
   "outputs": [],
   "source": [
    "animalids = []\n",
    "sess_count = []\n",
    "\n",
    "#put things into pandas df for plotting\n",
    "resp_dfs = []\n",
    "\n",
    "animalids = []\n",
    "sess_count = []\n",
    "neuron_count = np.empty((10,10))\n",
    "neuron_frac = np.empty((10,10))\n",
    "resp_mean = np.ones((3,10,10))*np.nan\n",
    "resp_se = np.ones((3,10,10))*np.nan\n",
    "\n",
    "ylabel = 'Average Response'\n",
    "\n",
    "for sess_idx, sess in enumerate(sess_list):\n",
    "    print(sess)\n",
    "    #sess_idx = 0\n",
    "    #sess = sess_list[sess_idx]\n",
    "    i1 = findOccurrences(sess,'_')[0]\n",
    "    animalid = sess[0:i1]\n",
    "    session = sess[i1+1:]\n",
    "\n",
    "\n",
    "    if animalid not in animalids:\n",
    "        animalids.append(animalid)\n",
    "        sess_count.append(0)\n",
    "\n",
    "    animal_idx = animalids.index(animalid)\n",
    "    sess_count[animal_idx] = sess_count[animal_idx]+1\n",
    "\n",
    "    data_array_fn = '%s_filtered_%s_responses_thresh_%s_%i.hdf5'%(sess, response_type, filter_crit, filter_thresh)\n",
    "    data_array_filepath = os.path.join(aggregate_file_dir, data_array_fn)\n",
    "    data_grp = h5py.File(data_array_filepath, 'r')\n",
    "\n",
    "\n",
    "    curr_slice = 'Slice01'#hard-code planar data for now\n",
    "\n",
    "    num_active_rois= int(np.array(data_grp['/'.join([curr_slice,'n_active_rois'])]))\n",
    "    frac_active_rois = float(np.array(data_grp['/'.join([curr_slice,'frac_active_rois'])]))\n",
    "\n",
    "    neuron_count[animal_idx,sess_count[animal_idx]-1] = num_active_rois\n",
    "    neuron_frac[animal_idx,sess_count[animal_idx]-1]  = frac_active_rois\n",
    "    active_cell_idx = np.array(data_grp['/'.join([curr_slice, 'active_cell_idx'])])\n",
    "\n",
    "    resp_mean[:,animal_idx,sess_count[animal_idx]-1] = np.array(data_grp['/'.join([curr_slice, 'filtered_response_per_cond_mean_across_neurons'])])\n",
    "    resp_se[:,animal_idx,sess_count[animal_idx]-1] = np.array(data_grp['/'.join([curr_slice, 'filtered_response_per_cond_se_across_neurons'])])\n",
    "\n",
    "\n",
    "    sess_response = np.array(data_grp['/'.join([curr_slice, 'filtered_response_per_cond_per_neuron'])])\n",
    "\n",
    "\n",
    "    for cidx in range(sess_response.shape[0]):\n",
    "        response = sess_response[cidx,active_cell_idx]\n",
    "        cell = np.arange(num_active_rois)\n",
    "        cond = np.ones((num_active_rois,))*cidx\n",
    "        mdf = pd.DataFrame({'%s' % ylabel: response,\n",
    "                            'animalid': animalid,\n",
    "                            'session': sess_count[animalids.index(animalid)],\n",
    "                            'response': response,\n",
    "                            'cell': cell,\n",
    "                            'cond': cond,\n",
    "                           })\n",
    "\n",
    "        resp_dfs.append(mdf)\n",
    "resp_dfs = pd.concat(resp_dfs, axis=0)\n",
    "\n"
   ]
  },
  {
   "cell_type": "code",
   "execution_count": null,
   "metadata": {},
   "outputs": [],
   "source": [
    "bar_loc = np.zeros((3,))\n",
    "width = 0.4         # the width of the bars\n",
    "xloc = 0\n",
    "count = 0\n",
    "gap = 0.6\n",
    "for j in range(3):\n",
    "    bar_loc[count] = xloc\n",
    "    xloc = xloc + width+gap\n",
    "    count = count+1\n",
    "\n",
    "palette = sns.color_palette([\"#4c72b0\",\"#55a868\",\"#c44e52\"])\n",
    "sns.set_palette(palette)\n",
    "\n",
    "p = sns.catplot(row = 'animalid',col = 'session', x='cond', y='response', kind=\"swarm\", hue = 'cond',data=resp_dfs,size = 10);\n",
    "pl.subplots_adjust(wspace=0.1, hspace=0.2, top=0.85, bottom=0.1, left=0.1)\n",
    "\n",
    "axes = p.axes\n",
    "ymin,ymax = axes[0][0].get_ylim()\n",
    "xmin,xmax = axes[0][0].get_xlim()\n",
    "start_val = 0.0\n",
    "end_val = 1.0 #hard-coding\n",
    "for ri in range(p.axes.shape[0]):\n",
    "    for ci in range(p.axes.shape[1]):\n",
    "        #print ri, ci\n",
    "         \n",
    "        p.axes[ri,ci].text(-0.25, ymax+(ymax*0), 'n=%i, f = %.04f' % (neuron_count[ri,ci],neuron_frac[ri,ci]), fontsize=10)\n",
    "        p.axes[ri,ci].set_xticks([],[])\n",
    "        p.axes[ri,ci].axhline(y=0, xmin=xmin, xmax= xmax, linewidth=1, color='k',linestyle = '--')\n",
    "\n",
    "        for idx in range(3):\n",
    "            p.axes[ri,ci].hlines(y = resp_mean[idx,ri,ci], xmin=bar_loc[idx]-(width/2), xmax = bar_loc[idx]+(width/2), linewidth=2, color='k',linestyle = '-')\n",
    "            p.axes[ri,ci].hlines(y = resp_mean[idx,ri,ci] + resp_se[idx,ri,ci], xmin=bar_loc[idx]-(width/2), xmax = bar_loc[idx]+(width/2), linewidth=1, color='k',linestyle = '--')\n",
    "            p.axes[ri,ci].hlines(y = resp_mean[idx,ri,ci] - resp_se[idx,ri,ci], xmin=bar_loc[idx]-(width/2), xmax = bar_loc[idx]+(width/2), linewidth=1, color='k',linestyle = '--')\n",
    "\n",
    "\n",
    "\n",
    "\n",
    "fig_fn = '%s_response_per_cond_per_neuron_%s_thresh_%s_%i.png'%(area,response_type,filter_crit,filter_thresh)\n",
    "fig_file_path = os.path.join(fig_out_dir, fig_fn)\n",
    "\n",
    "p.savefig(fig_file_path)\n",
    "plt.close()"
   ]
  },
  {
   "cell_type": "code",
   "execution_count": null,
   "metadata": {},
   "outputs": [],
   "source": [
    "bar_loc = np.zeros((60,))\n",
    "width = 0.4         # the width of the bars\n",
    "gap = .5\n",
    "xloc = 1\n",
    "count = 0\n",
    "for i in range(20):\n",
    "    for j in range(3):\n",
    "        bar_loc[count] = xloc\n",
    "        xloc = xloc + width\n",
    "        count = count+1\n",
    "    xloc = xloc + gap\n"
   ]
  },
  {
   "cell_type": "code",
   "execution_count": null,
   "metadata": {},
   "outputs": [],
   "source": [
    "fig,axes = plt.subplots(num_animals,num_session,figsize=(80,30))\n",
    "if num_animals <2:\n",
    "    axes = np.expand_dims(axes,0)\n",
    "\n",
    "animalids = []\n",
    "sess_count = []\n",
    "\n",
    "\n",
    "for sess_idx, sess in enumerate(sess_list):\n",
    "#sess_idx = 0\n",
    "#sess = sess_list[sess_idx]\n",
    "    i1 = findOccurrences(sess,'_')[0]\n",
    "    animalid = sess[0:i1]\n",
    "    session = sess[i1+1:]\n",
    "\n",
    "    if animalid not in animalids:\n",
    "        animalids.append(animalid)\n",
    "        sess_count.append(0)\n",
    "\n",
    "    sess_count[animalids.index(animalid)] = sess_count[animalids.index(animalid)]+1\n",
    "\n",
    "    data_array_fn = '%s_filtered_%s_responses_thresh_%s_%i.hdf5'%(sess, response_type, filter_crit, filter_thresh)\n",
    "    data_array_filepath = os.path.join(aggregate_file_dir, data_array_fn)\n",
    "    data_grp = h5py.File(data_array_filepath, 'r')\n",
    "\n",
    "\n",
    "\n",
    "    curr_slice = 'Slice01'#hard-code planar data for now\n",
    "\n",
    "    active_rois_per_img = np.array(data_grp['/'.join([curr_slice,'active_rois_per_img'])])\n",
    "\n",
    "    sess_response = np.array(data_grp['/'.join([curr_slice, 'filtered_response_per_cfg_mean_across_neurons'])])\n",
    "    response_se = np.array(data_grp['/'.join([curr_slice, 'filtered_response_per_cfg_se_across_neurons'])])\n",
    "\n",
    "\n",
    "    \n",
    "    ax = axes[animalids.index(animalid),sess_count[animalids.index(animalid)]-1]\n",
    "    ax.bar(bar_loc[0:len(bar_loc):3],sess_response[0:len(bar_loc):3],width,color = 'b', alpha = 1, yerr = response_se[0:len(bar_loc):3])\n",
    "    ax.bar(bar_loc[1:len(bar_loc):3],sess_response[1:len(bar_loc):3],width,color = 'r', alpha = 1, yerr = response_se[1:len(bar_loc):3])\n",
    "    ax.bar(bar_loc[2:len(bar_loc):3],sess_response[2:len(bar_loc):3],width,color = 'g', alpha = 1, yerr = response_se[2:len(bar_loc):3])\n",
    "    \n",
    "    ymin,ymax = ax.get_ylim()\n",
    "    xmin,xmax = ax.get_xlim()\n",
    "    plt.axhline(y=0, xmin=xmin, xmax= xmax, linewidth=1, color='k',linestyle = '-')\n",
    "    xtick_loc = bar_loc[1:len(bar_loc):3]\n",
    "    xtick_label = np.unique(np.arange(20)+1).astype('int')\n",
    "\n",
    "    ax.set_xticks(xtick_loc)\n",
    "    ax.set_xticklabels(xtick_label.tolist())\n",
    "    ax.set_xlabel('Image',fontsize = 15)\n",
    "    ax.set_ylabel('Average Response',fontsize = 15)\n",
    "    count = 0\n",
    "    \n",
    "    for idx in bar_loc[1:len(bar_loc):3]:\n",
    "        ax.text(idx-.25, ymax-(.02*ymax), 'n=%i' % active_rois_per_img[count], fontsize=10)\n",
    "        count = count +3\n",
    "    \n",
    "    ax.set_title('%s | %i'%(animalid, sess_count[animalids.index(animalid)]))\n",
    "    \n",
    "    data_grp.close()\n",
    "fig_fn = '%s_avg_response_per_config_%s_thresh_%s_%i.png'%(area,response_type,filter_crit,filter_thresh)\n",
    "fig_file_path = os.path.join(fig_out_dir, fig_fn)\n",
    "plt.savefig(fig_file_path)\n",
    "\n",
    "plt.close()"
   ]
  },
  {
   "cell_type": "code",
   "execution_count": null,
   "metadata": {
    "scrolled": true
   },
   "outputs": [],
   "source": [
    "fig,axes = plt.subplots(num_animals,num_session,figsize=(80,30))\n",
    "if num_animals <2:\n",
    "    axes = np.expand_dims(axes,0)\n",
    "\n",
    "animalids = []\n",
    "sess_count = []\n",
    "\n",
    "\n",
    "for sess_idx, sess in enumerate(sess_list):\n",
    "#sess_idx = 0\n",
    "#sess = sess_list[sess_idx]\n",
    "    i1 = findOccurrences(sess,'_')[0]\n",
    "    animalid = sess[0:i1]\n",
    "    session = sess[i1+1:]\n",
    "\n",
    "    if animalid not in animalids:\n",
    "        animalids.append(animalid)\n",
    "        sess_count.append(0)\n",
    "\n",
    "    sess_count[animalids.index(animalid)] = sess_count[animalids.index(animalid)]+1\n",
    "\n",
    "    data_array_fn = '%s_filtered_%s_responses_thresh_%s_%i.hdf5'%(sess, response_type, filter_crit, filter_thresh)\n",
    "    data_array_filepath = os.path.join(aggregate_file_dir, data_array_fn)\n",
    "    data_grp = h5py.File(data_array_filepath, 'r')\n",
    "\n",
    "\n",
    "\n",
    "    curr_slice = 'Slice01'#hard-code planar data for now\n",
    "\n",
    "    active_rois_per_config = np.array(data_grp['/'.join([curr_slice,'active_rois_per_config'])])\n",
    "\n",
    "\n",
    "    ax = axes[animalids.index(animalid),sess_count[animalids.index(animalid)]-1]\n",
    "    ax.bar(bar_loc[0:len(bar_loc):3],active_rois_per_config[0:len(bar_loc):3],width,color = 'b')\n",
    "    ax.bar(bar_loc[1:len(bar_loc):3],active_rois_per_config[1:len(bar_loc):3],width,color = 'r')\n",
    "    ax.bar(bar_loc[2:len(bar_loc):3],active_rois_per_config[2:len(bar_loc):3],width,color = 'g')\n",
    "    \n",
    "    ymin,ymax = ax.get_ylim()\n",
    "    xmin,xmax = ax.get_xlim()\n",
    "    plt.axhline(y=0, xmin=xmin, xmax= xmax, linewidth=1, color='k',linestyle = '-')\n",
    "    xtick_loc = bar_loc[1:len(bar_loc):3]\n",
    "    xtick_label = np.unique(np.arange(20)+1).astype('int')\n",
    "\n",
    "    ax.set_xticks(xtick_loc)\n",
    "    ax.set_xticklabels(xtick_label.tolist())\n",
    "    ax.set_xlabel('Image',fontsize = 15)\n",
    "    ax.set_ylabel('Cell Count',fontsize = 15)\n",
    "    count = 0\n",
    "    \n",
    "    \n",
    "    ax.set_title('%s | %i'%(animalid, sess_count[animalids.index(animalid)]))\n",
    "    \n",
    "    data_grp.close()\n",
    "fig_fn = '%s_cells_per_config_%s_thresh_%s_%i.png'%(area,response_type,filter_crit,filter_thresh)\n",
    "fig_file_path = os.path.join(fig_out_dir, fig_fn)\n",
    "plt.savefig(fig_file_path)\n",
    "\n",
    "plt.close()"
   ]
  },
  {
   "cell_type": "code",
   "execution_count": null,
   "metadata": {},
   "outputs": [],
   "source": [
    "#modulation index figures\n",
    "title_list = ['Corr-Match vs SF-Match','Original vs SF-Match','Original vs Corr-Match']\n",
    "for cidx in range(len(title_list)):\n",
    "#cidx = 0 \n",
    "#modulation index figure\n",
    "\n",
    "    fig,axes = plt.subplots(num_animals,num_session,figsize=(45,15))\n",
    "    if num_animals <2:\n",
    "        axes = np.expand_dims(axes,0)\n",
    "\n",
    "    animalids = []\n",
    "    sess_count = []\n",
    "\n",
    "\n",
    "    for sess_idx, sess in enumerate(sess_list):\n",
    "    #sess_idx = 0\n",
    "    #sess = sess_list[sess_idx]\n",
    "        i1 = findOccurrences(sess,'_')[0]\n",
    "        animalid = sess[0:i1]\n",
    "        session = sess[i1+1:]\n",
    "\n",
    "\n",
    "        if animalid not in animalids:\n",
    "            animalids.append(animalid)\n",
    "            sess_count.append(0)\n",
    "\n",
    "        animal_idx = animalids.index(animalid)\n",
    "        sess_count[animal_idx] = sess_count[animal_idx]+1\n",
    "\n",
    "        data_array_fn = '%s_filtered_%s_responses_thresh_%s_%i.hdf5'%(sess, response_type, filter_crit, filter_thresh)\n",
    "        data_array_filepath = os.path.join(aggregate_file_dir, data_array_fn)\n",
    "        data_grp = h5py.File(data_array_filepath, 'r')\n",
    "\n",
    "\n",
    "        curr_slice = 'Slice01'#hard-code planar data for now\n",
    "\n",
    "        active_rois_per_img = np.array(data_grp['/'.join([curr_slice,'active_rois_per_img'])])\n",
    "\n",
    "        mod_idx_mean = np.array(data_grp['/'.join([curr_slice, 'mod_idx_mean_across_neurons'])])\n",
    "        mod_idx_se = np.array(data_grp['/'.join([curr_slice, 'mod_idx_se_across_neurons'])])\n",
    "\n",
    "        ax = axes[animal_idx,sess_count[animal_idx]-1]\n",
    "        ax.bar(np.arange(20),mod_idx_mean[cidx:60:3],yerr = mod_idx_se[cidx:60:3])\n",
    "        #plot unity\n",
    "        xmin, xmax = ax.get_xlim()\n",
    "        ymin, ymax = ax.get_ylim()\n",
    "        if ymin<0:\n",
    "            ylimit = np.max(np.abs(np.array([ymin,ymax])))\n",
    "            ymin = -ylimit\n",
    "            ymax = ylimit\n",
    "            ax.set_ylim([ymin,ymax])\n",
    "\n",
    "        ax.axhline(y=0, xmin=xmin, xmax= xmax, linewidth=1, color='k',linestyle = '-')\n",
    "        for idx in range(20):\n",
    "            ax.text(idx-.25, ymax, 'n=%i' % active_rois_per_img[idx*3], fontsize=10)\n",
    "\n",
    "        ax.set_xticks(np.arange(20))\n",
    "        xtick_label = np.arange(20)+1\n",
    "        ax.set_xticklabels(xtick_label.tolist())\n",
    "        ax.set_xlabel('Image',fontsize = 15)\n",
    "        ax.set_ylabel('Modulation Index',fontsize = 15)\n",
    "\n",
    "        fig.suptitle(title_list[cidx])\n",
    "        fig_fn = '%s_%s_mod_idx_%s_thresh_%s_%i.png'%(area,title_list[cidx],response_type,filter_crit,filter_thresh)\n",
    "        fig_file_path = os.path.join(fig_out_dir, fig_fn)\n",
    "        fig.savefig(fig_file_path)\n",
    "        plt.close()"
   ]
  },
  {
   "cell_type": "code",
   "execution_count": null,
   "metadata": {},
   "outputs": [],
   "source": [
    "#pool all neurons\n",
    "\n",
    "\n",
    "#put things into pandas df for plotting\n",
    "resp_dfs = []\n",
    "\n",
    "animalids = []\n",
    "sess_count = []\n",
    "active_cell_count = 0\n",
    "total_cell_count = 0\n",
    "\n",
    "ylabel = 'Average Response'\n",
    "\n",
    "for sess_idx, sess in enumerate(sess_list):\n",
    "# sess_idx = 0\n",
    "# sess = sess_list[sess_idx]\n",
    "    i1 = findOccurrences(sess,'_')[0]\n",
    "    animalid = sess[0:i1]\n",
    "    session = sess[i1+1:]\n",
    "\n",
    "\n",
    "    if animalid not in animalids:\n",
    "        animalids.append(animalid)\n",
    "        sess_count.append(0)\n",
    "\n",
    "    animal_idx = animalids.index(animalid)\n",
    "    sess_count[animal_idx] = sess_count[animal_idx]+1\n",
    "\n",
    "    data_array_fn = '%s_filtered_%s_responses_thresh_%s_%i.hdf5'%(sess, response_type, filter_crit, filter_thresh)\n",
    "    data_array_filepath = os.path.join(aggregate_file_dir, data_array_fn)\n",
    "    data_grp = h5py.File(data_array_filepath, 'r')\n",
    "\n",
    "\n",
    "    curr_slice = 'Slice01'#hard-code planar data for now\n",
    "\n",
    "\n",
    "    active_cell_idx = np.array(data_grp['/'.join([curr_slice, 'active_cell_idx'])])\n",
    "    total_cell_count = total_cell_count + active_cell_idx.shape[0]\n",
    "    active_cell_count = active_cell_count + np.nansum(active_cell_idx)\n",
    "    sess_response = np.array(data_grp['/'.join([curr_slice, 'filtered_response_per_cond_per_neuron'])])\n",
    "\n",
    "    if sess_idx == 0:\n",
    "        response_array = sess_response[:,active_cell_idx]\n",
    "    else:\n",
    "        response_array = np.hstack((response_array,sess_response[:,active_cell_idx]))\n"
   ]
  },
  {
   "cell_type": "code",
   "execution_count": null,
   "metadata": {},
   "outputs": [],
   "source": [
    "frac_active_cells = active_cell_count/float(total_cell_count)\n",
    "\n",
    "\n",
    "response_per_cond_mean = np.nanmean(response_array,1)\n",
    "response_per_cond_se = np.nanstd(response_array,1)/np.sqrt(active_cell_count)\n",
    "\n",
    "bar_loc = np.zeros((3,))\n",
    "width = 0.4         # the width of the bars\n",
    "xloc = 1\n",
    "count = 0\n",
    "\n",
    "for j in range(3):\n",
    "    bar_loc[count] = xloc\n",
    "    xloc = xloc + width\n",
    "    count = count+1\n",
    "\n",
    "fig = plt.figure(figsize=(8,8))\n",
    "plt.bar(bar_loc[0],response_per_cond_mean[0],width,color = 'b',yerr = response_per_cond_se[0])\n",
    "plt.bar(bar_loc[1],response_per_cond_mean[1],width,color = 'g',yerr = response_per_cond_se[1])\n",
    "plt.bar(bar_loc[2],response_per_cond_mean[2],width,color = 'r',yerr = response_per_cond_se[2])\n",
    "\n",
    "axes = plt.gca()\n",
    "xmin, xmax = axes.get_xlim()\n",
    "ymin, ymax = axes.get_ylim()\n",
    "plt.axhline(y=0, xmin=xmin, xmax= xmax, linewidth=1, color='k',linestyle = '-')\n",
    "\n",
    "xtick_loc = []\n",
    "xtick_label = []\n",
    "\n",
    "plt.xticks(xtick_loc,xtick_label)\n",
    "plt.xlabel('Condition',fontsize = 15)\n",
    "plt.ylabel('Average Response',fontsize = 15)\n",
    "plt.suptitle('Average %s Across Neurons'%(response_type),fontsize = 15)\n",
    "\n",
    "\n",
    "plt.text(bar_loc[0]-.25, ymax, 'n=%i, f=%.04f' % (active_cell_count, frac_active_cells), fontsize=10)\n",
    "\n",
    "\n",
    "fig_fn = '%s_avg_response_per_cond_across_neurons_%s_thresh_%s_%i.png'%(area,response_type,filter_crit,filter_thresh)\n",
    "\n",
    "fig_file_path = os.path.join(fig_out_dir, fig_fn)\n",
    "plt.savefig(fig_file_path)\n",
    "plt.close()"
   ]
  },
  {
   "cell_type": "code",
   "execution_count": null,
   "metadata": {},
   "outputs": [],
   "source": [
    "\n",
    "ylabel = 'Average Response'\n",
    "\n",
    "resp_dfs = []\n",
    "for cidx in range(response_array.shape[0]):\n",
    "    response = response_array[cidx,:]\n",
    "    cell = np.arange(active_cell_count)\n",
    "    cond = np.ones((active_cell_count,))*cidx\n",
    "    mdf = pd.DataFrame({'%s' % ylabel: response,\n",
    "                        'response': response,\n",
    "                        'cell': cell,\n",
    "                        'cond': cond,\n",
    "                       })\n",
    "\n",
    "    resp_dfs.append(mdf)\n",
    "resp_dfs = pd.concat(resp_dfs, axis=0)\n",
    "\n",
    "bar_loc = np.arange(0,3)\n",
    "width = 0.5\n",
    "\n",
    "palette = sns.color_palette([\"#4c72b0\",\"#55a868\",\"#c44e52\"])\n",
    "sns.set_palette(palette)\n",
    "\n",
    "p = sns.catplot(x='cond', y='response', kind=\"swarm\", hue = 'cond',data=resp_dfs,size = 10);\n",
    "\n",
    "axes = p.ax\n",
    "ymin,ymax = axes.get_ylim()\n",
    "xmin,xmax = axes.get_xlim()\n",
    "\n",
    "for idx in range(3):\n",
    "    p.ax.hlines(y = response_per_cond_mean[idx], xmin=bar_loc[idx]-(width/2), xmax = bar_loc[idx]+(width/2), linewidth=2, color='k',linestyle = '-')\n",
    "    p.ax.hlines(y = response_per_cond_mean[idx] + response_per_cond_se[idx], xmin=bar_loc[idx]-(width/2), xmax = bar_loc[idx]+(width/2), linewidth=1, color='k',linestyle = '--')\n",
    "    p.ax.hlines(y = response_per_cond_mean[idx] - response_per_cond_se[idx], xmin=bar_loc[idx]-(width/2), xmax = bar_loc[idx]+(width/2), linewidth=1, color='k',linestyle = '--')\n",
    "\n",
    "\n",
    "\n",
    "\n",
    "p.ax.set_xticks(())\n",
    "p.ax.set_xlabel('Condition',fontsize = 15)\n",
    "p.ax.set_ylabel('Average Response',fontsize = 15)\n",
    "p.fig.suptitle('Average %s Across Neurons'%(response_type),fontsize = 15)\n",
    "\n",
    "\n",
    "p.ax.text(bar_loc[0]-.25, ymax, 'n=%i, f=%.04f' % (active_cell_count, frac_active_cells), fontsize=10)\n",
    "\n",
    "\n",
    "fig_fn = '%s_avg_response_per_cond_scatter_neurons_%s_thresh_%s_%i.png'%(area,response_type,filter_crit,filter_thresh)\n",
    "\n",
    "fig_file_path = os.path.join(fig_out_dir, fig_fn)\n",
    "plt.savefig(fig_file_path)\n",
    "\n",
    "plt.close()\n"
   ]
  },
  {
   "cell_type": "code",
   "execution_count": null,
   "metadata": {},
   "outputs": [],
   "source": []
  },
  {
   "cell_type": "code",
   "execution_count": null,
   "metadata": {},
   "outputs": [],
   "source": []
  },
  {
   "cell_type": "code",
   "execution_count": null,
   "metadata": {},
   "outputs": [],
   "source": []
  },
  {
   "cell_type": "code",
   "execution_count": null,
   "metadata": {},
   "outputs": [],
   "source": [
    "data_grp.close()"
   ]
  },
  {
   "cell_type": "code",
   "execution_count": null,
   "metadata": {},
   "outputs": [],
   "source": [
    "       \n",
    "        \n",
    " "
   ]
  },
  {
   "cell_type": "code",
   "execution_count": null,
   "metadata": {},
   "outputs": [],
   "source": [
    "#make figure\n",
    "trace_labels = ['Original','Sf-Match','Corr-Match']\n",
    "fig_fn = 'avg_trace_per_session_%s_%s_thresh_%s_%i.png'%(area, response_type,filter_crit,filter_thresh)\n",
    "fig_file_path = os.path.join(fig_out_dir,fig_fn)\n",
    "\n",
    "\n",
    "p = sns.FacetGrid(sess_dfs, row = 'animalid',col = 'session', hue='stim_cond', size=10)\n",
    "p = p.map(pl.fill_between, \"tsec\", \"fill_minus\", \"fill_plus\", alpha=0.5)\n",
    "p = p.map(pl.plot, \"tsec\", ylabel, lw=1, alpha=1)\n",
    "pl.subplots_adjust(wspace=0.1, hspace=0.8, top=0.85, bottom=0.1, left=0.1)\n",
    "\n",
    "axes = p.axes\n",
    "ymin,ymax = axes[0][0].get_ylim()\n",
    "xmin,xmax = axes[0][0].get_xlim()\n",
    "start_val = 0.0\n",
    "end_val = 1.0 #hard-coding\n",
    "for ri in range(p.axes.shape[0]):\n",
    "    for ci in range(p.axes.shape[1]):\n",
    "            #print ri, ci\n",
    "            p.axes[ri,ci].add_patch(patches.Rectangle((start_val, ymin), end_val, ymax-ymin, linewidth=0, fill=True, color='k', alpha=0.2))\n",
    "            p.axes[ri,ci].text(-0.999, ymax+(ymax*0), 'n=%i, f = %.04f' % (neuron_count[ri,ci],neuron_frac[ri,ci]), fontsize=10)\n",
    "            p.axes[ri,ci].axhline(y=0, xmin=xmin, xmax= xmax, linewidth=1, color='k',linestyle = '--')\n",
    "\n",
    "            if ri == 0:\n",
    "              #  p.axes[ri].yaxis.set_major_locator(pl.MaxNLocator(2))\n",
    "                p.axes[ri,ci].set_xticks(())\n",
    "                sns.despine(trim=True, offset=0, bottom=True, left=False, ax=p.axes[ri,ci])\n",
    "                p.axes[ri,ci].set_xlabel('time (s)', fontsize=8)\n",
    "                p.axes[ri,ci].set_ylabel('%s' % ylabel, fontsize=8)\n",
    "            else:\n",
    "                sns.despine(trim=True, offset=0, bottom=True, left=True, ax=p.axes[ri,ci])\n",
    "                p.axes[ri,ci].tick_params(\n",
    "                                        axis='both',          # changes apply to the x-axis\n",
    "                                        which='both',      # both major and minor ticks are affected\n",
    "                                        bottom='off',      # ticks along the bottom edge are off\n",
    "                                        left='off',\n",
    "                                        top='off',         # ticks along the top edge are off\n",
    "                                        labelbottom='off',\n",
    "                                        labelleft='off') # labels along the bottom edge are off)\n",
    "                p.axes[ri,ci].set_xlabel('')\n",
    "                p.axes[ri,ci].set_ylabel('')\n",
    "pl.legend(bbox_to_anchor=(0, -0.3), loc=2, borderaxespad=0.1, labels=trace_labels, fontsize=8)\n",
    "p.savefig(fig_file_path)\n",
    "plt.close()"
   ]
  },
  {
   "cell_type": "code",
   "execution_count": null,
   "metadata": {},
   "outputs": [],
   "source": [
    "\n",
    "\n"
   ]
  },
  {
   "cell_type": "code",
   "execution_count": null,
   "metadata": {},
   "outputs": [],
   "source": [
    "#put things into pandas df for plotting\n",
    "\n",
    "\n",
    "ylabel = 'Normalized Response'\n",
    "\n",
    "for sess_idx, sess in enumerate(sess_list):\n",
    "    print(sess)\n",
    "#     sess_idx = 0\n",
    "#     sess = sess_list[sess_idx]\n",
    "    i1 = findOccurrences(sess,'_')[0]\n",
    "    animalid = sess[0:i1]\n",
    "    session = sess[i1+1:]\n",
    "\n",
    "    if animalid not in animalids:\n",
    "        animalids.append(animalid)\n",
    "        sess_count.append(0)\n",
    "\n",
    "    sess_count[animalids.index(animalid)] = sess_count[animalids.index(animalid)]+1\n",
    "\n",
    "    data_array_fn = '%s_filtered_%s_traces_thresh_%s_%i.hdf5'%(sess, response_type, filter_crit, filter_thresh)\n",
    "    data_array_filepath = os.path.join(aggregate_file_dir, data_array_fn)\n",
    "    data_grp = h5py.File(data_array_filepath, 'r')\n",
    "\n",
    "    if sess_idx == 0:\n",
    "        frames_tsec = np.array(data_grp.attrs['frames_tsec'])\n",
    "\n",
    "\n",
    "    curr_slice = 'Slice01'#hard-code planar data for now\n",
    "\n",
    "    sess_trace = np.array(data_grp['/'.join([curr_slice, 'filtered_trace_per_cond_per_neuron_mean_across_images'])])\n",
    "\n",
    "    #store in array\n",
    "    if sess_idx == 0:\n",
    "        trace_array = sess_trace\n",
    "    else:\n",
    "        #pad array with nan if necessary\n",
    "        if sess_trace.shape[0]<trace_array.shape[0]:\n",
    "            sess_trace = np.pad(sess_trace,((0,1),(0,0),(0,0)),'constant',constant_values = (0,np.nan))\n",
    "\n",
    "        trace_array = np.dstack((trace_array,sess_trace))\n",
    "\n",
    "\n",
    "data_grp.close()\n"
   ]
  },
  {
   "cell_type": "code",
   "execution_count": null,
   "metadata": {},
   "outputs": [],
   "source": [
    "#get some activity stats\n",
    "n_total_cells = trace_array.shape[2]\n",
    "n_active_cells = np.sum(np.logical_not(np.isnan(trace_array[0,0,:])))\n",
    "frac_active_cells = n_active_cells/float(n_total_cells)"
   ]
  },
  {
   "cell_type": "code",
   "execution_count": null,
   "metadata": {},
   "outputs": [],
   "source": [
    "trace_array_mean = np.nanmean(trace_array,2)\n",
    "trace_array_se = np.nanstd(trace_array,2)/np.sqrt(n_active_cells)"
   ]
  },
  {
   "cell_type": "code",
   "execution_count": null,
   "metadata": {},
   "outputs": [],
   "source": [
    "#put things into pandas df for plotting\n",
    "conddfs = []\n",
    "ylabel = 'Normalized Response'\n",
    "#cfg_key = 'config001'\n",
    "for cond_count in range(trace_array_mean.shape[1]):\n",
    "    stim_cond = cond_count\n",
    "    mean_trace = trace_array_mean[:,cond_count]\n",
    "    sem_trace = trace_array_se[:,cond_count]\n",
    "    nreps = n_active_cells\n",
    "    cdf = pd.DataFrame({'%s' % ylabel: mean_trace,\n",
    "                        'tsec': frames_tsec,\n",
    "                        'sem': sem_trace,\n",
    "                       'fill_minus': mean_trace - sem_trace,\n",
    "                        'fill_plus': mean_trace + sem_trace,\n",
    "                        'stim_cond' : [stim_cond for _ in range(len(mean_trace))],\n",
    "                       'nreps': [nreps for _ in range(len(mean_trace))]\n",
    "                       })\n",
    "\n",
    "    conddfs.append(cdf)\n",
    "conddfs = pd.concat(conddfs, axis=0)"
   ]
  },
  {
   "cell_type": "code",
   "execution_count": null,
   "metadata": {},
   "outputs": [],
   "source": [
    "fig_fn = 'avg_trace_across_all_active_cells_%s_%s_thresh_%s_%i.png'%(area, response_type,filter_crit,filter_thresh)\n",
    "fig_file_path = os.path.join(fig_out_dir,fig_fn)\n",
    "\n",
    "#make figure\n",
    "p = sns.FacetGrid(conddfs, hue='stim_cond', size=10)\n",
    "p = p.map(pl.fill_between, \"tsec\", \"fill_minus\", \"fill_plus\", alpha=0.5)\n",
    "p = p.map(pl.plot, \"tsec\", ylabel, lw=1, alpha=1)\n",
    "\n",
    "\n",
    "axes = p.ax\n",
    "ymin,ymax = axes.get_ylim()\n",
    "xmin,xmax = axes.get_xlim()\n",
    "start_val = 0.0\n",
    "end_val = 1.0 #hard-coding\n",
    "\n",
    "        #print ri, ci\n",
    "p.ax.add_patch(patches.Rectangle((start_val, ymin), end_val, ymax-ymin, linewidth=0, fill=True, color='k', alpha=0.2))\n",
    "p.ax.text(-0.999, ymax+(ymax*0), 'n=%i, f=%.04f' % (n_active_cells,frac_active_cells), fontsize=10)\n",
    "p.ax.axhline(y=0, xmin=xmin, xmax= xmax, linewidth=1, color='k',linestyle = '--')\n",
    "\n",
    "\n",
    "#p.ax.set_xticks(())\n",
    "#sns.despine(trim=True, offset=0, bottom=True, left=False, ax=p.ax)\n",
    "p.ax.set_xlabel('time (s)', fontsize=12)\n",
    "p.ax.set_ylabel('%s' % ylabel, fontsize=12)\n",
    "\n",
    "\n",
    "pl.legend(bbox_to_anchor=(0, -0.1), loc=2, borderaxespad=0.1, labels=trace_labels, fontsize=10)\n",
    "\n",
    "\n",
    "p.savefig(fig_file_path)\n",
    "plt.close()"
   ]
  },
  {
   "cell_type": "code",
   "execution_count": null,
   "metadata": {},
   "outputs": [],
   "source": []
  },
  {
   "cell_type": "code",
   "execution_count": null,
   "metadata": {},
   "outputs": [],
   "source": [
    "# "
   ]
  },
  {
   "cell_type": "code",
   "execution_count": null,
   "metadata": {},
   "outputs": [],
   "source": [
    "#----Junk Code below here------"
   ]
  },
  {
   "cell_type": "code",
   "execution_count": null,
   "metadata": {},
   "outputs": [],
   "source": []
  },
  {
   "cell_type": "code",
   "execution_count": null,
   "metadata": {},
   "outputs": [],
   "source": []
  }
 ],
 "metadata": {
  "kernelspec": {
   "display_name": "Python 3",
   "language": "python",
   "name": "python3"
  },
  "language_info": {
   "codemirror_mode": {
    "name": "ipython",
    "version": 3
   },
   "file_extension": ".py",
   "mimetype": "text/x-python",
   "name": "python",
   "nbconvert_exporter": "python",
   "pygments_lexer": "ipython3",
   "version": "3.6.8"
  }
 },
 "nbformat": 4,
 "nbformat_minor": 2
}
