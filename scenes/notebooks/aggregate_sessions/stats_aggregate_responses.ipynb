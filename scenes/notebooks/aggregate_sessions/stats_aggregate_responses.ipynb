{
 "cells": [
  {
   "cell_type": "code",
   "execution_count": 2,
   "metadata": {},
   "outputs": [],
   "source": [
    "import h5py\n",
    "%matplotlib inline\n",
    "import seaborn as sns; sns.set()\n",
    "import matplotlib.pyplot as plt\n",
    "import matplotlib.patches as patches\n",
    "import sys\n",
    "import shutil\n",
    "import glob\n",
    "import optparse\n",
    "import os\n",
    "import json\n",
    "import pandas as pd\n",
    "import numpy as np\n",
    "import pylab as pl\n",
    "import scipy.stats as stats\n",
    "import seaborn as sns\n",
    "sns.set_style(\"ticks\")\n",
    "sns.set()\n",
    "sns.set_color_codes()\n",
    "\n",
    "def findOccurrences(s, ch):\n",
    "    return [i for i, letter in enumerate(s) if letter == ch]"
   ]
  },
  {
   "cell_type": "code",
   "execution_count": 27,
   "metadata": {},
   "outputs": [],
   "source": [
    "aggregate_root = '/n/coxfs01/cechavarria/2p-aggregate/scenes'\n",
    "\n",
    "# sess_list = ['JC097_20190621','JC085_20190624','JC097_20190628','JC097_20190704','JC085_20190712']\n",
    "# area = 'V1'\n",
    "\n",
    "# sess_list = ['JC080_20190619','JC091_20190621','JC091_20190628','JC097_20190702','JC091_20190703','JC085_20190704','JC097_20190708']\n",
    "# area = 'LM'\n",
    "\n",
    "sess_list = ['JC091_20190625','JC091_20190701','JC091_20190705']\n",
    "area = 'LI'\n",
    "\n",
    "num_animals = 1\n",
    "num_session = 3\n",
    "\n",
    "response_type = 'norm_df'\n",
    "\n",
    "filter_crit = 'zscore'\n",
    "filter_thresh = 1\n",
    "\n",
    "#define paths\n",
    "aggregate_file_dir = os.path.join(aggregate_root,area,'files')\n",
    "fig_out_dir = os.path.join(aggregate_root,area,'figures')\n",
    "\n",
    "if not os.path.isdir(fig_out_dir):\n",
    "        os.makedirs(fig_out_dir)"
   ]
  },
  {
   "cell_type": "code",
   "execution_count": 28,
   "metadata": {},
   "outputs": [],
   "source": [
    "#pool all neurons\n",
    "\n",
    "\n",
    "#put things into pandas df for plotting\n",
    "resp_dfs = []\n",
    "\n",
    "animalids = []\n",
    "sess_count = []\n",
    "active_cell_count = 0\n",
    "total_cell_count = 0\n",
    "\n",
    "ylabel = 'Average Response'\n",
    "\n",
    "for sess_idx, sess in enumerate(sess_list):\n",
    "# sess_idx = 0\n",
    "# sess = sess_list[sess_idx]\n",
    "    i1 = findOccurrences(sess,'_')[0]\n",
    "    animalid = sess[0:i1]\n",
    "    session = sess[i1+1:]\n",
    "\n",
    "\n",
    "    if animalid not in animalids:\n",
    "        animalids.append(animalid)\n",
    "        sess_count.append(0)\n",
    "\n",
    "    animal_idx = animalids.index(animalid)\n",
    "    sess_count[animal_idx] = sess_count[animal_idx]+1\n",
    "\n",
    "    data_array_fn = '%s_filtered_%s_responses_thresh_%s_%i.hdf5'%(sess, response_type, filter_crit, filter_thresh)\n",
    "    data_array_filepath = os.path.join(aggregate_file_dir, data_array_fn)\n",
    "    data_grp = h5py.File(data_array_filepath, 'r')\n",
    "\n",
    "\n",
    "    curr_slice = 'Slice01'#hard-code planar data for now\n",
    "\n",
    "\n",
    "    active_cell_idx = np.array(data_grp['/'.join([curr_slice, 'active_cell_idx'])])\n",
    "    total_cell_count = total_cell_count + active_cell_idx.shape[0]\n",
    "    active_cell_count = active_cell_count + np.nansum(active_cell_idx)\n",
    "    sess_response = np.array(data_grp['/'.join([curr_slice, 'filtered_response_per_cond_per_neuron'])])\n",
    "\n",
    "    if sess_idx == 0:\n",
    "        response_array = sess_response[:,active_cell_idx]\n",
    "    else:\n",
    "        response_array = np.hstack((response_array,sess_response[:,active_cell_idx]))\n"
   ]
  },
  {
   "cell_type": "code",
   "execution_count": 29,
   "metadata": {},
   "outputs": [
    {
     "name": "stdout",
     "output_type": "stream",
     "text": [
      "5.0849579371469575 0.006540126005837443\n"
     ]
    }
   ],
   "source": [
    "fstat, anova_pval = stats.f_oneway(response_array[0,:],response_array[1,:],response_array[2,:])\n",
    "print(fstat,anova_pval)"
   ]
  },
  {
   "cell_type": "code",
   "execution_count": 33,
   "metadata": {
    "scrolled": true
   },
   "outputs": [
    {
     "data": {
      "text/plain": [
       "array([1.        , 0.61563872, 0.55930246, 0.60109027, 0.27013329,\n",
       "       0.460679  , 0.20470797, 0.79674646, 0.39071202, 0.50634444,\n",
       "       0.59047383, 0.62720953, 0.63982689, 0.28685824, 0.44337981,\n",
       "       0.92718131, 0.86468392, 0.85171664, 0.73574216, 0.70078644,\n",
       "       0.41547153, 0.63263361, 0.6720514 , 0.73198397, 0.45068654,\n",
       "       0.6271305 , 0.53521954, 0.58323881, 0.49092197, 0.43020187,\n",
       "       0.67183756, 0.6124249 , 0.67214759, 0.74338619, 0.45756005,\n",
       "       0.83025642, 0.68778586, 0.41520767, 0.48780388, 0.95618209,\n",
       "       0.91228743, 0.56890873, 0.54863612, 0.38820502, 0.77434158,\n",
       "       0.74655698, 0.57303949, 0.62744766, 0.48641306, 0.48260339,\n",
       "       0.48117314, 0.07999139, 0.82118097, 0.74381177, 0.16775941,\n",
       "       0.88028037, 0.58220883, 1.        , 0.47251617, 0.68793739,\n",
       "       0.34240977, 0.28380647, 0.63527069, 0.37080995, 0.37129917,\n",
       "       0.4682611 , 0.33412602, 0.40707798, 0.66509243, 0.44346294,\n",
       "       0.69407192, 0.61568412, 0.56334869, 0.67958734, 0.83367569,\n",
       "       0.4772456 , 0.65553425, 0.19744114, 0.70357121, 0.50464554,\n",
       "       0.8710441 , 0.76595153, 0.92150658, 0.76638895, 0.53595212,\n",
       "       0.55919001, 1.        , 0.64737089, 0.65456585, 0.77607536,\n",
       "       0.85159616, 0.82106674, 0.75803008, 0.69731245, 0.66124668,\n",
       "       0.7075043 , 0.75480602, 0.59888113, 0.51310504, 0.75000739,\n",
       "       0.74569802, 0.76455967, 0.43817513, 0.57412999, 0.20399084,\n",
       "       0.52194436, 0.65757401, 0.6276382 , 0.78822324, 0.77197171,\n",
       "       0.61712   , 0.78159099, 0.61540186, 0.69314604, 0.73460456,\n",
       "       0.70697841, 0.7059149 , 0.74177501, 0.86925011, 0.74860185,\n",
       "       0.68178668, 0.57173165, 0.73464628, 0.76245479, 0.80333256,\n",
       "       0.65044298, 0.59885761, 1.        , 0.6966802 , 0.81259051,\n",
       "       0.6407121 , 0.57517304, 0.82675175, 0.80583139, 1.        ,\n",
       "       0.60136322, 0.42620622, 0.73542795, 0.69415958, 0.94359737,\n",
       "       0.68325543, 0.73727077, 0.70827017, 0.74691508, 0.83020329,\n",
       "       0.89518104, 0.38367041, 0.88383377, 0.69947489, 0.81548473,\n",
       "       0.65047754, 0.70538893, 0.68189838, 0.68929404, 1.        ])"
      ]
     },
     "execution_count": 33,
     "metadata": {},
     "output_type": "execute_result"
    }
   ],
   "source": [
    "response_array[2,:]"
   ]
  },
  {
   "cell_type": "code",
   "execution_count": null,
   "metadata": {},
   "outputs": [],
   "source": []
  },
  {
   "cell_type": "code",
   "execution_count": null,
   "metadata": {},
   "outputs": [],
   "source": []
  },
  {
   "cell_type": "code",
   "execution_count": null,
   "metadata": {},
   "outputs": [],
   "source": [
    "data_grp.close()"
   ]
  },
  {
   "cell_type": "code",
   "execution_count": null,
   "metadata": {},
   "outputs": [],
   "source": [
    "       \n",
    "        \n",
    " "
   ]
  },
  {
   "cell_type": "code",
   "execution_count": null,
   "metadata": {},
   "outputs": [],
   "source": []
  },
  {
   "cell_type": "code",
   "execution_count": null,
   "metadata": {},
   "outputs": [],
   "source": [
    "# "
   ]
  },
  {
   "cell_type": "code",
   "execution_count": null,
   "metadata": {},
   "outputs": [],
   "source": [
    "#----Junk Code below here------"
   ]
  },
  {
   "cell_type": "code",
   "execution_count": null,
   "metadata": {},
   "outputs": [],
   "source": []
  },
  {
   "cell_type": "code",
   "execution_count": null,
   "metadata": {},
   "outputs": [],
   "source": []
  }
 ],
 "metadata": {
  "kernelspec": {
   "display_name": "Python 3",
   "language": "python",
   "name": "python3"
  },
  "language_info": {
   "codemirror_mode": {
    "name": "ipython",
    "version": 3
   },
   "file_extension": ".py",
   "mimetype": "text/x-python",
   "name": "python",
   "nbconvert_exporter": "python",
   "pygments_lexer": "ipython3",
   "version": "3.6.8"
  }
 },
 "nbformat": 4,
 "nbformat_minor": 2
}
