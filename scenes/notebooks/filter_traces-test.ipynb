{
 "cells": [
  {
   "cell_type": "code",
   "execution_count": 1,
   "metadata": {},
   "outputs": [
    {
     "name": "stderr",
     "output_type": "stream",
     "text": [
      "/net/coxfs01/srv/export/coxfs01/share_root/2p-pipeline/repos/2p-pipeline/pipeline/python/traces/utils.py:9: UserWarning: \n",
      "This call to matplotlib.use() has no effect because the backend has already\n",
      "been chosen; matplotlib.use() must be called *before* pylab, matplotlib.pyplot,\n",
      "or matplotlib.backends is imported for the first time.\n",
      "\n",
      "The backend was *originally* set to 'module://ipykernel.pylab.backend_inline' by the following code:\n",
      "  File \"/n/coxfs01/2p-pipeline/envs/pipeline/lib/python2.7/runpy.py\", line 174, in _run_module_as_main\n",
      "    \"__main__\", fname, loader, pkg_name)\n",
      "  File \"/n/coxfs01/2p-pipeline/envs/pipeline/lib/python2.7/runpy.py\", line 72, in _run_code\n",
      "    exec code in run_globals\n",
      "  File \"/net/coxfs01/srv/export/coxfs01/share_root/2p-pipeline/envs/pipeline/lib/python2.7/site-packages/ipykernel_launcher.py\", line 16, in <module>\n",
      "    app.launch_new_instance()\n",
      "  File \"/n/coxfs01/2p-pipeline/envs/pipeline/lib/python2.7/site-packages/traitlets/config/application.py\", line 658, in launch_instance\n",
      "    app.start()\n",
      "  File \"/n/coxfs01/2p-pipeline/envs/pipeline/lib/python2.7/site-packages/ipykernel/kernelapp.py\", line 477, in start\n",
      "    ioloop.IOLoop.instance().start()\n",
      "  File \"/n/coxfs01/2p-pipeline/envs/pipeline/lib/python2.7/site-packages/zmq/eventloop/ioloop.py\", line 177, in start\n",
      "    super(ZMQIOLoop, self).start()\n",
      "  File \"/n/coxfs01/2p-pipeline/envs/pipeline/lib/python2.7/site-packages/tornado/ioloop.py\", line 888, in start\n",
      "    handler_func(fd_obj, events)\n",
      "  File \"/n/coxfs01/2p-pipeline/envs/pipeline/lib/python2.7/site-packages/tornado/stack_context.py\", line 277, in null_wrapper\n",
      "    return fn(*args, **kwargs)\n",
      "  File \"/n/coxfs01/2p-pipeline/envs/pipeline/lib/python2.7/site-packages/zmq/eventloop/zmqstream.py\", line 440, in _handle_events\n",
      "    self._handle_recv()\n",
      "  File \"/n/coxfs01/2p-pipeline/envs/pipeline/lib/python2.7/site-packages/zmq/eventloop/zmqstream.py\", line 472, in _handle_recv\n",
      "    self._run_callback(callback, msg)\n",
      "  File \"/n/coxfs01/2p-pipeline/envs/pipeline/lib/python2.7/site-packages/zmq/eventloop/zmqstream.py\", line 414, in _run_callback\n",
      "    callback(*args, **kwargs)\n",
      "  File \"/n/coxfs01/2p-pipeline/envs/pipeline/lib/python2.7/site-packages/tornado/stack_context.py\", line 277, in null_wrapper\n",
      "    return fn(*args, **kwargs)\n",
      "  File \"/n/coxfs01/2p-pipeline/envs/pipeline/lib/python2.7/site-packages/ipykernel/kernelbase.py\", line 283, in dispatcher\n",
      "    return self.dispatch_shell(stream, msg)\n",
      "  File \"/n/coxfs01/2p-pipeline/envs/pipeline/lib/python2.7/site-packages/ipykernel/kernelbase.py\", line 235, in dispatch_shell\n",
      "    handler(stream, idents, msg)\n",
      "  File \"/n/coxfs01/2p-pipeline/envs/pipeline/lib/python2.7/site-packages/ipykernel/kernelbase.py\", line 399, in execute_request\n",
      "    user_expressions, allow_stdin)\n",
      "  File \"/n/coxfs01/2p-pipeline/envs/pipeline/lib/python2.7/site-packages/ipykernel/ipkernel.py\", line 196, in do_execute\n",
      "    res = shell.run_cell(code, store_history=store_history, silent=silent)\n",
      "  File \"/n/coxfs01/2p-pipeline/envs/pipeline/lib/python2.7/site-packages/ipykernel/zmqshell.py\", line 533, in run_cell\n",
      "    return super(ZMQInteractiveShell, self).run_cell(*args, **kwargs)\n",
      "  File \"/n/coxfs01/2p-pipeline/envs/pipeline/lib/python2.7/site-packages/IPython/core/interactiveshell.py\", line 2717, in run_cell\n",
      "    interactivity=interactivity, compiler=compiler, result=result)\n",
      "  File \"/n/coxfs01/2p-pipeline/envs/pipeline/lib/python2.7/site-packages/IPython/core/interactiveshell.py\", line 2821, in run_ast_nodes\n",
      "    if self.run_code(code, result):\n",
      "  File \"/n/coxfs01/2p-pipeline/envs/pipeline/lib/python2.7/site-packages/IPython/core/interactiveshell.py\", line 2881, in run_code\n",
      "    exec(code_obj, self.user_global_ns, self.user_ns)\n",
      "  File \"<ipython-input-1-4bc4bfab891a>\", line 2, in <module>\n",
      "    get_ipython().magic(u'matplotlib inline')\n",
      "  File \"/n/coxfs01/2p-pipeline/envs/pipeline/lib/python2.7/site-packages/IPython/core/interactiveshell.py\", line 2158, in magic\n",
      "    return self.run_line_magic(magic_name, magic_arg_s)\n",
      "  File \"/n/coxfs01/2p-pipeline/envs/pipeline/lib/python2.7/site-packages/IPython/core/interactiveshell.py\", line 2079, in run_line_magic\n",
      "    result = fn(*args,**kwargs)\n",
      "  File \"<decorator-gen-104>\", line 2, in matplotlib\n",
      "  File \"/n/coxfs01/2p-pipeline/envs/pipeline/lib/python2.7/site-packages/IPython/core/magic.py\", line 188, in <lambda>\n",
      "    call = lambda f, *a, **k: f(*a, **k)\n",
      "  File \"/n/coxfs01/2p-pipeline/envs/pipeline/lib/python2.7/site-packages/IPython/core/magics/pylab.py\", line 100, in matplotlib\n",
      "    gui, backend = self.shell.enable_matplotlib(args.gui)\n",
      "  File \"/n/coxfs01/2p-pipeline/envs/pipeline/lib/python2.7/site-packages/IPython/core/interactiveshell.py\", line 2949, in enable_matplotlib\n",
      "    pt.activate_matplotlib(backend)\n",
      "  File \"/n/coxfs01/2p-pipeline/envs/pipeline/lib/python2.7/site-packages/IPython/core/pylabtools.py\", line 308, in activate_matplotlib\n",
      "    matplotlib.pyplot.switch_backend(backend)\n",
      "  File \"/n/coxfs01/2p-pipeline/envs/pipeline/lib/python2.7/site-packages/matplotlib/pyplot.py\", line 229, in switch_backend\n",
      "    matplotlib.use(newbackend, warn=False, force=True)\n",
      "  File \"/n/coxfs01/2p-pipeline/envs/pipeline/lib/python2.7/site-packages/matplotlib/__init__.py\", line 1305, in use\n",
      "    reload(sys.modules['matplotlib.backends'])\n",
      "  File \"/n/coxfs01/2p-pipeline/envs/pipeline/lib/python2.7/site-packages/matplotlib/backends/__init__.py\", line 14, in <module>\n",
      "    line for line in traceback.format_stack()\n",
      "\n",
      "\n",
      "  matplotlib.use('Agg')\n"
     ]
    }
   ],
   "source": [
    "import h5py\n",
    "%matplotlib inline\n",
    "import seaborn as sns; sns.set()\n",
    "import matplotlib.pyplot as plt\n",
    "import matplotlib\n",
    "import matplotlib.patches as patches\n",
    "import sys\n",
    "import shutil\n",
    "import glob\n",
    "import optparse\n",
    "import os\n",
    "import json\n",
    "import cPickle as pkl\n",
    "import pandas as pd\n",
    "import numpy as np\n",
    "import pylab as pl\n",
    "import scipy.stats as stats\n",
    "import seaborn as sns\n",
    "sys.path.append('/n/coxfs01/cechavarria/repos/2p-pipeline/')\n",
    "from pipeline.python.paradigm import utils as util"
   ]
  },
  {
   "cell_type": "code",
   "execution_count": 2,
   "metadata": {},
   "outputs": [],
   "source": [
    "class struct: pass\n",
    "\n",
    "opts = struct()\n",
    "opts.rootdir = '/n/coxfs01/2p-data'\n",
    "opts.animalid = 'JC080'\n",
    "opts.session = '20190619'\n",
    "opts.acquisition = 'FOV1_zoom4p0x'\n",
    "opts.traceid = 'traces001'\n",
    "opts.combined_run = 'scenes_combined'"
   ]
  },
  {
   "cell_type": "code",
   "execution_count": 3,
   "metadata": {},
   "outputs": [],
   "source": [
    "traceid = '%s_s2p'%(opts.traceid)\n",
    "#% Set up paths:    \n",
    "acquisition_dir = os.path.join(opts.rootdir, opts.animalid, opts.session, opts.acquisition)\n",
    "traceid_dir = os.path.join(acquisition_dir, opts.combined_run,'traces',traceid)\n",
    "\n",
    "run_dir = traceid_dir.split('/traces')[0]\n",
    "trace_arrays_dir = os.path.join(traceid_dir,'files')\n",
    "paradigm_dir = os.path.join(acquisition_dir, opts.combined_run, 'paradigm')"
   ]
  },
  {
   "cell_type": "code",
   "execution_count": 4,
   "metadata": {},
   "outputs": [],
   "source": [
    "#get file with trial-by-trial responses\n",
    "responses_dir = os.path.join(acquisition_dir, opts.combined_run,'responses',traceid)\n",
    "data_array_dir = os.path.join(responses_dir, 'data_arrays')\n",
    "\n",
    "resp_array_fn = 'trial_response_array.hdf5'\n",
    "resp_array_filepath = os.path.join(data_array_dir,'files' , resp_array_fn)\n",
    "resp_grp = h5py.File(resp_array_filepath, 'r')\n",
    "\n",
    "\n",
    "curr_slice = 'Slice01'#hard,coding for now\n",
    "\n",
    "#unpack\n",
    "filter_crit_matrix_trials = np.array(resp_grp['/'.join([curr_slice, 'responses' ,'zscore'])])\n",
    "\n",
    "resp_grp.close()\n"
   ]
  },
  {
   "cell_type": "code",
   "execution_count": 5,
   "metadata": {},
   "outputs": [],
   "source": [
    "filter_crit_matrix_mean = np.squeeze(np.mean(filter_crit_matrix_trials,0))"
   ]
  },
  {
   "cell_type": "code",
   "execution_count": 6,
   "metadata": {},
   "outputs": [],
   "source": [
    "thresh = 1\n",
    "filter_matrix = filter_crit_matrix_mean>thresh"
   ]
  },
  {
   "cell_type": "code",
   "execution_count": 13,
   "metadata": {},
   "outputs": [
    {
     "data": {
      "text/plain": [
       "(60, 208)"
      ]
     },
     "execution_count": 13,
     "metadata": {},
     "output_type": "execute_result"
    }
   ],
   "source": [
    "filter_matrix.shape"
   ]
  },
  {
   "cell_type": "code",
   "execution_count": 19,
   "metadata": {},
   "outputs": [],
   "source": [
    "#load trial info\n",
    "stimconfig_fn = 'trial_conditions.hdf5'\n",
    "stimconfig_filepath = os.path.join(paradigm_dir, 'files', stimconfig_fn)\n",
    "config_grp = h5py.File(stimconfig_filepath, 'r')\n",
    "\n",
    "ntrials = config_grp.attrs['ntrials']\n",
    "trial_config = np.array(config_grp['trial_config'])\n",
    "trial_cond = np.array(config_grp['trial_cond'])\n",
    "trial_img = np.array(config_grp['trial_img'])\n",
    "\n",
    "config_grp.close()"
   ]
  },
  {
   "cell_type": "code",
   "execution_count": null,
   "metadata": {},
   "outputs": [],
   "source": []
  },
  {
   "cell_type": "code",
   "execution_count": null,
   "metadata": {},
   "outputs": [],
   "source": [
    "#read trace file file\n",
    "parsedtraces_filepath = glob.glob(os.path.join(traceid_dir, 'files','parsedtraces*'))[0]\n",
    "file_grp = h5py.File(parsedtraces_filepath, 'r')\n",
    "\n",
    "\n",
    "pre_frames = file_grp.attrs['pre_frames']\n",
    "post_frames = file_grp.attrs['post_frames']\n",
    "stim_frames = file_grp.attrs['stim_frames']\n",
    "#to get baseline index with [0:pre_frames]\n",
    "#to get stim period do [pre_frames:pre_frames+stim_frames+1]\n",
    "\n",
    "curr_slice = 'Slice01'#hard-code planar data for now\n",
    "#get raw pixel value arrays\n",
    "pix_raw_array = np.array(file_grp[curr_slice]['traces']['raw'])\n",
    "pix_cell_array = np.array(file_grp[curr_slice]['traces']['np_subtracted'])\n",
    "pix_np_array = np.array(file_grp[curr_slice]['traces']['neuropil'])\n",
    "\n",
    "\n",
    "file_grp.close()"
   ]
  },
  {
   "cell_type": "code",
   "execution_count": 47,
   "metadata": {
    "scrolled": true
   },
   "outputs": [
    {
     "name": "stdout",
     "output_type": "stream",
     "text": [
      "ROIs:208\n",
      "Trials:1500\n",
      "config045\n",
      "25\n"
     ]
    },
    {
     "data": {
      "text/plain": [
       "[<matplotlib.lines.Line2D at 0x2acaa34d2650>]"
      ]
     },
     "execution_count": 47,
     "metadata": {},
     "output_type": "execute_result"
    },
    {
     "data": {
      "image/png": "[encoded data removed]",
      "text/plain": [
       "<matplotlib.figure.Figure at 0x2acaa3412b50>"
      ]
     },
     "metadata": {},
     "output_type": "display_data"
    }
   ],
   "source": [
    "#norm across all trials, per roi then average within config\n",
    "\n",
    "ntrials,ntpts,nrois = pix_cell_array.shape\n",
    "nconfigs = len(np.unique(trial_config))\n",
    "print('ROIs:%i'%(nrois))\n",
    "print('Trials:%i'%(ntrials))\n",
    "\n",
    "\n",
    "mean_norm_trace_array = np.empty((ntpts,nconfigs,nrois))\n",
    "\n",
    "#for ridx in range(nrois):\n",
    "ridx = 0\n",
    "roi_df_array = np.empty((ntrials,ntpts))\n",
    "for tidx in range(ntrials):\n",
    "\n",
    "    #get trial timecourse\n",
    "    pix_cell = np.squeeze(pix_cell_array[tidx,:,ridx].squeeze())\n",
    "\n",
    "    #get baseline\n",
    "    base_cell = pix_cell[0:pre_frames]\n",
    "    \n",
    "    #calculate df\n",
    "    df_cell = pix_cell - np.mean(base_cell)\n",
    "\n",
    "    #store in array\n",
    "    roi_df_array[tidx,:] = df_cell\n",
    "#normalize traces by roi for all trials\n",
    "norm_roi_df_array = roi_df_array/np.nanmax(roi_df_array.flatten())\n",
    "# = np.nanmean(norm_roi_df_array,0)\n",
    "\n",
    "#for cfg_idx in np.unique(trial_config):\n",
    "cfg_idx = 45\n",
    "\n",
    "cfg_key = 'config%03d'%(cfg_idx)\n",
    "print(cfg_key)\n",
    "tidx = np.where(trial_config == cfg_idx)[0]\n",
    "print(len(tidx))\n",
    "\n",
    "mean_norm_trace_array[:,cfg_idx,ridx] = np.nanmean(norm_roi_df_array[tidx,:],0)\n",
    "\n",
    "plt.plot(mean_norm_trace_array[:,cfg_idx,ridx])"
   ]
  },
  {
   "cell_type": "code",
   "execution_count": 53,
   "metadata": {},
   "outputs": [
    {
     "name": "stdout",
     "output_type": "stream",
     "text": [
      "ROIs:208\n",
      "Trials:1500\n",
      "config000\n",
      "25\n",
      "config001\n",
      "25\n",
      "config002\n",
      "25\n",
      "config003\n",
      "25\n",
      "config004\n",
      "25\n",
      "config005\n",
      "25\n",
      "config006\n",
      "25\n",
      "config007\n",
      "25\n",
      "config008\n",
      "25\n",
      "config009\n",
      "25\n",
      "config010\n",
      "25\n",
      "config011\n",
      "25\n",
      "config012\n",
      "25\n",
      "config013\n",
      "25\n",
      "config014\n",
      "25\n",
      "config015\n",
      "25\n",
      "config016\n",
      "25\n",
      "config017\n",
      "25\n",
      "config018\n",
      "25\n",
      "config019\n",
      "25\n",
      "config020\n",
      "25\n",
      "config021\n",
      "25\n",
      "config022\n",
      "25\n",
      "config023\n",
      "25\n",
      "config024\n",
      "25\n",
      "config025\n",
      "25\n",
      "config026\n",
      "25\n",
      "config027\n",
      "25\n",
      "config028\n",
      "25\n",
      "config029\n",
      "25\n",
      "config030\n",
      "25\n",
      "config031\n",
      "25\n",
      "config032\n",
      "25\n",
      "config033\n",
      "25\n",
      "config034\n",
      "25\n",
      "config035\n",
      "25\n",
      "config036\n",
      "25\n",
      "config037\n",
      "25\n",
      "config038\n",
      "25\n",
      "config039\n",
      "25\n",
      "config040\n",
      "25\n",
      "config041\n",
      "25\n",
      "config042\n",
      "25\n",
      "config043\n",
      "25\n",
      "config044\n",
      "25\n",
      "config045\n",
      "25\n",
      "config046\n",
      "25\n",
      "config047\n",
      "25\n",
      "config048\n",
      "25\n",
      "config049\n",
      "25\n",
      "config050\n",
      "25\n",
      "config051\n",
      "25\n",
      "config052\n",
      "25\n",
      "config053\n",
      "25\n",
      "config054\n",
      "25\n",
      "config055\n",
      "25\n",
      "config056\n",
      "25\n",
      "config057\n",
      "25\n",
      "config058\n",
      "25\n",
      "config059\n",
      "25\n"
     ]
    }
   ],
   "source": [
    "#for each roi, first average across trials per config, then normalize across configs\n",
    "#-should result in higher values, also noticed bigger differences in values\n",
    "ntrials,ntpts,nrois = pix_cell_array.shape\n",
    "nconfigs = len(np.unique(trial_config))\n",
    "print('ROIs:%i'%(nrois))\n",
    "print('Trials:%i'%(ntrials))\n",
    "\n",
    "\n",
    "mean_norm_trace_array = np.empty((ntpts,nconfigs,nrois))\n",
    "\n",
    "#for ridx in range(nrois):\n",
    "ridx = 0\n",
    "roi_df_array = np.empty((ntrials,ntpts))\n",
    "for tidx in range(ntrials):\n",
    "\n",
    "    #get trial timecourse\n",
    "    pix_cell = np.squeeze(pix_cell_array[tidx,:,ridx].squeeze())\n",
    "\n",
    "    #get baseline\n",
    "    base_cell = pix_cell[0:pre_frames]\n",
    "    \n",
    "    #calculate df\n",
    "    df_cell = pix_cell - np.mean(base_cell)\n",
    "\n",
    "    #store in array\n",
    "    roi_df_array[tidx,:] = df_cell\n",
    "\n",
    "\n",
    "mean_df_array = np.empty((nconfigs,ntpts))\n",
    "for cfg_idx in np.unique(trial_config):\n",
    "    #cfg_idx = 45\n",
    "\n",
    "    cfg_key = 'config%03d'%(cfg_idx)\n",
    "    print(cfg_key)\n",
    "    tidx = np.where(trial_config == cfg_idx)[0]\n",
    "    print(len(tidx))\n",
    "\n",
    "    mean_df_array[int(cfg_idx),:] = np.nanmean(roi_df_array[tidx,:],0)"
   ]
  },
  {
   "cell_type": "code",
   "execution_count": 54,
   "metadata": {},
   "outputs": [],
   "source": [
    "#normalize traces across configs\n",
    "norm_roi_df_array = mean_df_array/np.nanmax(mean_df_array.flatten())"
   ]
  },
  {
   "cell_type": "code",
   "execution_count": 63,
   "metadata": {},
   "outputs": [
    {
     "data": {
      "text/plain": [
       "[<matplotlib.lines.Line2D at 0x2acaa38ea0d0>]"
      ]
     },
     "execution_count": 63,
     "metadata": {},
     "output_type": "execute_result"
    },
    {
     "data": {
      "image/png": "[encoded data removed]",
      "text/plain": [
       "<matplotlib.figure.Figure at 0x2acaa38884d0>"
      ]
     },
     "metadata": {},
     "output_type": "display_data"
    }
   ],
   "source": [
    "plt.plot(norm_roi_df_array[48,:])"
   ]
  },
  {
   "cell_type": "code",
   "execution_count": 49,
   "metadata": {},
   "outputs": [
    {
     "data": {
      "text/plain": [
       "(1500, 155)"
      ]
     },
     "execution_count": 49,
     "metadata": {},
     "output_type": "execute_result"
    }
   ],
   "source": [
    "roi_df_array.shape"
   ]
  },
  {
   "cell_type": "code",
   "execution_count": null,
   "metadata": {},
   "outputs": [],
   "source": [
    "#----Junk Code below here------"
   ]
  },
  {
   "cell_type": "code",
   "execution_count": null,
   "metadata": {},
   "outputs": [],
   "source": [
    "#open timecourse file to read\n",
    "data_array_fn = 'processed_config_traces.hdf5'\n",
    "data_array_filepath = os.path.join(traceid_dir, 'data_arrays', data_array_fn)\n",
    "data_grp = h5py.File(data_array_filepath, 'r')\n",
    "\n",
    "frames_tsec = data_grp.attrs['frames_tsec']\n",
    "nrois = data_grp.attrs['nrois']\n",
    "print('ROIs:%i'%(nrois))\n",
    "\n",
    "if 's2p_cell_rois' in data_grp.attrs.keys():\n",
    "    cell_rois = data_grp.attrs['s2p_cell_rois']\n",
    "else:\n",
    "    cell_rois = np.arange(nrois)\n",
    "\n",
    "curr_slice = 'Slice01'#hard,coding for now"
   ]
  },
  {
   "cell_type": "code",
   "execution_count": null,
   "metadata": {},
   "outputs": [],
   "source": [
    "trace_type = 'df_f'"
   ]
  },
  {
   "cell_type": "code",
   "execution_count": null,
   "metadata": {},
   "outputs": [],
   "source": [
    "data_type = 'np_subtracted'"
   ]
  },
  {
   "cell_type": "code",
   "execution_count": null,
   "metadata": {},
   "outputs": [],
   "source": [
    "\n",
    "for cfg_count,cfg_key in enumerate(data_grp[curr_slice].keys()):\n",
    "    # cfg_count = 0\n",
    "    # cfg_key = 'config000'\n",
    "\n",
    "    #find rois responsive to this condition\n",
    "    ridxs = np.where(filter_matrix[cfg_count,:])[0]\n",
    "\n",
    "    if cfg_count == 0:\n",
    "        filtered_trace_mean = np.zeros((np.array(data_grp['/'.join([curr_slice,cfg_key,trace_type, 'trace_mean',data_type])]).shape[0],len(data_grp[curr_slice].keys())))\n",
    "        filtered_trace_se = np.zeros((np.array(data_grp['/'.join([curr_slice,cfg_key,trace_type, 'trace_mean',data_type])]).shape[0],len(data_grp[curr_slice].keys())))\n",
    "    if ridxs.size>0:\n",
    "        trace_array = np.empty((np.array(data_grp['/'.join([curr_slice,cfg_key,trace_type, 'trace_mean',data_type])]).shape[0],ridxs.size))\n",
    "        for ridx_count, ridx in enumerate(ridxs):\n",
    "            #consider only cells ROIS!! <- To Do\n",
    "            trace_array[:,ridx_count] = np.array(data_grp['/'.join([curr_slice,cfg_key,trace_type, 'trace_mean',data_type])])[:,ridx]\n",
    "    #take average and store in array\n",
    "    filtered_trace_mean[:,cfg_count] = np.mean(trace_array,1)\n",
    "    filtered_trace_se[:,cfg_count] = stats.sem(trace_array,1)"
   ]
  },
  {
   "cell_type": "code",
   "execution_count": null,
   "metadata": {
    "scrolled": true
   },
   "outputs": [],
   "source": [
    "filtered_trace_mean[:,2]"
   ]
  },
  {
   "cell_type": "code",
   "execution_count": null,
   "metadata": {},
   "outputs": [],
   "source": []
  }
 ],
 "metadata": {
  "kernelspec": {
   "display_name": "Python [conda env:pipeline]",
   "language": "python",
   "name": "conda-env-pipeline-py"
  },
  "language_info": {
   "codemirror_mode": {
    "name": "ipython",
    "version": 2
   },
   "file_extension": ".py",
   "mimetype": "text/x-python",
   "name": "python",
   "nbconvert_exporter": "python",
   "pygments_lexer": "ipython2",
   "version": "2.7.13"
  }
 },
 "nbformat": 4,
 "nbformat_minor": 2
}
