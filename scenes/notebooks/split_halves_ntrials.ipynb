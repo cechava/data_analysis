{
 "cells": [
  {
   "cell_type": "code",
   "execution_count": 1,
   "metadata": {
    "collapsed": true
   },
   "outputs": [],
   "source": [
    "import h5py\n",
    "%matplotlib inline\n",
    "import seaborn as sns; sns.set()\n",
    "import matplotlib.pyplot as plt\n",
    "import matplotlib\n",
    "import matplotlib.patches as patches\n",
    "import sys\n",
    "import shutil\n",
    "import glob\n",
    "import optparse\n",
    "import os\n",
    "import json\n",
    "import pandas as pd\n",
    "import numpy as np\n",
    "import pylab as pl\n",
    "import scipy.stats as stats\n",
    "import seaborn as sns\n",
    "sys.path.append('/n/coxfs01/cechavarria/repos/2p-pipeline/')"
   ]
  },
  {
   "cell_type": "code",
   "execution_count": 2,
   "metadata": {
    "collapsed": true
   },
   "outputs": [],
   "source": [
    "class struct: pass\n",
    "\n",
    "optsE = struct()\n",
    "optsE.rootdir = '/n/coxfs01/2p-data'\n",
    "optsE.animalid = 'JC097'\n",
    "optsE.session = '20190621'\n",
    "optsE.acquisition = 'FOV1_zoom4p0x'\n",
    "traceid = 'traces001_s2p'\n",
    "run = 'scenes_combined'\n",
    "\n",
    "\n",
    "#% Set up paths:    \n",
    "acquisition_dir = os.path.join(optsE.rootdir, optsE.animalid, optsE.session, optsE.acquisition)\n",
    "if 'combined' in run:\n",
    "    traceid_dir = os.path.join(acquisition_dir, run,'traces',traceid)\n",
    "else:\n",
    "    traceid_dir = util.get_traceid_from_acquisition(acquisition_dir, run, traceid)\n",
    "run_dir = traceid_dir.split('/traces')[0]\n",
    "trace_arrays_dir = os.path.join(traceid_dir,'files')\n",
    "paradigm_dir = os.path.join(acquisition_dir, run, 'paradigm')\n",
    "\n",
    "\n",
    "responses_dir = os.path.join(acquisition_dir, run,'responses',traceid)\n",
    "data_array_dir = os.path.join(responses_dir, 'data_arrays')\n",
    "\n",
    "    \n",
    "if not os.path.exists(os.path.join(responses_dir,'figures')):\n",
    "    os.makedirs(os.path.join(responses_dir,'figures'))"
   ]
  },
  {
   "cell_type": "code",
   "execution_count": 4,
   "metadata": {
    "collapsed": true
   },
   "outputs": [],
   "source": [
    "#open_tilf\n",
    "resp_array_fn = 'trial_response_array.hdf5'\n",
    "resp_array_filepath = os.path.join(data_array_dir,'files' , resp_array_fn)\n",
    "resp_grp = h5py.File(resp_array_filepath, 'r')"
   ]
  },
  {
   "cell_type": "code",
   "execution_count": 5,
   "metadata": {
    "collapsed": true
   },
   "outputs": [],
   "source": [
    "if 's2p_cell_rois' in resp_grp.attrs.keys():\n",
    "    cell_rois = resp_grp.attrs['s2p_cell_rois']\n",
    "else:\n",
    "    cell_rois = np.arange(nrois)\n",
    "config_img = resp_grp.attrs['config_img'].astype('int')\n",
    "config_cond = resp_grp.attrs['config_cond'].astype('int')\n",
    "\n",
    "curr_slice = 'Slice01'#hard,coding for now"
   ]
  },
  {
   "cell_type": "code",
   "execution_count": 6,
   "metadata": {
    "collapsed": true
   },
   "outputs": [],
   "source": [
    "#unpack\n",
    "response_matrix_df_f = np.array(resp_grp['/'.join([curr_slice, 'responses' ,'df_f'])])\n"
   ]
  },
  {
   "cell_type": "code",
   "execution_count": 20,
   "metadata": {
    "collapsed": true
   },
   "outputs": [],
   "source": [
    "#consider only cell ROIs\n",
    "response_matrix = response_matrix_df_f[:,:,cell_rois]\n",
    "ntrials, nstims, nrois = response_matrix.shape"
   ]
  },
  {
   "cell_type": "code",
   "execution_count": 63,
   "metadata": {
    "collapsed": true
   },
   "outputs": [],
   "source": [
    "split_size_list = np.arange(14)+1\n",
    "nreps = 10000\n",
    "\n",
    "R_matrix = np.zeros((split_size_list.size,nreps))\n",
    "\n",
    "for split_idx,split_size in enumerate(split_size_list):\n",
    "\n",
    "    for rep in range(nreps):\n",
    "        rand_trials = np.random.permutation(ntrials)\n",
    "        half1 = response_matrix[rand_trials[0:split_size]]\n",
    "        half2 = response_matrix[rand_trials[split_size:(2*split_size)]]\n",
    "\n",
    "\n",
    "        half1_mean = np.squeeze(np.mean(half1,0)).flatten()\n",
    "        half2_mean = np.squeeze(np.mean(half2,0)).flatten()\n",
    "\n",
    "        R_mat = np.corrcoef(half1_mean,half2_mean)\n",
    "        R_matrix[split_idx,rep] = R_mat[0,1]\n"
   ]
  },
  {
   "cell_type": "code",
   "execution_count": 64,
   "metadata": {
    "collapsed": true
   },
   "outputs": [],
   "source": [
    "R_mean = np.mean(R_matrix,1)\n",
    "R_se = np.true_divide(np.nanstd(R_matrix,1),np.sqrt(nreps))"
   ]
  },
  {
   "cell_type": "code",
   "execution_count": 71,
   "metadata": {},
   "outputs": [
    {
     "data": {
      "text/plain": [
       "<ErrorbarContainer object of 3 artists>"
      ]
     },
     "execution_count": 71,
     "metadata": {},
     "output_type": "execute_result"
    },
    {
     "data": {
      "image/png": "[encoded data removed]",
      "text/plain": [
       "<Figure size 432x288 with 1 Axes>"
      ]
     },
     "metadata": {
      "needs_background": "light"
     },
     "output_type": "display_data"
    }
   ],
   "source": [
    "plt.errorbar(split_size_list,R_mean,yerr=R_se)"
   ]
  },
  {
   "cell_type": "code",
   "execution_count": null,
   "metadata": {
    "collapsed": true
   },
   "outputs": [],
   "source": []
  }
 ],
 "metadata": {
  "kernelspec": {
   "display_name": "Python 2",
   "language": "python",
   "name": "python2"
  },
  "language_info": {
   "codemirror_mode": {
    "name": "ipython",
    "version": 2
   },
   "file_extension": ".py",
   "mimetype": "text/x-python",
   "name": "python",
   "nbconvert_exporter": "python",
   "pygments_lexer": "ipython2",
   "version": "2.7.13"
  }
 },
 "nbformat": 4,
 "nbformat_minor": 2
}
