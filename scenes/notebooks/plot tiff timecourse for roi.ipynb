{
 "cells": [
  {
   "cell_type": "code",
   "execution_count": 2,
   "metadata": {
    "collapsed": true
   },
   "outputs": [],
   "source": [
    "import h5py\n",
    "\n",
    "import seaborn as sns; sns.set()\n",
    "import matplotlib.pyplot as plt\n",
    "import matplotlib\n",
    "\n",
    "import sys\n",
    "import shutil\n",
    "import glob\n",
    "import optparse\n",
    "import os\n",
    "import json\n",
    "\n",
    "import pandas as pd\n",
    "import numpy as np\n",
    "import pylab as pl\n",
    "import seaborn as sns\n",
    "\n",
    "import re\n",
    "\n",
    "#sys.path.append('/n/coxfs01/cechavarria/repos/2p-pipeline/')\n",
    "#from pipeline.python.paradigm import align_acquisition_events as acq\n",
    "#from pipeline.python.traces.utils import get_frame_info\n",
    "#from pipeline.python.paradigm import utils as util\n",
    "##\n",
    "#from pipeline.python.utils import natural_keys, replace_root, print_elapsed_time\n",
    "\n",
    "def atoi(text):\n",
    "    return int(text) if text.isdigit() else text\n",
    "\n",
    "def natural_keys(text):\n",
    "    '''\n",
    "    alist.sort(key=natural_keys) sorts in human order\n",
    "    http://nedbatchelder.com/blog/200712/human_sorting.html\n",
    "    (See Toothy's implementation in the comments)\n",
    "    '''\n",
    "    return [ atoi(c) for c in re.split(r'(\\d+)', text) ]"
   ]
  },
  {
   "cell_type": "code",
   "execution_count": 3,
   "metadata": {
    "collapsed": true
   },
   "outputs": [],
   "source": [
    "%matplotlib inline"
   ]
  },
  {
   "cell_type": "code",
   "execution_count": null,
   "metadata": {
    "collapsed": true
   },
   "outputs": [],
   "source": [
    "class struct: pass\n",
    "\n",
    "opts = struct()\n",
    "opts.rootdir = '/n/coxfs01/2p-data'\n",
    "opts.animalid = 'JC105'\n",
    "opts.session = '20190826'\n",
    "opts.acquisition = 'FOV1_zoom4p0x'\n",
    "traceid = 'traces101_s2p'\n",
    "run = 'scenes_run1'\n",
    "s2p=True\n",
    "combined = False\n",
    "iti_pre = 1.0\n",
    "iti_post = 1.95\n",
    "\n",
    "\n",
    "\n",
    "\n",
    "#% Set up paths:    \n",
    "acquisition_dir = os.path.join(opts.rootdir, opts.animalid, opts.session, opts.acquisition)\n",
    "\n",
    "traceid_dir = os.path.join(acquisition_dir, run, 'traces',traceid)\n",
    "\n",
    "trace_arrays_dir = os.path.join(traceid_dir,'files')\n",
    "trace_fig_dir = os.path.join(traceid_dir,'figures','np_subtraced_traces')\n",
    "if not os.path.exists(trace_fig_dir):\n",
    "        os.makedirs(trace_fig_dir)"
   ]
  },
  {
   "cell_type": "code",
   "execution_count": 125,
   "metadata": {
    "scrolled": true
   },
   "outputs": [
    {
     "name": "stdout",
     "output_type": "stream",
     "text": [
      "('N tsecs:', 4598)\n"
     ]
    }
   ],
   "source": [
    "      \n",
    "# Get SCAN IMAGE info for run:\n",
    "run_dir = traceid_dir.split('/traces')[0]\n",
    "run = os.path.split(run_dir)[-1]\n",
    "with open(os.path.join(run_dir, '%s.json' % run), 'r') as fr:\n",
    "    scan_info = json.load(fr)\n",
    "all_frames_tsecs = np.array(scan_info['frame_tstamps_sec'])\n",
    "nslices_full = len(all_frames_tsecs) / scan_info['nvolumes']\n",
    "nslices = len(scan_info['slices'])\n",
    "if scan_info['nchannels']==2:\n",
    "    all_frames_tsecs = np.array(all_frames_tsecs[0::2])\n",
    "\n",
    "\n",
    "print(\"N tsecs:\", len(all_frames_tsecs))\n",
    "framerate = scan_info['frame_rate']\n",
    "volumerate = scan_info['volume_rate']\n",
    "nvolumes = scan_info['nvolumes']\n",
    "nfiles = scan_info['ntiffs']\n",
    "\n",
    "\n",
    "\n",
    "\n",
    "\n",
    "# Load MW info to get stimulus details:\n",
    "paradigm_dir = os.path.join(acquisition_dir, run, 'paradigm')\n",
    "mw_fpath = [os.path.join(paradigm_dir, m) for m in os.listdir(paradigm_dir) if 'trials_' in m and m.endswith('json')][0]\n",
    "with open(mw_fpath,'r') as m:\n",
    "    mwinfo = json.load(m)\n",
    "pre_iti_sec = round(mwinfo[list(mwinfo.keys())[0]]['iti_dur_ms']/1E3) \n",
    "nframes_iti_full = int(round(pre_iti_sec * volumerate))\n",
    "\n",
    "\n",
    "trial_list = sorted(mwinfo.keys(), key=natural_keys)\n"
   ]
  },
  {
   "cell_type": "code",
   "execution_count": null,
   "metadata": {
    "collapsed": true
   },
   "outputs": [],
   "source": [
    "df"
   ]
  },
  {
   "cell_type": "code",
   "execution_count": null,
   "metadata": {
    "collapsed": true
   },
   "outputs": [],
   "source": []
  },
  {
   "cell_type": "code",
   "execution_count": null,
   "metadata": {
    "collapsed": true
   },
   "outputs": [],
   "source": []
  },
  {
   "cell_type": "code",
   "execution_count": null,
   "metadata": {
    "collapsed": true
   },
   "outputs": [],
   "source": [
    "curr_slice = 'Slice01'#hard-coding planar data for now\n",
    "        fid = 0\n",
    "        for trial_idx, trial_key in enumerate(trial_list):\n",
    "\n",
    "\n",
    "            if trial_idx > 0:\n",
    "                if not(fid == mwinfo[trial_key]['block_idx']):\n",
    "                    print('fid: %i'% (fid))\n",
    "                    #update fid and reload\n",
    "                    fid = mwinfo[trial_key]['block_idx']\n",
    "                    trace_file = [f for f in os.listdir(trace_arrays_dir) if 'File%03d'%(fid+1) in f and f.endswith('hdf5')][0]\n",
    "                    trace_fn = os.path.join(trace_arrays_dir,trace_file)\n",
    "\n",
    "                    rawfile = h5py.File(trace_fn, 'r')\n",
    "\n",
    "\n",
    "                    raw_df = rawfile[curr_slice]['traces']['raw'][:]\n",
    "                    sub_df = rawfile[curr_slice]['traces']['np_subtracted'][:]\n",
    "                    np_df = rawfile[curr_slice]['traces']['neuropil'][:]\n",
    "\n",
    "                    mean_pix_fid[fid,:] = np.squeeze(np.mean(np.squeeze(np.mean(sub_df,0)),0))\n",
    "            else:\n",
    "                #load file\n",
    "                trace_file = [f for f in os.listdir(trace_arrays_dir) if 'File%03d'%(fid+1) in f and f.endswith('hdf5')][0]\n",
    "                trace_fn = os.path.join(trace_arrays_dir,trace_file)\n",
    "\n",
    "                rawfile = h5py.File(trace_fn, 'r')\n",
    "                if 's2p_cell_rois' in rawfile.attrs.keys():\n",
    "                        file_grp.attrs['s2p_cell_rois'] = rawfile.attrs['s2p_cell_rois']\n",
    "                raw_df = rawfile[curr_slice]['traces']['raw'][:]\n",
    "                sub_df = rawfile[curr_slice]['traces']['np_subtracted'][:]\n",
    "                np_df = rawfile[curr_slice]['traces']['neuropil'][:]\n",
    "\n",
    "                #get dimension sizes for arrays\n",
    "                ntrials = len(mwinfo)\n",
    "                nrois = raw_df.shape[1]\n",
    "                print('ROIS: %i'%(nrois))\n",
    "\n",
    "                #use first trial to figure out frame number\n",
    "                if run_count == 0:\n",
    "                    idx_on = mwinfo[trial_key]['frame_stim_on']\n",
    "                    idx_off = mwinfo[trial_key]['frame_stim_off']\n",
    "                    ntpts = (idx_off-idx_on)+pre_frames+post_frames\n",
    "                    print('ntpts: %i', ntpts)\n",
    "\n",
    "                    mean_pix_fid = np.empty((nfiles,nrois))\n",
    "\n",
    "\n",
    "                #initialize empty arrays\n",
    "                trial_fid = np.empty((ntrials,))\n",
    "                parsed_traces_raw = np.empty((ntrials,ntpts,nrois))\n",
    "                parsed_traces_raw[:] = np.nan\n",
    "                parsed_traces_sub = np.empty((ntrials,ntpts,nrois))\n",
    "                parsed_traces_sub[:] = np.nan\n",
    "                parsed_traces_np = np.empty((ntrials,ntpts,nrois))\n",
    "                parsed_traces_np[:] = np.nan\n",
    "\n",
    "\n",
    "            idx0 = (mwinfo[trial_key]['frame_stim_on']-pre_frames)-(nvolumes*fid)\n",
    "            idx1 = mwinfo[trial_key]['frame_stim_off']+post_frames-(nvolumes*fid)\n",
    "            #discard time points post-stim offset if there are extra frames in this trial(stim onset alignment is what is most importnt)\n",
    "            idx_diff = (idx1-idx0)-ntpts\n",
    "            if idx_diff>0:\n",
    "                idx1 = idx1-idx_diff\n",
    "            trial_frames = idx1-idx0\n",
    "\n",
    "            #get psth\n",
    "            trial_df_raw = raw_df[idx0:idx1,:]\n",
    "            trial_df_sub = sub_df[idx0:idx1,:]\n",
    "            trial_df_np = np_df[idx0:idx1,:]\n",
    "\n",
    "            parsed_traces_raw[trial_idx,0:trial_frames,:]=trial_df_raw\n",
    "            parsed_traces_sub[trial_idx,0:trial_frames,:]=trial_df_sub\n",
    "            parsed_traces_np[trial_idx,0:trial_frames,:]=trial_df_np\n",
    "            trial_fid[trial_idx] = fid\n",
    "\n",
    "        #get parsed trace time stamps\n",
    "        tstamps_indices = np.arange(parsed_traces_raw.shape[1])                          \n",
    "        volumeperiod = 1/volumerate\n",
    "        curr_tstamps = (tstamps_indices*volumeperiod)\n",
    "        curr_tstamps = curr_tstamps - iti_pre"
   ]
  },
  {
   "cell_type": "code",
   "execution_count": null,
   "metadata": {
    "collapsed": true
   },
   "outputs": [],
   "source": [
    "trace_files = [f for f in os.listdir(trace_arrays_dir) if 'File' in f and f.endswith('hdf5')]\n",
    "\n",
    "file_idx = 0\n",
    "trace_file = trace_files[0]\n",
    "trace_fn = os.path.join(trace_arrays_dir,trace_file)\n",
    "\n",
    "rawfile = h5py.File(trace_fn, 'r')\n",
    "raw_df = rawfile['Slice01']['traces']['np_subtracted'][:]\n",
    "\n",
    "stim_on_frames = []\n",
    "trials_per_file = 25\n",
    "for tridx in range(trials_per_file):\n",
    "    tridx_all = tridx+(trials_per_file*file_idx)\n",
    "    trial_key = 'trial%05d' % (tridx_all+1)\n",
    "    stim_on_frames.append(mwinfo[trial_key]['frame_stim_on'])\n",
    "stim_on_frames = np.array(stim_on_frames)"
   ]
  },
  {
   "cell_type": "code",
   "execution_count": 123,
   "metadata": {},
   "outputs": [
    {
     "data": {
      "text/plain": [
       "(4598,)"
      ]
     },
     "execution_count": 123,
     "metadata": {},
     "output_type": "execute_result"
    }
   ],
   "source": [
    "all_frames_tsecs.shape"
   ]
  },
  {
   "cell_type": "code",
   "execution_count": 124,
   "metadata": {},
   "outputs": [
    {
     "data": {
      "text/plain": [
       "4598"
      ]
     },
     "execution_count": 124,
     "metadata": {},
     "output_type": "execute_result"
    }
   ],
   "source": [
    "nvolumes"
   ]
  },
  {
   "cell_type": "code",
   "execution_count": 120,
   "metadata": {},
   "outputs": [
    {
     "data": {
      "text/plain": [
       "134"
      ]
     },
     "execution_count": 120,
     "metadata": {},
     "output_type": "execute_result"
    }
   ],
   "source": [
    "nframes_iti_full"
   ]
  },
  {
   "cell_type": "code",
   "execution_count": 118,
   "metadata": {},
   "outputs": [
    {
     "data": {
      "text/plain": [
       "0"
      ]
     },
     "execution_count": 118,
     "metadata": {},
     "output_type": "execute_result"
    }
   ],
   "source": [
    "mwinfo[trial_key]['block_idx']"
   ]
  },
  {
   "cell_type": "code",
   "execution_count": 119,
   "metadata": {},
   "outputs": [
    {
     "data": {
      "text/plain": [
       "array([  184,   365,   546,   727,   907,  1088,  1269,  1450,  1631,\n",
       "        1811,  1992,  2173,  2354,  2535,  2716,  2896,  3077,  3258,\n",
       "        3439,  3619,  3800,  3981,  4162,  4343,  4523,  4782,  4963,\n",
       "        5143,  5324,  5505,  5686,  5866,  6047,  6228,  6409,  6590,\n",
       "        6771,  6951,  7132,  7313,  7494,  7675,  7855,  8036,  8217,\n",
       "        8398,  8578,  8759,  8940,  9121,  9380,  9561,  9742,  9923,\n",
       "       10103, 10284, 10465, 10646, 10826, 11007, 11188, 11369, 11550,\n",
       "       11730, 11911, 12092, 12273, 12454, 12634, 12815, 12996, 13177,\n",
       "       13358, 13539, 13719, 13978, 14159, 14339, 14520, 14701, 14882,\n",
       "       15063, 15243, 15424, 15605, 15786, 15967, 16147, 16328, 16509,\n",
       "       16690, 16871, 17051, 17232, 17413, 17594, 17775, 17955, 18136,\n",
       "       18317, 18575, 18756, 18937, 19118, 19299, 19480, 19660, 19841,\n",
       "       20022, 20203, 20384, 20564, 20745, 20926, 21107, 21288, 21468,\n",
       "       21649, 21830, 22011, 22192, 22372, 22553, 22734, 22915, 23174,\n",
       "       23355, 23536, 23716, 23897, 24078, 24259, 24440, 24621, 24801,\n",
       "       24982, 25163, 25344, 25524, 25705, 25886, 26067, 26248, 26429,\n",
       "       26609, 26790, 26971, 27152, 27333, 27513, 27772, 27952, 28133,\n",
       "       28314, 28495, 28676, 28857, 29037, 29218, 29399, 29580, 29761,\n",
       "       29941, 30122, 30303, 30484, 30665, 30846, 31026, 31207, 31388,\n",
       "       31569, 31750, 31930, 32111, 32370, 32551, 32732, 32913, 33093,\n",
       "       33274, 33455, 33636, 33817, 33997, 34178, 34359, 34540, 34721,\n",
       "       34901, 35082, 35263, 35444, 35625, 35806, 35986, 36167, 36348,\n",
       "       36529, 36709, 36968, 37149, 37329, 37510, 37691, 37872, 38053,\n",
       "       38234, 38414, 38595, 38776, 38957, 39138, 39318, 39499, 39680,\n",
       "       39861, 40042, 40222, 40403, 40584, 40765, 40946, 41126, 41307,\n",
       "       41566, 41747, 41928, 42109, 42290, 42470, 42651, 42832, 43013,\n",
       "       43193, 43374, 43555, 43736, 43917, 44098, 44278, 44459, 44640,\n",
       "       44821, 45002, 45182, 45363, 45544, 45725, 45906, 46164, 46345,\n",
       "       46526, 46706, 46887, 47068, 47249, 47430, 47610, 47791, 47972,\n",
       "       48153, 48334, 48514, 48695, 48876, 49057, 49238, 49418, 49599,\n",
       "       49780, 49961, 50142, 50323, 50503, 50762, 50943, 51124, 51304,\n",
       "       51485, 51666, 51847, 52028, 52208, 52389, 52570, 52751, 52932,\n",
       "       53112, 53293, 53474, 53655, 53836, 54016, 54197, 54378, 54559,\n",
       "       54740, 54921, 55101])"
      ]
     },
     "execution_count": 119,
     "metadata": {},
     "output_type": "execute_result"
    }
   ],
   "source": [
    "stim_off_frames"
   ]
  },
  {
   "cell_type": "code",
   "execution_count": 115,
   "metadata": {},
   "outputs": [
    {
     "data": {
      "text/plain": [
       "array([ 139,  320,  501,  682,  863, 1044, 1224, 1405, 1586, 1767, 1948,\n",
       "       2128, 2309, 2490, 2671, 2851, 3032, 3213, 3393, 3574, 3755, 3936,\n",
       "       4116, 4297, 4478])"
      ]
     },
     "execution_count": 115,
     "metadata": {},
     "output_type": "execute_result"
    }
   ],
   "source": [
    "stim_on_frames"
   ]
  },
  {
   "cell_type": "code",
   "execution_count": 71,
   "metadata": {
    "collapsed": true
   },
   "outputs": [],
   "source": [
    "#open stimulus condition file\n",
    "stimconfig_fn = 'trial_conditions.hdf5'\n",
    "paradigm_dir = os.path.join(acquisition_dir, run, 'paradigm')\n",
    "stimconfig_filepath = os.path.join(paradigm_dir, 'files', stimconfig_fn)\n",
    "run_config_grp = h5py.File(stimconfig_filepath, 'r')\n",
    "\n",
    "trial_config = np.array(run_config_grp['trial_config']).astype('int')"
   ]
  },
  {
   "cell_type": "code",
   "execution_count": 72,
   "metadata": {
    "scrolled": true
   },
   "outputs": [
    {
     "data": {
      "text/plain": [
       "array([  4.,  14.,   1.,   6.,   2.,   7.,   9.,  12.,   8.,   3.,  11.,\n",
       "        13.,  10.,   5.,   0.,  13.,   4.,  11.,  10.,  14.,   3.,  12.,\n",
       "         0.,   2.,   8.,   5.,   9.,   1.,   6.,   7.,  11.,   3.,   1.,\n",
       "         6.,   5.,   0.,   8.,  13.,   7.,   2.,   9.,  12.,   4.,  14.,\n",
       "        10.,   1.,   8.,   0.,  10.,   3.,   6.,  13.,   5.,   4.,  12.,\n",
       "         7.,   9.,  14.,  11.,   2.,   3.,   8.,   0.,  12.,   5.,  14.,\n",
       "         9.,   7.,   6.,  11.,  13.,  10.,   2.,   4.,   1.,  11.,   4.,\n",
       "         0.,   8.,   5.,   6.,   7.,  10.,   3.,   9.,  14.,  12.,   2.,\n",
       "        13.,   1.,   4.,   1.,   2.,   5.,   6.,  14.,   7.,   0.,   9.,\n",
       "        13.,  10.,   8.,  11.,   3.,  12.,  14.,  12.,   2.,   7.,   8.,\n",
       "         4.,   6.,  11.,   0.,  13.,  10.,   9.,   1.,   5.,   3.,   2.,\n",
       "         4.,   1.,   7.,   8.,  11.,  10.,   6.,  13.,  14.,   3.,   9.,\n",
       "         5.,  12.,   0.,  14.,   9.,  13.,   4.,   1.,   5.,   3.,  11.,\n",
       "         2.,   7.,   8.,  10.,   0.,   6.,  12.,   0.,   5.,  10.,  11.,\n",
       "         2.,  13.,  12.,  14.,   3.,   6.,   8.,   9.,   1.,   4.,   7.,\n",
       "        12.,   7.,  11.,   5.,  10.,  14.,  13.,   9.,   8.,   4.,   1.,\n",
       "         6.,   0.,   2.,   3.,   5.,  14.,  11.,  12.,   6.,   9.,   1.,\n",
       "        13.,   2.,   8.,   3.,   0.,  10.,   7.,   4.,   8.,   9.,   2.,\n",
       "         4.,   3.,  10.,  12.,   0.,   7.,  14.,  13.,   6.,   1.,  11.,\n",
       "         5.,  10.,   0.,   7.,  11.,   5.,   1.,   3.,  13.,   4.,  14.,\n",
       "         9.,  12.,   2.,   6.,   8.,  11.,  10.,   7.,   2.,  13.,   0.,\n",
       "         5.,   3.,  12.,   8.,   4.,   1.,   6.,   9.,  14.,   6.,  14.,\n",
       "         2.,   7.,  13.,   1.,   8.,   9.,  10.,  12.,   5.,   3.,   4.,\n",
       "        11.,   0.,  10.,   5.,   8.,  12.,  14.,   2.,   9.,   0.,   1.,\n",
       "        11.,   4.,   6.,  13.,   7.,   3.,   6.,   5.,   7.,   0.,   8.,\n",
       "         9.,  11.,   2.,  10.,  12.,   3.,   4.,  14.,  13.,   1.,   2.,\n",
       "         3.,   7.,  10.,   1.,   8.,  12.,   9.,   5.,  13.,   0.,  11.,\n",
       "         6.,  14.,   4.])"
      ]
     },
     "execution_count": 72,
     "metadata": {},
     "output_type": "execute_result"
    }
   ],
   "source": [
    "config_run"
   ]
  },
  {
   "cell_type": "code",
   "execution_count": 11,
   "metadata": {
    "collapsed": true
   },
   "outputs": [],
   "source": [
    "import matplotlib.patches as patches"
   ]
  },
  {
   "cell_type": "code",
   "execution_count": 27,
   "metadata": {
    "collapsed": true
   },
   "outputs": [],
   "source": [
    "%matplotlib inline"
   ]
  },
  {
   "cell_type": "code",
   "execution_count": 104,
   "metadata": {},
   "outputs": [
    {
     "data": {
      "image/png": "[encoded data removed]",
      "text/plain": [
       "<matplotlib.figure.Figure at 0x7f7f53b984d0>"
      ]
     },
     "metadata": {},
     "output_type": "display_data"
    }
   ],
   "source": [
    "sns.palplot(sns.color_palette('hsv', 15))"
   ]
  },
  {
   "cell_type": "code",
   "execution_count": 105,
   "metadata": {
    "collapsed": true
   },
   "outputs": [],
   "source": [
    "color_palette = sns.color_palette('hsv', 15)"
   ]
  },
  {
   "cell_type": "code",
   "execution_count": 107,
   "metadata": {
    "scrolled": true
   },
   "outputs": [
    {
     "data": {
      "text/plain": [
       "(1.0, 0.0, 0.44117681801505321)"
      ]
     },
     "execution_count": 107,
     "metadata": {},
     "output_type": "execute_result"
    }
   ],
   "source": [
    "color_palette[14]"
   ]
  },
  {
   "cell_type": "code",
   "execution_count": null,
   "metadata": {
    "collapsed": true
   },
   "outputs": [],
   "source": [
    "all_frames_tsecs"
   ]
  },
  {
   "cell_type": "code",
   "execution_count": 132,
   "metadata": {},
   "outputs": [
    {
     "data": {
      "text/plain": [
       "(4598, 181)"
      ]
     },
     "execution_count": 132,
     "metadata": {},
     "output_type": "execute_result"
    }
   ],
   "source": [
    "raw_df.shape"
   ]
  },
  {
   "cell_type": "code",
   "execution_count": 133,
   "metadata": {
    "collapsed": true
   },
   "outputs": [],
   "source": [
    "df = pd.DataFrame(raw_df)"
   ]
  },
  {
   "cell_type": "code",
   "execution_count": 136,
   "metadata": {
    "collapsed": true
   },
   "outputs": [],
   "source": [
    "df['time'] = all_frames_tsecs"
   ]
  },
  {
   "cell_type": "code",
   "execution_count": 142,
   "metadata": {
    "collapsed": true
   },
   "outputs": [],
   "source": [
    "s2p_cell_rois = np.array([0,1,3])"
   ]
  },
  {
   "cell_type": "code",
   "execution_count": 143,
   "metadata": {},
   "outputs": [
    {
     "data": {
      "text/html": [
       "<div>\n",
       "<style>\n",
       "    .dataframe thead tr:only-child th {\n",
       "        text-align: right;\n",
       "    }\n",
       "\n",
       "    .dataframe thead th {\n",
       "        text-align: left;\n",
       "    }\n",
       "\n",
       "    .dataframe tbody tr th {\n",
       "        vertical-align: top;\n",
       "    }\n",
       "</style>\n",
       "<table border=\"1\" class=\"dataframe\">\n",
       "  <thead>\n",
       "    <tr style=\"text-align: right;\">\n",
       "      <th></th>\n",
       "      <th>0</th>\n",
       "      <th>1</th>\n",
       "      <th>3</th>\n",
       "    </tr>\n",
       "  </thead>\n",
       "  <tbody>\n",
       "    <tr>\n",
       "      <th>0</th>\n",
       "      <td>5551.510742</td>\n",
       "      <td>1650.557373</td>\n",
       "      <td>542.545776</td>\n",
       "    </tr>\n",
       "    <tr>\n",
       "      <th>1</th>\n",
       "      <td>5040.680664</td>\n",
       "      <td>1495.959961</td>\n",
       "      <td>976.609741</td>\n",
       "    </tr>\n",
       "    <tr>\n",
       "      <th>2</th>\n",
       "      <td>5027.338867</td>\n",
       "      <td>1717.067505</td>\n",
       "      <td>743.468506</td>\n",
       "    </tr>\n",
       "    <tr>\n",
       "      <th>3</th>\n",
       "      <td>5485.016113</td>\n",
       "      <td>1473.992432</td>\n",
       "      <td>907.879883</td>\n",
       "    </tr>\n",
       "    <tr>\n",
       "      <th>4</th>\n",
       "      <td>5264.557129</td>\n",
       "      <td>1500.196777</td>\n",
       "      <td>819.268555</td>\n",
       "    </tr>\n",
       "    <tr>\n",
       "      <th>5</th>\n",
       "      <td>5438.240234</td>\n",
       "      <td>1452.657104</td>\n",
       "      <td>1037.818726</td>\n",
       "    </tr>\n",
       "    <tr>\n",
       "      <th>6</th>\n",
       "      <td>5859.725586</td>\n",
       "      <td>1615.478638</td>\n",
       "      <td>821.388245</td>\n",
       "    </tr>\n",
       "    <tr>\n",
       "      <th>7</th>\n",
       "      <td>5409.339844</td>\n",
       "      <td>1663.758789</td>\n",
       "      <td>1102.252319</td>\n",
       "    </tr>\n",
       "    <tr>\n",
       "      <th>8</th>\n",
       "      <td>5511.206055</td>\n",
       "      <td>1487.959351</td>\n",
       "      <td>967.099548</td>\n",
       "    </tr>\n",
       "    <tr>\n",
       "      <th>9</th>\n",
       "      <td>5443.016602</td>\n",
       "      <td>1426.828491</td>\n",
       "      <td>1317.956543</td>\n",
       "    </tr>\n",
       "    <tr>\n",
       "      <th>10</th>\n",
       "      <td>4519.470703</td>\n",
       "      <td>1289.386353</td>\n",
       "      <td>1458.624146</td>\n",
       "    </tr>\n",
       "    <tr>\n",
       "      <th>11</th>\n",
       "      <td>5063.119141</td>\n",
       "      <td>1655.858398</td>\n",
       "      <td>1262.758545</td>\n",
       "    </tr>\n",
       "    <tr>\n",
       "      <th>12</th>\n",
       "      <td>5330.850098</td>\n",
       "      <td>1565.900879</td>\n",
       "      <td>943.952759</td>\n",
       "    </tr>\n",
       "    <tr>\n",
       "      <th>13</th>\n",
       "      <td>4923.545410</td>\n",
       "      <td>1490.767822</td>\n",
       "      <td>1397.640137</td>\n",
       "    </tr>\n",
       "    <tr>\n",
       "      <th>14</th>\n",
       "      <td>4884.275879</td>\n",
       "      <td>1321.059204</td>\n",
       "      <td>1260.067139</td>\n",
       "    </tr>\n",
       "    <tr>\n",
       "      <th>15</th>\n",
       "      <td>4443.781250</td>\n",
       "      <td>1443.819458</td>\n",
       "      <td>1548.247559</td>\n",
       "    </tr>\n",
       "    <tr>\n",
       "      <th>16</th>\n",
       "      <td>4488.555664</td>\n",
       "      <td>1391.065674</td>\n",
       "      <td>1262.566406</td>\n",
       "    </tr>\n",
       "    <tr>\n",
       "      <th>17</th>\n",
       "      <td>5070.826172</td>\n",
       "      <td>1519.586914</td>\n",
       "      <td>1500.584473</td>\n",
       "    </tr>\n",
       "    <tr>\n",
       "      <th>18</th>\n",
       "      <td>4919.052734</td>\n",
       "      <td>1448.649292</td>\n",
       "      <td>1381.012451</td>\n",
       "    </tr>\n",
       "    <tr>\n",
       "      <th>19</th>\n",
       "      <td>4479.506836</td>\n",
       "      <td>1596.412598</td>\n",
       "      <td>1458.533325</td>\n",
       "    </tr>\n",
       "    <tr>\n",
       "      <th>20</th>\n",
       "      <td>4764.038086</td>\n",
       "      <td>1539.987549</td>\n",
       "      <td>1198.835571</td>\n",
       "    </tr>\n",
       "    <tr>\n",
       "      <th>21</th>\n",
       "      <td>4054.192383</td>\n",
       "      <td>1575.026855</td>\n",
       "      <td>1340.851318</td>\n",
       "    </tr>\n",
       "    <tr>\n",
       "      <th>22</th>\n",
       "      <td>3840.095215</td>\n",
       "      <td>1424.392822</td>\n",
       "      <td>1298.758545</td>\n",
       "    </tr>\n",
       "    <tr>\n",
       "      <th>23</th>\n",
       "      <td>5063.665527</td>\n",
       "      <td>1307.519409</td>\n",
       "      <td>1135.461670</td>\n",
       "    </tr>\n",
       "    <tr>\n",
       "      <th>24</th>\n",
       "      <td>4833.460938</td>\n",
       "      <td>1334.007080</td>\n",
       "      <td>1133.548340</td>\n",
       "    </tr>\n",
       "    <tr>\n",
       "      <th>25</th>\n",
       "      <td>4561.065918</td>\n",
       "      <td>1472.221558</td>\n",
       "      <td>1227.840942</td>\n",
       "    </tr>\n",
       "    <tr>\n",
       "      <th>26</th>\n",
       "      <td>4856.120117</td>\n",
       "      <td>1854.205933</td>\n",
       "      <td>1280.434082</td>\n",
       "    </tr>\n",
       "    <tr>\n",
       "      <th>27</th>\n",
       "      <td>4293.809082</td>\n",
       "      <td>1605.496094</td>\n",
       "      <td>1411.392090</td>\n",
       "    </tr>\n",
       "    <tr>\n",
       "      <th>28</th>\n",
       "      <td>4395.343750</td>\n",
       "      <td>1351.511719</td>\n",
       "      <td>1258.929688</td>\n",
       "    </tr>\n",
       "    <tr>\n",
       "      <th>29</th>\n",
       "      <td>4930.334961</td>\n",
       "      <td>1615.390625</td>\n",
       "      <td>1508.828369</td>\n",
       "    </tr>\n",
       "    <tr>\n",
       "      <th>...</th>\n",
       "      <td>...</td>\n",
       "      <td>...</td>\n",
       "      <td>...</td>\n",
       "    </tr>\n",
       "    <tr>\n",
       "      <th>4568</th>\n",
       "      <td>4879.171875</td>\n",
       "      <td>1719.614258</td>\n",
       "      <td>1861.895508</td>\n",
       "    </tr>\n",
       "    <tr>\n",
       "      <th>4569</th>\n",
       "      <td>4863.359375</td>\n",
       "      <td>1644.398071</td>\n",
       "      <td>1675.806885</td>\n",
       "    </tr>\n",
       "    <tr>\n",
       "      <th>4570</th>\n",
       "      <td>5288.183594</td>\n",
       "      <td>1328.087891</td>\n",
       "      <td>1721.383789</td>\n",
       "    </tr>\n",
       "    <tr>\n",
       "      <th>4571</th>\n",
       "      <td>5265.450195</td>\n",
       "      <td>1420.626953</td>\n",
       "      <td>1632.159912</td>\n",
       "    </tr>\n",
       "    <tr>\n",
       "      <th>4572</th>\n",
       "      <td>5109.471680</td>\n",
       "      <td>1787.518066</td>\n",
       "      <td>1926.473633</td>\n",
       "    </tr>\n",
       "    <tr>\n",
       "      <th>4573</th>\n",
       "      <td>5088.381836</td>\n",
       "      <td>1503.742676</td>\n",
       "      <td>1830.643311</td>\n",
       "    </tr>\n",
       "    <tr>\n",
       "      <th>4574</th>\n",
       "      <td>4835.355469</td>\n",
       "      <td>1687.530518</td>\n",
       "      <td>1577.648682</td>\n",
       "    </tr>\n",
       "    <tr>\n",
       "      <th>4575</th>\n",
       "      <td>4843.628906</td>\n",
       "      <td>1580.697021</td>\n",
       "      <td>1804.193604</td>\n",
       "    </tr>\n",
       "    <tr>\n",
       "      <th>4576</th>\n",
       "      <td>5343.460938</td>\n",
       "      <td>1338.066406</td>\n",
       "      <td>1715.666748</td>\n",
       "    </tr>\n",
       "    <tr>\n",
       "      <th>4577</th>\n",
       "      <td>5009.378906</td>\n",
       "      <td>1690.489014</td>\n",
       "      <td>1677.408447</td>\n",
       "    </tr>\n",
       "    <tr>\n",
       "      <th>4578</th>\n",
       "      <td>4498.874023</td>\n",
       "      <td>1447.642090</td>\n",
       "      <td>1588.351318</td>\n",
       "    </tr>\n",
       "    <tr>\n",
       "      <th>4579</th>\n",
       "      <td>4781.519531</td>\n",
       "      <td>1643.722534</td>\n",
       "      <td>2042.519043</td>\n",
       "    </tr>\n",
       "    <tr>\n",
       "      <th>4580</th>\n",
       "      <td>4407.675781</td>\n",
       "      <td>1451.489746</td>\n",
       "      <td>1604.747803</td>\n",
       "    </tr>\n",
       "    <tr>\n",
       "      <th>4581</th>\n",
       "      <td>4921.534180</td>\n",
       "      <td>1594.059570</td>\n",
       "      <td>1649.480713</td>\n",
       "    </tr>\n",
       "    <tr>\n",
       "      <th>4582</th>\n",
       "      <td>4858.863281</td>\n",
       "      <td>1741.454224</td>\n",
       "      <td>1565.238281</td>\n",
       "    </tr>\n",
       "    <tr>\n",
       "      <th>4583</th>\n",
       "      <td>5017.393555</td>\n",
       "      <td>1508.865479</td>\n",
       "      <td>1401.312988</td>\n",
       "    </tr>\n",
       "    <tr>\n",
       "      <th>4584</th>\n",
       "      <td>4871.774414</td>\n",
       "      <td>1507.544434</td>\n",
       "      <td>1529.640381</td>\n",
       "    </tr>\n",
       "    <tr>\n",
       "      <th>4585</th>\n",
       "      <td>4638.853516</td>\n",
       "      <td>1499.506104</td>\n",
       "      <td>1578.938232</td>\n",
       "    </tr>\n",
       "    <tr>\n",
       "      <th>4586</th>\n",
       "      <td>4833.195312</td>\n",
       "      <td>1573.589111</td>\n",
       "      <td>1653.924561</td>\n",
       "    </tr>\n",
       "    <tr>\n",
       "      <th>4587</th>\n",
       "      <td>4478.695312</td>\n",
       "      <td>1511.319580</td>\n",
       "      <td>1989.949707</td>\n",
       "    </tr>\n",
       "    <tr>\n",
       "      <th>4588</th>\n",
       "      <td>4722.026367</td>\n",
       "      <td>1391.135010</td>\n",
       "      <td>1530.914062</td>\n",
       "    </tr>\n",
       "    <tr>\n",
       "      <th>4589</th>\n",
       "      <td>4478.452148</td>\n",
       "      <td>1505.091797</td>\n",
       "      <td>1877.370117</td>\n",
       "    </tr>\n",
       "    <tr>\n",
       "      <th>4590</th>\n",
       "      <td>4371.121094</td>\n",
       "      <td>1522.475098</td>\n",
       "      <td>1620.973877</td>\n",
       "    </tr>\n",
       "    <tr>\n",
       "      <th>4591</th>\n",
       "      <td>4076.859619</td>\n",
       "      <td>1683.291138</td>\n",
       "      <td>1661.515137</td>\n",
       "    </tr>\n",
       "    <tr>\n",
       "      <th>4592</th>\n",
       "      <td>4254.247070</td>\n",
       "      <td>1692.121460</td>\n",
       "      <td>1607.719727</td>\n",
       "    </tr>\n",
       "    <tr>\n",
       "      <th>4593</th>\n",
       "      <td>4316.044922</td>\n",
       "      <td>1546.939941</td>\n",
       "      <td>1640.143799</td>\n",
       "    </tr>\n",
       "    <tr>\n",
       "      <th>4594</th>\n",
       "      <td>4166.522461</td>\n",
       "      <td>1408.092041</td>\n",
       "      <td>1660.262451</td>\n",
       "    </tr>\n",
       "    <tr>\n",
       "      <th>4595</th>\n",
       "      <td>4619.745117</td>\n",
       "      <td>1537.397461</td>\n",
       "      <td>1383.458740</td>\n",
       "    </tr>\n",
       "    <tr>\n",
       "      <th>4596</th>\n",
       "      <td>4486.416016</td>\n",
       "      <td>1450.361816</td>\n",
       "      <td>1431.879883</td>\n",
       "    </tr>\n",
       "    <tr>\n",
       "      <th>4597</th>\n",
       "      <td>4802.579102</td>\n",
       "      <td>1464.458008</td>\n",
       "      <td>1476.335693</td>\n",
       "    </tr>\n",
       "  </tbody>\n",
       "</table>\n",
       "<p>4598 rows × 3 columns</p>\n",
       "</div>"
      ],
      "text/plain": [
       "                0            1            3\n",
       "0     5551.510742  1650.557373   542.545776\n",
       "1     5040.680664  1495.959961   976.609741\n",
       "2     5027.338867  1717.067505   743.468506\n",
       "3     5485.016113  1473.992432   907.879883\n",
       "4     5264.557129  1500.196777   819.268555\n",
       "5     5438.240234  1452.657104  1037.818726\n",
       "6     5859.725586  1615.478638   821.388245\n",
       "7     5409.339844  1663.758789  1102.252319\n",
       "8     5511.206055  1487.959351   967.099548\n",
       "9     5443.016602  1426.828491  1317.956543\n",
       "10    4519.470703  1289.386353  1458.624146\n",
       "11    5063.119141  1655.858398  1262.758545\n",
       "12    5330.850098  1565.900879   943.952759\n",
       "13    4923.545410  1490.767822  1397.640137\n",
       "14    4884.275879  1321.059204  1260.067139\n",
       "15    4443.781250  1443.819458  1548.247559\n",
       "16    4488.555664  1391.065674  1262.566406\n",
       "17    5070.826172  1519.586914  1500.584473\n",
       "18    4919.052734  1448.649292  1381.012451\n",
       "19    4479.506836  1596.412598  1458.533325\n",
       "20    4764.038086  1539.987549  1198.835571\n",
       "21    4054.192383  1575.026855  1340.851318\n",
       "22    3840.095215  1424.392822  1298.758545\n",
       "23    5063.665527  1307.519409  1135.461670\n",
       "24    4833.460938  1334.007080  1133.548340\n",
       "25    4561.065918  1472.221558  1227.840942\n",
       "26    4856.120117  1854.205933  1280.434082\n",
       "27    4293.809082  1605.496094  1411.392090\n",
       "28    4395.343750  1351.511719  1258.929688\n",
       "29    4930.334961  1615.390625  1508.828369\n",
       "...           ...          ...          ...\n",
       "4568  4879.171875  1719.614258  1861.895508\n",
       "4569  4863.359375  1644.398071  1675.806885\n",
       "4570  5288.183594  1328.087891  1721.383789\n",
       "4571  5265.450195  1420.626953  1632.159912\n",
       "4572  5109.471680  1787.518066  1926.473633\n",
       "4573  5088.381836  1503.742676  1830.643311\n",
       "4574  4835.355469  1687.530518  1577.648682\n",
       "4575  4843.628906  1580.697021  1804.193604\n",
       "4576  5343.460938  1338.066406  1715.666748\n",
       "4577  5009.378906  1690.489014  1677.408447\n",
       "4578  4498.874023  1447.642090  1588.351318\n",
       "4579  4781.519531  1643.722534  2042.519043\n",
       "4580  4407.675781  1451.489746  1604.747803\n",
       "4581  4921.534180  1594.059570  1649.480713\n",
       "4582  4858.863281  1741.454224  1565.238281\n",
       "4583  5017.393555  1508.865479  1401.312988\n",
       "4584  4871.774414  1507.544434  1529.640381\n",
       "4585  4638.853516  1499.506104  1578.938232\n",
       "4586  4833.195312  1573.589111  1653.924561\n",
       "4587  4478.695312  1511.319580  1989.949707\n",
       "4588  4722.026367  1391.135010  1530.914062\n",
       "4589  4478.452148  1505.091797  1877.370117\n",
       "4590  4371.121094  1522.475098  1620.973877\n",
       "4591  4076.859619  1683.291138  1661.515137\n",
       "4592  4254.247070  1692.121460  1607.719727\n",
       "4593  4316.044922  1546.939941  1640.143799\n",
       "4594  4166.522461  1408.092041  1660.262451\n",
       "4595  4619.745117  1537.397461  1383.458740\n",
       "4596  4486.416016  1450.361816  1431.879883\n",
       "4597  4802.579102  1464.458008  1476.335693\n",
       "\n",
       "[4598 rows x 3 columns]"
      ]
     },
     "execution_count": 143,
     "metadata": {},
     "output_type": "execute_result"
    }
   ],
   "source": [
    "df[s2p_cell_rois]"
   ]
  },
  {
   "cell_type": "code",
   "execution_count": 130,
   "metadata": {
    "collapsed": true
   },
   "outputs": [],
   "source": [
    "baseline = np.mean(raw_df[0:nframes_iti_full,:],0)"
   ]
  },
  {
   "cell_type": "code",
   "execution_count": 131,
   "metadata": {},
   "outputs": [
    {
     "data": {
      "text/plain": [
       "(181,)"
      ]
     },
     "execution_count": 131,
     "metadata": {},
     "output_type": "execute_result"
    }
   ],
   "source": [
    "baseline.shape"
   ]
  },
  {
   "cell_type": "code",
   "execution_count": 121,
   "metadata": {},
   "outputs": [
    {
     "data": {
      "image/png": "[encoded data removed]",
      "text/plain": [
       "<matplotlib.figure.Figure at 0x7f7f580df850>"
      ]
     },
     "metadata": {},
     "output_type": "display_data"
    }
   ],
   "source": [
    "fig=plt.figure(figsize = (30, 5))\n",
    "\n",
    "ridx = 3\n",
    "baseline = np.mean(raw_df[0:nframes_iti_full,ridx])\n",
    "trace = (raw_df[:,ridx] - baseline)/baseline\n",
    "plt.plot(trace)\n",
    "axes = plt.gca()\n",
    "ymin, ymax = axes.get_ylim()\n",
    "for fidx,f in enumerate(stim_on_frames):\n",
    "    axes.add_patch(patches.Rectangle((f, ymin), 44, ymax-ymin, linewidth=0, fill=True, color=color_palette[trial_config[fidx]], alpha=0.4));\n",
    "plt.savefig('tmp.png')"
   ]
  },
  {
   "cell_type": "code",
   "execution_count": 74,
   "metadata": {},
   "outputs": [
    {
     "data": {
      "text/plain": [
       "14"
      ]
     },
     "execution_count": 74,
     "metadata": {},
     "output_type": "execute_result"
    }
   ],
   "source": [
    "trial_config[fidx]"
   ]
  },
  {
   "cell_type": "code",
   "execution_count": 9,
   "metadata": {},
   "outputs": [
    {
     "data": {
      "text/plain": [
       "array([ 139,  320,  501,  682,  863, 1044, 1224, 1405, 1586, 1767, 1948,\n",
       "       2128, 2309, 2490, 2671, 2851, 3032, 3213, 3393, 3574, 3755, 3936,\n",
       "       4116, 4297, 4478])"
      ]
     },
     "execution_count": 9,
     "metadata": {},
     "output_type": "execute_result"
    }
   ],
   "source": [
    "stim_on_frames"
   ]
  },
  {
   "cell_type": "code",
   "execution_count": 7,
   "metadata": {},
   "outputs": [
    {
     "ename": "NameError",
     "evalue": "name 'frame_rate' is not defined",
     "output_type": "error",
     "traceback": [
      "\u001b[0;31m---------------------------------------------------------------------------\u001b[0m",
      "\u001b[0;31mNameError\u001b[0m                                 Traceback (most recent call last)",
      "\u001b[0;32m<ipython-input-7-6fc43f44cea6>\u001b[0m in \u001b[0;36m<module>\u001b[0;34m()\u001b[0m\n\u001b[0;32m----> 1\u001b[0;31m \u001b[0mframe_rate\u001b[0m\u001b[0;34m\u001b[0m\u001b[0m\n\u001b[0m",
      "\u001b[0;31mNameError\u001b[0m: name 'frame_rate' is not defined"
     ]
    }
   ],
   "source": [
    "frame_rate"
   ]
  },
  {
   "cell_type": "code",
   "execution_count": null,
   "metadata": {
    "collapsed": true
   },
   "outputs": [],
   "source": []
  }
 ],
 "metadata": {
  "kernelspec": {
   "display_name": "Python 2",
   "language": "python",
   "name": "python2"
  },
  "language_info": {
   "codemirror_mode": {
    "name": "ipython",
    "version": 2
   },
   "file_extension": ".py",
   "mimetype": "text/x-python",
   "name": "python",
   "nbconvert_exporter": "python",
   "pygments_lexer": "ipython2",
   "version": "2.7.13"
  }
 },
 "nbformat": 4,
 "nbformat_minor": 2
}
