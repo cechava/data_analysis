{
 "cells": [
  {
   "cell_type": "code",
   "execution_count": 1,
   "metadata": {},
   "outputs": [],
   "source": [
    "import h5py\n",
    "%matplotlib inline\n",
    "import seaborn as sns; sns.set()\n",
    "import matplotlib.pyplot as plt\n",
    "import matplotlib\n",
    "import matplotlib.patches as patches\n",
    "import sys\n",
    "import shutil\n",
    "import glob\n",
    "import optparse\n",
    "import os\n",
    "import json\n",
    "import pandas as pd\n",
    "import numpy as np\n",
    "import pylab as pl\n",
    "import scipy.stats as stats\n",
    "import seaborn as sns\n",
    "sys.path.append('/n/coxfs01/cechavarria/repos/2p-pipeline/')\n",
    "\n",
    "def findOccurrences(s, ch):\n",
    "    return [i for i, letter in enumerate(s) if letter == ch]"
   ]
  },
  {
   "cell_type": "code",
   "execution_count": 2,
   "metadata": {},
   "outputs": [],
   "source": [
    "class struct: pass\n",
    "\n",
    "opts = struct()\n",
    "opts.rootdir = '/n/coxfs01/2p-data'\n",
    "opts.animalid = 'JC097'\n",
    "opts.session = '20190621'\n",
    "opts.acquisition = 'FOV1_zoom4p0x'\n",
    "traceid = 'traces101_s2p'\n",
    "run = 'scenes_combined'\n",
    "\n",
    "response_type = 'df'\n",
    "\n",
    "filter_crit = 'zscore'\n",
    "thresh_list = np.arange(0,4.5,1)\n",
    "\n",
    "# filter_crit = 'perm_p'\n",
    "# thresh_list = np.array([1,.01,.001,.0001])\n",
    "\n",
    "# filter_crit = 'simple_tstat'\n",
    "# thresh_list = np.array([0, 3, 5, 7])\n",
    "\n",
    "# filter_crit = 'split_half_R'\n",
    "# thresh_list = np.array([0,.6,.7,.8])\n",
    "\n",
    "if ('norm' in response_type) or ('std' in response_type):\n",
    "    i1 = findOccurrences(response_type,'_')[-1]\n",
    "    fetch_data = response_type[i1+1:]\n",
    "else:\n",
    "    fetch_data = response_type\n",
    "\n",
    "#% Set up paths:    \n",
    "acquisition_dir = os.path.join(opts.rootdir, opts.animalid, opts.session, opts.acquisition)\n",
    "if 'combined' in run:\n",
    "    traceid_dir = os.path.join(acquisition_dir, run,'traces',traceid)\n",
    "else:\n",
    "    traceid_dir = util.get_traceid_from_acquisition(acquisition_dir, run, traceid)\n",
    "run_dir = traceid_dir.split('/traces')[0]\n",
    "trace_arrays_dir = os.path.join(traceid_dir,'files')\n",
    "paradigm_dir = os.path.join(acquisition_dir, run, 'paradigm')\n",
    "\n",
    "\n",
    "responses_dir = os.path.join(acquisition_dir, run,'responses',traceid)\n",
    "data_array_dir = os.path.join(responses_dir, 'data_arrays')\n",
    "\n",
    "    \n",
    "if not os.path.exists(os.path.join(responses_dir,'figures')):\n",
    "    os.makedirs(os.path.join(responses_dir,'figures'))"
   ]
  },
  {
   "cell_type": "code",
   "execution_count": 3,
   "metadata": {},
   "outputs": [],
   "source": [
    "#open_tilf\n",
    "resp_array_fn = 'trial_response_array.hdf5'\n",
    "resp_array_filepath = os.path.join(data_array_dir, resp_array_fn)\n",
    "resp_grp = h5py.File(resp_array_filepath, 'r')\n",
    "\n",
    "\n",
    "config_img = resp_grp.attrs['config_img'].astype('int')\n",
    "config_cond = resp_grp.attrs['config_cond'].astype('int')\n",
    "\n",
    "cell_rois = resp_grp.attrs['s2p_cell_rois']\n",
    "\n",
    "curr_slice = 'Slice01'#hard,coding for now\n",
    "\n",
    "#unpack\n",
    "response_matrix = np.array(resp_grp['/'.join([curr_slice, 'responses' ,fetch_data])])\n",
    "\n",
    "filter_crit_matrix_trials = np.array(resp_grp['/'.join([curr_slice, 'responses' ,filter_crit])])\n",
    "\n",
    "#considering only cell rois\n",
    "response_matrix = response_matrix[:,:,cell_rois]\n",
    "ntrials,nconfigs,nrois = response_matrix.shape\n",
    "\n",
    "\n",
    "\n",
    "if filter_crit == 'zscore':\n",
    "    filter_crit_matrix_trials = filter_crit_matrix_trials[:,:,cell_rois]\n",
    "    filter_crit_matrix_mean = np.squeeze(np.mean(filter_crit_matrix_trials,0))\n",
    "elif filter_crit == 'simple_pval' or filter_crit == 'paired_pval' or filter_crit == 'perm_p' or 'stat' in filter_crit:\n",
    "    filter_crit_matrix_mean = filter_crit_matrix_trials[:,cell_rois]\n",
    "elif filter_crit == 'split_half_R':\n",
    "    filter_crit_matrix_mean = filter_crit_matrix_trials[cell_rois]\n",
    "\n",
    "resp_grp.close()\n",
    "\n"
   ]
  },
  {
   "cell_type": "code",
   "execution_count": 4,
   "metadata": {},
   "outputs": [],
   "source": [
    "nreps = 100\n",
    "split_size_list = np.arange(int(np.floor(ntrials/2)))+1#np.array([4,8,12])\n",
    "active_count= np.zeros((split_size_list.size,thresh_list.size,nreps))\n",
    "\n",
    "R_mean_tmp = np.zeros((split_size_list.size,thresh_list.size,nreps))\n",
    "R_max_tmp = np.zeros((split_size_list.size,thresh_list.size,nreps))\n",
    "R_min_tmp = np.zeros((split_size_list.size,thresh_list.size,nreps))\n",
    "R_cells = np.ones((split_size_list.size,thresh_list.size,nreps,nrois))*np.nan\n",
    "\n",
    "\n",
    "for rep in range(nreps):\n",
    "    for split_idx,split_size in enumerate(split_size_list):\n",
    "      #  rep = 0\n",
    "      #  split_idx = 0\n",
    "      #  split_size = 30\n",
    "\n",
    "        #randomly split\n",
    "        rand_trials = np.random.permutation(ntrials)\n",
    "        half1 = response_matrix[rand_trials[0:split_size]]\n",
    "        half2 = response_matrix[rand_trials[split_size:2*split_size]]\n",
    "\n",
    "        #get mean response across trials\n",
    "        half1_mean = np.squeeze(np.mean(half1,0))\n",
    "        half2_mean = np.squeeze(np.mean(half2,0))\n",
    "        for thresh_idx,filter_thresh in enumerate(thresh_list):\n",
    "\n",
    "        #     thresh_idx = 0\n",
    "        #     filter_thresh = 0\n",
    "\n",
    "            if filter_crit == 'zscore' or 'tstat' in filter_crit:\n",
    "                thresh = filter_thresh\n",
    "                thresh_matrix = filter_crit_matrix_mean>thresh\n",
    "            elif filter_crit == 'simple_pval' or filter_crit == 'paired_pval' or filter_crit == 'perm_p':\n",
    "                thresh = filter_thresh\n",
    "                thresh_matrix = np.logical_and(filter_crit_matrix_mean<thresh,filter_crit_matrix_mean>0)\n",
    "            elif filter_crit == 'split_half_R':\n",
    "                thresh = filter_thresh\n",
    "                thresh_matrix= filter_crit_matrix_mean>thresh\n",
    "                thresh_matrix = np.expand_dims(thresh_matrix,0)\n",
    "                thresh_matrix = np.tile(thresh_matrix,(nconfigs,1))\n",
    "\n",
    "            filter_matrix = np.ones((thresh_matrix.shape))*np.nan\n",
    "            active_rois_per_config = np.nansum(thresh_matrix,1)\n",
    "            for ridx in range(nrois):\n",
    "                for idx in range(0,thresh_matrix.shape[0],3):\n",
    "                        if np.sum(thresh_matrix[idx:idx+3,ridx])>0:\n",
    "                            filter_matrix[idx:idx+3,ridx] = 1\n",
    "            active_cell_idx = np.nansum(filter_matrix,0)>0\n",
    "            num_active_rois = np.nansum(np.nansum(filter_matrix,0)>0)\n",
    "            active_count[split_idx,thresh_idx,rep] = num_active_rois\n",
    "\n",
    "            #select subset of cells active with current threshold\n",
    "            half1_mean_sub = half1_mean[:,active_cell_idx]\n",
    "            half2_mean_sub = half2_mean[:,active_cell_idx]\n",
    "\n",
    "            #get split-half correlation value per cell\n",
    "            for ridx in range(num_active_rois):\n",
    "                R_tmp = np.corrcoef(np.squeeze(half1_mean_sub[:,ridx]),np.squeeze(half2_mean_sub[:,ridx]))\n",
    "                R_cells[split_idx,thresh_idx,rep,ridx] = R_tmp[0,1]\n",
    "            #get some stats on distribution\n",
    "            R_mean_tmp[split_idx,thresh_idx,rep] = np.nanmean(R_cells[split_idx,thresh_idx,rep,:],0)\n",
    "            R_max_tmp[split_idx,thresh_idx,rep] = np.nanmax(R_cells[split_idx,thresh_idx,rep,:],0)\n",
    "            R_min_tmp[split_idx,thresh_idx,rep] = np.nanmin(R_cells[split_idx,thresh_idx,rep,:],0)"
   ]
  },
  {
   "cell_type": "code",
   "execution_count": 5,
   "metadata": {},
   "outputs": [],
   "source": [
    "R_mean = np.nanmean(R_mean_tmp,2)\n",
    "R_max = np.nanmean(R_max_tmp,2)\n",
    "R_min = np.nanmean(R_min_tmp,2)\n",
    "R_se = np.true_divide(np.nanstd(R_mean_tmp,2),np.sqrt(nreps))\n",
    "\n",
    "active_frac = active_count/nrois\n",
    "active_frac_mean = np.mean(active_frac,2)\n",
    "active_frac_se = np.true_divide(np.std(active_count,2),np.sqrt(nreps))\n"
   ]
  },
  {
   "cell_type": "code",
   "execution_count": 11,
   "metadata": {},
   "outputs": [
    {
     "data": {
      "text/plain": [
       "(15, 5, 100)"
      ]
     },
     "execution_count": 11,
     "metadata": {},
     "output_type": "execute_result"
    }
   ],
   "source": []
  },
  {
   "cell_type": "code",
   "execution_count": 6,
   "metadata": {},
   "outputs": [
    {
     "data": {
      "image/png": "[encoded data removed]",
      "text/plain": [
       "<Figure size 720x720 with 1 Axes>"
      ]
     },
     "metadata": {
      "needs_background": "light"
     },
     "output_type": "display_data"
    }
   ],
   "source": [
    "fig = plt.figure(figsize=(10,10))\n",
    "plt.errorbar(split_size_list,R_mean[:,0],yerr=R_se[:,0],color = 'b',label='tresh=%.02f'%(thresh_list[0]))\n",
    "plt.errorbar(split_size_list,R_mean[:,1],yerr=R_se[:,1],color = 'r',label='tresh=%.02f'%(thresh_list[1]))\n",
    "plt.errorbar(split_size_list,R_mean[:,2],yerr=R_se[:,2],color = 'g',label='tresh=%.02f'%(thresh_list[2]))\n",
    "plt.errorbar(split_size_list,R_mean[:,3],yerr=R_se[:,3],color = 'k',label='tresh=%.02f'%(thresh_list[3]))\n",
    "plt.ylabel('Average Correlation Coefficient',fontsize = 15)\n",
    "plt.xlabel('Number of trials',fontsize = 15)\n",
    "plt.suptitle('Split-half correlation vs. number of trials| %s'%(filter_crit),fontsize = 15)\n",
    "plt.legend()\n",
    "fig_fn = '%s_%s_avg_split_half_correlation_vs_ntrials_df_f_thresh_%s.png'%(opts.animalid, opts.session,filter_crit)\n",
    "#plt.savefig(os.path.join(responses_dir,'figures',fig_fn))"
   ]
  },
  {
   "cell_type": "code",
   "execution_count": 12,
   "metadata": {},
   "outputs": [
    {
     "data": {
      "image/png": "[encoded data removed]",
      "text/plain": [
       "<Figure size 720x720 with 1 Axes>"
      ]
     },
     "metadata": {
      "needs_background": "light"
     },
     "output_type": "display_data"
    }
   ],
   "source": [
    "fig = plt.figure(figsize=(10,10))\n",
    "plt.errorbar(split_size_list[1:],R_mean_diff[:,0],color = 'b',label='tresh=%.02f'%(thresh_list[0]))\n",
    "plt.errorbar(split_size_list[1:],R_mean_diff[:,1],color = 'r',label='tresh=%.02f'%(thresh_list[1]))\n",
    "plt.errorbar(split_size_list[1:],R_mean_diff[:,2],color = 'g',label='tresh=%.02f'%(thresh_list[2]))\n",
    "plt.errorbar(split_size_list[1:],R_mean_diff[:,3],color = 'k',label='tresh=%.02f'%(thresh_list[3]))\n",
    "plt.ylabel('Average Correlation Coefficient',fontsize = 15)\n",
    "plt.xlabel('Number of trials',fontsize = 15)\n",
    "plt.suptitle('Split-half correlation vs. number of trials| %s'%(filter_crit),fontsize = 15)\n",
    "plt.legend()\n",
    "fig_fn = '%s_%s_diff_avg_split_half_correlation_vs_ntrials_df_f_thresh_%s.png'%(opts.animalid, opts.session,filter_crit)"
   ]
  },
  {
   "cell_type": "code",
   "execution_count": 8,
   "metadata": {},
   "outputs": [],
   "source": [
    "R_mean_diff = np.diff(R_mean,axis=0)"
   ]
  },
  {
   "cell_type": "code",
   "execution_count": null,
   "metadata": {},
   "outputs": [],
   "source": []
  },
  {
   "cell_type": "code",
   "execution_count": 10,
   "metadata": {},
   "outputs": [
    {
     "data": {
      "text/plain": [
       "(14, 5)"
      ]
     },
     "execution_count": 10,
     "metadata": {},
     "output_type": "execute_result"
    }
   ],
   "source": [
    "R_mean_diff.shape"
   ]
  },
  {
   "cell_type": "code",
   "execution_count": null,
   "metadata": {},
   "outputs": [],
   "source": []
  },
  {
   "cell_type": "code",
   "execution_count": 15,
   "metadata": {},
   "outputs": [
    {
     "name": "stderr",
     "output_type": "stream",
     "text": [
      "/home/cesar/anaconda2/envs/pipeline/lib/python2.7/site-packages/ipykernel_launcher.py:1: RuntimeWarning: Mean of empty slice\n",
      "  \"\"\"Entry point for launching an IPython kernel.\n"
     ]
    }
   ],
   "source": [
    "R_cells_mean = np.nanmean(R_cells,2)\n",
    "#R_cells_mean[np.isnan(R_cells_mean)]=0"
   ]
  },
  {
   "cell_type": "code",
   "execution_count": 9,
   "metadata": {},
   "outputs": [
    {
     "data": {
      "text/plain": [
       "array([[[  4.74703308e-03,  -2.33687210e-02,   9.66560646e-03, ...,\n",
       "           2.94235227e-02,   4.40862320e-02,              nan],\n",
       "        [  1.97022110e-01,   2.19762697e-01,   7.35674835e-02, ...,\n",
       "                      nan,              nan,              nan],\n",
       "        [  2.61349432e-01,   3.54537049e-01,   2.17988780e-01, ...,\n",
       "                      nan,              nan,              nan],\n",
       "        [  2.61349432e-01,   2.17988780e-01,   3.99184459e-01, ...,\n",
       "                      nan,              nan,              nan],\n",
       "        [  2.61349432e-01,              nan,              nan, ...,\n",
       "                      nan,              nan,              nan]],\n",
       "\n",
       "       [[  1.60272225e-02,   5.18378596e-03,  -1.18992685e-02, ...,\n",
       "           5.48202680e-02,   2.94091422e-02,              nan],\n",
       "        [  3.69714373e-01,   3.53126971e-01,   1.83469304e-01, ...,\n",
       "                      nan,              nan,              nan],\n",
       "        [  4.59720073e-01,   5.39022945e-01,   4.55411124e-01, ...,\n",
       "                      nan,              nan,              nan],\n",
       "        [  4.59720073e-01,   4.55411124e-01,   6.62931489e-01, ...,\n",
       "                      nan,              nan,              nan],\n",
       "        [  4.59720073e-01,              nan,              nan, ...,\n",
       "                      nan,              nan,              nan]],\n",
       "\n",
       "       [[  1.42235090e-02,   2.15024062e-04,   6.98976026e-03, ...,\n",
       "           1.19029724e-01,   5.66324452e-02,              nan],\n",
       "        [  4.40178517e-01,   4.66436756e-01,   2.70769130e-01, ...,\n",
       "                      nan,              nan,              nan],\n",
       "        [  5.17062885e-01,   6.23100820e-01,   6.17761780e-01, ...,\n",
       "                      nan,              nan,              nan],\n",
       "        [  5.17062885e-01,   6.17761780e-01,   7.14764933e-01, ...,\n",
       "                      nan,              nan,              nan],\n",
       "        [  5.17062885e-01,              nan,              nan, ...,\n",
       "                      nan,              nan,              nan]],\n",
       "\n",
       "       ..., \n",
       "       [[  6.28166237e-02,  -3.17175687e-02,   7.46453715e-02, ...,\n",
       "           3.52547090e-01,   2.34588883e-01,              nan],\n",
       "        [  7.98402418e-01,   7.91732706e-01,   6.17944072e-01, ...,\n",
       "                      nan,              nan,              nan],\n",
       "        [  8.56581398e-01,   8.86066754e-01,   9.27765779e-01, ...,\n",
       "                      nan,              nan,              nan],\n",
       "        [  8.56581398e-01,   9.27765779e-01,   9.42685788e-01, ...,\n",
       "                      nan,              nan,              nan],\n",
       "        [  8.56581398e-01,              nan,              nan, ...,\n",
       "                      nan,              nan,              nan]],\n",
       "\n",
       "       [[  7.62480588e-02,  -3.56928157e-02,   6.05940923e-02, ...,\n",
       "           3.67133772e-01,   2.50078828e-01,              nan],\n",
       "        [  8.16690396e-01,   8.08689933e-01,   6.49857404e-01, ...,\n",
       "                      nan,              nan,              nan],\n",
       "        [  8.71758993e-01,   8.93533375e-01,   9.24293681e-01, ...,\n",
       "                      nan,              nan,              nan],\n",
       "        [  8.71758993e-01,   9.24293681e-01,   9.49475875e-01, ...,\n",
       "                      nan,              nan,              nan],\n",
       "        [  8.71758993e-01,              nan,              nan, ...,\n",
       "                      nan,              nan,              nan]],\n",
       "\n",
       "       [[  4.71375853e-02,  -4.08949694e-02,   8.45466399e-02, ...,\n",
       "           3.86526273e-01,   2.69293556e-01,              nan],\n",
       "        [  8.20238040e-01,   8.16626462e-01,   6.62915109e-01, ...,\n",
       "                      nan,              nan,              nan],\n",
       "        [  8.72861070e-01,   9.02805638e-01,   9.32654198e-01, ...,\n",
       "                      nan,              nan,              nan],\n",
       "        [  8.72861070e-01,   9.32654198e-01,   9.47319546e-01, ...,\n",
       "                      nan,              nan,              nan],\n",
       "        [  8.72861070e-01,              nan,              nan, ...,\n",
       "                      nan,              nan,              nan]]])"
      ]
     },
     "execution_count": 9,
     "metadata": {},
     "output_type": "execute_result"
    }
   ],
   "source": [
    "R_cells_mean"
   ]
  },
  {
   "cell_type": "code",
   "execution_count": 24,
   "metadata": {
    "scrolled": true
   },
   "outputs": [
    {
     "data": {
      "image/png": "[encoded data removed]",
      "text/plain": [
       "<matplotlib.figure.Figure at 0x7f714cc96a10>"
      ]
     },
     "metadata": {},
     "output_type": "display_data"
    }
   ],
   "source": [
    "nbins = 20\n",
    "bins = np.linspace(0,1,nbins)\n",
    "fig = plt.figure(figsize=(10,10))\n",
    "\n",
    "tmp = R_cells_mean[-1,0,:]\n",
    "plt.hist(tmp[~np.isnan(tmp)],bins,alpha = 0.5, color = 'b',density=False,label='tresh=%.02f'%(thresh_list[0]))\n",
    "tmp = R_cells_mean[-1,1,:]\n",
    "plt.hist(tmp[~np.isnan(tmp)],bins,alpha = 0.5, color = 'r',density=False,label='tresh=%.02f'%(thresh_list[1]))\n",
    "tmp = R_cells_mean[-1,2,:]\n",
    "plt.hist(tmp[~np.isnan(tmp)],bins,alpha = 0.5, color = 'g',density=False,label='tresh=%.02f'%(thresh_list[2]))\n",
    "tmp = R_cells_mean[-1,3,:]\n",
    "plt.hist(tmp[~np.isnan(tmp)],bins,alpha = 0.5, color = 'k',density=False,label='tresh=%.02f'%(thresh_list[3]))\n",
    "plt.ylabel('Unit Count',fontsize = 15)\n",
    "plt.xlabel('Avergae Correlation Coefficient',fontsize = 15)\n",
    "plt.suptitle('Distribution of split-half correlation coefficients | %s'%(filter_crit),fontsize = 15)\n",
    "plt.legend(fontsize = 10)\n",
    "fig_fn = '%s_%s_avg_split_half_correlation_hist_count_df_f_thresh_%s.png'%(opts.animalid, opts.session,filter_crit)\n",
    "plt.savefig(os.path.join(responses_dir,'figures',fig_fn))"
   ]
  },
  {
   "cell_type": "code",
   "execution_count": 98,
   "metadata": {},
   "outputs": [
    {
     "data": {
      "text/plain": [
       "<matplotlib.legend.Legend at 0x7f5991c55a20>"
      ]
     },
     "execution_count": 98,
     "metadata": {},
     "output_type": "execute_result"
    },
    {
     "data": {
      "image/png": "[encoded data removed]",
      "text/plain": [
       "<Figure size 720x720 with 1 Axes>"
      ]
     },
     "metadata": {
      "needs_background": "light"
     },
     "output_type": "display_data"
    }
   ],
   "source": [
    "fig = plt.figure(figsize=(10,10))\n",
    "plt.plot(active_frac_mean[:,0],'b')\n",
    "plt.plot(active_frac_mean[:,1],'r')\n",
    "plt.plot(active_frac_mean[:,2],'g')\n",
    "plt.plot(active_frac_mean[:,3],'k')\n",
    "plt.ylabel('Fraction of Active Cells',fontsize = 15)\n",
    "plt.xlabel('Number of trials',fontsize = 15)\n",
    "plt.suptitle('Fraction of active cells vs. number of trials',fontsize = 15)\n",
    "plt.legend(('thresh=0','thresh=1','thresh=2','thresh=3'),fontsize = 10)"
   ]
  },
  {
   "cell_type": "code",
   "execution_count": null,
   "metadata": {
    "collapsed": true
   },
   "outputs": [],
   "source": [
    "ridx"
   ]
  },
  {
   "cell_type": "code",
   "execution_count": null,
   "metadata": {
    "collapsed": true
   },
   "outputs": [],
   "source": [
    "#get cell split-half correlation\n",
    "                    \n",
    "            active_rois = np.where(half1_rois)[0]\n",
    "            \n",
    "\n",
    "\n",
    "            "
   ]
  },
  {
   "cell_type": "code",
   "execution_count": null,
   "metadata": {
    "collapsed": true
   },
   "outputs": [],
   "source": []
  },
  {
   "cell_type": "code",
   "execution_count": null,
   "metadata": {
    "collapsed": true
   },
   "outputs": [],
   "source": []
  },
  {
   "cell_type": "code",
   "execution_count": null,
   "metadata": {
    "collapsed": true
   },
   "outputs": [],
   "source": [
    "#get number of active cells\n",
    "#for thresh_idx,thresh in enumerate(thresh_list):\n",
    "thresh_idx = 0\n",
    "thresh = 1\n",
    "\n",
    "half1_rois = np.zeros((nrois,))\n",
    "for ridx in range(nrois):    \n",
    "    if np.any(half1_zscore_mean[:,ridx]>thresh):\n",
    "        half1_rois[ridx] = 1\n",
    "active_rois = np.where(half1_rois)[0]\n",
    "active_count[split_idx,thresh_idx,rep] = len(active_rois)\n",
    "\n",
    "half1_mean_sub = half1_mean[:,active_rois].flatten()\n",
    "half2_mean_sub = half2_mean[:,active_rois].flatten()\n",
    "\n",
    "R_mat = np.corrcoef(half1_mean_sub,half2_mean_sub)\n",
    "R_matrix[split_idx,thresh_idx,rep] = R_mat[0,1]"
   ]
  },
  {
   "cell_type": "code",
   "execution_count": null,
   "metadata": {
    "collapsed": true
   },
   "outputs": [],
   "source": [
    "#consider a config active if at least one of theversion of an image evoked a response above threshol\n",
    "\n",
    "\n",
    "\n",
    "#figure out some activity details\n",
    "active_cell_idx = np.nansum(filter_matrix,0)>0\n",
    "num_active_rois = np.nansum(np.nansum(filter_matrix,0)>0)\n",
    "frac_active_rois = num_active_rois/float(len(cell_rois))\n",
    "print('# active rois = %i'%(num_active_rois))\n",
    "print('frac active rois = %.04f'%(frac_active_rois))\n",
    "\n",
    "#normalize across configs within cell, if necessary\n",
    "if 'norm' in response_type:\n",
    "    norm_response_array = np.empty((nconfigs,nrois))\n",
    "\n",
    "    for ridx in range(nrois):\n",
    "        norm_response_array[:,ridx] = mean_response_matrix[:,ridx]/np.nanmax(mean_response_matrix[:,ridx])\n",
    "    mean_response_matrix = norm_response_array\n",
    "if 'std' in response_type:#standardise response by z-scoring across configs\n",
    "    std_response_array = np.empty((nconfigs,nrois))\n",
    "\n",
    "    for ridx in range(nrois):\n",
    "        std_response_array[:,ridx] = (mean_response_matrix[:,ridx]-np.nanmean(mean_response_matrix[:,ridx]))/np.nanstd(mean_response_matrix[:,ridx])\n",
    "    mean_response_matrix = std_response_array"
   ]
  },
  {
   "cell_type": "code",
   "execution_count": null,
   "metadata": {
    "collapsed": true
   },
   "outputs": [],
   "source": [
    "half1.shape"
   ]
  },
  {
   "cell_type": "code",
   "execution_count": null,
   "metadata": {
    "collapsed": true
   },
   "outputs": [],
   "source": []
  },
  {
   "cell_type": "code",
   "execution_count": null,
   "metadata": {
    "collapsed": true
   },
   "outputs": [],
   "source": [
    "R_mean = np.nanmean(R_matrix,2)\n",
    "R_se = np.true_divide(np.nanstd(R_matrix,2),np.sqrt(nreps))\n",
    "\n",
    "active_frac = np.mean(active_count,2)/nrois"
   ]
  },
  {
   "cell_type": "code",
   "execution_count": null,
   "metadata": {
    "collapsed": true
   },
   "outputs": [],
   "source": []
  },
  {
   "cell_type": "code",
   "execution_count": null,
   "metadata": {
    "collapsed": true
   },
   "outputs": [],
   "source": [
    "fig = plt.figure(figsize=(10,10))\n",
    "plt.errorbar(thresh_list,R_mean[9,:],yerr=R_se[9,:],color = 'b')\n",
    "plt.errorbar(thresh_list,R_mean[19,:],yerr=R_se[19,:],color = 'r')\n",
    "plt.errorbar(thresh_list,R_mean[29,:],yerr=R_se[29,:],color = 'g')\n",
    "plt.ylabel('Average Correlation Coefficient',fontsize = 15)\n",
    "plt.xlabel('Z-score threshold for activity',fontsize = 15)\n",
    "plt.suptitle('Split-half correlation vs. threshold for activity',fontsize = 15)\n",
    "plt.legend(('10 trials','20 trials','30 trials'),fontsize = 10)\n",
    "#plt.legend(('5 trials','10 trials','15 trials'),fontsize = 10)\n",
    "#plt.legend(('4 trials','8 trials','12 trials'),fontsize = 10)\n",
    "fig_fn = '20190705_JC097_split_half_correlation_vs_z_score_thresh_df_f.png'\n",
    "#plt.savefig(os.path.join(responses_dir,'figures',fig_fn))"
   ]
  },
  {
   "cell_type": "code",
   "execution_count": null,
   "metadata": {
    "collapsed": true
   },
   "outputs": [],
   "source": [
    "fig = plt.figure(figsize=(10,10))\n",
    "plt.errorbar(split_size_list,R_mean[:,0],yerr=R_se[:,0],color = 'b')\n",
    "plt.errorbar(split_size_list,R_mean[:,2],yerr=R_se[:,2],color = 'r')\n",
    "plt.errorbar(split_size_list,R_mean[:,4],yerr=R_se[:,4],color = 'g')\n",
    "plt.errorbar(split_size_list,R_mean[:,8],yerr=R_se[:,8],color = 'k')\n",
    "plt.ylabel('Average Correlation Coefficient',fontsize = 15)\n",
    "plt.xlabel('Number of trials',fontsize = 15)\n",
    "plt.suptitle('Split-half correlation vs. number of trials',fontsize = 15)\n",
    "plt.legend(('thresh=0','thresh=1','thresh=2','thresh=3'),fontsize = 10)\n",
    "fig_fn = '20190705_JC097_split_half_correlation_vs_ntrials_df_f.png'\n",
    "plt.savefig(os.path.join(responses_dir,'figures',fig_fn))"
   ]
  },
  {
   "cell_type": "code",
   "execution_count": null,
   "metadata": {
    "collapsed": true
   },
   "outputs": [],
   "source": [
    "#get correlation for each cell individually\n",
    "thresh_list = np.arange(0,4.5,0.5)\n",
    "nreps = 100\n",
    "split_size_list = np.arange(30)+1#np.array([4,8,12])\n",
    "active_count= np.zeros((split_size_list.size,thresh_list.size,nreps))\n",
    "R_mean_tmp = np.zeros((split_size_list.size,thresh_list.size,nreps))\n",
    "R_max_tmp = np.zeros((split_size_list.size,thresh_list.size,nreps))\n",
    "R_min_tmp = np.zeros((split_size_list.size,thresh_list.size,nreps))\n",
    "R_cells = np.ones((split_size_list.size,thresh_list.size,nreps,nrois))*np.nan\n",
    "\n",
    "for rep in range(nreps):\n",
    "    for split_idx,split_size in enumerate(split_size_list):\n",
    "\n",
    "        #randomly split\n",
    "        rand_trials = np.random.permutation(ntrials)\n",
    "        half1 = response_matrix[rand_trials[0:split_size]]\n",
    "        half2 = response_matrix[rand_trials[split_size:(2*split_size)]]\n",
    "        half1_zscore = zscore_matrix[rand_trials[0:split_size]]\n",
    "        half2_zscore = zscore_matrix[rand_trials[split_size:(2*split_size)]]\n",
    "\n",
    "        #get mean response across trials\n",
    "        half1_mean = np.squeeze(np.mean(half1,0))\n",
    "        half2_mean = np.squeeze(np.mean(half2,0))\n",
    "        \n",
    "        half1_zscore_mean = np.squeeze(np.mean(half1_zscore,0))\n",
    "        half2_zscore_mean = np.squeeze(np.mean(half2_zscore,0))\n",
    "\n",
    "        #get number of active cells - (threshold by z-score)\n",
    "        for thresh_idx,thresh in enumerate(thresh_list):\n",
    "\n",
    "            half1_rois = np.zeros((nrois,))\n",
    "            \n",
    "            for ridx in range(nrois):    \n",
    "                if np.any(half1_zscore_mean[:,ridx]>thresh):\n",
    "                    half1_rois[ridx] = 1\n",
    "                    #get cell split-half correlation\n",
    "                    R_tmp = np.corrcoef(np.squeeze(half1_mean[:,ridx]),np.squeeze(half2_mean[:,ridx]))\n",
    "                    R_cells[split_idx,thresh_idx,rep,ridx] = R_tmp[0,1]\n",
    "            active_rois = np.where(half1_rois)[0]\n",
    "            active_count[split_idx,thresh_idx,rep] = len(active_rois)\n",
    "\n",
    "\n",
    "            R_mean_tmp[split_idx,thresh_idx,rep] = np.nanmean(R_cells[split_idx,thresh_idx,rep,:],0)\n",
    "            R_max_tmp[split_idx,thresh_idx,rep] = np.nanmax(R_cells[split_idx,thresh_idx,rep,:],0)\n",
    "            R_min_tmp[split_idx,thresh_idx,rep] = np.nanmin(R_cells[split_idx,thresh_idx,rep,:],0)"
   ]
  },
  {
   "cell_type": "code",
   "execution_count": null,
   "metadata": {
    "collapsed": true
   },
   "outputs": [],
   "source": []
  },
  {
   "cell_type": "code",
   "execution_count": null,
   "metadata": {
    "collapsed": true
   },
   "outputs": [],
   "source": [
    "R_cells_mean = np.nanmean(R_cells,2)"
   ]
  },
  {
   "cell_type": "code",
   "execution_count": null,
   "metadata": {
    "collapsed": true
   },
   "outputs": [],
   "source": []
  },
  {
   "cell_type": "code",
   "execution_count": null,
   "metadata": {
    "collapsed": true
   },
   "outputs": [],
   "source": []
  },
  {
   "cell_type": "code",
   "execution_count": null,
   "metadata": {
    "collapsed": true
   },
   "outputs": [],
   "source": [
    "thresh_list = np.arange(4)\n",
    "nreps = 1\n",
    "split_size_list = np.array([15])\n",
    "split_idx = 0 \n",
    "split_size = split_size_list[split_idx]\n",
    "active_count= np.zeros((split_size_list.size,thresh_list.size,nreps))\n",
    "R_matrix = np.zeros((split_size_list.size,thresh_list.size,nreps))\n",
    "thresh_lifetime = np.zeros((nrois,))\n",
    "\n",
    "\n",
    "for rep in range(nreps):\n",
    "\n",
    "    #randomly split\n",
    "    rand_trials = np.random.permutation(ntrials)\n",
    "    half1 = response_matrix[rand_trials[0:split_size]]\n",
    "    half2 = response_matrix[rand_trials[split_size:(2*split_size)]]\n",
    "    half1_zscore = zscore_matrix[rand_trials[0:split_size]]\n",
    "    half2_zscore = zscore_matrix[rand_trials[split_size:(2*split_size)]]\n",
    "\n",
    "    #get mean response across trials\n",
    "    half1_mean = np.squeeze(np.mean(half1,0))\n",
    "    half2_mean = np.squeeze(np.mean(half2,0))\n",
    "\n",
    "    half1_zscore_mean = np.squeeze(np.mean(half1_zscore,0))\n",
    "    half2_zscore_mean = np.squeeze(np.mean(half2_zscore,0))\n",
    "\n",
    "    #get number of active cells - (threshold by z-score)\n",
    "    for thresh_idx,thresh in enumerate(thresh_list):\n",
    "\n",
    "        half1_rois = np.zeros((nrois,))\n",
    "        for ridx in range(nrois):    \n",
    "            if np.any(half1_zscore_mean[:,ridx]>thresh):\n",
    "                half1_rois[ridx] = 1\n",
    "                thresh_lifetime[ridx] = thresh\n",
    "        active_rois = np.where(half1_rois)[0]\n",
    "        active_count[split_idx,thresh_idx,rep] = len(active_rois)\n",
    "\n",
    "        half1_mean_sub = half1_mean[:,active_rois].flatten()\n",
    "        half2_mean_sub = half2_mean[:,active_rois].flatten()\n",
    "\n",
    "        R_mat = np.corrcoef(half1_mean_sub,half2_mean_sub)\n",
    "        R_matrix[split_idx,thresh_idx,rep] = R_mat[0,1]"
   ]
  },
  {
   "cell_type": "code",
   "execution_count": null,
   "metadata": {
    "collapsed": true
   },
   "outputs": [],
   "source": [
    "thresh_lt_array = np.zeros(half1_mean.shape)\n",
    "\n",
    "for ridx in range(nrois):\n",
    "    thresh_lt_array[:,ridx] = thresh_lifetime[ridx] "
   ]
  },
  {
   "cell_type": "code",
   "execution_count": null,
   "metadata": {
    "collapsed": true
   },
   "outputs": [],
   "source": [
    "half1_mean_all = half1_mean.flatten()\n",
    "half2_mean_all = half2_mean.flatten()\n",
    "thresh_all = thresh_lt_array.flatten()\n"
   ]
  },
  {
   "cell_type": "code",
   "execution_count": null,
   "metadata": {
    "collapsed": true
   },
   "outputs": [],
   "source": [
    "thresh_all[idx]"
   ]
  },
  {
   "cell_type": "code",
   "execution_count": null,
   "metadata": {
    "collapsed": true
   },
   "outputs": [],
   "source": [
    "c_mat = ['b','r','g','k']\n",
    "fig = plt.figure(figsize=(10,10))\n",
    "for idx in range(half1_mean.size):\n",
    "    plt.scatter(half1_mean_all[idx],half2_mean_all[idx],color = c_mat[int(thresh_all[idx])])\n",
    "plt.ylabel('Df/F',fontsize = 15)\n",
    "plt.xlabel('Df/F',fontsize = 15)\n",
    "plt.suptitle('Split-half correlation',fontsize = 15)\n",
    "#plt.legend(('thresh=0','thresh=1','thresh=2','thresh=3'),fontsize = 10)\n",
    "\n",
    "\n",
    "fig_fn = '20190621_JC097_sample_split_half_correlation_max_thresh_color.png'\n",
    "plt.savefig(os.path.join(responses_dir,'figures',fig_fn))"
   ]
  },
  {
   "cell_type": "code",
   "execution_count": null,
   "metadata": {
    "collapsed": true
   },
   "outputs": [],
   "source": []
  },
  {
   "cell_type": "code",
   "execution_count": null,
   "metadata": {
    "collapsed": true
   },
   "outputs": [],
   "source": []
  },
  {
   "cell_type": "code",
   "execution_count": null,
   "metadata": {
    "collapsed": true
   },
   "outputs": [],
   "source": [
    "thresh_list = np.arange(0.5,4.5,0.5)\n",
    "nreps = 100\n",
    "split_size_list = np.array([15])\n",
    "split_idx = 0 \n",
    "split_size = split_size_list[split_idx]\n",
    "\n",
    "half1_count = np.zeros((split_size_list.size,thresh_list.size,nreps))\n",
    "overlap_count = np.zeros((split_size_list.size,thresh_list.size,nreps))\n",
    "in1_or2_count = np.zeros((split_size_list.size,thresh_list.size,nreps))\n",
    "in1_only_count = np.zeros((split_size_list.size,thresh_list.size,nreps))\n",
    "in2_only_count = np.zeros((split_size_list.size,thresh_list.size,nreps))\n",
    "\n",
    "active_count= np.zeros((split_size_list.size,thresh_list.size,nreps))\n",
    "\n",
    "\n",
    "for rep in range(nreps):\n",
    "\n",
    "    #randomly split\n",
    "    rand_trials = np.random.permutation(ntrials)\n",
    "    half1 = response_matrix[rand_trials[0:split_size]]\n",
    "    half2 = response_matrix[rand_trials[split_size:(2*split_size)]]\n",
    "    half1_zscore = zscore_matrix[rand_trials[0:split_size]]\n",
    "    half2_zscore = zscore_matrix[rand_trials[split_size:(2*split_size)]]\n",
    "\n",
    "    #get mean response across trials\n",
    "    half1_zscore_mean = np.squeeze(np.mean(half1_zscore,0))\n",
    "    half2_zscore_mean = np.squeeze(np.mean(half2_zscore,0))\n",
    "\n",
    "    #get number of active cells - (threshold by z-score)\n",
    "    for thresh_idx,thresh in enumerate(thresh_list):\n",
    "\n",
    "        half1_rois = np.zeros((nrois,))\n",
    "        half2_rois = np.zeros((nrois,))\n",
    "        for ridx in range(nrois):    \n",
    "            if np.any(half1_zscore_mean[:,ridx]>thresh):\n",
    "                half1_rois[ridx] = 1\n",
    "            if np.any(half2_zscore_mean[:,ridx]>thresh):\n",
    "                half2_rois[ridx] = 1\n",
    "        active_rois1 = np.where(half1_rois)[0].tolist()\n",
    "        active_rois2 = np.where(half2_rois)[0].tolist()\n",
    "        \n",
    "        overlap_count[split_idx,thresh_idx,rep] = len(list(set(active_rois1) & set(active_rois2)))\n",
    "        in1_or2_count[split_idx,thresh_idx,rep] = np.unique(np.array(active_rois1 + active_rois2)).size\n",
    "        \n",
    "#         if len(np.where(half1_rois))>0:\n",
    "#             in1_only[split_idx,thresh_idx,rep] = np.sum(1-half2_rois[np.where(half1_rois)[0]])\n",
    "            \n",
    "#         active_count[split_idx,thresh_idx,rep] = len(active_rois)\n",
    "\n",
    "#         half1_mean_sub = half1_mean[:,active_rois].flatten()\n",
    "#         half2_mean_sub = half2_mean[:,active_rois].flatten()\n",
    "\n",
    "#         R_mat = np.corrcoef(half1_mean_sub,half2_mean_sub)\n",
    "#         R_matrix[split_idx,thresh_idx,rep] = R_mat[0,1]"
   ]
  },
  {
   "cell_type": "code",
   "execution_count": null,
   "metadata": {
    "collapsed": true,
    "scrolled": true
   },
   "outputs": [],
   "source": []
  },
  {
   "cell_type": "code",
   "execution_count": null,
   "metadata": {
    "collapsed": true
   },
   "outputs": [],
   "source": [
    "tmp = \n",
    "print(tmp)"
   ]
  },
  {
   "cell_type": "code",
   "execution_count": null,
   "metadata": {
    "collapsed": true
   },
   "outputs": [],
   "source": [
    "np.where(half1_rois)[0]"
   ]
  },
  {
   "cell_type": "code",
   "execution_count": null,
   "metadata": {
    "collapsed": true
   },
   "outputs": [],
   "source": []
  },
  {
   "cell_type": "code",
   "execution_count": null,
   "metadata": {
    "collapsed": true
   },
   "outputs": [],
   "source": [
    "mean_overlap = np.squeeze(np.mean(overlap_count,2))\n",
    "mean_overlap_frac = np.squeeze(np.mean(np.true_divide(overlap_count,in1_or2_count),2))\n",
    "mean_count = np.squeeze(np.mean(in1_or2_count,2))"
   ]
  },
  {
   "cell_type": "code",
   "execution_count": null,
   "metadata": {
    "collapsed": true
   },
   "outputs": [],
   "source": [
    "plt.plot(thresh_list,mean_overlap,'b')\n",
    "plt.plot(thresh_list,mean_count,'g')"
   ]
  },
  {
   "cell_type": "code",
   "execution_count": null,
   "metadata": {
    "collapsed": true
   },
   "outputs": [],
   "source": [
    "plt.plot(thresh_list,mean_overlap_frac,'b')"
   ]
  },
  {
   "cell_type": "code",
   "execution_count": null,
   "metadata": {
    "collapsed": true
   },
   "outputs": [],
   "source": [
    "print(len(active_rois1))\n",
    "print(active_rois1)\n",
    "print(len(active_rois2))\n",
    "print(active_rois2)\n",
    "print(len(list(set(active_rois1) & set(active_rois2))))\n",
    "print(list(set(active_rois1) & set(active_rois2)))\n",
    "print(len(list(set(active_rois1) - set(active_rois2))))\n",
    "print(list())"
   ]
  },
  {
   "cell_type": "code",
   "execution_count": null,
   "metadata": {
    "collapsed": true
   },
   "outputs": [],
   "source": [
    "set(active_rois1) - set(active_rois2)"
   ]
  },
  {
   "cell_type": "code",
   "execution_count": null,
   "metadata": {
    "collapsed": true
   },
   "outputs": [],
   "source": []
  },
  {
   "cell_type": "raw",
   "metadata": {},
   "source": [
    "plt.mean_response,mean_zscore"
   ]
  },
  {
   "cell_type": "code",
   "execution_count": null,
   "metadata": {
    "collapsed": true
   },
   "outputs": [],
   "source": [
    "response_matrix_zscore.shape"
   ]
  },
  {
   "cell_type": "code",
   "execution_count": null,
   "metadata": {
    "collapsed": true
   },
   "outputs": [],
   "source": [
    "R_mean = np.mean(R_matrix,1)\n",
    "R_se = np.true_divide(np.nanstd(R_matrix,1),np.sqrt(nreps))\n",
    "\n",
    "plt.errorbar(thresh_list,R_mean,yerr=R_se)"
   ]
  },
  {
   "cell_type": "code",
   "execution_count": null,
   "metadata": {
    "collapsed": true
   },
   "outputs": [],
   "source": []
  },
  {
   "cell_type": "code",
   "execution_count": null,
   "metadata": {
    "collapsed": true
   },
   "outputs": [],
   "source": [
    "frac_overlap_mean = np.mean(frac_overlap,1)\n",
    "half1_count_mean = np.mean(half1_count,1)/nrois\n",
    "half2_count_mean = np.mean(half2_count,1)/nrois"
   ]
  },
  {
   "cell_type": "code",
   "execution_count": null,
   "metadata": {
    "collapsed": true
   },
   "outputs": [],
   "source": [
    "plt.plot(thresh_list,frac_overlap_mean,'b')\n",
    "\n",
    "#\n",
    "plt.plot(thresh_list,half1_count_mean,'r')\n",
    "plt.plot(thresh_list,half2_count_mean,'g')"
   ]
  },
  {
   "cell_type": "code",
   "execution_count": null,
   "metadata": {
    "collapsed": true
   },
   "outputs": [],
   "source": []
  },
  {
   "cell_type": "code",
   "execution_count": null,
   "metadata": {
    "collapsed": true
   },
   "outputs": [],
   "source": []
  },
  {
   "cell_type": "code",
   "execution_count": null,
   "metadata": {
    "collapsed": true
   },
   "outputs": [],
   "source": [
    "\n",
    "nreps = 10000\n",
    "\n",
    "\n",
    "\n",
    "\n"
   ]
  },
  {
   "cell_type": "code",
   "execution_count": null,
   "metadata": {
    "collapsed": true
   },
   "outputs": [],
   "source": []
  },
  {
   "cell_type": "code",
   "execution_count": null,
   "metadata": {
    "collapsed": true
   },
   "outputs": [],
   "source": []
  }
 ],
 "metadata": {
  "kernelspec": {
   "display_name": "Python 3",
   "language": "python",
   "name": "python3"
  },
  "language_info": {
   "codemirror_mode": {
    "name": "ipython",
    "version": 3
   },
   "file_extension": ".py",
   "mimetype": "text/x-python",
   "name": "python",
   "nbconvert_exporter": "python",
   "pygments_lexer": "ipython3",
   "version": "3.7.3"
  }
 },
 "nbformat": 4,
 "nbformat_minor": 2
}
