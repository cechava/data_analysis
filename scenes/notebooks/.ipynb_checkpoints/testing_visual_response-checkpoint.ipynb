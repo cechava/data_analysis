{
 "cells": [
  {
   "cell_type": "code",
   "execution_count": 115,
   "metadata": {},
   "outputs": [],
   "source": [
    "import h5py\n",
    "%matplotlib inline\n",
    "import seaborn as sns; sns.set()\n",
    "import matplotlib.pyplot as plt\n",
    "import matplotlib\n",
    "import matplotlib.patches as patches\n",
    "import sys\n",
    "import shutil\n",
    "import glob\n",
    "import optparse\n",
    "import os\n",
    "import json\n",
    "import pandas as pd\n",
    "import numpy as np\n",
    "import pylab as pl\n",
    "import scipy.stats as stats\n",
    "import seaborn as sns\n",
    "sys.path.append('/n/coxfs01/cechavarria/repos/2p-pipeline/')"
   ]
  },
  {
   "cell_type": "code",
   "execution_count": 139,
   "metadata": {},
   "outputs": [],
   "source": [
    "class struct: pass\n",
    "\n",
    "opts = struct()\n",
    "opts.rootdir = '/n/coxfs01/2p-data'\n",
    "opts.animalid = 'JC080'\n",
    "opts.session = '20190619'\n",
    "opts.acquisition = 'FOV1_zoom4p0x'\n",
    "opts.traceid = 'traces001_s2p'\n",
    "opts.combined_run = 'scenes_combined'\n",
    "\n",
    "\n",
    "\n",
    "#% Set up paths:    \n",
    "acquisition_dir = os.path.join(opts.rootdir, opts.animalid, opts.session, opts.acquisition)\n",
    "\n",
    "traceid_dir = os.path.join(acquisition_dir, opts.combined_run,'traces',opts.traceid)\n",
    "\n",
    "run_dir = traceid_dir.split('/traces')[0]\n",
    "trace_arrays_dir = os.path.join(traceid_dir,'files')\n",
    "paradigm_dir = os.path.join(acquisition_dir, opts.combined_run, 'paradigm')\n",
    "\n",
    "#output directory\n",
    "responses_dir = os.path.join(acquisition_dir, opts.combined_run,'responses', opts.traceid)\n",
    "data_array_dir = os.path.join(responses_dir, 'data_arrays')\n",
    "if not os.path.exists(os.path.join(data_array_dir,'files')):\n",
    "    os.makedirs(os.path.join(data_array_dir,'files'))\n",
    "    \n",
    "if not os.path.exists(os.path.join(data_array_dir,'figures')):\n",
    "    os.makedirs(os.path.join(data_array_dir,'figures'))"
   ]
  },
  {
   "cell_type": "code",
   "execution_count": 140,
   "metadata": {
    "scrolled": true
   },
   "outputs": [
    {
     "name": "stdout",
     "output_type": "stream",
     "text": [
      "ROIs:208\n"
     ]
    }
   ],
   "source": [
    "#open file to read\n",
    "data_array_fn = 'processed_config_traces.hdf5'\n",
    "data_array_filepath = os.path.join(traceid_dir, 'data_arrays', data_array_fn)\n",
    "data_grp = h5py.File(data_array_filepath, 'r')\n",
    "\n",
    "frames_tsec = data_grp.attrs['frames_tsec']\n",
    "nrois = data_grp.attrs['nrois']\n",
    "print('ROIs:%i'%(nrois))\n",
    "\n",
    "\n",
    "if 's2p_cell_rois' in data_grp.attrs.keys():\n",
    "    cell_rois = data_grp.attrs['s2p_cell_rois']\n",
    "else:\n",
    "    cell_rois = np.arange(nrois)\n",
    "\n",
    "curr_slice = 'Slice01'#hard,coding for now\n",
    "stim_period0 = data_grp.attrs['pre_frames']\n",
    "stim_period1 = data_grp.attrs['pre_frames']+data_grp.attrs['stim_frames']+1\n",
    "\n",
    "trial_fid = np.array(data_grp.attrs['trial_fid'])\n",
    "trial_run = np.array(data_grp.attrs['trial_run'])\n",
    "\n",
    "\n",
    "\n",
    "config_img = np.zeros((len(data_grp[curr_slice].keys())))\n",
    "config_cond = np.zeros((len(data_grp[curr_slice].keys())))\n",
    "for cfg_count,cfg_key in enumerate(data_grp[curr_slice].keys()):\n",
    "    config_img[cfg_count] = np.array(data_grp['/'.join([curr_slice,cfg_key,'img'])])[0]+1\n",
    "    config_cond[cfg_count] = np.array(data_grp['/'.join([curr_slice,cfg_key,'scene_cond'])])[0]\n",
    "\n",
    "# cfg_key = 'config006'\n",
    "# cfg_count = 0 \n",
    "# print(np.array(data_grp[curr_slice][cfg_key]['img']))\n",
    "# print(np.array(data_grp[curr_slice][cfg_key]['scene_cond']))\n",
    "\n",
    "for cfg_count,cfg_key in enumerate(data_grp[curr_slice].keys()):\n",
    "  #  print(cfg_key)\n",
    "    trial_traces_f = np.array(data_grp['/'.join([curr_slice,cfg_key,'f', 'trace','np_subtracted'])])\n",
    "    trial_traces_df = np.array(data_grp['/'.join([curr_slice,cfg_key,'df', 'trace','np_subtracted'])])\n",
    "    trial_traces_df_f = np.array(data_grp['/'.join([curr_slice,cfg_key,'df_f', 'trace','np_subtracted'])])\n",
    "    trial_traces_zscore = np.array(data_grp['/'.join([curr_slice,cfg_key,'zscore', 'trace','np_subtracted'])])\n",
    "    \n",
    "    trial_response_df = np.squeeze(np.mean(trial_traces_df[:,stim_period0:stim_period1,:],1))\n",
    "    trial_response_df_f = np.squeeze(np.mean(trial_traces_df_f[:,stim_period0:stim_period1,:],1))\n",
    "    trial_response_zscore = np.squeeze(np.mean(trial_traces_zscore[:,stim_period0:stim_period1,:],1))\n",
    "    \n",
    "    trial_baseline_f = np.squeeze(np.mean(trial_traces_f[:,0:stim_period0,:],1))\n",
    "    trial_response_f = np.squeeze(np.mean(trial_traces_f[:,stim_period0:stim_period1,:],1))\n",
    "    trial_response_f_zscore = np.true_divide(trial_response_f-np.mean(trial_baseline_f,0),\\\n",
    "               np.std(trial_baseline_f,0))\n",
    "\n",
    "    if cfg_count == 0:\n",
    "        response_matrix_df = trial_response_df\n",
    "        response_matrix_df_f = trial_response_df_f\n",
    "        response_matrix_zscore = trial_response_zscore\n",
    "        response_matrix_f_zscore = trial_response_f_zscore\n",
    "        response_matrix_f = trial_response_f\n",
    "        baseline_matrix_f = trial_baseline_f\n",
    "    else:\n",
    "        response_matrix_df = np.dstack((response_matrix_df,trial_response_df))\n",
    "        response_matrix_df_f = np.dstack((response_matrix_df_f,trial_response_df_f))\n",
    "        response_matrix_zscore = np.dstack((response_matrix_zscore,trial_response_zscore))\n",
    "        response_matrix_f_zscore = np.dstack((response_matrix_f_zscore,trial_response_f_zscore))\n",
    "        response_matrix_f = np.dstack((response_matrix_f,trial_response_f))\n",
    "        baseline_matrix_f = np.dstack((baseline_matrix_f,trial_baseline_f))\n",
    "\n",
    "response_matrix_f = np.swapaxes(response_matrix_f,1,2) \n",
    "baseline_matrix_f = np.swapaxes(baseline_matrix_f,1,2) \n",
    "response_matrix_df = np.swapaxes(response_matrix_df,1,2) \n",
    "response_matrix_df_f = np.swapaxes(response_matrix_df_f,1,2) \n",
    "response_matrix_zscore = np.swapaxes(response_matrix_zscore,1,2) \n",
    "response_matrix_f_zscore = np.swapaxes(response_matrix_f_zscore,1,2)"
   ]
  },
  {
   "cell_type": "code",
   "execution_count": 141,
   "metadata": {},
   "outputs": [],
   "source": [
    "#perform permutation test\n",
    "nreps = 100\n",
    "ntrials,nconfigs,nrois = response_matrix_f.shape\n",
    "ks_stat = np.empty((nconfigs,nrois))\n",
    "ks_p = np.empty((nconfigs,nrois))\n",
    "perm_tstat = np.empty((nconfigs,nrois))\n",
    "perm_p = np.empty((nconfigs,nrois))\n",
    "paired_tstat = np.empty((nconfigs,nrois))\n",
    "paired_p = np.empty((nconfigs,nrois))\n",
    "simple_tstat = np.empty((nconfigs,nrois))\n",
    "simple_p = np.empty((nconfigs,nrois))\n",
    "\n",
    "for cidx in range(nconfigs):\n",
    "    for ridx in range(nrois):\n",
    "        #get true change in fluoresence\n",
    "        true_df = np.squeeze(response_matrix_df[:,cidx,ridx])\n",
    "        \n",
    "        #repeat permutation a bunch of times\n",
    "        for rep in range(nreps):\n",
    "            shuffle_all = np.random.permutation(np.hstack((np.squeeze(baseline_matrix_f[:,cidx,ridx]),np.squeeze(response_matrix_f[:,cidx,ridx]))))\n",
    "\n",
    "            shuffle_base = shuffle_all[0:ntrials]\n",
    "            shuffle_stim = shuffle_all[ntrials:]\n",
    "\n",
    "            if rep == 0:\n",
    "                shuffle_df = shuffle_stim - shuffle_base\n",
    "            else:\n",
    "                shuffle_df = np.hstack((shuffle_df,shuffle_stim - shuffle_base))\n",
    "        \n",
    "        #performs some stats and strone\n",
    "        ks_stat[cidx,ridx], ks_p[cidx,ridx] = stats.ks_2samp(true_df,shuffle_df)\n",
    "        perm_tstat[cidx,ridx], perm_p[cidx,ridx] = stats.ttest_ind(true_df,shuffle_df,equal_var = False)#using this test since the sampled come from same cell\n",
    "        \n",
    "        #get ttest stats by comparing df distribution to 0\n",
    "        simple_tstat[cidx,ridx], simple_p[cidx,ridx] = stats.ttest_1samp(np.squeeze(response_matrix_df[:,cidx,ridx]),0)\n",
    "        \n",
    "        #get ttest stats by comparing pixel values between baseline and stim period\n",
    "        paired_tstat[cidx,ridx], paired_p[cidx,ridx] = stats.ttest_rel(np.squeeze(response_matrix_f[:,cidx,ridx]),np.squeeze(baseline_matrix_f[:,cidx,ridx]))\n",
    "\n",
    "#sign your p-values\n",
    "simple_p = np.sign(simple_tstat)*simple_p\n",
    "paired_p = np.sign(paired_tstat)*paired_p"
   ]
  },
  {
   "cell_type": "code",
   "execution_count": 205,
   "metadata": {},
   "outputs": [
    {
     "data": {
      "text/plain": [
       "array([0.2858627 , 0.46648136, 0.25347768, 0.15277413, 0.19048443,\n",
       "       0.2651453 , 0.49823691, 0.17522713, 0.42125649, 0.44499925,\n",
       "       0.46381585, 0.48933224, 0.43669287, 0.52077177, 0.74343982,\n",
       "       1.4128625 , 0.58412302, 0.50594924, 0.45781475, 0.19957914,\n",
       "       0.10308214, 0.62924783, 0.29159872, 0.46018368, 2.60083676,\n",
       "       0.75768163, 1.38645611, 0.445379  , 0.33180078, 0.30597389,\n",
       "       0.04291004, 0.28367017, 0.51536683, 0.6172412 , 0.48737852,\n",
       "       0.53833809, 0.31623318, 0.1675486 , 0.37722866, 1.55869581,\n",
       "       1.23096862, 1.2592227 , 0.29294946, 0.17480296, 0.26317323,\n",
       "       0.58314462, 0.43092468, 0.63420147, 0.21153378, 0.28498319,\n",
       "       0.21494717, 0.00320608, 0.19583696, 0.09385529, 0.18733519,\n",
       "       0.19180092, 0.30460807, 1.04045215, 0.3952117 , 0.57369287])"
      ]
     },
     "execution_count": 205,
     "metadata": {},
     "output_type": "execute_result"
    }
   ],
   "source": [
    "zscore_mean[:,37]"
   ]
  },
  {
   "cell_type": "code",
   "execution_count": 195,
   "metadata": {},
   "outputs": [
    {
     "data": {
      "text/plain": [
       "0.3663629248151443"
      ]
     },
     "execution_count": 195,
     "metadata": {},
     "output_type": "execute_result"
    }
   ],
   "source": [
    "split_half_R[45]"
   ]
  },
  {
   "cell_type": "code",
   "execution_count": 196,
   "metadata": {},
   "outputs": [
    {
     "data": {
      "text/plain": [
       "0.4383816712754464"
      ]
     },
     "execution_count": 196,
     "metadata": {},
     "output_type": "execute_result"
    }
   ],
   "source": [
    "split_half_R[36]"
   ]
  },
  {
   "cell_type": "code",
   "execution_count": 217,
   "metadata": {},
   "outputs": [],
   "source": [
    "# cidx = 45\n",
    "# ridx = 0\n",
    "# cidx = 1\n",
    "# ridx = 36#[1,36]\n",
    "\n",
    "cidx = 2\n",
    "ridx = 205"
   ]
  },
  {
   "cell_type": "code",
   "execution_count": 218,
   "metadata": {},
   "outputs": [
    {
     "data": {
      "text/plain": [
       "Ttest_1sampResult(statistic=4.596512650538149, pvalue=0.00011586061329934794)"
      ]
     },
     "execution_count": 218,
     "metadata": {},
     "output_type": "execute_result"
    }
   ],
   "source": [
    "stats.ttest_1samp(np.squeeze(response_matrix_df_f[:,cidx,ridx]),0)"
   ]
  },
  {
   "cell_type": "code",
   "execution_count": 219,
   "metadata": {
    "scrolled": true
   },
   "outputs": [
    {
     "name": "stdout",
     "output_type": "stream",
     "text": [
      "0.1522093280400607\n",
      "0.16729109875827955\n"
     ]
    },
    {
     "data": {
      "text/plain": [
       "(array([2., 0., 0., 0., 0., 0., 0., 0., 1., 1., 4., 2., 3., 5., 2., 1., 0.,\n",
       "        1., 1., 2.]),\n",
       " array([-0.30929826, -0.27219519, -0.23509212, -0.19798905, -0.16088598,\n",
       "        -0.12378291, -0.08667984, -0.04957677, -0.0124737 ,  0.02462937,\n",
       "         0.06173245,  0.09883552,  0.13593859,  0.17304166,  0.21014473,\n",
       "         0.2472478 ,  0.28435087,  0.32145394,  0.35855701,  0.39566008,\n",
       "         0.43276315]),\n",
       " <a list of 20 Patch objects>)"
      ]
     },
     "execution_count": 219,
     "metadata": {},
     "output_type": "execute_result"
    },
    {
     "data": {
      "image/png": "[encoded data removed]",
      "text/plain": [
       "<Figure size 432x288 with 1 Axes>"
      ]
     },
     "metadata": {},
     "output_type": "display_data"
    }
   ],
   "source": [
    "print(np.mean(response_matrix_zscore[:,cidx,ridx]))\n",
    "print(np.median(response_matrix_zscore[:,cidx,ridx]))\n",
    "plt.hist(response_matrix_zscore[:,cidx,ridx],20)"
   ]
  },
  {
   "cell_type": "code",
   "execution_count": 220,
   "metadata": {},
   "outputs": [
    {
     "data": {
      "text/plain": [
       "(array([2., 0., 0., 0., 0., 0., 0., 0., 1., 2., 2., 4., 3., 2., 4., 1., 1.,\n",
       "        1., 0., 2.]),\n",
       " array([-2.70091850e+01, -2.36354522e+01, -2.02617194e+01, -1.68879866e+01,\n",
       "        -1.35142538e+01, -1.01405210e+01, -6.76678816e+00, -3.39305535e+00,\n",
       "        -1.93225498e-02,  3.35441025e+00,  6.72814306e+00,  1.01018759e+01,\n",
       "         1.34756087e+01,  1.68493415e+01,  2.02230743e+01,  2.35968071e+01,\n",
       "         2.69705399e+01,  3.03442727e+01,  3.37180055e+01,  3.70917383e+01,\n",
       "         4.04654711e+01]),\n",
       " <a list of 20 Patch objects>)"
      ]
     },
     "execution_count": 220,
     "metadata": {},
     "output_type": "execute_result"
    },
    {
     "data": {
      "image/png": "[encoded data removed]",
      "text/plain": [
       "<Figure size 432x288 with 1 Axes>"
      ]
     },
     "metadata": {},
     "output_type": "display_data"
    }
   ],
   "source": [
    "plt.hist(response_matrix_df[:,cidx,ridx],20)"
   ]
  },
  {
   "cell_type": "code",
   "execution_count": 178,
   "metadata": {},
   "outputs": [
    {
     "data": {
      "text/plain": [
       "(25, 60, 208)"
      ]
     },
     "execution_count": 178,
     "metadata": {},
     "output_type": "execute_result"
    }
   ],
   "source": [
    "response_matrix_zscore.shape"
   ]
  },
  {
   "cell_type": "code",
   "execution_count": 142,
   "metadata": {},
   "outputs": [],
   "source": [
    "#do split-half correlation to assess reliability\n",
    "nreps = 100\n",
    "\n",
    "split_size = int(np.floor(ntrials/2))\n",
    "R_cells = np.zeros((nreps,nrois))\n",
    "\n",
    "\n",
    "for rep in range(nreps):\n",
    "\n",
    "    #randomly split\n",
    "    rand_trials = np.random.permutation(ntrials)\n",
    "    half1 = response_matrix_df[rand_trials[0:split_size]]\n",
    "    half2 = response_matrix_df[rand_trials[split_size:(2*split_size)]]\n",
    "\n",
    "    #get mean response across trials\n",
    "    half1_mean = np.squeeze(np.mean(half1,0))\n",
    "    half2_mean = np.squeeze(np.mean(half2,0))\n",
    "\n",
    "    #get cell split-half correlation\n",
    "    for ridx in range(nrois):\n",
    "        R_tmp = np.corrcoef(np.squeeze(half1_mean[:,ridx]),np.squeeze(half2_mean[:,ridx]))\n",
    "        R_cells[rep,ridx] = R_tmp[0,1]\n",
    "split_half_R = np.nanmean(R_cells,0)"
   ]
  },
  {
   "cell_type": "code",
   "execution_count": 226,
   "metadata": {},
   "outputs": [
    {
     "data": {
      "text/plain": [
       "(12, 60, 208)"
      ]
     },
     "execution_count": 226,
     "metadata": {},
     "output_type": "execute_result"
    }
   ],
   "source": [
    "half1.shape"
   ]
  },
  {
   "cell_type": "code",
   "execution_count": 201,
   "metadata": {},
   "outputs": [
    {
     "data": {
      "text/plain": [
       "0.8021556515313263"
      ]
     },
     "execution_count": 201,
     "metadata": {},
     "output_type": "execute_result"
    }
   ],
   "source": [
    "split_half_R[37]"
   ]
  },
  {
   "cell_type": "code",
   "execution_count": 143,
   "metadata": {},
   "outputs": [
    {
     "data": {
      "text/plain": [
       "(100, 208)"
      ]
     },
     "execution_count": 143,
     "metadata": {},
     "output_type": "execute_result"
    }
   ],
   "source": [
    "R_cells.shape"
   ]
  },
  {
   "cell_type": "code",
   "execution_count": 144,
   "metadata": {},
   "outputs": [
    {
     "data": {
      "text/plain": [
       "<matplotlib.collections.PathCollection at 0x7fcaa0304710>"
      ]
     },
     "execution_count": 144,
     "metadata": {},
     "output_type": "execute_result"
    },
    {
     "data": {
      "image/png": "[encoded data removed]",
      "text/plain": [
       "<Figure size 432x288 with 1 Axes>"
      ]
     },
     "metadata": {},
     "output_type": "display_data"
    }
   ],
   "source": [
    "plt.scatter(simple_p.flatten(),perm_p.flatten())"
   ]
  },
  {
   "cell_type": "code",
   "execution_count": 145,
   "metadata": {},
   "outputs": [
    {
     "data": {
      "text/plain": [
       "<matplotlib.collections.PathCollection at 0x7fca93cb0710>"
      ]
     },
     "execution_count": 145,
     "metadata": {},
     "output_type": "execute_result"
    },
    {
     "data": {
      "image/png": "[encoded data removed]",
      "text/plain": [
       "<Figure size 432x288 with 1 Axes>"
      ]
     },
     "metadata": {},
     "output_type": "display_data"
    }
   ],
   "source": [
    "plt.scatter(simple_p.flatten(),paired_p.flatten())"
   ]
  },
  {
   "cell_type": "code",
   "execution_count": 103,
   "metadata": {},
   "outputs": [
    {
     "data": {
      "text/plain": [
       "(60, 30, 188)"
      ]
     },
     "execution_count": 103,
     "metadata": {},
     "output_type": "execute_result"
    }
   ],
   "source": [
    "response_matrix_zscore.shape"
   ]
  },
  {
   "cell_type": "code",
   "execution_count": 121,
   "metadata": {
    "scrolled": true
   },
   "outputs": [
    {
     "data": {
      "text/plain": [
       "(60, 30, 188)"
      ]
     },
     "execution_count": 121,
     "metadata": {},
     "output_type": "execute_result"
    }
   ],
   "source": [
    "response_matrix_zscore.shape"
   ]
  },
  {
   "cell_type": "code",
   "execution_count": 214,
   "metadata": {},
   "outputs": [
    {
     "data": {
      "text/plain": [
       "0.3466818875374937"
      ]
     },
     "execution_count": 214,
     "metadata": {},
     "output_type": "execute_result"
    }
   ],
   "source": [
    "split_half_R[205]"
   ]
  },
  {
   "cell_type": "code",
   "execution_count": 224,
   "metadata": {},
   "outputs": [
    {
     "data": {
      "text/plain": [
       "array([[0.89706285, 1.16927634, 1.08279359, ..., 1.43684434, 1.16724246,\n",
       "        0.69809016],\n",
       "       [0.60367199, 1.31948676, 1.18383151, ..., 2.21768961, 0.95183383,\n",
       "        1.19566254],\n",
       "       [0.13680316, 1.72508505, 2.48410923, ..., 5.27048228, 0.57266524,\n",
       "        1.25153626],\n",
       "       ...,\n",
       "       [0.7682964 , 1.94513564, 1.6617715 , ..., 3.47182459, 1.2779834 ,\n",
       "        1.11520247],\n",
       "       [0.56589695, 0.97023768, 0.83586732, ..., 0.95548741, 0.73606717,\n",
       "        0.56070746],\n",
       "       [0.29331687, 1.02424406, 0.93938209, ..., 1.92165813, 0.71314499,\n",
       "        0.84681075]])"
      ]
     },
     "execution_count": 224,
     "metadata": {},
     "output_type": "execute_result"
    }
   ],
   "source": [
    "zscore_idx"
   ]
  },
  {
   "cell_type": "code",
   "execution_count": 223,
   "metadata": {
    "scrolled": true
   },
   "outputs": [
    {
     "data": {
      "text/plain": [
       "5.270482277768086"
      ]
     },
     "execution_count": 223,
     "metadata": {},
     "output_type": "execute_result"
    }
   ],
   "source": [
    "zscore_idx[2,205]"
   ]
  },
  {
   "cell_type": "code",
   "execution_count": 222,
   "metadata": {},
   "outputs": [
    {
     "data": {
      "text/plain": [
       "(array([2]), array([205]))"
      ]
     },
     "execution_count": 222,
     "metadata": {},
     "output_type": "execute_result"
    }
   ],
   "source": [
    "np.where(zscore_idx==np.max(zscore_idx))"
   ]
  },
  {
   "cell_type": "code",
   "execution_count": 221,
   "metadata": {},
   "outputs": [],
   "source": [
    "zscore_idx = np.mean(response_matrix_zscore,0)/np.var(response_matrix_zscore,0)\n",
    "zscore_var = np.var(response_matrix_zscore,0)"
   ]
  },
  {
   "cell_type": "code",
   "execution_count": 146,
   "metadata": {},
   "outputs": [],
   "source": [
    "zscore_mean = np.mean(response_matrix_zscore,0)\n",
    "df_f_mean = np.mean(response_matrix_df_f,0)\n",
    "zscore_cell = np.mean(zscore_mean,0)"
   ]
  },
  {
   "cell_type": "code",
   "execution_count": 175,
   "metadata": {},
   "outputs": [
    {
     "data": {
      "text/plain": [
       "0.3663629248151443"
      ]
     },
     "execution_count": 175,
     "metadata": {},
     "output_type": "execute_result"
    }
   ],
   "source": [
    "split_half_R[45]"
   ]
  },
  {
   "cell_type": "code",
   "execution_count": 174,
   "metadata": {},
   "outputs": [
    {
     "data": {
      "text/plain": [
       "4.09248368288937"
      ]
     },
     "execution_count": 174,
     "metadata": {},
     "output_type": "execute_result"
    }
   ],
   "source": [
    "simple_tstat[45,0]"
   ]
  },
  {
   "cell_type": "code",
   "execution_count": 173,
   "metadata": {},
   "outputs": [
    {
     "data": {
      "text/plain": [
       "True"
      ]
     },
     "execution_count": 173,
     "metadata": {},
     "output_type": "execute_result"
    }
   ],
   "source": [
    "zscore_mean[45,0]>3"
   ]
  },
  {
   "cell_type": "code",
   "execution_count": 182,
   "metadata": {},
   "outputs": [
    {
     "data": {
      "text/plain": [
       "7.73061631414687"
      ]
     },
     "execution_count": 182,
     "metadata": {},
     "output_type": "execute_result"
    }
   ],
   "source": [
    "simple_tstat[1,36]"
   ]
  },
  {
   "cell_type": "code",
   "execution_count": 156,
   "metadata": {},
   "outputs": [
    {
     "data": {
      "text/plain": [
       "(array([3341]),)"
      ]
     },
     "execution_count": 156,
     "metadata": {},
     "output_type": "execute_result"
    }
   ],
   "source": [
    "np.where(simple_tstat.flatten() == np.max(simple_tstat[:]))"
   ]
  },
  {
   "cell_type": "code",
   "execution_count": 147,
   "metadata": {
    "scrolled": true
   },
   "outputs": [
    {
     "data": {
      "text/plain": [
       "<matplotlib.collections.PathCollection at 0x7fca93c0d240>"
      ]
     },
     "execution_count": 147,
     "metadata": {},
     "output_type": "execute_result"
    },
    {
     "data": {
      "image/png": "[encoded data removed]",
      "text/plain": [
       "<Figure size 432x288 with 1 Axes>"
      ]
     },
     "metadata": {},
     "output_type": "display_data"
    }
   ],
   "source": [
    "plt.scatter(simple_tstat.flatten(),zscore_mean.flatten())"
   ]
  },
  {
   "cell_type": "code",
   "execution_count": 148,
   "metadata": {},
   "outputs": [
    {
     "data": {
      "text/plain": [
       "<matplotlib.collections.PathCollection at 0x7fca93bdc7b8>"
      ]
     },
     "execution_count": 148,
     "metadata": {},
     "output_type": "execute_result"
    },
    {
     "data": {
      "image/png": "[encoded data removed]",
      "text/plain": [
       "<Figure size 432x288 with 1 Axes>"
      ]
     },
     "metadata": {},
     "output_type": "display_data"
    }
   ],
   "source": [
    "plt.scatter(perm_tstat.flatten(),zscore_mean.flatten())"
   ]
  },
  {
   "cell_type": "code",
   "execution_count": 154,
   "metadata": {
    "scrolled": false
   },
   "outputs": [
    {
     "data": {
      "text/plain": [
       "<matplotlib.collections.PathCollection at 0x7fca93a12f28>"
      ]
     },
     "execution_count": 154,
     "metadata": {},
     "output_type": "execute_result"
    },
    {
     "data": {
      "image/png": "[encoded data removed]",
      "text/plain": [
       "<Figure size 432x288 with 1 Axes>"
      ]
     },
     "metadata": {},
     "output_type": "display_data"
    }
   ],
   "source": [
    "plt.scatter(split_half_R.flatten(),np.max(zscore_mean,0))"
   ]
  },
  {
   "cell_type": "code",
   "execution_count": 151,
   "metadata": {},
   "outputs": [
    {
     "data": {
      "text/plain": [
       "<matplotlib.collections.PathCollection at 0x7fca93ad78d0>"
      ]
     },
     "execution_count": 151,
     "metadata": {},
     "output_type": "execute_result"
    },
    {
     "data": {
      "image/png": "[encoded data removed]",
      "text/plain": [
       "<Figure size 432x288 with 1 Axes>"
      ]
     },
     "metadata": {},
     "output_type": "display_data"
    }
   ],
   "source": [
    "plt.scatter(np.max(perm_tstat,0),split_half_R.flatten())"
   ]
  },
  {
   "cell_type": "code",
   "execution_count": 16,
   "metadata": {},
   "outputs": [
    {
     "data": {
      "text/plain": [
       "array([0.7712714, 0.       , 0.       , 0.       , 0.       , 0.       ,\n",
       "       0.       , 0.       , 0.       , 0.       , 0.       , 0.       ,\n",
       "       0.       , 0.       , 0.       , 0.       , 0.       , 0.       ,\n",
       "       0.       , 0.       , 0.       , 0.       , 0.       , 0.       ,\n",
       "       0.       , 0.       , 0.       , 0.       , 0.       , 0.       ,\n",
       "       0.       , 0.       , 0.       , 0.       , 0.       , 0.       ,\n",
       "       0.       , 0.       , 0.       , 0.       , 0.       , 0.       ,\n",
       "       0.       , 0.       , 0.       , 0.       , 0.       , 0.       ,\n",
       "       0.       , 0.       , 0.       , 0.       , 0.       , 0.       ,\n",
       "       0.       , 0.       , 0.       , 0.       , 0.       , 0.       ,\n",
       "       0.       , 0.       , 0.       , 0.       , 0.       , 0.       ,\n",
       "       0.       , 0.       , 0.       , 0.       , 0.       , 0.       ,\n",
       "       0.       , 0.       , 0.       , 0.       , 0.       , 0.       ,\n",
       "       0.       , 0.       , 0.       , 0.       , 0.       , 0.       ,\n",
       "       0.       , 0.       , 0.       , 0.       , 0.       , 0.       ,\n",
       "       0.       , 0.       , 0.       , 0.       , 0.       , 0.       ,\n",
       "       0.       , 0.       , 0.       , 0.       , 0.       , 0.       ,\n",
       "       0.       , 0.       , 0.       , 0.       , 0.       , 0.       ,\n",
       "       0.       , 0.       , 0.       , 0.       , 0.       , 0.       ,\n",
       "       0.       , 0.       , 0.       , 0.       , 0.       , 0.       ,\n",
       "       0.       , 0.       , 0.       , 0.       , 0.       , 0.       ,\n",
       "       0.       , 0.       , 0.       , 0.       , 0.       , 0.       ,\n",
       "       0.       , 0.       , 0.       , 0.       , 0.       , 0.       ,\n",
       "       0.       , 0.       , 0.       , 0.       , 0.       , 0.       ,\n",
       "       0.       , 0.       , 0.       , 0.       , 0.       , 0.       ,\n",
       "       0.       , 0.       , 0.       , 0.       , 0.       , 0.       ,\n",
       "       0.       , 0.       , 0.       , 0.       , 0.       , 0.       ,\n",
       "       0.       , 0.       , 0.       , 0.       , 0.       , 0.       ,\n",
       "       0.       , 0.       , 0.       , 0.       , 0.       , 0.       ,\n",
       "       0.       , 0.       , 0.       , 0.       , 0.       , 0.       ,\n",
       "       0.       , 0.       , 0.       , 0.       , 0.       , 0.       ,\n",
       "       0.       , 0.       , 0.       , 0.       , 0.       , 0.       ,\n",
       "       0.       , 0.       , 0.       , 0.       , 0.       , 0.       ,\n",
       "       0.       , 0.       , 0.       , 0.       , 0.       , 0.       ,\n",
       "       0.       , 0.       , 0.       , 0.       ])"
      ]
     },
     "execution_count": 16,
     "metadata": {},
     "output_type": "execute_result"
    }
   ],
   "source": [
    "split_half_R"
   ]
  },
  {
   "cell_type": "code",
   "execution_count": null,
   "metadata": {},
   "outputs": [],
   "source": [
    "#save to array\n",
    "\n",
    "#open file for storage\n",
    "# Create outfile:\n",
    "resp_array_fn = 'trial_response_array.hdf5'\n",
    "resp_array_filepath = os.path.join(data_array_dir,'files' , resp_array_fn)\n",
    "resp_grp = h5py.File(resp_array_filepath, 'w')\n",
    "\n",
    "#copy attributes\n",
    "for att_key in data_grp.attrs.keys():\n",
    "    resp_grp.attrs[att_key] = data_grp.attrs[att_key]\n",
    "resp_grp.attrs['config_img'] = config_img\n",
    "resp_grp.attrs['config_cond'] = config_cond\n",
    "\n",
    "data_grp.close()\n",
    "\n",
    "#save response\n",
    "f_zscore_dset = resp_grp.create_dataset('/'.join([curr_slice, 'responses' ,'f_zscore']), response_matrix_f_zscore.shape, response_matrix_f_zscore.dtype)\n",
    "f_zscore_dset[...] = response_matrix_f_zscore\n",
    "\n",
    "df_dset = resp_grp.create_dataset('/'.join([curr_slice, 'responses' ,'df']), response_matrix_df.shape, response_matrix_df.dtype)\n",
    "df_dset[...] = response_matrix_df\n",
    "\n",
    "df_f_dset = resp_grp.create_dataset('/'.join([curr_slice, 'responses' ,'df_f']), response_matrix_df_f.shape, response_matrix_df_f.dtype)\n",
    "df_f_dset[...] = response_matrix_df_f\n",
    "\n",
    "zscore_dset = resp_grp.create_dataset('/'.join([curr_slice, 'responses' ,'zscore']), response_matrix_zscore.shape, response_matrix_zscore.dtype)\n",
    "zscore_dset[...] = response_matrix_zscore\n",
    "\n",
    "kstat_dset = resp_grp.create_dataset('/'.join([curr_slice, 'responses' ,'ks_stat']), ks_stat.shape, ks_stat.dtype)\n",
    "kstat_dset[...] = ks_stat\n",
    "\n",
    "ksp_dset = resp_grp.create_dataset('/'.join([curr_slice, 'responses' ,'ks_p']), ks_stat.shape, ks_stat.dtype)\n",
    "ksp_dset[...] = ks_p\n",
    "\n",
    "perm_stat_dset = resp_grp.create_dataset('/'.join([curr_slice, 'responses' ,'perm_tstat']), perm_tstat.shape, perm_tstat.dtype)\n",
    "perm_stat_dset[...] = perm_tstat\n",
    "\n",
    "perm_p_dset = resp_grp.create_dataset('/'.join([curr_slice, 'responses' ,'perm_p']), perm_p.shape, perm_p.dtype)\n",
    "perm_p_dset[...] = perm_p\n",
    "\n",
    "simple_stat_dset = resp_grp.create_dataset('/'.join([curr_slice, 'responses' ,'simple_tstat']), simple_tstat.shape, simple_tstat.dtype)\n",
    "simple_stat_dset[...] = simple_tstat\n",
    "\n",
    "\n",
    "simple_p_dset = resp_grp.create_dataset('/'.join([curr_slice, 'responses' ,'simple_p']), simple_p.shape, simple_p.dtype)\n",
    "simple_p_dset[...] = simple_p\n",
    "\n",
    "r_dset = resp_grp.create_dataset('/'.join([curr_slice, 'responses' ,'split_half_R']), split_half_R.shape, split_half_R.dtype)\n",
    "r_dset[...] = split_half_R\n",
    "\n",
    "resp_grp.close()"
   ]
  },
  {
   "cell_type": "code",
   "execution_count": null,
   "metadata": {},
   "outputs": [],
   "source": []
  },
  {
   "cell_type": "code",
   "execution_count": null,
   "metadata": {},
   "outputs": [],
   "source": [
    "response_matrix_f_zscore.shape"
   ]
  },
  {
   "cell_type": "code",
   "execution_count": null,
   "metadata": {},
   "outputs": [],
   "source": [
    "#get average response, for cell ROIs only\n",
    "mean_f_zscore = np.mean(response_matrix_f_zscore[:,:,cell_rois],0)\n",
    "mean_df = np.mean(response_matrix_df[:,:,cell_rois],0)\n",
    "mean_df_f = np.mean(response_matrix_df_f[:,:,cell_rois],0)\n",
    "mean_zscore= np.mean(response_matrix_zscore[:,:,cell_rois],0)"
   ]
  },
  {
   "cell_type": "code",
   "execution_count": null,
   "metadata": {},
   "outputs": [],
   "source": [
    "fig = plt.figure(figsize=(10,10))\n",
    "plt.scatter(mean_f_zscore[:],mean_zscore[:],10)\n",
    "#plot unity\n",
    "axes = plt.gca()\n",
    "xmin, xmax = axes.get_xlim()\n",
    "x = np.arange(xmin-1,xmax+1)\n",
    "y = x\n",
    "plt.plot(y,x,'--k')\n",
    "plt.xlabel('z-score pixel value')\n",
    "plt.ylabel('z-score traces then average')\n",
    "fig_fn = os.path.join(data_array_dir,'figures','z-score_method_comparison.png')\n",
    "plt.savefig(fig_fn)"
   ]
  },
  {
   "cell_type": "code",
   "execution_count": null,
   "metadata": {
    "scrolled": true
   },
   "outputs": [],
   "source": [
    "#get number of active cells\n",
    "nrois = len(cell_rois)\n",
    "active_roi_count = 0\n",
    "active_roi_list = []\n",
    "thresh = 1\n",
    "for ridx in range(nrois):    \n",
    "    if np.any(mean_zscore[:,ridx]>thresh):\n",
    "        active_roi_list.append(cell_rois[ridx])\n",
    "        \n",
    "active_roi_count = len(active_roi_list)     \n",
    "print('%d out of %d cell active '%(active_roi_count,nrois))\n",
    "print('Fraction ROIs active: %.04f'%(float(active_roi_count)/nrois))"
   ]
  },
  {
   "cell_type": "code",
   "execution_count": null,
   "metadata": {},
   "outputs": [],
   "source": [
    "#get number of active cells\n",
    "nrois = len(cell_rois)\n",
    "active_roi_count = 0\n",
    "active_roi_list = []\n",
    "thresh = 2\n",
    "for ridx in range(nrois):    \n",
    "    if np.any(mean_f_zscore[:,ridx]>thresh):\n",
    "        active_roi_list.append(cell_rois[ridx])\n",
    "        \n",
    "active_roi_count = len(active_roi_list)     \n",
    "print('%d out of %d cell active '%(active_roi_count,nrois))\n",
    "print('Fraction ROIs active: %.04f'%(float(active_roi_count)/nrois))"
   ]
  },
  {
   "cell_type": "code",
   "execution_count": null,
   "metadata": {},
   "outputs": [],
   "source": [
    "active_roi_list_zscore = active_roi_list\n",
    "print(active_roi_list)"
   ]
  },
  {
   "cell_type": "code",
   "execution_count": null,
   "metadata": {},
   "outputs": [],
   "source": [
    "#get number of active cells\n",
    "nrois = len(cell_rois)\n",
    "active_roi_count = 0\n",
    "active_roi_list = []\n",
    "thresh = .1\n",
    "for ridx in range(nrois):    \n",
    "    if np.any(mean_df_f[:,ridx]>thresh):\n",
    "        active_roi_list.append(cell_rois[ridx])\n",
    "        \n",
    "active_roi_count = len(active_roi_list)     \n",
    "print('%d out of %d cell active '%(active_roi_count,nrois))\n",
    "print('Fraction ROIs active: %.04f'%(float(active_roi_count)/nrois))"
   ]
  },
  {
   "cell_type": "code",
   "execution_count": null,
   "metadata": {},
   "outputs": [],
   "source": [
    "active_roi_listdf_f = active_roi_list"
   ]
  },
  {
   "cell_type": "code",
   "execution_count": null,
   "metadata": {
    "scrolled": true
   },
   "outputs": [],
   "source": [
    "print(active_roi_listdf_f)\n",
    "print(active_roi_list_zscore)"
   ]
  },
  {
   "cell_type": "code",
   "execution_count": null,
   "metadata": {},
   "outputs": [],
   "source": [
    "trial_traces_zscore[0,stim_period0:stim_period1,17]"
   ]
  },
  {
   "cell_type": "code",
   "execution_count": null,
   "metadata": {},
   "outputs": [],
   "source": [
    "stim_period1"
   ]
  },
  {
   "cell_type": "code",
   "execution_count": null,
   "metadata": {},
   "outputs": [],
   "source": []
  },
  {
   "cell_type": "code",
   "execution_count": null,
   "metadata": {},
   "outputs": [],
   "source": [
    "print(mean_trace_zscore.shape)"
   ]
  },
  {
   "cell_type": "code",
   "execution_count": null,
   "metadata": {},
   "outputs": [],
   "source": [
    "response_matrix[:,0,0]"
   ]
  },
  {
   "cell_type": "code",
   "execution_count": null,
   "metadata": {},
   "outputs": [],
   "source": []
  },
  {
   "cell_type": "code",
   "execution_count": null,
   "metadata": {},
   "outputs": [],
   "source": [
    "# to get baseline index with [0:pre_frames]\n",
    "# to get stim period do [pre_frames:pre_frames+stim_frames+1]"
   ]
  },
  {
   "cell_type": "code",
   "execution_count": null,
   "metadata": {},
   "outputs": [],
   "source": []
  },
  {
   "cell_type": "code",
   "execution_count": null,
   "metadata": {},
   "outputs": [],
   "source": [
    "data_grp.attrs['stim_frames']"
   ]
  },
  {
   "cell_type": "code",
   "execution_count": null,
   "metadata": {},
   "outputs": [],
   "source": []
  }
 ],
 "metadata": {
  "kernelspec": {
   "display_name": "Python 3",
   "language": "python",
   "name": "python3"
  },
  "language_info": {
   "codemirror_mode": {
    "name": "ipython",
    "version": 3
   },
   "file_extension": ".py",
   "mimetype": "text/x-python",
   "name": "python",
   "nbconvert_exporter": "python",
   "pygments_lexer": "ipython3",
   "version": "3.6.8"
  }
 },
 "nbformat": 4,
 "nbformat_minor": 2
}
